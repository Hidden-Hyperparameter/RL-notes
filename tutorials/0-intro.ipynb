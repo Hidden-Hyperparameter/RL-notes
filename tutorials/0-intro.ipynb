{
 "cells": [
  {
   "cell_type": "markdown",
   "metadata": {},
   "source": [
    "# 0 Introduction to RL"
   ]
  },
  {
   "cell_type": "markdown",
   "metadata": {},
   "source": [
    "本讲内容十分有趣，像一个“大串烧”：我们以一个完全没有学习过RL的初学者的视角来看RL问题，并尽可能自然地引入许多常见的RL算法。尽管这里并不会详细介绍细节（细节会在后面的讲内部介绍），但是会建立起对这些算法的直观理解。这些理解对之后的深入讨论是至关重要的。"
   ]
  },
  {
   "cell_type": "markdown",
   "metadata": {},
   "source": [
    "**什么是RL?**\n",
    "\n",
    "> Reinforcement learning (RL) is an **interdisciplinary area** of **machine learning** and **optimal control** concerned with how an intelligent agent **ought to take actions** in a **dynamic environment** in order to **maximize the cumulative reward**. Reinforcement learning is one of three basic machine learning paradigms, alongside supervised learning and unsupervised learning. (Wikipedia)\n",
    "\n",
    "简单来说，RL就是一个研究 **如何在和环境交互中最大化自己的利益，或者“reward”** 的学科。RL中重要的元素是**agent**和**environment**，二者形成一个闭环：\n",
    "- agent的输入是environment的反馈，输出它的应对，一般称为**action**；\n",
    "- environment接收agent的反应，并进行一个演化。演化结果给出新的 **状态(state)** 。此外，为了给予agent一个目标，环境还要给agent一个**reward**。\n",
    "\n",
    "换句话说，agent在每一个state下面给出action，而环境根据这个action就会到达一个新的state。而agent的整体目标，如上所述，是 **最大化reward的时间和**。\n",
    "\n",
    "![](./assets/0-1.png)"
   ]
  },
  {
   "cell_type": "markdown",
   "metadata": {},
   "source": [
    "## 0.1 Life is a MDP"
   ]
  },
  {
   "cell_type": "markdown",
   "metadata": {},
   "source": [
    "### MDP\n",
    "\n",
    "在介绍RL的基本概念之前，我们首先要介绍MDP的概念。MDP是**Markov Decision Process**的缩写，是强化学习的基础。"
   ]
  },
  {
   "cell_type": "markdown",
   "metadata": {},
   "source": [
    "一个MDP包括：\n",
    "- 一个状态空间(state space) $S$\n",
    "- 一个动作空间(action space) $A$\n",
    "- 一个奖励函数(reward function) $r$\n",
    "    - 具体地，对于一个state $s\\in S$和一个action $a\\in A$，这一函数给出一个实数 $r(s,a)$，代表着在state $s$下面采取action $a$获得的“奖励”。\n",
    "- 一个状态转移函数(transition function) $p$\n",
    "    - 具体地，对于一个state $s\\in S$和一个action $a\\in A$，这一函数给出一个概率分布$p(s'|s,a)$，代表着在state $s$下面采取action $a$之后，下一个state是$s'$的概率。"
   ]
  },
  {
   "cell_type": "markdown",
   "metadata": {},
   "source": [
    "\n",
    "这里的“Markov”体现在哪里呢？我们可以设想一个agent在和环境逐渐地交互：\n",
    "- agent初始时处于一个state $s_0$,这是环境给定的；\n",
    "- agent根据$s_0$采取一个action $a_0$；\n",
    "- 环境根据$s_0$和$a_0$给出一个reward $r_0$，并且给出下一个state $s_1$。此时，agent就处于state $s_1$；\n",
    "- agent再根据$s_1$采取一个action $a_1$。不断由此往复……\n",
    "\n",
    "可以看到，在这一过程中，只要第$t$轮的$s_t,a_t$给定了，环境就可以决定$s_{t+1}$，而不需要$s_0,a_0,s_1,\\cdots,s_{t-1},a_{t-1}$这些信息！这就是Markov性质的体现。"
   ]
  },
  {
   "cell_type": "markdown",
   "metadata": {},
   "source": [
    "那么，“Decision”又是指什么呢？可以看到，上面的描述只包含了环境的部分；而我们的agent的介入方式也很简单，就是对于一个state $s$，给出一个**政策** (policy)，也就是action的分布。我们可以把它记作$\\pi(a|s)$。\n",
    "\n",
    "> Q: 为什么政策只需要当前的state就可以做出决定呢？和历史一定无关吗？\n",
    ">\n",
    "> A: 这是也是因为我们Markov的假设。你说的这种情况叫做“Non-markovian agent”。虽然这更普遍，但很多经验表明，non-markovian的agent并不比我们这样的agent做的好很多。"
   ]
  },
  {
   "cell_type": "markdown",
   "metadata": {},
   "source": [
    "### POMDP\n",
    "\n",
    "POMDP是Partially Observed MDP的简称。这对应一个虽然略复杂，但更普适的问题陈述：环境并不一定向我们完全袒露心怀，而是只给我们一部分信息。这样的问题在实际中更为常见。比如说，在物理的控制问题中，我们获得一张快照时，就丧失了作为物理系统的state所必须的速度信息。"
   ]
  },
  {
   "cell_type": "markdown",
   "metadata": {},
   "source": [
    "对于POMDP，我们的policy就不能再是state的函数了。我们后面介绍POMDP的问题的时候也会提到，有两种类型的policy:\n",
    "\n",
    "- memoryless: $\\pi(a_t|o_t)$\n",
    "- history-dependent: $\\pi(a_t|o_1,o_2,\\cdots,o_t)$\n",
    "\n",
    "对于前者，我们有一个形象的图来展示：\n",
    "\n",
    "![](../lecture/notes/assets/2-1.png)"
   ]
  },
  {
   "cell_type": "markdown",
   "metadata": {},
   "source": [
    "这里的箭头代表着依赖关系，比如$o_t$依赖于且仅依赖于$s_t$。这样的问题就更加复杂了，因为observation本身不是markovian的——$o_t$不仅依赖于$o_{t-1},a_{t-1}$，而且依赖于$o_{t-2},a_{t-2},\\cdots,o_1,a_1$。\n",
    "\n",
    "在接下来的讨论中，如果不加说明，我们都考虑fully observed的MDP。"
   ]
  },
  {
   "cell_type": "markdown",
   "metadata": {},
   "source": [
    "### Experiment: MDP Simulators\n",
    "\n",
    "MDP是一个如此广泛的概念，以至于大部分生活中的问题，在合适地定义state后，都可以变成一个在MDP中最大化cumulative reward的问题。正因如此，**RL基本上就是研究求解MDP的学科**。\n",
    "\n",
    "但是，在研究RL时，如果真的要和环境进行交互，可能会有很大的代价（想一想为什么？）为此，OpenAI 的 `gym` 包创造了许多模拟环境，供人们“刷分”，也就是把RL算法投入真正应用前先看一看大体上这一方法好不好。我们接下来来看一下gym的使用。\n",
    "\n",
    "> gym就是一坨答辨。 ——某学长\n",
    "\n",
    "gym以它的不稳定和不兼容著称，而其渲染部分则是更符合这一描述。因此，在下面的代码开始前，让我们：\n",
    "- 创造一个`python==3.10`的环境；\n",
    "- 安装[requirements.txt](./requirements.txt)内的包；\n",
    "- 运行`bash install.sh`；\n",
    "- 如果在下面的代码的运行中，你遇到和渲染相关的错误，请不要贸然相信GPT或copilot给你的命令，因为它们有可能会让你的图形界面崩溃，或者显卡驱动失效。建议在各种论坛网站上找一些解决方案。\n",
    "- 如果你奋斗了很久还是看不到图片，建议你不要再尝试了，而是把所有含有`render`相关的代码注释掉，并观察后面的输出。在之后一般情况下，我们都不会用到渲染。\n",
    "- 最后，祈祷！"
   ]
  },
  {
   "cell_type": "code",
   "execution_count": 1,
   "metadata": {},
   "outputs": [
    {
     "data": {
      "text/plain": [
       "'Good luck!'"
      ]
     },
     "execution_count": 1,
     "metadata": {},
     "output_type": "execute_result"
    }
   ],
   "source": [
    "%matplotlib inline\n",
    "\"Gym, I cry out to You; make haste to me! Give output to my code when I cry out to You. Let my library be set before You as binaries, the lifting up of my hands as drivers for graphics.\" and 'Good luck!'"
   ]
  },
  {
   "cell_type": "code",
   "execution_count": 2,
   "metadata": {},
   "outputs": [
    {
     "name": "stdout",
     "output_type": "stream",
     "text": [
      "Your device is cuda\n",
      "Initial state: [ 0.0273956  -0.00611216  0.03585979  0.0197368 ]\n",
      "Initial info: {}\n"
     ]
    },
    {
     "data": {
      "image/png": "[encoded data removed]",
      "text/plain": [
       "<Figure size 640x480 with 1 Axes>"
      ]
     },
     "metadata": {},
     "output_type": "display_data"
    }
   ],
   "source": [
    "import gymnasium as gym\n",
    "from utils import show_image\n",
    "# Create the CartPole environment with 'rgb_array' mode\n",
    "env = gym.make('CartPole-v1', render_mode='rgb_array')\n",
    "\n",
    "# Reset the environment\n",
    "state,info = env.reset(seed=42)\n",
    "print('Initial state:',state)\n",
    "print('Initial info:',info)\n",
    "\n",
    "# Render the environment and display the image\n",
    "image = env.render()\n",
    "show_image(image)"
   ]
  },
  {
   "cell_type": "markdown",
   "metadata": {},
   "source": [
    "如果你成功看到了上面的输出和图片，那么恭喜你，你看到了环境`env`在初始化时的state $s_0$。根据gym的[官方文档](https://gymnasium.farama.org/environments/classic_control/cart_pole/)，这一环境的名字叫做`CartPole`，描述的是一个匀质杆一段铰接在一个置于光滑导轨的小车上。我们看到的`Initial state`中这四个参数的含义如下：\n",
    "- Cart Position\n",
    "- Cart Velocity\n",
    "- Pole Angle\n",
    "- Pole Angular Velocity\n",
    "\n",
    "（注：`gym`包中管这个state叫做`observation`，比如`env.observation_space`实际上是state space的意思）。上面的结果是决定性的，因为我们手动设置了`seed`为42。接下来，让我们再看看action是什么："
   ]
  },
  {
   "cell_type": "code",
   "execution_count": 3,
   "metadata": {},
   "outputs": [
    {
     "data": {
      "text/plain": [
       "('action space', [0, 1, 1, 0, 0, 1, 0, 1, 0, 0])"
      ]
     },
     "execution_count": 3,
     "metadata": {},
     "output_type": "execute_result"
    }
   ],
   "source": [
    "env.action_space.seed(42)\n",
    "env.observation_space.seed(42)\n",
    "'action space',[env.action_space.sample() for _ in range(10)]"
   ]
  },
  {
   "cell_type": "markdown",
   "metadata": {},
   "source": [
    "根据官方文档，0代表向左推一下车，而1代表向右推一下。那么，假设对于初始的状态，我们连续地向右推，会变成什么样？"
   ]
  },
  {
   "cell_type": "code",
   "execution_count": 4,
   "metadata": {},
   "outputs": [
    {
     "name": "stdout",
     "output_type": "stream",
     "text": [
      "time stamp 0 reward: 1.0\n",
      "time stamp 1 reward: 1.0\n",
      "time stamp 2 reward: 1.0\n",
      "time stamp 3 reward: 1.0\n",
      "time stamp 4 reward: 1.0\n",
      "time stamp 5 reward: 1.0\n",
      "time stamp 6 reward: 1.0\n",
      "time stamp 7 reward: 1.0\n",
      "time stamp 8 reward: 1.0\n",
      "time stamp 9 reward: 1.0\n",
      "Stopped at timestamp 9 due to done\n"
     ]
    },
    {
     "data": {
      "text/html": [
       "<video controls  >\n",
       " <source src=\"data:video/mp4;base64,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\" type=\"video/mp4\">\n",
       " Your browser does not support the video tag.\n",
       " </video>"
      ],
      "text/plain": [
       "<IPython.core.display.Video object>"
      ]
     },
     "metadata": {},
     "output_type": "display_data"
    }
   ],
   "source": [
    "from utils import show_video\n",
    "import numpy as np\n",
    "frames = []\n",
    "for t in range(100):\n",
    "    image = env.render()\n",
    "    frames.append(image)\n",
    "\n",
    "    action = np.int64(1) # always take the \"push right\" action.\n",
    "    next_state, reward, done, truncated, info = env.step(action) # 'step' is the function that gives the transition.\n",
    "    state = next_state\n",
    "    print('time stamp',t,'reward:',reward)\n",
    "    if done or truncated:\n",
    "        print('Stopped at timestamp',t,'due to','done' if done else 'truncated')\n",
    "        break\n",
    "\n",
    "show_video(frames)"
   ]
  },
  {
   "cell_type": "markdown",
   "metadata": {},
   "source": [
    "很直观——如果我们一直推这一个车，杆就会向左倒下。此时，因为杆和竖直方向的夹角达到了某个临界值，`env`自动判断为游戏失败而结束。这就是`done`为`True`的原因。\n",
    "\n",
    "同时，我们也可以看到`reward`的数值——对于每一个存活下来的一步，reward都是1。也就是说，我们的目的就是活得越长越好。"
   ]
  },
  {
   "cell_type": "markdown",
   "metadata": {},
   "source": [
    "最后，让我们建立一个简单的agent，对这一任务作出一个难度上的基础感受。我们的`TrivialAgent`的思路很简单——如果杆偏左并且角速度向左，那么我们就往左推车；如果杆偏右并且角速度向右，那么我们就往右推车。最后，对于其他情况，因为这取决于未知的物理参数，我们不妨随机来选取action。这十分粗暴，但不妨让我们就看看它能做得怎样。"
   ]
  },
  {
   "cell_type": "code",
   "execution_count": 5,
   "metadata": {},
   "outputs": [],
   "source": [
    "class TrivialAgent:\n",
    "\n",
    "    def __init__(self,action_space):\n",
    "        self.action_space = action_space\n",
    "    \n",
    "    def get_action(self,state):\n",
    "        _,_,theta,omg = state\n",
    "        if theta < 0 and omg < 0:\n",
    "            return 0\n",
    "        if theta > 0 and omg > 0:\n",
    "            return 1\n",
    "        return self.action_space.sample()"
   ]
  },
  {
   "cell_type": "code",
   "execution_count": 6,
   "metadata": {},
   "outputs": [
    {
     "name": "stdout",
     "output_type": "stream",
     "text": [
      "Terminate at time 499 due to truncated\n",
      "Terminate at time 499 due to truncated\n",
      "Terminate at time 347 due to done\n",
      "Terminate at time 412 due to done\n",
      "Terminate at time 395 due to done\n",
      "Terminate at time 482 due to done\n",
      "Terminate at time 499 due to truncated\n",
      "Terminate at time 249 due to done\n",
      "Terminate at time 499 due to truncated\n",
      "Terminate at time 310 due to done\n",
      "Average cumulative reward 420.1\n",
      "results: [500.0, 500.0, 348.0, 413.0, 396.0, 483.0, 500.0, 250.0, 500.0, 311.0]\n"
     ]
    }
   ],
   "source": [
    "agent = TrivialAgent(env.action_space)\n",
    "NUM_ROLLOUTS = 10\n",
    "results = []\n",
    "for rollout in range(NUM_ROLLOUTS):\n",
    "    cum_reward = 0\n",
    "    state,_ = env.reset()\n",
    "    for t in range(1000):\n",
    "        action = agent.get_action(state) # let our agent to decide what to do\n",
    "        next_state, reward, done, truncated, info = env.step(action)\n",
    "        state = next_state\n",
    "        cum_reward += reward\n",
    "        if done or truncated:\n",
    "            print('Terminate at time',t,'due to', 'done' if done else 'truncated')\n",
    "            results.append(cum_reward)\n",
    "            break\n",
    "print('Average cumulative reward',sum(results)/len(results))\n",
    "print('results:',results)"
   ]
  },
  {
   "cell_type": "markdown",
   "metadata": {},
   "source": [
    "利用`TrivialAgent`，我们解锁了一个新“技能”——`truncated`！这个情况是因为环境具有一个有限的“**horizon**”，也就是到达这个时间后就会自动结束，类似于“游戏胜利”。这样，总的cumulative reward才有上限。我们看到，就这样一个愚蠢的agent就已经可以做到84%的最优解了！因此，这一任务确实是简单的。\n",
    "\n",
    "我们还可以看到，不同组数据之间reward（即存活时间）可以相差很远——最大值是最小值的2倍！的确，你开始认识到RL了——一个接着一个的state迭代使得整个体系具有**巨大的方差**。我们后面会更加具体地讨论这一点。"
   ]
  },
  {
   "cell_type": "markdown",
   "metadata": {},
   "source": [
    "最后，让我们欣赏一下我们的第一个“agent”的舞蹈，来结束这一小节吧！"
   ]
  },
  {
   "cell_type": "code",
   "execution_count": 7,
   "metadata": {},
   "outputs": [
    {
     "name": "stdout",
     "output_type": "stream",
     "text": [
      "Stopped at timestamp 499 due to truncated\n"
     ]
    },
    {
     "data": {
      "text/html": [
       "<video controls  >\n",
       " <source src=\"data:video/mp4;base64,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\" type=\"video/mp4\">\n",
       " Your browser does not support the video tag.\n",
       " </video>"
      ],
      "text/plain": [
       "<IPython.core.display.Video object>"
      ]
     },
     "metadata": {},
     "output_type": "display_data"
    }
   ],
   "source": [
    "frames = []\n",
    "[env.reset() for _ in range(2)] # a tiny trick here :)\n",
    "observation,_ = env.reset()\n",
    "for t in range(1000):\n",
    "    image = env.render()\n",
    "    frames.append(image)\n",
    "\n",
    "    action = agent.get_action(observation)\n",
    "    next_state, reward, done, truncated, info = env.step(action)\n",
    "    observation = next_state\n",
    "    if done or truncated:\n",
    "        print('Stopped at timestamp',t,'due to','done' if done else 'truncated')\n",
    "        break\n",
    "\n",
    "show_video(frames)"
   ]
  },
  {
   "cell_type": "markdown",
   "metadata": {},
   "source": [
    "## 0.2 MDP Solvers"
   ]
  },
  {
   "cell_type": "markdown",
   "metadata": {},
   "source": [
    "理解了MDP的概念之后，我们试着解决MDP问题。乍一看我们可能完全摸不到头脑：比如CartPole环境中，我们是基于一些基础的物理知识作出的判断；但假设我们的agent没有物理知识的输入，它如何能学会在这一个MDP中拿到高分呢？一开始的四个参数就如同“盲盒”一般，agent肯定需要学习一下他们代表什么含义，以及如何演化，最后才进行我们上面所作的“策略设计”。如何让一个机器完成这一切呢？\n",
    "\n",
    "我们首先想到，一个主要的问题是环境的transition function和reward function都是完全未知的。倘若他们都是**已知的**，问题肯定会变得更简单：现在，相当于MDP作为一个透明的系统摆在我们面前，整个问题也就成为一个较为可控的问题。"
   ]
  },
  {
   "cell_type": "markdown",
   "metadata": {},
   "source": [
    "### Values\n",
    "\n",
    "这可能说起来略微抽象，但我们可以考虑如下的具体问题：在一个$4\\times 4$的方格表里有一个特殊的格子，到达那里时游戏结束并且获得奖励5，而其他地方的奖励都是-1（为了督促你尽快到达终点而非随机乱走）。transition也很简单：在每一个格子(state)处，可以选择向一个方向走(action)，然后就走到了下一个state。（如果在终点那么不管如何走都到达end state）。\n",
    "\n",
    "注意根据我们的假设，这个MDP是已知的，也就是我们知道那个特殊的格子在哪里。此时，如果不是agent而是人来解决这一问题，你该如何解决？很明显，你可以给出一个决定性的最优策略：假设我们在那个格子旁边的时候，我们就走过去；进一步，如果在再旁边一点的8个格子处，我们就走到前一次的4个格子……这样，递归地，如果确定了距离格子的Manhattan distance (定义为 $\\text{MHT}((x_1,y_1),(x_2,y_2))=|x_1-x_2|+|y_1-y_2|$)为$n$的所有点的策略，那么距离格子为$n+1$的所有点的策略也就确定了。因此，我们可以给出一个完整的策略。给定一个具体的 $4\\times 4$ 表格和那个特殊的格子，我们就可以给出这个最优策略。一个例子如下所示。\n",
    "\n",
    "|$\\rightarrow$ | $\\rightarrow$ | $\\downarrow$ | $\\leftarrow$|\n",
    "|--|--|--|--|\n",
    "| $\\rightarrow$| $\\to$ | $\\star$ | $\\leftarrow$ |\n",
    "|$\\rightarrow$ | $\\rightarrow$ | $\\uparrow$ | $\\leftarrow$ |\n",
    "| $\\rightarrow$| $\\uparrow$ | $\\uparrow$ | $\\leftarrow$|"
   ]
  },
  {
   "cell_type": "markdown",
   "metadata": {},
   "source": [
    "解决了这一问题，我们接下来试着把问题稍微一般化。假设transition并非像上面一样是确定的，而是**随机的**：在一个格子处向上走，只有70%的概率会真正走到上边——剩下的30%里，会随机走到周围剩余的格子里。注意这才是常态，因为我们在定义MDP的时候给出的就是transition probability $p(s'|s,a)$ 而非一个决定性的函数。我们接下来就来试着求解这一问题。"
   ]
  },
  {
   "cell_type": "markdown",
   "metadata": {},
   "source": [
    "#### Value Iteration\n",
    "\n",
    "那么，这样我们应该怎么办呢？容易想到，我们可以和上面完全类似地使用一种**递推关系**的方法解决这一问题。我们首先假设我们处于**最优的策略**；接下来，我们给每一个格子定义一个**价值**(value)，代表着如果我们是从这个格子出发，那么最好能达到多少分。很明显，我们有 $V(s_{\\star})=5$，其中$s_\\star$代表那个特殊的格子。而对于其他格子，我们则要试着把它的价值和周围几个格子的价值联系起来。"
   ]
  },
  {
   "cell_type": "markdown",
   "metadata": {},
   "source": [
    "||B| | |\n",
    "|--|--|--|--|\n",
    "|C| A | $\\star$ | |\n",
    "| | D| |  |\n",
    "| | | | |\n",
    "\n",
    "让我们以格子$A$为例来研究。我们虽然不知道最优策略是什么，但是我们总可以假设他的一般形式：\n",
    "\n",
    "$$\n",
    "\\pi^\\star(a|s_A)=\\begin{cases}\\rightarrow&,\\text{w.p. }p_1 \\\\\\leftarrow&,\\text{w.p. }p_2 \\\\ \\uparrow&,\\text{w.p. }p_3 \\\\ \\downarrow&,\\text{w.p. }p_4\\end{cases}\n",
    "$$\n",
    "\n",
    "其中$\\pi^\\star$的$\\star$代表这是最优策略。那么，我们就可以根据MDP和$V$的定义写出$V(A)$的表达式：\n",
    "\n",
    "$$\n",
    "\\begin{align*}\n",
    "V(s_A)&=p_1\\left[-1+(70\\%\\times V(s_{\\star})+10\\%\\times V(s_B)+10\\%\\times V(s_C)+10\\%\\times V(s_D))\\right]\\\\\n",
    "&\\quad +p_2\\left[-1+(70\\%\\times V(s_C)+10\\%\\times V(s_\\star)+10\\%\\times V(s_B)+10\\%\\times V(s_D))\\right]\\\\\n",
    "&\\quad +p_3\\left[-1+(70\\%\\times V(s_B)+10\\%\\times V(s_\\star)+10\\%\\times V(s_C)+10\\%\\times V(s_D))\\right]\\\\\n",
    "&\\quad +p_4\\left[-1+(70\\%\\times V(s_D)+10\\%\\times V(s_B)+10\\%\\times V(s_\\star)+10\\%\\times V(s_C))\\right]\n",
    "\\end{align*}\n",
    "$$\n",
    "\n",
    "但是我们又注意到$\\pi^\\star$是最优策略，因为这是我们的假设！因此，我们就可以“确定”下来$p_1,p_2,p_3,p_4$：一定是中括号里最大的那个action具有100%的概率，而其他都是0%概率。因此，我们就给出了：\n",
    "\n",
    "$$\n",
    "V(s_A)=-1+\\max\\Big\\{70\\%\\times V(s_{\\star})+10\\%\\times V(s_B)+10\\%\\times V(s_C)+10\\%\\times V(s_D),70\\%\\times V(s_C)+10\\%\\times V(s_\\star)+10\\%\\times V(s_B)+10\\%\\times V(s_D), \\\\ 70\\%\\times V(s_B)+10\\%\\times V(s_\\star)+10\\%\\times V(s_C)+10\\%\\times V(s_D), 70\\%\\times V(s_D)+10\\%\\times V(s_B)+10\\%\\times V(s_\\star)+10\\%\\times V(s_C)\\Big\\}\n",
    "$$"
   ]
  },
  {
   "cell_type": "markdown",
   "metadata": {},
   "source": [
    "类似地，对于其他的每一个格子，我们都可以列出这样的一个方程。16个方程16个未知数，理论上一定可以求解；但是一系列max的存在使得这个问题变得有些复杂。一个投机取巧的方式是说，假设我们并不是直接求解，而是通过“赋值”的方式来近似求解呢？这就是**Value Iteration**算法的基本思想——看，你已经接触到了第一个RL算法！\n",
    "\n",
    "让我们总结一下，并把上面的讨论一般化。我们给出**Value Iteration**：\n",
    "\n",
    "> **Value Iteration Algorithm**\n",
    "\n",
    "1. Init values $V(s)$ randomly for each state.\n",
    "2. Repeat until convergence:\n",
    "    - For each state $s$:\n",
    "        - Update $V(s)$ by\n",
    "        $$\n",
    "        V(s)\\leftarrow r(s,a)+\\max_{a\\in A}\\mathbb{E}_{s'\\sim p(s'|s,a)}[V(s')]\n",
    "        $$"
   ]
  },
  {
   "cell_type": "markdown",
   "metadata": {},
   "source": [
    "接下来，让我们就来把这一算法应用到上面提出的问题中吧！（为了使得代码简洁一些，我们把一些细节的内容放到了[utils_0_intro.py](./utils_0_intro.py)里面）"
   ]
  },
  {
   "cell_type": "code",
   "execution_count": 1,
   "metadata": {},
   "outputs": [
    {
     "data": {
      "text/markdown": [
       "|0.00|0.00|0.00|0.00|\n",
       "|-|-|-|-|\n",
       "|0.00|0.00|0.00|0.00|\n",
       "|0.00|0.00|0.00|0.00|\n",
       "|0.00|0.00|0.00|0.00|"
      ]
     },
     "metadata": {},
     "output_type": "display_data"
    }
   ],
   "source": [
    "from utils_0_intro import Table\n",
    "from utils import add_method_to_class\n",
    "\n",
    "@add_method_to_class(Table)\n",
    "def iteration(self:Table):\n",
    "    \"\"\"\n",
    "    Perform the Value Iteration algorithm above for one step, and update `self.V`.\n",
    "    \"\"\"\n",
    "    new_V = [[0]*self.size for _ in range(self.size)]\n",
    "    for i in range(self.size):\n",
    "        for j in range(self.size):\n",
    "            if (i,j) == self.special:\n",
    "                new_V[i][j] = 5\n",
    "                continue\n",
    "            l = []\n",
    "            for action in self.get_possible_action((i,j)):\n",
    "                weights = self.get_transition((i,j),action)\n",
    "                l.append(sum([w*self.V[x][y] for (x,y),w in weights.items()]))\n",
    "            new_V[i][j] = -1 + max(l) # The formula above\n",
    "    self.V = new_V\n",
    "\n",
    "t = Table()\n",
    "t.display()"
   ]
  },
  {
   "cell_type": "code",
   "execution_count": 2,
   "metadata": {},
   "outputs": [
    {
     "name": "stdout",
     "output_type": "stream",
     "text": [
      "Iteration 0\n"
     ]
    },
    {
     "data": {
      "text/markdown": [
       "|-1.00|-1.00|-1.00|-1.00|\n",
       "|-|-|-|-|\n",
       "|-1.00|-1.00|5.00|-1.00|\n",
       "|-1.00|-1.00|-1.00|-1.00|\n",
       "|-1.00|-1.00|-1.00|-1.00|"
      ]
     },
     "metadata": {},
     "output_type": "display_data"
    },
    {
     "name": "stdout",
     "output_type": "stream",
     "text": [
      "Iteration 5\n"
     ]
    },
    {
     "data": {
      "text/markdown": [
       "|0.02|1.07|2.95|1.66|\n",
       "|-|-|-|-|\n",
       "|0.30|2.76|5.00|2.95|\n",
       "|-0.67|0.61|2.76|1.07|\n",
       "|-2.74|-0.67|0.30|0.02|"
      ]
     },
     "metadata": {},
     "output_type": "display_data"
    },
    {
     "name": "stdout",
     "output_type": "stream",
     "text": [
      "Iteration 10\n"
     ]
    },
    {
     "data": {
      "text/markdown": [
       "|0.36|1.62|3.03|2.04|\n",
       "|-|-|-|-|\n",
       "|1.04|2.86|5.00|3.03|\n",
       "|-0.28|1.26|2.86|1.62|\n",
       "|-1.22|-0.28|1.04|0.36|"
      ]
     },
     "metadata": {},
     "output_type": "display_data"
    },
    {
     "name": "stdout",
     "output_type": "stream",
     "text": [
      "Iteration 15\n"
     ]
    },
    {
     "data": {
      "text/markdown": [
       "|0.47|1.64|3.05|2.05|\n",
       "|-|-|-|-|\n",
       "|1.08|2.90|5.00|3.05|\n",
       "|-0.10|1.29|2.90|1.64|\n",
       "|-1.13|-0.10|1.08|0.47|"
      ]
     },
     "metadata": {},
     "output_type": "display_data"
    },
    {
     "name": "stdout",
     "output_type": "stream",
     "text": [
      "Iteration 20\n"
     ]
    },
    {
     "data": {
      "text/markdown": [
       "|0.48|1.65|3.05|2.06|\n",
       "|-|-|-|-|\n",
       "|1.09|2.90|5.00|3.05|\n",
       "|-0.09|1.31|2.90|1.65|\n",
       "|-1.09|-0.09|1.09|0.48|"
      ]
     },
     "metadata": {},
     "output_type": "display_data"
    }
   ],
   "source": [
    "for time in range(21):\n",
    "    t.iteration()\n",
    "    if time % 5 == 0:\n",
    "        print('Iteration',time)\n",
    "        t.display()"
   ]
  },
  {
   "cell_type": "markdown",
   "metadata": {},
   "source": [
    "可以发现，这个算法很快就收敛了！的确——在后面的讲中，我们会论证这一算法的收敛性。但接下来，有了这些value，我们应该如何计算我们需要的最优policy呢（还记得我们一开始假设自己处于最优policy，但求解的目标实际上是找到这个policy）？这其实也很简单，因为我们已经得到了结论，我们的action一定是最大化reward $r(s,a)$ 和next value $V(s')$ 的期望值的和。\n",
    "\n",
    "这一过程也被称为**Policy Extraction**：\n",
    "\n",
    "$$\n",
    "\\pi^\\star(a|s)=\\delta\\left(a=\\arg\\max_{a\\in A}\\left(r(s,a)+\\mathbb{E}_{s'\\sim p(s'|s,a)}[V(s')]\\right)\\right)\n",
    "$$\n",
    "\n",
    "其中$\\delta$代表单点分布。\n",
    "\n",
    "让我们实现这一点："
   ]
  },
  {
   "cell_type": "code",
   "execution_count": 3,
   "metadata": {},
   "outputs": [
    {
     "data": {
      "text/markdown": [
       "|$\\rightarrow$|$\\rightarrow$|$\\downarrow$|$\\downarrow$|\n",
       "|-|-|-|-|\n",
       "|$\\rightarrow$|$\\rightarrow$|$\\star$|$\\leftarrow$|\n",
       "|$\\rightarrow$|$\\uparrow$|$\\uparrow$|$\\uparrow$|\n",
       "|$\\uparrow$|$\\uparrow$|$\\uparrow$|$\\uparrow$|"
      ]
     },
     "metadata": {},
     "output_type": "display_data"
    }
   ],
   "source": [
    "@add_method_to_class(Table)\n",
    "def extract_action(self:Table):\n",
    "    self.action = [[None]*self.size for _ in range(self.size)]\n",
    "    for i in range(self.size):\n",
    "        for j in range(self.size):\n",
    "            if (i,j) == self.special:\n",
    "                self.action[i][j] = '\\\\star'\n",
    "                continue\n",
    "            best_act = None\n",
    "            best_val = -float('inf')\n",
    "            for action in self.get_possible_action((i,j)):\n",
    "                weights = self.get_transition((i,j),action)\n",
    "                new_val = -1 + sum([w*self.V[x][y] for (x,y),w in weights.items()])\n",
    "                if new_val > best_val:\n",
    "                    best_val = new_val\n",
    "                    best_act = action\n",
    "            self.action[i][j] = self.get_display_str(best_act)\n",
    "\n",
    "t.extract_action()\n",
    "t.display(display_type='action')"
   ]
  },
  {
   "cell_type": "markdown",
   "metadata": {},
   "source": [
    "我们可以看到，这确实像是一个最优的策略。至此，我们就完成了Value Iteration方法的讨论，并第一次完整地解决了一个已知MDP下的问题！"
   ]
  },
  {
   "cell_type": "markdown",
   "metadata": {},
   "source": [
    "#### What about a larger MDP?\n",
    "\n",
    "上面的方法很直观，并且也很实用。但是，好景不长——在上面的问题里，state space的大小是16。但如果你的梦想是像Alpha Go一样处理围棋，你常见的state space可能是超过$10^{100}$以上！对于这样庞大的state space，就算在宇宙中的每一粒原子上都写下一个value，也不够储存。更为甚者，如果我们处理像之前CartPole一样的问题，我们的state是连续的，就更是无从下手了。\n",
    "\n",
    "但当我们想到这里的时候，我们一下子就发现了——我们可以使用DL中的技术，**用一个神经网络近似$V(s)$** ！这个网络输入$s$，输出对应的value。考虑到神经网络的“压缩”作用（想想ChatGPT这一模型的大小肯定比它的训练数据加起来小很多倍！），我们就可以处理大规模的MDP问题了。上面的算法中不需要修改任何地方——只需要在更新的时候把赋值换为梯度下降就可以了。（当然，如果具体实现起来可能有很多细节，比如为了避免直接训练这样`batch=1`的不稳定，我们需要采集很多数据再做一波训练，等等）"
   ]
  },
  {
   "cell_type": "markdown",
   "metadata": {},
   "source": [
    "但敏锐的你可能会发现其中的漏洞：神经网络的拟合本身会带来一个误差。此时，如果依然采用迭代的方法，我们真的还能保证收敛吗？残酷的现实是：**不**。这样的方法（也称为**fitted Value iteration**）并没有一个收敛的保证。实际上，它们不仅理论上不收敛，在实验上也展现着很大的方差。"
   ]
  },
  {
   "cell_type": "markdown",
   "metadata": {},
   "source": [
    "#### Experiment: Pixel Game\n",
    "\n",
    "我们可以再实操一个例子：“玩像素”（Pixel Game）。我们有一个$10\\times 10$的方格表，其中有22个棋子（也就是“像素”）是我们可以操控的。我们希望这些像素排成一个指定的汉字：\"**兵**\"。\n",
    "\n",
    "一开始，我们的所有棋子随机排布；而对于每一个state，我们可以采取一个action $(x,y,d)$，其中$(x,y)$代表需要移动的棋子的位置（如果没有棋子那么无效）；而$d$和之前一样是0,1,2,3中的一个，代表上下左右移动（如果无法移动那么也无效）。为了简化问题，我们认为transition是确定的，就是按照方向$d$移动$(x,y)$处的棋子后的整个像素排布。最后，reward $r(s,a)$ 取为只和$s$有关。假设$s$和最终target image的共同像素数（不计算重数）是$N$，那么\n",
    "\n",
    "$$\n",
    "r(s,a)=\\begin{cases}\\frac{N-22}{220}&,N<22\\\\100&,N=22\\end{cases}\n",
    "$$\n"
   ]
  },
  {
   "cell_type": "code",
   "execution_count": 1,
   "metadata": {},
   "outputs": [
    {
     "name": "stdout",
     "output_type": "stream",
     "text": [
      "Your device is cpu\n",
      "Target image:\n"
     ]
    },
    {
     "data": {
      "text/markdown": [
       "| | | | | | | | | | |\n",
       "|-|-|-|-|-|-|-|-|-|-|\n",
       "| | | | | |█| | | | |\n",
       "| | | | |█| | | | | |\n",
       "| | | |█| | | | | | |\n",
       "| | | |█|█|█|█|█| | |\n",
       "| | | |█| |█| | | | |\n",
       "| |█|█|█|█|█|█|█|█| |\n",
       "| | | |█| |█| | | | |\n",
       "| | |█| | | |█| | | |\n",
       "| | | | | | | | | | |"
      ]
     },
     "metadata": {},
     "output_type": "display_data"
    },
    {
     "name": "stdout",
     "output_type": "stream",
     "text": [
      "Our initial state:\n"
     ]
    },
    {
     "data": {
      "text/markdown": [
       "|█| |█| | | | | |█| |\n",
       "|-|-|-|-|-|-|-|-|-|-|\n",
       "| | | | | | | | | |█|\n",
       "| |█|█| | | | |█| | |\n",
       "| | | | | | | | | | |\n",
       "| | |█| | | | | | | |\n",
       "|█| | | |█| | | |█| |\n",
       "| | | |█|█| | |█| |█|\n",
       "| | | |█| | | | | | |\n",
       "|█| | | | | | | | |█|\n",
       "| | | | | | | | | | |"
      ]
     },
     "metadata": {},
     "output_type": "display_data"
    },
    {
     "name": "stdout",
     "output_type": "stream",
     "text": [
      "Initial reward -0.08181818181818182\n"
     ]
    }
   ],
   "source": [
    "from utils_0_intro import PixelGame\n",
    "from utils import add_method_to_class\n",
    "pgame = PixelGame()\n",
    "print('Target image:')\n",
    "pgame.display_target()\n",
    "print('Our initial state:')\n",
    "pgame.display(pgame.reset(randomly=True))\n",
    "print('Initial reward',pgame.get_reward())"
   ]
  },
  {
   "cell_type": "markdown",
   "metadata": {},
   "source": [
    "接下来，我们就来设计一个简单的网络$V(s)$。"
   ]
  },
  {
   "cell_type": "code",
   "execution_count": 2,
   "metadata": {},
   "outputs": [],
   "source": [
    "import torch\n",
    "import torch.nn as nn\n",
    "import torch.nn.functional as F\n",
    "from torch.optim import Adam\n",
    "from torch.utils.data import DataLoader,Dataset\n",
    "\n",
    "class Net(nn.Module):\n",
    "\n",
    "    def __init__(self):\n",
    "        super().__init__()\n",
    "        self.conv1 = nn.Conv2d(in_channels=1,out_channels=64,kernel_size=3)\n",
    "        self.conv2 = nn.Conv2d(in_channels=64,out_channels=16,kernel_size=3)\n",
    "        self.conv3 = nn.Conv2d(in_channels=16,out_channels=8,kernel_size=3)\n",
    "        self.mlp = nn.Linear(128,1)\n",
    "\n",
    "    def forward(self,x):\n",
    "        \"\"\"\n",
    "        compute the estimated Value given state `x`.\n",
    "        \"\"\"\n",
    "        x = nn.LeakyReLU(0.1)(self.conv1(x))\n",
    "        x = nn.LeakyReLU(0.1)(self.conv2(x))\n",
    "        x = nn.LeakyReLU(0.1)(self.conv3(x))\n",
    "        x = x.reshape(x.shape[0],-1)\n",
    "        return self.mlp(x)"
   ]
  },
  {
   "cell_type": "markdown",
   "metadata": {},
   "source": [
    "接下来，我们来准备训练数据。回顾一下我们的训练过程是\n",
    "\n",
    "$$\n",
    "V(s)\\leftarrow \\max_{a\\in A}\\left(r(s,a)+\\mathbb{E}_{s'\\sim p(s'|s,a)}[V(s')]\\right)\n",
    "$$\n",
    "\n",
    "这里唯一的变量是$s$。对于哪些$s$做这一更新呢？可以对于所有$s$，但这不现实——这一问题的state space大小是$10^{30}$左右的量级。我们为了充分利用fitted value iteration的优势，我们必须只选取相对少的一些state来训练。\n",
    "\n",
    "那如何选取这些state呢？我们发现，这些state要**具有代表性**。比如最极端地，如果没有任何一个state有着非零的reward，我们的网络就不可能学到任何东西。因此，我们决定根据他们的**分数**（也就是和目标图案重复的pixel个数）来选取数据。"
   ]
  },
  {
   "cell_type": "code",
   "execution_count": 3,
   "metadata": {},
   "outputs": [
    {
     "name": "stdout",
     "output_type": "stream",
     "text": [
      "Gathered states: 4600\n"
     ]
    }
   ],
   "source": [
    "import random\n",
    "\n",
    "@add_method_to_class(PixelGame)\n",
    "def sample_given_score(self:PixelGame,match_num,sample_num=200):\n",
    "    \"\"\"\n",
    "    Sample some states given `match_num`.\n",
    "\n",
    "    Args:\n",
    "        `match_num`: the number of states that match the target image.\n",
    "        `sample_num`: the number of states to sample.\n",
    "    \"\"\"\n",
    "    other_pixels = [(i,j) for i in range(10) for j in range(10) if (i,j) not in self.target_pixel_pos]\n",
    "    states = []\n",
    "    for _ in range(sample_num):\n",
    "        common = random.sample(self.target_pixel_pos,match_num)\n",
    "        others = random.choices(other_pixels + common,k=22-match_num) # can choose in common since it doens't count\n",
    "        states.append(common + others)\n",
    "    return states\n",
    "\n",
    "states = []\n",
    "for match_num in range(23):\n",
    "    states.extend(pgame.sample_given_score(match_num=match_num))\n",
    "print('Gathered states:',len(states))"
   ]
  },
  {
   "cell_type": "markdown",
   "metadata": {},
   "source": [
    "接下来，我们考虑训练过程。回顾一下，最外围的循环是Value iteration，就像之前那样；而和之前不同的是，我们在内部又添加了一个神经网络拟合的循环。\n",
    "\n",
    "一个必须讨论的细节是，为了发挥optimizer的优势，我们应该不是一组一组数据训练，而是把训练数据收集起来并用batch来训练。为此，我们编写一个函数`get_dataloader`。"
   ]
  },
  {
   "cell_type": "code",
   "execution_count": 4,
   "metadata": {},
   "outputs": [
    {
     "name": "stdout",
     "output_type": "stream",
     "text": [
      "Storing transitions, this may take around a minute...\n"
     ]
    },
    {
     "data": {
      "text/plain": [
       "4600"
      ]
     },
     "execution_count": 4,
     "metadata": {},
     "output_type": "execute_result"
    }
   ],
   "source": [
    "# first load the transitions once\n",
    "print('Storing transitions, this may take around a minute...')\n",
    "transition_datas = []\n",
    "for state in states:\n",
    "    actions = pgame.get_actions(state)\n",
    "    nexts = []\n",
    "    terminated = False\n",
    "    for action in actions:\n",
    "        next_state = pgame.get_transition(state,action)\n",
    "        if next_state is None:\n",
    "            terminated = True\n",
    "            break\n",
    "        nexts.append(pgame.as_tensor(next_state))\n",
    "    transition_datas.append({\n",
    "        'state':state,\n",
    "        'next_states':torch.stack(nexts,dim=0) if not terminated else None,\n",
    "        'terminated':terminated\n",
    "    })\n",
    "len(transition_datas)"
   ]
  },
  {
   "cell_type": "code",
   "execution_count": 5,
   "metadata": {},
   "outputs": [],
   "source": [
    "from utils import device\n",
    "\n",
    "@torch.no_grad()\n",
    "def get_dataloader(net:Net):\n",
    "    dataset = []\n",
    "    for it in transition_datas:\n",
    "        state = it['state']\n",
    "        target = pgame.get_reward(state)\n",
    "        term = it['terminated']\n",
    "        if not term:\n",
    "            target += net(it['next_states'].to(device)).max(dim=0)[0].cpu().item()\n",
    "        dataset.append((state,target))\n",
    "    return DataLoader(dataset=dataset,batch_size=128,shuffle=True,\n",
    "    collate_fn=lambda datas:\n",
    "        {\n",
    "            'states': torch.stack([pgame.as_tensor(data[0]) for data in datas],dim=0),\n",
    "            'targets':torch.tensor([data[1] for data in datas],dtype=torch.float).unsqueeze(-1)\n",
    "        }\n",
    "    )"
   ]
  },
  {
   "cell_type": "markdown",
   "metadata": {},
   "source": [
    "注意，这里的`terminated`变量处理了一个特殊情况：如果已经到了最终的state $s_\\star$，那么没有下一个transition，而且value的训练目标就是$r(s_\\star)=100$。\n",
    "\n",
    "最后，我们可以开始了！"
   ]
  },
  {
   "cell_type": "code",
   "execution_count": 6,
   "metadata": {},
   "outputs": [
    {
     "name": "stdout",
     "output_type": "stream",
     "text": [
      "We use this random state to monitor the value:\n"
     ]
    },
    {
     "data": {
      "text/markdown": [
       "| | | | | |█| | | | |\n",
       "|-|-|-|-|-|-|-|-|-|-|\n",
       "| |█|█| | |█| | | | |\n",
       "| | | | | | |█| | | |\n",
       "| | | |█| | | | | | |\n",
       "| | | |█|█| |█| | | |\n",
       "| | | |█| | | | | | |\n",
       "| | |█| |█| |█|█|█|█|\n",
       "| |█| | | | | |█| | |\n",
       "| |█| | | | | | | | |\n",
       "| | | | | |█|█| | | |"
      ]
     },
     "metadata": {},
     "output_type": "display_data"
    }
   ],
   "source": [
    "pick_state = states[len(states)//2] # here we select a state to monitor the convergence of value iteration.\n",
    "values_for_that_state = []\n",
    "print('We use this random state to monitor the value:')\n",
    "pgame.display(pick_state)"
   ]
  },
  {
   "cell_type": "code",
   "execution_count": 57,
   "metadata": {},
   "outputs": [
    {
     "name": "stderr",
     "output_type": "stream",
     "text": [
      "Iteration 0: loss 378.9311: 100%|██████████| 36/36 [00:01<00:00, 30.80it/s]\n"
     ]
    },
    {
     "name": "stdout",
     "output_type": "stream",
     "text": [
      "Value of the specific state 0.3292299509048462\n"
     ]
    },
    {
     "name": "stderr",
     "output_type": "stream",
     "text": [
      "Iteration 1: loss 170.7536: 100%|██████████| 36/36 [00:01<00:00, 29.52it/s]\n",
      "Iteration 2: loss 48.3388: 100%|██████████| 36/36 [00:01<00:00, 32.23it/s]\n",
      "Iteration 3: loss 16.6988: 100%|██████████| 36/36 [00:01<00:00, 30.32it/s]\n",
      "Iteration 4: loss 9.5480: 100%|██████████| 36/36 [00:01<00:00, 27.90it/s] \n",
      "Iteration 5: loss 6.9925: 100%|██████████| 36/36 [00:01<00:00, 26.57it/s] \n"
     ]
    },
    {
     "name": "stdout",
     "output_type": "stream",
     "text": [
      "Value of the specific state 22.306779861450195\n"
     ]
    },
    {
     "name": "stderr",
     "output_type": "stream",
     "text": [
      "Iteration 6: loss 8.9907: 100%|██████████| 36/36 [00:01<00:00, 25.32it/s] \n",
      "Iteration 7: loss 8.9030: 100%|██████████| 36/36 [00:01<00:00, 24.60it/s] \n",
      "Iteration 8: loss 7.2833: 100%|██████████| 36/36 [00:01<00:00, 28.58it/s] \n",
      "Iteration 9: loss 7.9333: 100%|██████████| 36/36 [00:01<00:00, 28.22it/s] \n",
      "Iteration 10: loss 11.7262: 100%|██████████| 36/36 [00:01<00:00, 28.60it/s]\n"
     ]
    },
    {
     "name": "stdout",
     "output_type": "stream",
     "text": [
      "Value of the specific state 69.13394927978516\n"
     ]
    },
    {
     "name": "stderr",
     "output_type": "stream",
     "text": [
      "Iteration 11: loss 25.0498: 100%|██████████| 36/36 [00:01<00:00, 28.04it/s]\n",
      "Iteration 12: loss 33.6014: 100%|██████████| 36/36 [00:01<00:00, 27.83it/s]\n",
      "Iteration 13: loss 61.3941: 100%|██████████| 36/36 [00:01<00:00, 27.82it/s]\n",
      "Iteration 14: loss 60.5420: 100%|██████████| 36/36 [00:01<00:00, 28.16it/s]\n",
      "Iteration 15: loss 83.2631: 100%|██████████| 36/36 [00:01<00:00, 26.81it/s] \n"
     ]
    },
    {
     "name": "stdout",
     "output_type": "stream",
     "text": [
      "Value of the specific state 118.82010650634766\n"
     ]
    },
    {
     "name": "stderr",
     "output_type": "stream",
     "text": [
      "Iteration 16: loss 140.7156: 100%|██████████| 36/36 [00:01<00:00, 26.34it/s]\n",
      "Iteration 17: loss 344.9636: 100%|██████████| 36/36 [00:01<00:00, 29.03it/s]\n",
      "Iteration 18: loss 643.1255: 100%|██████████| 36/36 [00:01<00:00, 29.19it/s]\n",
      "Iteration 19: loss 532.6680: 100%|██████████| 36/36 [00:01<00:00, 25.71it/s]\n",
      "Iteration 20: loss 917.9474: 100%|██████████| 36/36 [00:01<00:00, 28.52it/s] \n"
     ]
    },
    {
     "name": "stdout",
     "output_type": "stream",
     "text": [
      "Value of the specific state 208.20388793945312\n"
     ]
    },
    {
     "name": "stderr",
     "output_type": "stream",
     "text": [
      "Iteration 21: loss 910.9753: 100%|██████████| 36/36 [00:01<00:00, 26.99it/s] \n",
      "Iteration 22: loss 1384.3209: 100%|██████████| 36/36 [00:01<00:00, 28.42it/s]\n",
      "Iteration 23: loss 2010.1080: 100%|██████████| 36/36 [00:01<00:00, 27.19it/s]\n",
      "Iteration 24: loss 2916.3315: 100%|██████████| 36/36 [00:01<00:00, 26.68it/s]\n"
     ]
    }
   ],
   "source": [
    "from tqdm import tqdm\n",
    "net = Net().to(device)\n",
    "opt = Adam(net.parameters(),lr=5e-3)\n",
    "values_for_that_state = []\n",
    "for iteration in range(25):\n",
    "    losses = []\n",
    "    dataloader = get_dataloader(net)\n",
    "    with tqdm(dataloader) as bar:\n",
    "        for it in bar:\n",
    "            val = net(it['states'].to(device)) # [batch,1]\n",
    "            loss = F.mse_loss(val,it['targets'])\n",
    "            opt.zero_grad()\n",
    "            loss.backward()\n",
    "            opt.step()\n",
    "            losses.append(loss.detach().cpu().item())\n",
    "            bar.set_description(f'Iteration {iteration}: loss {sum(losses)/len(losses):.4f}')\n",
    "    with torch.no_grad():\n",
    "        value = net(pgame.as_tensor(pick_state).unsqueeze(0).to(device)).cpu().item()\n",
    "    if iteration % 5 == 0:\n",
    "        print('Value of the specific state',value)\n",
    "    values_for_that_state.append(value)"
   ]
  },
  {
   "cell_type": "markdown",
   "metadata": {},
   "source": [
    "我们还可以观察一下整个过程中value整体上是如何变化的："
   ]
  },
  {
   "cell_type": "code",
   "execution_count": 58,
   "metadata": {},
   "outputs": [
    {
     "data": {
      "image/png": "[encoded data removed]",
      "text/plain": [
       "<Figure size 640x480 with 1 Axes>"
      ]
     },
     "metadata": {},
     "output_type": "display_data"
    }
   ],
   "source": [
    "import matplotlib.pyplot as plt\n",
    "plt.plot([x[0] for x in enumerate(values_for_that_state)],values_for_that_state)\n",
    "plt.title('Value for a given state')\n",
    "plt.show()"
   ]
  },
  {
   "cell_type": "markdown",
   "metadata": {},
   "source": [
    "可以发现，value虽然开始有所涨落，但之后上升的很快。我们再来看看给出的策略如何？"
   ]
  },
  {
   "cell_type": "code",
   "execution_count": 7,
   "metadata": {},
   "outputs": [],
   "source": [
    "def demonstrate_policy(net):\n",
    "    state = pgame.reset(randomly=True)\n",
    "    cum_r = 0\n",
    "    succeed = False\n",
    "    print('Initial state:')\n",
    "    pgame.display()\n",
    "    print('Initial common pixels',pgame.get_common_pixels(state))\n",
    "    for time in range(200):\n",
    "        actions = pgame.get_actions(state)\n",
    "        best_act = None\n",
    "        best_val = float('-inf')\n",
    "        for action in actions:\n",
    "            next_state = pgame.get_transition(state,action)\n",
    "            with torch.no_grad():\n",
    "                value = net(pgame.as_tensor(next_state).unsqueeze(0).to(device)).cpu().item()\n",
    "            if value > best_val:\n",
    "                best_val = value\n",
    "                best_act = action\n",
    "        cum_r += pgame.get_reward(state)\n",
    "        state = pgame.get_transition(state,best_act)\n",
    "        if state is None:\n",
    "            succeed = True\n",
    "            break\n",
    "        pgame.set_state(state)\n",
    "        if time % 20 == 1:\n",
    "            print('t =',time)\n",
    "            pgame.display()\n",
    "    print('Cumulative reward',f'{cum_r:.2f}')\n",
    "    print('Succeeded?',succeed)\n",
    "    print('Final common pixels:',100 if succeed else pgame.get_common_pixels(state))\n",
    "    return state"
   ]
  },
  {
   "cell_type": "code",
   "execution_count": 60,
   "metadata": {},
   "outputs": [
    {
     "name": "stdout",
     "output_type": "stream",
     "text": [
      "Initial state:\n"
     ]
    },
    {
     "data": {
      "text/markdown": [
       "| |█| |█| | |█| | |█|\n",
       "|-|-|-|-|-|-|-|-|-|-|\n",
       "| | |█| | | |█|█| | |\n",
       "| |█| | | | | | | | |\n",
       "| |█| | | | | | | | |\n",
       "| | | | |█| |█|█| | |\n",
       "| | | | | | | | | | |\n",
       "| | | |█| | | | | | |\n",
       "|█| | | | | | | | | |\n",
       "|█| | | | | |█|█| |█|\n",
       "| | | | | | | | | | |"
      ]
     },
     "metadata": {},
     "output_type": "display_data"
    },
    {
     "name": "stdout",
     "output_type": "stream",
     "text": [
      "Initial common pixels 5\n",
      "t = 1\n"
     ]
    },
    {
     "data": {
      "text/markdown": [
       "| |█| |█| | |█| | |█|\n",
       "|-|-|-|-|-|-|-|-|-|-|\n",
       "| | |█| | | |█|█| | |\n",
       "| | | | | | | | | | |\n",
       "| |█| | | | | | | | |\n",
       "| | | | |█| |█| | | |\n",
       "| | | | | | | | | | |\n",
       "| | | |█| | | | | | |\n",
       "|█| | | | | | | | | |\n",
       "|█| | | | | |█|█| |█|\n",
       "| | | | | | | | | | |"
      ]
     },
     "metadata": {},
     "output_type": "display_data"
    },
    {
     "name": "stdout",
     "output_type": "stream",
     "text": [
      "t = 21\n"
     ]
    },
    {
     "data": {
      "text/markdown": [
       "| | |█| | | | | | | |\n",
       "|-|-|-|-|-|-|-|-|-|-|\n",
       "| | | |█| | |█| | | |\n",
       "| | | | | | | | | | |\n",
       "| |█| | | | | | | | |\n",
       "| | | | | |█| | | | |\n",
       "| | | | | | | | | | |\n",
       "| | | |█| | | | | | |\n",
       "|█| | | | | | | | | |\n",
       "| | | | | | | |█| | |\n",
       "| | | | | | | | | | |"
      ]
     },
     "metadata": {},
     "output_type": "display_data"
    },
    {
     "name": "stdout",
     "output_type": "stream",
     "text": [
      "t = 41\n"
     ]
    },
    {
     "data": {
      "text/markdown": [
       "| | |█| | | | | | | |\n",
       "|-|-|-|-|-|-|-|-|-|-|\n",
       "| | | |█| | |█| | | |\n",
       "| | | | | | | | | | |\n",
       "| |█| | | | | | | | |\n",
       "| | | | | |█| | | | |\n",
       "| | | | | | | | | | |\n",
       "| | | |█| | | | | | |\n",
       "|█| | | | | | | | | |\n",
       "| | | | | | | |█| | |\n",
       "| | | | | | | | | | |"
      ]
     },
     "metadata": {},
     "output_type": "display_data"
    },
    {
     "name": "stdout",
     "output_type": "stream",
     "text": [
      "t = 61\n"
     ]
    },
    {
     "data": {
      "text/markdown": [
       "| | |█| | | | | | | |\n",
       "|-|-|-|-|-|-|-|-|-|-|\n",
       "| | | |█| | |█| | | |\n",
       "| | | | | | | | | | |\n",
       "| |█| | | | | | | | |\n",
       "| | | | | |█| | | | |\n",
       "| | | | | | | | | | |\n",
       "| | | |█| | | | | | |\n",
       "|█| | | | | | | | | |\n",
       "| | | | | | | |█| | |\n",
       "| | | | | | | | | | |"
      ]
     },
     "metadata": {},
     "output_type": "display_data"
    },
    {
     "name": "stdout",
     "output_type": "stream",
     "text": [
      "t = 81\n"
     ]
    },
    {
     "data": {
      "text/markdown": [
       "| | |█| | | | | | | |\n",
       "|-|-|-|-|-|-|-|-|-|-|\n",
       "| | | |█| | |█| | | |\n",
       "| | | | | | | | | | |\n",
       "| |█| | | | | | | | |\n",
       "| | | | | |█| | | | |\n",
       "| | | | | | | | | | |\n",
       "| | | |█| | | | | | |\n",
       "|█| | | | | | | | | |\n",
       "| | | | | | | |█| | |\n",
       "| | | | | | | | | | |"
      ]
     },
     "metadata": {},
     "output_type": "display_data"
    },
    {
     "name": "stdout",
     "output_type": "stream",
     "text": [
      "t = 101\n"
     ]
    },
    {
     "data": {
      "text/markdown": [
       "| | |█| | | | | | | |\n",
       "|-|-|-|-|-|-|-|-|-|-|\n",
       "| | | |█| | |█| | | |\n",
       "| | | | | | | | | | |\n",
       "| |█| | | | | | | | |\n",
       "| | | | | |█| | | | |\n",
       "| | | | | | | | | | |\n",
       "| | | |█| | | | | | |\n",
       "|█| | | | | | | | | |\n",
       "| | | | | | | |█| | |\n",
       "| | | | | | | | | | |"
      ]
     },
     "metadata": {},
     "output_type": "display_data"
    },
    {
     "name": "stdout",
     "output_type": "stream",
     "text": [
      "t = 121\n"
     ]
    },
    {
     "data": {
      "text/markdown": [
       "| | |█| | | | | | | |\n",
       "|-|-|-|-|-|-|-|-|-|-|\n",
       "| | | |█| | |█| | | |\n",
       "| | | | | | | | | | |\n",
       "| |█| | | | | | | | |\n",
       "| | | | | |█| | | | |\n",
       "| | | | | | | | | | |\n",
       "| | | |█| | | | | | |\n",
       "|█| | | | | | | | | |\n",
       "| | | | | | | |█| | |\n",
       "| | | | | | | | | | |"
      ]
     },
     "metadata": {},
     "output_type": "display_data"
    },
    {
     "name": "stdout",
     "output_type": "stream",
     "text": [
      "t = 141\n"
     ]
    },
    {
     "data": {
      "text/markdown": [
       "| | |█| | | | | | | |\n",
       "|-|-|-|-|-|-|-|-|-|-|\n",
       "| | | |█| | |█| | | |\n",
       "| | | | | | | | | | |\n",
       "| |█| | | | | | | | |\n",
       "| | | | | |█| | | | |\n",
       "| | | | | | | | | | |\n",
       "| | | |█| | | | | | |\n",
       "|█| | | | | | | | | |\n",
       "| | | | | | | |█| | |\n",
       "| | | | | | | | | | |"
      ]
     },
     "metadata": {},
     "output_type": "display_data"
    },
    {
     "name": "stdout",
     "output_type": "stream",
     "text": [
      "t = 161\n"
     ]
    },
    {
     "data": {
      "text/markdown": [
       "| | |█| | | | | | | |\n",
       "|-|-|-|-|-|-|-|-|-|-|\n",
       "| | | |█| | |█| | | |\n",
       "| | | | | | | | | | |\n",
       "| |█| | | | | | | | |\n",
       "| | | | | |█| | | | |\n",
       "| | | | | | | | | | |\n",
       "| | | |█| | | | | | |\n",
       "|█| | | | | | | | | |\n",
       "| | | | | | | |█| | |\n",
       "| | | | | | | | | | |"
      ]
     },
     "metadata": {},
     "output_type": "display_data"
    },
    {
     "name": "stdout",
     "output_type": "stream",
     "text": [
      "t = 181\n"
     ]
    },
    {
     "data": {
      "text/markdown": [
       "| | |█| | | | | | | |\n",
       "|-|-|-|-|-|-|-|-|-|-|\n",
       "| | | |█| | |█| | | |\n",
       "| | | | | | | | | | |\n",
       "| |█| | | | | | | | |\n",
       "| | | | | |█| | | | |\n",
       "| | | | | | | | | | |\n",
       "| | | |█| | | | | | |\n",
       "|█| | | | | | | | | |\n",
       "| | | | | | | |█| | |\n",
       "| | | | | | | | | | |"
      ]
     },
     "metadata": {},
     "output_type": "display_data"
    },
    {
     "name": "stdout",
     "output_type": "stream",
     "text": [
      "Cumulative reward -18.08\n",
      "Succeeded? False\n",
      "Final common pixels: 2\n"
     ]
    }
   ],
   "source": [
    "demonstrate_policy(net)"
   ]
  },
  {
   "cell_type": "markdown",
   "metadata": {},
   "source": [
    "我们发现我们的网络竟然什么都没有学到——最后的common pixel个数竟然少于一开始的！这显然说明了网络的价值评估出现了错误。再一回味，也又发现了问题：无论如何，value都不应该到达100以上，因为最终的state才有reward 100，而其他的state reward都为负数。一定是有地方出了问题！\n",
    "\n",
    "哈哈，的确——提出理论只需要凭感觉就可以了，但做实验的人需要想的就多了。我们只能观察：可以发现，**随着value的大幅度上升，loss也增加了**，如何解释这件事呢？"
   ]
  },
  {
   "cell_type": "markdown",
   "metadata": {},
   "source": [
    "其实，道理很简单——为什么在一个iteration内部我们的loss不能降到0？我们的神经网络表达能力肯定还是够的，真正的问题在于**数据太差**。为什么数据差？原因也很简单，因为value iteration的中间结果可能有一定波动，这些波动在不同的state上体现不一样，而value又间接地被当成训练数据，这就好比是训练数据上下了毒一般。更糟糕的是，这样训练出来的糟糕模型又被当成下一次训练的目标，这样loss就会爆炸一般大幅上升。\n",
    "\n",
    "一个很好的比喻是说，上面的方法宛如**shooting a moving target**。我们的DL模型之所以强大，是因为他们狠狠地在固定的靶子上训练并达到极高的水准；而现在把他们应用到这里可能令他们有些水土不服。为何不让靶子**停下来**，或者**慢下来**呢？这就是**target network**的基本思想。"
   ]
  },
  {
   "cell_type": "markdown",
   "metadata": {},
   "source": [
    "#### Target Network"
   ]
  },
  {
   "cell_type": "markdown",
   "metadata": {},
   "source": [
    "首先，我们引入一个**target network** $V_{\\theta_0}$，而把原来的网络叫做$V_\\theta$。其次，我们的更新方式就变成了\n",
    "\n",
    "$$\n",
    "\\theta \\leftarrow \\theta + \\eta \\nabla_{\\theta}\\left[V_\\theta(s)-\\left(\\max_{a\\in A}\\left(r(s,a)+\\mathbb{E}_{s'\\sim p(s'|s,a)}[V_{\\theta_0}(s')]\\right)\\right)\\right]^2\n",
    "$$\n",
    "\n",
    "顾名思义——target network就用于target的计算。回顾之前的方法，相当于target network被取为前一个Iteration更新后的$V$，瞬息万变；而现在，我们希望target network的更新慢一些。\n",
    "\n",
    "第一个方法就是，我们**隔一段时间猛地更新一下**：\n",
    "\n",
    "```python\n",
    "if iteration % PERIOD == 0:\n",
    "    target_net.load_state_dict(net.state_dict())\n",
    "```\n",
    "\n",
    "而第二个方法更加文明：我们每一次使用running average更新。也就是说：\n",
    "\n",
    "$$\n",
    "\\theta_0 \\leftarrow (1-\\alpha)\\theta_0 + \\alpha \\theta\n",
    "$$\n",
    "\n",
    "这稍微更难实现一些，但更稳定（可以想象），因此我们采用这第二种方法。"
   ]
  },
  {
   "cell_type": "code",
   "execution_count": 8,
   "metadata": {},
   "outputs": [
    {
     "name": "stderr",
     "output_type": "stream",
     "text": [
      "  0%|          | 0/36 [00:00<?, ?it/s]/home/zhh/anaconda3/envs/DYY/lib/python3.10/site-packages/torch/autograd/graph.py:768: UserWarning: CUDA initialization: CUDA unknown error - this may be due to an incorrectly set up environment, e.g. changing env variable CUDA_VISIBLE_DEVICES after program start. Setting the available devices to be zero. (Triggered internally at ../c10/cuda/CUDAFunctions.cpp:108.)\n",
      "  return Variable._execution_engine.run_backward(  # Calls into the C++ engine to run the backward pass\n",
      "Iteration 0: loss 380.1263: 100%|██████████| 36/36 [00:02<00:00, 13.60it/s]\n"
     ]
    },
    {
     "name": "stdout",
     "output_type": "stream",
     "text": [
      "Value of the specific state -1.7006075382232666\n"
     ]
    },
    {
     "name": "stderr",
     "output_type": "stream",
     "text": [
      "Iteration 1: loss 286.6912: 100%|██████████| 36/36 [00:01<00:00, 30.62it/s]\n",
      "Iteration 2: loss 231.8857: 100%|██████████| 36/36 [00:01<00:00, 29.00it/s]\n",
      "Iteration 3: loss 145.4007: 100%|██████████| 36/36 [00:01<00:00, 27.87it/s]\n",
      "Iteration 4: loss 138.0900: 100%|██████████| 36/36 [00:01<00:00, 28.76it/s]\n",
      "Iteration 5: loss 86.3560: 100%|██████████| 36/36 [00:01<00:00, 27.91it/s]\n"
     ]
    },
    {
     "name": "stdout",
     "output_type": "stream",
     "text": [
      "Value of the specific state 0.17137743532657623\n"
     ]
    },
    {
     "name": "stderr",
     "output_type": "stream",
     "text": [
      "Iteration 6: loss 74.8810: 100%|██████████| 36/36 [00:01<00:00, 29.18it/s]\n",
      "Iteration 7: loss 43.3864: 100%|██████████| 36/36 [00:01<00:00, 26.18it/s]\n",
      "Iteration 8: loss 31.3327: 100%|██████████| 36/36 [00:01<00:00, 28.45it/s]\n",
      "Iteration 9: loss 26.0478: 100%|██████████| 36/36 [00:01<00:00, 30.19it/s]\n",
      "Iteration 10: loss 19.5462: 100%|██████████| 36/36 [00:01<00:00, 22.96it/s]\n"
     ]
    },
    {
     "name": "stdout",
     "output_type": "stream",
     "text": [
      "Value of the specific state 0.6864661574363708\n"
     ]
    },
    {
     "name": "stderr",
     "output_type": "stream",
     "text": [
      "Iteration 11: loss 15.9316: 100%|██████████| 36/36 [00:01<00:00, 25.77it/s]\n",
      "Iteration 12: loss 14.2429: 100%|██████████| 36/36 [00:01<00:00, 29.68it/s]\n",
      "Iteration 13: loss 12.2972: 100%|██████████| 36/36 [00:01<00:00, 28.10it/s]\n",
      "Iteration 14: loss 11.3102: 100%|██████████| 36/36 [00:01<00:00, 28.93it/s]\n",
      "Iteration 15: loss 10.9364: 100%|██████████| 36/36 [00:01<00:00, 28.46it/s]\n"
     ]
    },
    {
     "name": "stdout",
     "output_type": "stream",
     "text": [
      "Value of the specific state 0.815923810005188\n"
     ]
    },
    {
     "name": "stderr",
     "output_type": "stream",
     "text": [
      "Iteration 16: loss 10.2865: 100%|██████████| 36/36 [00:01<00:00, 30.06it/s]\n",
      "Iteration 17: loss 9.6947: 100%|██████████| 36/36 [00:01<00:00, 27.52it/s]\n",
      "Iteration 18: loss 12.5096: 100%|██████████| 36/36 [00:01<00:00, 27.61it/s]\n",
      "Iteration 19: loss 8.8762: 100%|██████████| 36/36 [00:01<00:00, 28.78it/s]\n",
      "Iteration 20: loss 8.5178: 100%|██████████| 36/36 [00:01<00:00, 27.76it/s]\n"
     ]
    },
    {
     "name": "stdout",
     "output_type": "stream",
     "text": [
      "Value of the specific state 1.3873649835586548\n"
     ]
    },
    {
     "name": "stderr",
     "output_type": "stream",
     "text": [
      "Iteration 21: loss 8.2454: 100%|██████████| 36/36 [00:01<00:00, 24.31it/s]\n",
      "Iteration 22: loss 9.1589: 100%|██████████| 36/36 [00:01<00:00, 27.99it/s] \n",
      "Iteration 23: loss 10.1366: 100%|██████████| 36/36 [00:01<00:00, 24.61it/s]\n",
      "Iteration 24: loss 7.6865: 100%|██████████| 36/36 [00:01<00:00, 25.79it/s]\n",
      "Iteration 25: loss 7.2592: 100%|██████████| 36/36 [00:01<00:00, 24.90it/s]\n"
     ]
    },
    {
     "name": "stdout",
     "output_type": "stream",
     "text": [
      "Value of the specific state 1.7577736377716064\n"
     ]
    },
    {
     "name": "stderr",
     "output_type": "stream",
     "text": [
      "Iteration 26: loss 6.1591: 100%|██████████| 36/36 [00:01<00:00, 22.87it/s]\n",
      "Iteration 27: loss 5.6755: 100%|██████████| 36/36 [00:01<00:00, 27.71it/s]\n",
      "Iteration 28: loss 5.6489: 100%|██████████| 36/36 [00:01<00:00, 28.96it/s]\n",
      "Iteration 29: loss 5.9079: 100%|██████████| 36/36 [00:01<00:00, 25.45it/s]\n",
      "Iteration 30: loss 5.1560: 100%|██████████| 36/36 [00:01<00:00, 26.31it/s]\n"
     ]
    },
    {
     "name": "stdout",
     "output_type": "stream",
     "text": [
      "Value of the specific state 2.6860718727111816\n"
     ]
    },
    {
     "name": "stderr",
     "output_type": "stream",
     "text": [
      "Iteration 31: loss 4.7254: 100%|██████████| 36/36 [00:01<00:00, 26.42it/s]\n",
      "Iteration 32: loss 4.7112: 100%|██████████| 36/36 [00:01<00:00, 28.04it/s]\n",
      "Iteration 33: loss 4.3643: 100%|██████████| 36/36 [00:01<00:00, 27.11it/s]\n",
      "Iteration 34: loss 3.8525: 100%|██████████| 36/36 [00:01<00:00, 26.07it/s]\n",
      "Iteration 35: loss 4.4488: 100%|██████████| 36/36 [00:01<00:00, 28.06it/s]\n"
     ]
    },
    {
     "name": "stdout",
     "output_type": "stream",
     "text": [
      "Value of the specific state 3.428640842437744\n"
     ]
    },
    {
     "name": "stderr",
     "output_type": "stream",
     "text": [
      "Iteration 36: loss 3.2464: 100%|██████████| 36/36 [00:01<00:00, 25.51it/s]\n",
      "Iteration 37: loss 4.0186: 100%|██████████| 36/36 [00:01<00:00, 29.25it/s]\n",
      "Iteration 38: loss 2.9010: 100%|██████████| 36/36 [00:01<00:00, 27.62it/s]\n",
      "Iteration 39: loss 2.6364: 100%|██████████| 36/36 [00:01<00:00, 26.15it/s]\n",
      "Iteration 40: loss 2.7099: 100%|██████████| 36/36 [00:01<00:00, 25.74it/s]\n"
     ]
    },
    {
     "name": "stdout",
     "output_type": "stream",
     "text": [
      "Value of the specific state 4.623112201690674\n"
     ]
    },
    {
     "name": "stderr",
     "output_type": "stream",
     "text": [
      "Iteration 41: loss 3.7212: 100%|██████████| 36/36 [00:01<00:00, 23.86it/s]\n",
      "Iteration 42: loss 3.8031: 100%|██████████| 36/36 [00:01<00:00, 24.75it/s]\n",
      "Iteration 43: loss 2.7938: 100%|██████████| 36/36 [00:01<00:00, 22.55it/s]\n",
      "Iteration 44: loss 3.6801: 100%|██████████| 36/36 [00:01<00:00, 25.91it/s]\n",
      "Iteration 45: loss 3.5135: 100%|██████████| 36/36 [00:01<00:00, 27.05it/s]\n"
     ]
    },
    {
     "name": "stdout",
     "output_type": "stream",
     "text": [
      "Value of the specific state 5.84722900390625\n"
     ]
    },
    {
     "name": "stderr",
     "output_type": "stream",
     "text": [
      "Iteration 46: loss 3.2741: 100%|██████████| 36/36 [00:01<00:00, 27.91it/s]\n",
      "Iteration 47: loss 2.2997: 100%|██████████| 36/36 [00:01<00:00, 24.99it/s]\n",
      "Iteration 48: loss 2.5101: 100%|██████████| 36/36 [00:01<00:00, 28.46it/s]\n",
      "Iteration 49: loss 2.2010: 100%|██████████| 36/36 [00:01<00:00, 24.71it/s]\n"
     ]
    }
   ],
   "source": [
    "from tqdm import tqdm\n",
    "net = Net().to(device)\n",
    "target_net = Net().to(device).requires_grad_(False)\n",
    "target_net.load_state_dict(net.state_dict())\n",
    "opt = Adam(net.parameters(),lr=5e-3)\n",
    "values_for_that_state = []\n",
    "ALPHA = 0.2\n",
    "def update_target():\n",
    "    for theta_0,theta in zip(target_net.parameters(),net.parameters()):\n",
    "        theta_0.copy_((1-ALPHA) * theta_0 + ALPHA * theta)\n",
    "\n",
    "def continue_train_one(iteration):\n",
    "    losses = []\n",
    "    dataloader = get_dataloader(target_net)\n",
    "    with tqdm(dataloader) as bar:\n",
    "        for it in bar:\n",
    "            val = net(it['states'].to(device)) # [batch,1]\n",
    "            loss = F.mse_loss(val,it['targets'])\n",
    "            opt.zero_grad()\n",
    "            loss.backward()\n",
    "            opt.step()\n",
    "            losses.append(loss.detach().cpu().item())\n",
    "            bar.set_description(f'Iteration {iteration}: loss {sum(losses)/len(losses):.4f}')\n",
    "    update_target()\n",
    "    with torch.no_grad():\n",
    "        value = net(pgame.as_tensor(pick_state).unsqueeze(0).to(device)).cpu().item()\n",
    "    if iteration % 5 == 0:\n",
    "        print('Value of the specific state',value)\n",
    "    values_for_that_state.append(value)\n",
    "\n",
    "for iteration in range(50):\n",
    "    continue_train_one(iteration)"
   ]
  },
  {
   "cell_type": "code",
   "execution_count": 11,
   "metadata": {},
   "outputs": [
    {
     "data": {
      "image/png": "[encoded data removed]",
      "text/plain": [
       "<Figure size 640x480 with 1 Axes>"
      ]
     },
     "metadata": {},
     "output_type": "display_data"
    }
   ],
   "source": [
    "plt.plot([x[0] for x in enumerate(values_for_that_state)],values_for_that_state)\n",
    "plt.title('Value for a given state')\n",
    "plt.show()"
   ]
  },
  {
   "cell_type": "markdown",
   "metadata": {},
   "source": [
    "看起来不错！之前loss随着value增大的逐渐上升现象消失了。让我们继续吧！\n",
    "\n",
    "当然，看到value一直在上升，我们也要大概心里有个概念：value的理论值大概是多少？上限肯定是100；而下限可以简单地估算：$100-0.1\\times (20\\times 22)=56$，其中$20\\times 22$是最大可能的操作步数。因此，最终的value应该在二者之间才合理。"
   ]
  },
  {
   "cell_type": "code",
   "execution_count": 12,
   "metadata": {},
   "outputs": [
    {
     "name": "stderr",
     "output_type": "stream",
     "text": [
      "Iteration 50: loss 3.6074: 100%|██████████| 36/36 [00:01<00:00, 33.18it/s]\n"
     ]
    },
    {
     "name": "stdout",
     "output_type": "stream",
     "text": [
      "Value of the specific state 7.542821884155273\n"
     ]
    },
    {
     "name": "stderr",
     "output_type": "stream",
     "text": [
      "Iteration 51: loss 4.9976: 100%|██████████| 36/36 [00:01<00:00, 27.24it/s]\n",
      "Iteration 52: loss 3.1923: 100%|██████████| 36/36 [00:01<00:00, 29.82it/s]\n",
      "Iteration 53: loss 2.9819: 100%|██████████| 36/36 [00:01<00:00, 28.40it/s]\n",
      "Iteration 54: loss 2.8536: 100%|██████████| 36/36 [00:01<00:00, 30.05it/s]\n",
      "Iteration 55: loss 3.4566: 100%|██████████| 36/36 [00:01<00:00, 28.92it/s]\n"
     ]
    },
    {
     "name": "stdout",
     "output_type": "stream",
     "text": [
      "Value of the specific state 10.080211639404297\n"
     ]
    },
    {
     "name": "stderr",
     "output_type": "stream",
     "text": [
      "Iteration 56: loss 3.1856: 100%|██████████| 36/36 [00:01<00:00, 29.90it/s]\n",
      "Iteration 57: loss 3.4566: 100%|██████████| 36/36 [00:01<00:00, 29.20it/s]\n",
      "Iteration 58: loss 2.8012: 100%|██████████| 36/36 [00:01<00:00, 24.70it/s]\n",
      "Iteration 59: loss 3.1339: 100%|██████████| 36/36 [00:01<00:00, 25.45it/s]\n",
      "Iteration 60: loss 4.8317: 100%|██████████| 36/36 [00:01<00:00, 26.15it/s]\n"
     ]
    },
    {
     "name": "stdout",
     "output_type": "stream",
     "text": [
      "Value of the specific state 14.747027397155762\n"
     ]
    },
    {
     "name": "stderr",
     "output_type": "stream",
     "text": [
      "Iteration 61: loss 3.6975: 100%|██████████| 36/36 [00:01<00:00, 27.33it/s]\n",
      "Iteration 62: loss 3.8921: 100%|██████████| 36/36 [00:01<00:00, 26.90it/s]\n",
      "Iteration 63: loss 4.7970: 100%|██████████| 36/36 [00:01<00:00, 27.10it/s]\n",
      "Iteration 64: loss 5.5465: 100%|██████████| 36/36 [00:01<00:00, 25.14it/s]\n",
      "Iteration 65: loss 6.7890: 100%|██████████| 36/36 [00:01<00:00, 27.52it/s]\n"
     ]
    },
    {
     "name": "stdout",
     "output_type": "stream",
     "text": [
      "Value of the specific state 18.557485580444336\n"
     ]
    },
    {
     "name": "stderr",
     "output_type": "stream",
     "text": [
      "Iteration 66: loss 5.8203: 100%|██████████| 36/36 [00:01<00:00, 27.66it/s]\n",
      "Iteration 67: loss 7.4562: 100%|██████████| 36/36 [00:01<00:00, 27.78it/s]\n",
      "Iteration 68: loss 7.1440: 100%|██████████| 36/36 [00:01<00:00, 26.02it/s]\n",
      "Iteration 69: loss 6.3553: 100%|██████████| 36/36 [00:01<00:00, 26.69it/s]\n",
      "Iteration 70: loss 6.9507: 100%|██████████| 36/36 [00:01<00:00, 23.81it/s]\n"
     ]
    },
    {
     "name": "stdout",
     "output_type": "stream",
     "text": [
      "Value of the specific state 24.748151779174805\n"
     ]
    },
    {
     "name": "stderr",
     "output_type": "stream",
     "text": [
      "Iteration 71: loss 6.7741: 100%|██████████| 36/36 [00:01<00:00, 26.10it/s]\n",
      "Iteration 72: loss 6.3916: 100%|██████████| 36/36 [00:01<00:00, 25.65it/s]\n",
      "Iteration 73: loss 8.7974: 100%|██████████| 36/36 [00:01<00:00, 26.24it/s]\n",
      "Iteration 74: loss 7.0303: 100%|██████████| 36/36 [00:01<00:00, 27.77it/s]\n",
      "Iteration 75: loss 10.7839: 100%|██████████| 36/36 [00:01<00:00, 27.41it/s]\n"
     ]
    },
    {
     "name": "stdout",
     "output_type": "stream",
     "text": [
      "Value of the specific state 33.13731384277344\n"
     ]
    },
    {
     "name": "stderr",
     "output_type": "stream",
     "text": [
      "Iteration 76: loss 12.9645: 100%|██████████| 36/36 [00:01<00:00, 24.88it/s]\n",
      "Iteration 77: loss 18.0066: 100%|██████████| 36/36 [00:01<00:00, 26.69it/s]\n",
      "Iteration 78: loss 9.4740: 100%|██████████| 36/36 [00:01<00:00, 27.63it/s] \n",
      "Iteration 79: loss 15.8039: 100%|██████████| 36/36 [00:01<00:00, 27.32it/s]\n",
      "Iteration 80: loss 13.6706: 100%|██████████| 36/36 [00:01<00:00, 25.63it/s]\n"
     ]
    },
    {
     "name": "stdout",
     "output_type": "stream",
     "text": [
      "Value of the specific state 45.65507125854492\n"
     ]
    },
    {
     "name": "stderr",
     "output_type": "stream",
     "text": [
      "Iteration 81: loss 31.2237: 100%|██████████| 36/36 [00:01<00:00, 26.16it/s]\n",
      "Iteration 82: loss 12.6750: 100%|██████████| 36/36 [00:01<00:00, 28.66it/s]\n",
      "Iteration 83: loss 13.3711: 100%|██████████| 36/36 [00:01<00:00, 27.13it/s]\n",
      "Iteration 84: loss 12.3195: 100%|██████████| 36/36 [00:01<00:00, 26.46it/s]\n",
      "Iteration 85: loss 14.7042: 100%|██████████| 36/36 [00:01<00:00, 26.50it/s]\n"
     ]
    },
    {
     "name": "stdout",
     "output_type": "stream",
     "text": [
      "Value of the specific state 53.035179138183594\n"
     ]
    },
    {
     "name": "stderr",
     "output_type": "stream",
     "text": [
      "Iteration 86: loss 18.1406: 100%|██████████| 36/36 [00:01<00:00, 23.50it/s]\n",
      "Iteration 87: loss 13.5039: 100%|██████████| 36/36 [00:01<00:00, 23.65it/s]\n",
      "Iteration 88: loss 30.8387: 100%|██████████| 36/36 [00:01<00:00, 27.60it/s]\n",
      "Iteration 89: loss 16.8508: 100%|██████████| 36/36 [00:01<00:00, 24.55it/s]\n",
      "Iteration 90: loss 19.6893: 100%|██████████| 36/36 [00:01<00:00, 26.06it/s]\n"
     ]
    },
    {
     "name": "stdout",
     "output_type": "stream",
     "text": [
      "Value of the specific state 60.28752136230469\n"
     ]
    },
    {
     "name": "stderr",
     "output_type": "stream",
     "text": [
      "Iteration 91: loss 28.1568: 100%|██████████| 36/36 [00:01<00:00, 27.49it/s]\n",
      "Iteration 92: loss 21.6423: 100%|██████████| 36/36 [00:01<00:00, 27.58it/s]\n",
      "Iteration 93: loss 26.5686: 100%|██████████| 36/36 [00:01<00:00, 25.60it/s]\n",
      "Iteration 94: loss 26.4804: 100%|██████████| 36/36 [00:01<00:00, 25.38it/s]\n",
      "Iteration 95: loss 29.9398: 100%|██████████| 36/36 [00:01<00:00, 25.15it/s]\n"
     ]
    },
    {
     "name": "stdout",
     "output_type": "stream",
     "text": [
      "Value of the specific state 70.80062103271484\n"
     ]
    },
    {
     "name": "stderr",
     "output_type": "stream",
     "text": [
      "Iteration 96: loss 35.4577: 100%|██████████| 36/36 [00:01<00:00, 25.19it/s]\n",
      "Iteration 97: loss 42.0739: 100%|██████████| 36/36 [00:01<00:00, 26.43it/s]\n",
      "Iteration 98: loss 71.4439: 100%|██████████| 36/36 [00:01<00:00, 26.47it/s]\n",
      "Iteration 99: loss 46.8109: 100%|██████████| 36/36 [00:01<00:00, 26.68it/s]\n"
     ]
    }
   ],
   "source": [
    "for iteration in range(50,100):\n",
    "    continue_train_one(iteration)"
   ]
  },
  {
   "cell_type": "code",
   "execution_count": 15,
   "metadata": {},
   "outputs": [
    {
     "data": {
      "image/png": "[encoded data removed]",
      "text/plain": [
       "<Figure size 640x480 with 1 Axes>"
      ]
     },
     "metadata": {},
     "output_type": "display_data"
    }
   ],
   "source": [
    "plt.plot([x[0] for x in enumerate(values_for_that_state)],values_for_that_state)\n",
    "plt.title('Value for a given state')\n",
    "plt.show()"
   ]
  },
  {
   "cell_type": "markdown",
   "metadata": {},
   "source": [
    "糟了——就在最后几个iteration里，value又和loss一起起飞了。我们没有从根本上解决这个问题，但不妨先看看效果如何："
   ]
  },
  {
   "cell_type": "code",
   "execution_count": 13,
   "metadata": {},
   "outputs": [
    {
     "name": "stdout",
     "output_type": "stream",
     "text": [
      "Initial state:\n"
     ]
    },
    {
     "data": {
      "text/markdown": [
       "|█| | | | | | |█| | |\n",
       "|-|-|-|-|-|-|-|-|-|-|\n",
       "| |█| |█| | |█| | | |\n",
       "| |█|█| |█| | |█| | |\n",
       "| | |█| | | |█| | |█|\n",
       "| | | | | | | | | |█|\n",
       "| | | | | | | | | | |\n",
       "| | | | | |█|█| | | |\n",
       "| |█| | | | |█| | | |\n",
       "| | | | | | | | | | |\n",
       "| | | | |█|█| | | | |"
      ]
     },
     "metadata": {},
     "output_type": "display_data"
    },
    {
     "name": "stdout",
     "output_type": "stream",
     "text": [
      "Initial common pixels 3\n",
      "t = 1\n"
     ]
    },
    {
     "data": {
      "text/markdown": [
       "|█| | | | | | |█| | |\n",
       "|-|-|-|-|-|-|-|-|-|-|\n",
       "| |█| |█| | | | | | |\n",
       "| |█|█| |█| |█|█| | |\n",
       "| | |█| | | |█| | |█|\n",
       "| | | | | | | | | |█|\n",
       "| | | | | | | | | | |\n",
       "| | | | | |█|█| | | |\n",
       "| |█| | | | | | | | |\n",
       "| | | | | | | | | | |\n",
       "| | | | |█|█| | | | |"
      ]
     },
     "metadata": {},
     "output_type": "display_data"
    },
    {
     "name": "stdout",
     "output_type": "stream",
     "text": [
      "t = 21\n"
     ]
    },
    {
     "data": {
      "text/markdown": [
       "|█| | | | | | |█| | |\n",
       "|-|-|-|-|-|-|-|-|-|-|\n",
       "| |█| | | | | | | | |\n",
       "| |█| | |█| | |█| | |\n",
       "| | | |█| | |█| | |█|\n",
       "| | | |█|█| | | | |█|\n",
       "| | | | | | | | | | |\n",
       "| | |█| |█|█|█| | | |\n",
       "| | | |█| | | | | | |\n",
       "| | | | | | | | | | |\n",
       "| | | | |█| | | | | |"
      ]
     },
     "metadata": {},
     "output_type": "display_data"
    },
    {
     "name": "stdout",
     "output_type": "stream",
     "text": [
      "t = 41\n"
     ]
    },
    {
     "data": {
      "text/markdown": [
       "|█| | | | | | |█| | |\n",
       "|-|-|-|-|-|-|-|-|-|-|\n",
       "| |█| | | | | | | | |\n",
       "| |█| | |█| | | | | |\n",
       "| | | |█| |█|█| | | |\n",
       "| | | |█|█|█|█| | |█|\n",
       "| | | |█| |█| | | |█|\n",
       "| | | |█|█|█|█| | | |\n",
       "| | | |█| |█| | | | |\n",
       "| | | | | | | | | | |\n",
       "| | | | | | | | | | |"
      ]
     },
     "metadata": {},
     "output_type": "display_data"
    },
    {
     "name": "stdout",
     "output_type": "stream",
     "text": [
      "t = 61\n"
     ]
    },
    {
     "data": {
      "text/markdown": [
       "| |█| | | | | |█| | |\n",
       "|-|-|-|-|-|-|-|-|-|-|\n",
       "| | | | | | | | | | |\n",
       "| | | | |█| | | | | |\n",
       "| | | |█| |█|█| | | |\n",
       "| | | |█|█|█|█|█| | |\n",
       "| | | |█| |█| | | | |\n",
       "| | | |█|█|█|█|█| | |\n",
       "| | | |█| |█| | | | |\n",
       "| | | | | | | | | | |\n",
       "| | | | | | | | | | |"
      ]
     },
     "metadata": {},
     "output_type": "display_data"
    },
    {
     "name": "stdout",
     "output_type": "stream",
     "text": [
      "t = 81\n"
     ]
    },
    {
     "data": {
      "text/markdown": [
       "| |█| | | | | |█| | |\n",
       "|-|-|-|-|-|-|-|-|-|-|\n",
       "| | | | | | | | | | |\n",
       "| | | | |█| | | | | |\n",
       "| | | |█| |█|█| | | |\n",
       "| | | |█|█|█|█|█| | |\n",
       "| | | |█| |█| | | | |\n",
       "| | | |█|█|█|█|█| | |\n",
       "| | | |█| |█| | | | |\n",
       "| | | | | | | | | | |\n",
       "| | | | | | | | | | |"
      ]
     },
     "metadata": {},
     "output_type": "display_data"
    },
    {
     "name": "stdout",
     "output_type": "stream",
     "text": [
      "t = 101\n"
     ]
    },
    {
     "data": {
      "text/markdown": [
       "| |█| | | | | |█| | |\n",
       "|-|-|-|-|-|-|-|-|-|-|\n",
       "| | | | | | | | | | |\n",
       "| | | | |█| | | | | |\n",
       "| | | |█| |█|█| | | |\n",
       "| | | |█|█|█|█|█| | |\n",
       "| | | |█| |█| | | | |\n",
       "| | | |█|█|█|█|█| | |\n",
       "| | | |█| |█| | | | |\n",
       "| | | | | | | | | | |\n",
       "| | | | | | | | | | |"
      ]
     },
     "metadata": {},
     "output_type": "display_data"
    },
    {
     "name": "stdout",
     "output_type": "stream",
     "text": [
      "t = 121\n"
     ]
    },
    {
     "data": {
      "text/markdown": [
       "| |█| | | | | |█| | |\n",
       "|-|-|-|-|-|-|-|-|-|-|\n",
       "| | | | | | | | | | |\n",
       "| | | | |█| | | | | |\n",
       "| | | |█| |█|█| | | |\n",
       "| | | |█|█|█|█|█| | |\n",
       "| | | |█| |█| | | | |\n",
       "| | | |█|█|█|█|█| | |\n",
       "| | | |█| |█| | | | |\n",
       "| | | | | | | | | | |\n",
       "| | | | | | | | | | |"
      ]
     },
     "metadata": {},
     "output_type": "display_data"
    },
    {
     "name": "stdout",
     "output_type": "stream",
     "text": [
      "t = 141\n"
     ]
    },
    {
     "data": {
      "text/markdown": [
       "| |█| | | | | |█| | |\n",
       "|-|-|-|-|-|-|-|-|-|-|\n",
       "| | | | | | | | | | |\n",
       "| | | | |█| | | | | |\n",
       "| | | |█| |█|█| | | |\n",
       "| | | |█|█|█|█|█| | |\n",
       "| | | |█| |█| | | | |\n",
       "| | | |█|█|█|█|█| | |\n",
       "| | | |█| |█| | | | |\n",
       "| | | | | | | | | | |\n",
       "| | | | | | | | | | |"
      ]
     },
     "metadata": {},
     "output_type": "display_data"
    },
    {
     "name": "stdout",
     "output_type": "stream",
     "text": [
      "t = 161\n"
     ]
    },
    {
     "data": {
      "text/markdown": [
       "| |█| | | | | |█| | |\n",
       "|-|-|-|-|-|-|-|-|-|-|\n",
       "| | | | | | | | | | |\n",
       "| | | | |█| | | | | |\n",
       "| | | |█| |█|█| | | |\n",
       "| | | |█|█|█|█|█| | |\n",
       "| | | |█| |█| | | | |\n",
       "| | | |█|█|█|█|█| | |\n",
       "| | | |█| |█| | | | |\n",
       "| | | | | | | | | | |\n",
       "| | | | | | | | | | |"
      ]
     },
     "metadata": {},
     "output_type": "display_data"
    },
    {
     "name": "stdout",
     "output_type": "stream",
     "text": [
      "t = 181\n"
     ]
    },
    {
     "data": {
      "text/markdown": [
       "| |█| | | | | |█| | |\n",
       "|-|-|-|-|-|-|-|-|-|-|\n",
       "| | | | | | | | | | |\n",
       "| | | | |█| | | | | |\n",
       "| | | |█| |█|█| | | |\n",
       "| | | |█|█|█|█|█| | |\n",
       "| | | |█| |█| | | | |\n",
       "| | | |█|█|█|█|█| | |\n",
       "| | | |█| |█| | | | |\n",
       "| | | | | | | | | | |\n",
       "| | | | | | | | | | |"
      ]
     },
     "metadata": {},
     "output_type": "display_data"
    },
    {
     "name": "stdout",
     "output_type": "stream",
     "text": [
      "Cumulative reward -7.17\n",
      "Succeeded? False\n",
      "Final common pixels: 16\n"
     ]
    }
   ],
   "source": [
    "last_state = demonstrate_policy(net)"
   ]
  },
  {
   "cell_type": "markdown",
   "metadata": {},
   "source": [
    "模型的确取得了很大的进步，但还没有排“兵”布阵的能力。但接下来，我们该何去何从呢？\n",
    "\n",
    "我们可以先以上面的最后一张图片为例子，看看为什么这个过程进行不下去了？"
   ]
  },
  {
   "cell_type": "code",
   "execution_count": 14,
   "metadata": {},
   "outputs": [
    {
     "name": "stdout",
     "output_type": "stream",
     "text": [
      "[((0, 1, 1), 236.60252380371094), ((0, 7, 1), 236.60252380371094), ((0, 1, 3), 236.34033203125), ((0, 1, 2), 235.5745391845703), ((0, 1, 0), 235.56044006347656)]\n"
     ]
    }
   ],
   "source": [
    "actions = pgame.get_actions(last_state)\n",
    "lst = []\n",
    "for a in actions:\n",
    "    lst.append((a,net(pgame.as_tensor(pgame.get_transition(last_state,a)).unsqueeze(0).to(device)).item()))\n",
    "print(sorted(lst,reverse=True,key=lambda x: x[1])[:5])"
   ]
  },
  {
   "cell_type": "markdown",
   "metadata": {},
   "source": [
    "我们发现，排名前几名的action，其对应的value都很接近！在这样的情况下，模型自身近似造成的误差就已经远大于不同action之间的“区分度”，而在这里模型恰好选择了一个不做任何操作的action，这样他就被“卡住”了。\n",
    "\n",
    "同时，我们看到Value的数值又是超过了100！的确，神经网络的本质让这没有任何办法——神经网络的输出是十分“凹凸不平”的，就算整体上Value小于100,也肯定有一些奇怪的地方Value非常巨大。在这些地方Value网络的准确度更是完全没法保证。"
   ]
  },
  {
   "cell_type": "markdown",
   "metadata": {},
   "source": [
    "为了解决这一问题，我们其实可以从根本上反思Value Iteration这一方法：还记得之前我们如何引入Value这一概念的吗？当时我们假设自己处于最优策略，并据此给出每一个点处的“价值”，满足一个递推关系。然后，我们设法求解这个递推关系得到一个Value的近似值。最后，我们再做policy extraction。在这一过程中，Value毕竟只是一个媒介。我们自然地想到：我们是否可以**不经过Value这一层，直接优化policy**呢？\n",
    "\n",
    "从直觉上，这样非常好——因为policy直接就是我们想要的东西，就没有必要比较不同的Value，神经网络的拟合误差也就不会被放大。这就是Policy-based method的本质性优点，下面我们就来探讨它们。"
   ]
  },
  {
   "cell_type": "markdown",
   "metadata": {},
   "source": [
    "### Policy-based Methods\n",
    "\n",
    "如何直接优化policy呢？我们从定义出发：\n",
    "\n",
    "$$\n",
    "J(s)=\\mathbb{E}_{a\\sim \\pi(a|s)}\\left[r(s,a)+\\mathbb{E}_{s'\\sim p(s'|s,a)}\\left[\\mathbb{E}_{a'\\sim \\pi(a'|s')}[r(s',a')+\\cdots]\\right]\\right]\n",
    "$$\n",
    "\n",
    "为了记号方便，我们记$\\tau$为**轨迹**(trajectory)，也就是$s,a,s',a',\\cdots$不断下去。我们可以用$\\tau$的概率分布代替：\n",
    "\n",
    "$$\n",
    "p(\\tau|s)=\\pi(a|s)p(s'|s,a)\\pi(a'|s')\\cdots\n",
    "$$\n",
    "\n",
    "$$\n",
    "J(s)=\\mathbb{E}_{\\tau\\sim p(\\tau|s)}\\left[\\sum_{t=0}^{T}r(s_t,a_t)\\right]\n",
    "$$\n",
    "\n",
    "其中，记号$s_0,a_0,s_1,a_1,\\cdots$定义为和$s,a,s',a',\\cdots$一一对应（也就是$s_0:=s,a_0:=a$，依次类推）。$T$是horizon，也就是在这么多步后立刻结束；这个变量通常在实验中设置，以避免运行周期过长或者总reward发散。这样，这个MDP问题就变成了**找到一个函数$\\pi(a|s)$，使得目标函数$J$最大化**。（$J$可以理解为$J(s)$对$s$的平均）这样一个函数优化问题。"
   ]
  },
  {
   "cell_type": "markdown",
   "metadata": {},
   "source": [
    "#### Policy Gradients\n",
    "\n",
    "诚然，可以把$\\pi$像之前一开始尝试Value Iteration的时候那样写为表格(tabular)形式；但我们还是更希望讨论一般的情况，这时我们应该使用神经网络来表达$\\pi$：$\\pi_\\theta$。一个想法是，我们能否 **直接对 $J$ 求$\\theta$的梯度**？假设$\\pi$由参数$\\theta$决定，那么：\n",
    "\n",
    "$$\n",
    "\\nabla_\\theta J(\\theta)=\\nabla_\\theta \\sum_{\\tau}p(\\tau)\\left(\\sum_{t=0}^{T}r(s_t,a_t)\\right)\n",
    "$$\n",
    "\n",
    "很明显，只有$p(\\tau|s)$里面含有对$\\theta$的梯度。因为对乘积求导数，所以自然采用对数求导：\n",
    "\n",
    "$$\n",
    "\\begin{align*}\n",
    "\\nabla_\\theta J(\\theta)&=\\sum_{\\tau}p(\\tau)\\left(\\sum_{t=0}^T \\nabla_\\theta\\log \\pi_\\theta(a_t|s_t)\\right)\\left(\\sum_{t=0}^{T}r(s_t,a_t)\\right)\\\\\n",
    "&=\\mathbb{E}_{\\tau\\sim p(\\tau)}\\left[\\left(\\sum_{t=0}^T \\nabla_\\theta\\log \\pi_\\theta(a_t|s_t)\\right)\\left(\\sum_{t=0}^{T}r(s_t,a_t)\\right)\\right]\n",
    "\\end{align*}\n",
    "$$\n",
    "\n",
    "注意到最后又写成了期待值的形式——这意味着可以使用采样的方法估计。为何一定要采样？因为如果严格计算，那么计算量随着时间指数级别地增长，完全无法控制。"
   ]
  },
  {
   "cell_type": "markdown",
   "metadata": {},
   "source": [
    "这就是著名的**Policy Gradients**方法。你可能会惊叹：这一表达式竟然如此简单，我们只需要采样并梯度下降就可以完成MDP问题的求解了！的确如此，但在实现的地方需要小心：这里的采样$p(\\tau)$也和policy $\\pi$有关。因此，每做一次gradient step，就要重新做一次采样。这样，我们就给出了算法：\n",
    "\n",
    "> (Vanilla) **Policy Gradient Algorithm**\n",
    ">\n",
    "> 不断重复：\n",
    "> 1. 采集若干trajectory $\\tau\\sim p(\\tau)$\n",
    "> 2. 计算梯度并作gradient step。\n",
    "\n",
    "我们很容易就可以实现这一方法。就让我们在Pixel Game上一雪前耻吧！"
   ]
  },
  {
   "cell_type": "code",
   "execution_count": 8,
   "metadata": {},
   "outputs": [],
   "source": [
    "from utils import device\n",
    "import torch\n",
    "import torch.nn as nn\n",
    "import torch.nn.functional as F\n",
    "from torch.utils.data import DataLoader\n",
    "from tqdm import tqdm\n",
    "from utils_0_intro import PixelGame\n",
    "pgame = PixelGame()"
   ]
  },
  {
   "cell_type": "markdown",
   "metadata": {},
   "source": [
    "当然，还有一些必须注意的细节。首先是为了利用optimizer，我们不应该直接计算梯度，而是搞一个**fake loss**来backward，这个loss就可以选取为\n",
    "\n",
    "$$\n",
    "J_{\\text{fake}}=\\mathbb{E}_{\\tau\\sim p(\\tau)}\\left[\\left(\\sum_{t=0}^T\\log \\pi_\\theta(a_t|s_t)\\right)\\left(\\sum_{t=0}^{T}r(s_t,a_t)\\right)\\right]\n",
    "$$\n",
    "\n",
    "此外，为了计算方便，我们让模型输出对400个完整action的logit，最后再通过`action_mask`选取出有意义的action。"
   ]
  },
  {
   "cell_type": "code",
   "execution_count": 9,
   "metadata": {},
   "outputs": [],
   "source": [
    "class PolicyGrad(nn.Module):\n",
    "\n",
    "    def __init__(self):\n",
    "        super().__init__()\n",
    "        self.conv1 = nn.Conv2d(in_channels=1,out_channels=64,kernel_size=3,padding=1)\n",
    "        self.conv2 = nn.Conv2d(in_channels=64,out_channels=8,kernel_size=3,padding=1)\n",
    "        self.rev1 = nn.ConvTranspose2d(in_channels=8,out_channels=64,kernel_size=3,padding=1)\n",
    "        self.rev2 = nn.ConvTranspose2d(in_channels=64,out_channels=32,kernel_size=3,padding=1)\n",
    "        self.mlp = nn.Conv2d(in_channels=32,out_channels=4,kernel_size=1)\n",
    "\n",
    "    def forward(self,x):\n",
    "        f1 = F.relu(self.conv1(x))\n",
    "        f2 = F.relu(self.conv2(f1))\n",
    "        rev1 = F.relu(self.rev1(f2)) + f1\n",
    "        rev2 = F.relu(self.rev2(rev1)) + x\n",
    "        return self.mlp(rev2).reshape(x.shape[0],-1) # logits\n",
    "    \n",
    "    def get_action(self,x,action_mask):\n",
    "        logits = self(x)\n",
    "        return torch.distributions.Categorical(logits=logits + action_mask).sample()\n",
    "    \n",
    "    def get_prob(self,x,a,action_mask):\n",
    "        # notice that both a and x is batched, and a has shape [batch]\n",
    "        logits = self(x)\n",
    "        probs = torch.softmax(logits + action_mask,dim=-1)\n",
    "        return probs[torch.arange(a.shape[0]),a]"
   ]
  },
  {
   "cell_type": "code",
   "execution_count": 10,
   "metadata": {},
   "outputs": [],
   "source": [
    "def act2ind(a):\n",
    "    x,y,d = a\n",
    "    return 4*(10*x+y)+d\n",
    "\n",
    "def ind2act(ind):\n",
    "    d = ind % 4; rem = ind // 4\n",
    "    return rem//10, rem%10, d\n",
    "\n",
    "def build_action_mask(actions):\n",
    "    msk = torch.empty(400)\n",
    "    msk.fill_(-1e6)\n",
    "    msk[[act2ind(a) for a in actions]] = 0\n",
    "    return msk.to(device)\n",
    "\n",
    "def collect_rollout(agent:PolicyGrad,horizon=50):\n",
    "    state = pgame.reset(randomly=True)\n",
    "    states = [];actions = [];rewards = [];truncates = [];action_masks = []\n",
    "    for t in range(horizon):\n",
    "        tensor_state = pgame.as_tensor(state)\n",
    "        possible_actions = pgame.get_actions(state)\n",
    "        action_mask = build_action_mask(possible_actions)\n",
    "        action = agent.get_action(tensor_state.to(device),action_mask=action_mask)\n",
    "\n",
    "        states.append(tensor_state)\n",
    "        action_masks.append(action_mask)\n",
    "        actions.append(action)\n",
    "        rewards.append(pgame.get_reward(state))\n",
    "        truncates.append(False)\n",
    "\n",
    "        state = pgame.get_transition(state,ind2act(action.cpu().item()))\n",
    "        if state is None: # win before horizon\n",
    "            need_add = horizon - len(states)\n",
    "            states += [torch.zeros_like(states[0])] * need_add\n",
    "            actions += [0] * need_add\n",
    "            rewards += [0] * need_add\n",
    "            truncates += [True] * need_add\n",
    "            action_masks += [torch.zeros_like(action_masks[0])] * need_add\n",
    "    return states,actions,rewards,truncates,action_masks\n",
    "\n",
    "def get_dataloader(agent:PolicyGrad,num_rollouts=1000):\n",
    "    def collate(datas):\n",
    "        out_states = [];out_acts = [];out_rews = [];out_truncated = [];out_action_masks = []\n",
    "        for data in datas:\n",
    "            states,actions,rewards,truncated,action_masks = data\n",
    "            out_states.append(torch.stack(states)) # item: [T,1,10,10]\n",
    "            out_acts.append(torch.stack(actions).int()) # item: [T,1]\n",
    "            out_rews.append(sum(rewards)) # item: float\n",
    "            out_truncated.append(torch.tensor(truncated,dtype=torch.float)) # item: [T]\n",
    "            out_action_masks.append(torch.stack(action_masks)) # item: [T, 400]\n",
    "        return {\n",
    "            'states': torch.stack(out_states), # [batch,T,1,10,10]\n",
    "            'actions':torch.stack(out_acts), # [batch,T,1]\n",
    "            'rewards':torch.tensor(out_rews), # [batch]\n",
    "            'truncated':torch.stack(out_truncated), # [batch,T]\n",
    "            'actmask': torch.stack(out_action_masks) # [batch,T,400]\n",
    "        }\n",
    "    dataset = []\n",
    "    with tqdm(range(num_rollouts),desc='Sampling Trajectories') as bar:\n",
    "        for _ in bar:\n",
    "            dataset.append(collect_rollout(agent))\n",
    "    return DataLoader(dataset=dataset,batch_size=32,collate_fn=collate)"
   ]
  },
  {
   "cell_type": "markdown",
   "metadata": {},
   "source": [
    "开始训练！注意，没有GPU的话sample trajectory可能会很慢。"
   ]
  },
  {
   "cell_type": "code",
   "execution_count": 12,
   "metadata": {},
   "outputs": [
    {
     "name": "stderr",
     "output_type": "stream",
     "text": [
      "Sampling Trajectories: 100%|██████████| 1000/1000 [00:56<00:00, 17.68it/s]\n",
      "Iteration 0: loss nan, avg cum-reward: -4.0523: 100%|██████████| 32/32 [00:07<00:00,  4.51it/s]       \n"
     ]
    },
    {
     "data": {
      "image/png": "[encoded data removed]",
      "text/plain": [
       "<Figure size 640x480 with 1 Axes>"
      ]
     },
     "metadata": {},
     "output_type": "display_data"
    },
    {
     "name": "stderr",
     "output_type": "stream",
     "text": [
      "Sampling Trajectories:   0%|          | 0/1000 [00:00<?, ?it/s]\n"
     ]
    },
    {
     "ename": "ValueError",
     "evalue": "Expected parameter logits (Tensor of shape (1, 400)) of distribution Categorical(logits: torch.Size([1, 400])) to satisfy the constraint IndependentConstraint(Real(), 1), but found invalid values:\ntensor([[nan, nan, nan, nan, nan, nan, nan, nan, nan, nan, nan, nan, nan, nan, nan, nan, nan, nan, nan, nan, nan, nan, nan, nan,\n         nan, nan, nan, nan, nan, nan, nan, nan, nan, nan, nan, nan, nan, nan, nan, nan, nan, nan, nan, nan, nan, nan, nan, nan,\n         nan, nan, nan, nan, nan, nan, nan, nan, nan, nan, nan, nan, nan, nan, nan, nan, nan, nan, nan, nan, nan, nan, nan, nan,\n         nan, nan, nan, nan, nan, nan, nan, nan, nan, nan, nan, nan, nan, nan, nan, nan, nan, nan, nan, nan, nan, nan, nan, nan,\n         nan, nan, nan, nan, nan, nan, nan, nan, nan, nan, nan, nan, nan, nan, nan, nan, nan, nan, nan, nan, nan, nan, nan, nan,\n         nan, nan, nan, nan, nan, nan, nan, nan, nan, nan, nan, nan, nan, nan, nan, nan, nan, nan, nan, nan, nan, nan, nan, nan,\n         nan, nan, nan, nan, nan, nan, nan, nan, nan, nan, nan, nan, nan, nan, nan, nan, nan, nan, nan, nan, nan, nan, nan, nan,\n         nan, nan, nan, nan, nan, nan, nan, nan, nan, nan, nan, nan, nan, nan, nan, nan, nan, nan, nan, nan, nan, nan, nan, nan,\n         nan, nan, nan, nan, nan, nan, nan, nan, nan, nan, nan, nan, nan, nan, nan, nan, nan, nan, nan, nan, nan, nan, nan, nan,\n         nan, nan, nan, nan, nan, nan, nan, nan, nan, nan, nan, nan, nan, nan, nan, nan, nan, nan, nan, nan, nan, nan, nan, nan,\n         nan, nan, nan, nan, nan, nan, nan, nan, nan, nan, nan, nan, nan, nan, nan, nan, nan, nan, nan, nan, nan, nan, nan, nan,\n         nan, nan, nan, nan, nan, nan, nan, nan, nan, nan, nan, nan, nan, nan, nan, nan, nan, nan, nan, nan, nan, nan, nan, nan,\n         nan, nan, nan, nan, nan, nan, nan, nan, nan, nan, nan, nan, nan, nan, nan, nan, nan, nan, nan, nan, nan, nan, nan, nan,\n         nan, nan, nan, nan, nan, nan, nan, nan, nan, nan, nan, nan, nan, nan, nan, nan, nan, nan, nan, nan, nan, nan, nan, nan,\n         nan, nan, nan, nan, nan, nan, nan, nan, nan, nan, nan, nan, nan, nan, nan, nan, nan, nan, nan, nan, nan, nan, nan, nan,\n         nan, nan, nan, nan, nan, nan, nan, nan, nan, nan, nan, nan, nan, nan, nan, nan, nan, nan, nan, nan, nan, nan, nan, nan,\n         nan, nan, nan, nan, nan, nan, nan, nan, nan, nan, nan, nan, nan, nan, nan, nan]],\n       grad_fn=<SubBackward0>)",
     "output_type": "error",
     "traceback": [
      "\u001b[0;31m---------------------------------------------------------------------------\u001b[0m",
      "\u001b[0;31mValueError\u001b[0m                                Traceback (most recent call last)",
      "Cell \u001b[0;32mIn[12], line 4\u001b[0m\n\u001b[1;32m      2\u001b[0m optimizer \u001b[38;5;241m=\u001b[39m torch\u001b[38;5;241m.\u001b[39moptim\u001b[38;5;241m.\u001b[39mAdam(agent\u001b[38;5;241m.\u001b[39mparameters(),lr\u001b[38;5;241m=\u001b[39m\u001b[38;5;241m1e-3\u001b[39m)\n\u001b[1;32m      3\u001b[0m \u001b[38;5;28;01mfor\u001b[39;00m iteration \u001b[38;5;129;01min\u001b[39;00m \u001b[38;5;28mrange\u001b[39m(\u001b[38;5;241m20\u001b[39m):\n\u001b[0;32m----> 4\u001b[0m     dataloader \u001b[38;5;241m=\u001b[39m \u001b[43mget_dataloader\u001b[49m\u001b[43m(\u001b[49m\u001b[43magent\u001b[49m\u001b[43m)\u001b[49m\n\u001b[1;32m      5\u001b[0m     \u001b[38;5;28;01mwith\u001b[39;00m tqdm(dataloader) \u001b[38;5;28;01mas\u001b[39;00m bar:\n\u001b[1;32m      6\u001b[0m         losses \u001b[38;5;241m=\u001b[39m []\n",
      "Cell \u001b[0;32mIn[10], line 60\u001b[0m, in \u001b[0;36mget_dataloader\u001b[0;34m(agent, num_rollouts)\u001b[0m\n\u001b[1;32m     58\u001b[0m \u001b[38;5;28;01mwith\u001b[39;00m tqdm(\u001b[38;5;28mrange\u001b[39m(num_rollouts),desc\u001b[38;5;241m=\u001b[39m\u001b[38;5;124m'\u001b[39m\u001b[38;5;124mSampling Trajectories\u001b[39m\u001b[38;5;124m'\u001b[39m) \u001b[38;5;28;01mas\u001b[39;00m bar:\n\u001b[1;32m     59\u001b[0m     \u001b[38;5;28;01mfor\u001b[39;00m _ \u001b[38;5;129;01min\u001b[39;00m bar:\n\u001b[0;32m---> 60\u001b[0m         dataset\u001b[38;5;241m.\u001b[39mappend(\u001b[43mcollect_rollout\u001b[49m\u001b[43m(\u001b[49m\u001b[43magent\u001b[49m\u001b[43m)\u001b[49m)\n\u001b[1;32m     61\u001b[0m \u001b[38;5;28;01mreturn\u001b[39;00m DataLoader(dataset\u001b[38;5;241m=\u001b[39mdataset,batch_size\u001b[38;5;241m=\u001b[39m\u001b[38;5;241m32\u001b[39m,collate_fn\u001b[38;5;241m=\u001b[39mcollate)\n",
      "Cell \u001b[0;32mIn[10], line 22\u001b[0m, in \u001b[0;36mcollect_rollout\u001b[0;34m(agent, horizon)\u001b[0m\n\u001b[1;32m     20\u001b[0m possible_actions \u001b[38;5;241m=\u001b[39m pgame\u001b[38;5;241m.\u001b[39mget_actions(state)\n\u001b[1;32m     21\u001b[0m action_mask \u001b[38;5;241m=\u001b[39m build_action_mask(possible_actions)\n\u001b[0;32m---> 22\u001b[0m action \u001b[38;5;241m=\u001b[39m \u001b[43magent\u001b[49m\u001b[38;5;241;43m.\u001b[39;49m\u001b[43mget_action\u001b[49m\u001b[43m(\u001b[49m\u001b[43mtensor_state\u001b[49m\u001b[38;5;241;43m.\u001b[39;49m\u001b[43mto\u001b[49m\u001b[43m(\u001b[49m\u001b[43mdevice\u001b[49m\u001b[43m)\u001b[49m\u001b[43m,\u001b[49m\u001b[43maction_mask\u001b[49m\u001b[38;5;241;43m=\u001b[39;49m\u001b[43maction_mask\u001b[49m\u001b[43m)\u001b[49m\n\u001b[1;32m     24\u001b[0m states\u001b[38;5;241m.\u001b[39mappend(tensor_state)\n\u001b[1;32m     25\u001b[0m action_masks\u001b[38;5;241m.\u001b[39mappend(action_mask)\n",
      "Cell \u001b[0;32mIn[9], line 20\u001b[0m, in \u001b[0;36mPolicyGrad.get_action\u001b[0;34m(self, x, action_mask)\u001b[0m\n\u001b[1;32m     18\u001b[0m \u001b[38;5;28;01mdef\u001b[39;00m \u001b[38;5;21mget_action\u001b[39m(\u001b[38;5;28mself\u001b[39m,x,action_mask):\n\u001b[1;32m     19\u001b[0m     logits \u001b[38;5;241m=\u001b[39m \u001b[38;5;28mself\u001b[39m(x)\n\u001b[0;32m---> 20\u001b[0m     \u001b[38;5;28;01mreturn\u001b[39;00m \u001b[43mtorch\u001b[49m\u001b[38;5;241;43m.\u001b[39;49m\u001b[43mdistributions\u001b[49m\u001b[38;5;241;43m.\u001b[39;49m\u001b[43mCategorical\u001b[49m\u001b[43m(\u001b[49m\u001b[43mlogits\u001b[49m\u001b[38;5;241;43m=\u001b[39;49m\u001b[43mlogits\u001b[49m\u001b[43m \u001b[49m\u001b[38;5;241;43m+\u001b[39;49m\u001b[43m \u001b[49m\u001b[43maction_mask\u001b[49m\u001b[43m)\u001b[49m\u001b[38;5;241m.\u001b[39msample()\n",
      "File \u001b[0;32m~/anaconda3/envs/DYY/lib/python3.10/site-packages/torch/distributions/categorical.py:71\u001b[0m, in \u001b[0;36mCategorical.__init__\u001b[0;34m(self, probs, logits, validate_args)\u001b[0m\n\u001b[1;32m     67\u001b[0m \u001b[38;5;28mself\u001b[39m\u001b[38;5;241m.\u001b[39m_num_events \u001b[38;5;241m=\u001b[39m \u001b[38;5;28mself\u001b[39m\u001b[38;5;241m.\u001b[39m_param\u001b[38;5;241m.\u001b[39msize()[\u001b[38;5;241m-\u001b[39m\u001b[38;5;241m1\u001b[39m]\n\u001b[1;32m     68\u001b[0m batch_shape \u001b[38;5;241m=\u001b[39m (\n\u001b[1;32m     69\u001b[0m     \u001b[38;5;28mself\u001b[39m\u001b[38;5;241m.\u001b[39m_param\u001b[38;5;241m.\u001b[39msize()[:\u001b[38;5;241m-\u001b[39m\u001b[38;5;241m1\u001b[39m] \u001b[38;5;28;01mif\u001b[39;00m \u001b[38;5;28mself\u001b[39m\u001b[38;5;241m.\u001b[39m_param\u001b[38;5;241m.\u001b[39mndimension() \u001b[38;5;241m>\u001b[39m \u001b[38;5;241m1\u001b[39m \u001b[38;5;28;01melse\u001b[39;00m torch\u001b[38;5;241m.\u001b[39mSize()\n\u001b[1;32m     70\u001b[0m )\n\u001b[0;32m---> 71\u001b[0m \u001b[38;5;28;43msuper\u001b[39;49m\u001b[43m(\u001b[49m\u001b[43m)\u001b[49m\u001b[38;5;241;43m.\u001b[39;49m\u001b[38;5;21;43m__init__\u001b[39;49m\u001b[43m(\u001b[49m\u001b[43mbatch_shape\u001b[49m\u001b[43m,\u001b[49m\u001b[43m \u001b[49m\u001b[43mvalidate_args\u001b[49m\u001b[38;5;241;43m=\u001b[39;49m\u001b[43mvalidate_args\u001b[49m\u001b[43m)\u001b[49m\n",
      "File \u001b[0;32m~/anaconda3/envs/DYY/lib/python3.10/site-packages/torch/distributions/distribution.py:70\u001b[0m, in \u001b[0;36mDistribution.__init__\u001b[0;34m(self, batch_shape, event_shape, validate_args)\u001b[0m\n\u001b[1;32m     68\u001b[0m         valid \u001b[38;5;241m=\u001b[39m constraint\u001b[38;5;241m.\u001b[39mcheck(value)\n\u001b[1;32m     69\u001b[0m         \u001b[38;5;28;01mif\u001b[39;00m \u001b[38;5;129;01mnot\u001b[39;00m valid\u001b[38;5;241m.\u001b[39mall():\n\u001b[0;32m---> 70\u001b[0m             \u001b[38;5;28;01mraise\u001b[39;00m \u001b[38;5;167;01mValueError\u001b[39;00m(\n\u001b[1;32m     71\u001b[0m                 \u001b[38;5;124mf\u001b[39m\u001b[38;5;124m\"\u001b[39m\u001b[38;5;124mExpected parameter \u001b[39m\u001b[38;5;132;01m{\u001b[39;00mparam\u001b[38;5;132;01m}\u001b[39;00m\u001b[38;5;124m \u001b[39m\u001b[38;5;124m\"\u001b[39m\n\u001b[1;32m     72\u001b[0m                 \u001b[38;5;124mf\u001b[39m\u001b[38;5;124m\"\u001b[39m\u001b[38;5;124m(\u001b[39m\u001b[38;5;132;01m{\u001b[39;00m\u001b[38;5;28mtype\u001b[39m(value)\u001b[38;5;241m.\u001b[39m\u001b[38;5;18m__name__\u001b[39m\u001b[38;5;132;01m}\u001b[39;00m\u001b[38;5;124m of shape \u001b[39m\u001b[38;5;132;01m{\u001b[39;00m\u001b[38;5;28mtuple\u001b[39m(value\u001b[38;5;241m.\u001b[39mshape)\u001b[38;5;132;01m}\u001b[39;00m\u001b[38;5;124m) \u001b[39m\u001b[38;5;124m\"\u001b[39m\n\u001b[1;32m     73\u001b[0m                 \u001b[38;5;124mf\u001b[39m\u001b[38;5;124m\"\u001b[39m\u001b[38;5;124mof distribution \u001b[39m\u001b[38;5;132;01m{\u001b[39;00m\u001b[38;5;28mrepr\u001b[39m(\u001b[38;5;28mself\u001b[39m)\u001b[38;5;132;01m}\u001b[39;00m\u001b[38;5;124m \u001b[39m\u001b[38;5;124m\"\u001b[39m\n\u001b[1;32m     74\u001b[0m                 \u001b[38;5;124mf\u001b[39m\u001b[38;5;124m\"\u001b[39m\u001b[38;5;124mto satisfy the constraint \u001b[39m\u001b[38;5;132;01m{\u001b[39;00m\u001b[38;5;28mrepr\u001b[39m(constraint)\u001b[38;5;132;01m}\u001b[39;00m\u001b[38;5;124m, \u001b[39m\u001b[38;5;124m\"\u001b[39m\n\u001b[1;32m     75\u001b[0m                 \u001b[38;5;124mf\u001b[39m\u001b[38;5;124m\"\u001b[39m\u001b[38;5;124mbut found invalid values:\u001b[39m\u001b[38;5;130;01m\\n\u001b[39;00m\u001b[38;5;132;01m{\u001b[39;00mvalue\u001b[38;5;132;01m}\u001b[39;00m\u001b[38;5;124m\"\u001b[39m\n\u001b[1;32m     76\u001b[0m             )\n\u001b[1;32m     77\u001b[0m \u001b[38;5;28msuper\u001b[39m()\u001b[38;5;241m.\u001b[39m\u001b[38;5;21m__init__\u001b[39m()\n",
      "\u001b[0;31mValueError\u001b[0m: Expected parameter logits (Tensor of shape (1, 400)) of distribution Categorical(logits: torch.Size([1, 400])) to satisfy the constraint IndependentConstraint(Real(), 1), but found invalid values:\ntensor([[nan, nan, nan, nan, nan, nan, nan, nan, nan, nan, nan, nan, nan, nan, nan, nan, nan, nan, nan, nan, nan, nan, nan, nan,\n         nan, nan, nan, nan, nan, nan, nan, nan, nan, nan, nan, nan, nan, nan, nan, nan, nan, nan, nan, nan, nan, nan, nan, nan,\n         nan, nan, nan, nan, nan, nan, nan, nan, nan, nan, nan, nan, nan, nan, nan, nan, nan, nan, nan, nan, nan, nan, nan, nan,\n         nan, nan, nan, nan, nan, nan, nan, nan, nan, nan, nan, nan, nan, nan, nan, nan, nan, nan, nan, nan, nan, nan, nan, nan,\n         nan, nan, nan, nan, nan, nan, nan, nan, nan, nan, nan, nan, nan, nan, nan, nan, nan, nan, nan, nan, nan, nan, nan, nan,\n         nan, nan, nan, nan, nan, nan, nan, nan, nan, nan, nan, nan, nan, nan, nan, nan, nan, nan, nan, nan, nan, nan, nan, nan,\n         nan, nan, nan, nan, nan, nan, nan, nan, nan, nan, nan, nan, nan, nan, nan, nan, nan, nan, nan, nan, nan, nan, nan, nan,\n         nan, nan, nan, nan, nan, nan, nan, nan, nan, nan, nan, nan, nan, nan, nan, nan, nan, nan, nan, nan, nan, nan, nan, nan,\n         nan, nan, nan, nan, nan, nan, nan, nan, nan, nan, nan, nan, nan, nan, nan, nan, nan, nan, nan, nan, nan, nan, nan, nan,\n         nan, nan, nan, nan, nan, nan, nan, nan, nan, nan, nan, nan, nan, nan, nan, nan, nan, nan, nan, nan, nan, nan, nan, nan,\n         nan, nan, nan, nan, nan, nan, nan, nan, nan, nan, nan, nan, nan, nan, nan, nan, nan, nan, nan, nan, nan, nan, nan, nan,\n         nan, nan, nan, nan, nan, nan, nan, nan, nan, nan, nan, nan, nan, nan, nan, nan, nan, nan, nan, nan, nan, nan, nan, nan,\n         nan, nan, nan, nan, nan, nan, nan, nan, nan, nan, nan, nan, nan, nan, nan, nan, nan, nan, nan, nan, nan, nan, nan, nan,\n         nan, nan, nan, nan, nan, nan, nan, nan, nan, nan, nan, nan, nan, nan, nan, nan, nan, nan, nan, nan, nan, nan, nan, nan,\n         nan, nan, nan, nan, nan, nan, nan, nan, nan, nan, nan, nan, nan, nan, nan, nan, nan, nan, nan, nan, nan, nan, nan, nan,\n         nan, nan, nan, nan, nan, nan, nan, nan, nan, nan, nan, nan, nan, nan, nan, nan, nan, nan, nan, nan, nan, nan, nan, nan,\n         nan, nan, nan, nan, nan, nan, nan, nan, nan, nan, nan, nan, nan, nan, nan, nan]],\n       grad_fn=<SubBackward0>)"
     ]
    }
   ],
   "source": [
    "agent = PolicyGrad().to(device)\n",
    "optimizer = torch.optim.Adam(agent.parameters(),lr=1e-3)\n",
    "for iteration in range(20):\n",
    "    dataloader = get_dataloader(agent)\n",
    "    with tqdm(dataloader) as bar:\n",
    "        losses = []\n",
    "        tot_cum_reward = 0\n",
    "        tot_cnt = 0\n",
    "        for item in bar:\n",
    "            states = item['states'].to(device);actions = item['actions'].to(device);rewards = item['rewards'].to(device);truncated = item['truncated'].to(device);act_masks = item['actmask'].to(device)\n",
    "            tot_cnt += rewards.shape[0]\n",
    "            tot_cum_reward += rewards.sum(dim=0)\n",
    "            probs = agent.get_prob(states.reshape(-1,1,10,10) , actions.reshape(-1),action_mask=act_masks.reshape(-1,400)).reshape(states.shape[0],-1) # [batch,T]\n",
    "            j = (probs.log() * (1-truncated)).sum(dim=-1) * (rewards)\n",
    "            optimizer.zero_grad()\n",
    "            loss = -j.mean(dim=0)\n",
    "            loss.backward()\n",
    "            optimizer.step()\n",
    "            losses.append(loss.detach().cpu().item())\n",
    "            bar.set_description(f'Iteration {iteration}: loss {sum(losses)/len(losses):.4f}, avg cum-reward: {tot_cum_reward/tot_cnt:.4f}')\n",
    "        plt.plot(list(range(len(losses))),losses)\n",
    "        plt.show()"
   ]
  },
  {
   "cell_type": "markdown",
   "metadata": {},
   "source": [
    "完了！怎么出现了nan？别急，如果你观察到了绘制出来的曲线，那么你会发现它并非一个健康的MLE曲线，因为他画的是loss，却是上凸的。仔细一想，就发现问题了：我们采集到的所有数据的reward都是负数，这样就导致我们的$\\nabla_\\theta J$实际上是最小化一个log likelihood，这可以到达无限小！\n",
    "\n",
    "你可能会奇怪，但是理论上policy gradient方法是正确的啊？的确，原来并非纯粹地最小化log likelihood，因为也有地方reward为正。只不过在实践中，我们的随机policy很难采样到最后那个100的reward，即使采样到了也不会被重视。这样，就出现了上面训练崩溃的问题。"
   ]
  },
  {
   "cell_type": "markdown",
   "metadata": {},
   "source": [
    "#### Reward Normalizing\n",
    "\n",
    "如何解决这一困境呢？也好办：我们在训练前，先**把reward进行一个normalize**。也就是把一个Batch里面的cumulative reward变成均值0,方差1。为什么可以这样做？首先，我们可以注意到\n",
    "\n",
    "$$\n",
    "\\mathbb{E}_{\\tau\\sim p(\\tau)}\\left[\\left(\\sum_{t=0}^T \\nabla_\\theta\\log \\pi_\\theta(a_t|s_t)\\right)\\cdot b\\right] = \\sum_{\\tau}p(\\tau)\\nabla_\\theta \\log p(\\tau)=0\n",
    "$$\n",
    "\n",
    "因此，我们可以在$\\sum_{t=0}^T r(s_t,a_t)$上减去任意一个bias $b$；而再除以方差$\\sigma$只不过是调整一下learning rate。因此，这一操作完全可行。\n",
    "\n",
    "让我们来试一试："
   ]
  },
  {
   "cell_type": "code",
   "execution_count": 31,
   "metadata": {},
   "outputs": [
    {
     "name": "stderr",
     "output_type": "stream",
     "text": [
      "Sampling Trajectories: 100%|██████████| 1000/1000 [00:44<00:00, 22.44it/s]\n",
      "Iteration 0: loss 1.3000, avg cum-reward: -4.0574: 100%|██████████| 32/32 [00:06<00:00,  4.67it/s]\n"
     ]
    },
    {
     "data": {
      "image/png": "[encoded data removed]",
      "text/plain": [
       "<Figure size 640x480 with 1 Axes>"
      ]
     },
     "metadata": {},
     "output_type": "display_data"
    },
    {
     "name": "stderr",
     "output_type": "stream",
     "text": [
      "Sampling Trajectories: 100%|██████████| 1000/1000 [00:52<00:00, 18.99it/s]\n",
      "Iteration 1: loss 1.6304, avg cum-reward: -4.0399: 100%|██████████| 32/32 [00:07<00:00,  4.54it/s]\n"
     ]
    },
    {
     "data": {
      "image/png": "[encoded data removed]",
      "text/plain": [
       "<Figure size 640x480 with 1 Axes>"
      ]
     },
     "metadata": {},
     "output_type": "display_data"
    },
    {
     "name": "stderr",
     "output_type": "stream",
     "text": [
      "Sampling Trajectories: 100%|██████████| 1000/1000 [00:52<00:00, 19.13it/s]\n",
      "Iteration 2: loss 1.7789, avg cum-reward: -4.0309: 100%|██████████| 32/32 [00:06<00:00,  4.62it/s]\n"
     ]
    },
    {
     "data": {
      "image/png": "[encoded data removed]",
      "text/plain": [
       "<Figure size 640x480 with 1 Axes>"
      ]
     },
     "metadata": {},
     "output_type": "display_data"
    },
    {
     "name": "stderr",
     "output_type": "stream",
     "text": [
      "Sampling Trajectories: 100%|██████████| 1000/1000 [01:20<00:00, 12.45it/s]\n",
      "Iteration 3: loss 3.4793, avg cum-reward: -3.9929: 100%|██████████| 32/32 [00:07<00:00,  4.07it/s]\n"
     ]
    },
    {
     "data": {
      "image/png": "[encoded data removed]",
      "text/plain": [
       "<Figure size 640x480 with 1 Axes>"
      ]
     },
     "metadata": {},
     "output_type": "display_data"
    },
    {
     "name": "stderr",
     "output_type": "stream",
     "text": [
      "Sampling Trajectories: 100%|██████████| 1000/1000 [00:54<00:00, 18.25it/s]\n",
      "Iteration 4: loss -6.7131, avg cum-reward: -4.0405: 100%|██████████| 32/32 [00:07<00:00,  4.46it/s]\n"
     ]
    },
    {
     "data": {
      "image/png": "[encoded data removed]",
      "text/plain": [
       "<Figure size 640x480 with 1 Axes>"
      ]
     },
     "metadata": {},
     "output_type": "display_data"
    }
   ],
   "source": [
    "agent = PolicyGrad().to(device)\n",
    "optimizer = torch.optim.Adam(agent.parameters(),lr=1e-3)\n",
    "for iteration in range(5):\n",
    "    dataloader = get_dataloader(agent)\n",
    "    with tqdm(dataloader) as bar:\n",
    "        losses = []\n",
    "        cum_rewards = []\n",
    "        for item in bar:\n",
    "            states = item['states'].to(device);actions = item['actions'].to(device);rewards = item['rewards'].to(device);truncated = item['truncated'].to(device);act_masks = item['actmask'].to(device)\n",
    "            cum_rewards.append(rewards.mean(dim=0))\n",
    "            probs = agent.get_prob(states.reshape(-1,1,10,10) , actions.reshape(-1),action_mask=act_masks.reshape(-1,400)).reshape(states.shape[0],-1) # [batch,T]\n",
    "            rewards_normalized = (rewards - rewards.mean(dim=0))/(rewards.std(dim=0) + 1e-5)\n",
    "            j = (probs.log() * (1-truncated)).sum(dim=-1) * (rewards_normalized)\n",
    "            optimizer.zero_grad()\n",
    "            loss = -j.mean(dim=0)\n",
    "            loss.backward()\n",
    "            optimizer.step()\n",
    "            losses.append(loss.detach().cpu().item())\n",
    "            bar.set_description(f'Iteration {iteration}: loss {sum(losses)/len(losses):.4f}, avg cum-reward: {sum(cum_rewards)/len(cum_rewards):.4f}')\n",
    "        plt.plot(list(range(len(losses))),losses)\n",
    "        plt.show()"
   ]
  },
  {
   "cell_type": "markdown",
   "metadata": {},
   "source": [
    "因为不同的batch的归一化$\\sigma$不同，这里画的图像其实意义不大，主要是表明不再发散了。不过有些令人沮丧——虽然不再发散了，但似乎policy采样出来的cumulative reward一直不怎么变化。而且再根据horizon为50来估算一下：平均下来每次reward为-0.8，基本就代表只有3-4个pixel重合，差不多就是random move的水准。\n",
    "\n",
    "我们再来看一下policy的具体表现："
   ]
  },
  {
   "cell_type": "code",
   "execution_count": 32,
   "metadata": {},
   "outputs": [],
   "source": [
    "def demonstrate_policy(agent:PolicyGrad):\n",
    "    state = pgame.reset(randomly=True)\n",
    "    cum_r = 0\n",
    "    succeed = False\n",
    "    print('Initial state:')\n",
    "    pgame.display()\n",
    "    print('Initial common pixels',pgame.get_common_pixels(state))\n",
    "    for time in range(200):\n",
    "        possible_actions = pgame.get_actions(state)\n",
    "        action = agent.get_action(pgame.as_tensor(state).to(device),action_mask=build_action_mask(possible_actions)).cpu().item()\n",
    "        reward = pgame.get_reward(state)\n",
    "        cum_r += reward\n",
    "        state = pgame.get_transition(state,ind2act(action))\n",
    "        if state is None:\n",
    "            succeed = True\n",
    "            break\n",
    "        pgame.set_state(state)\n",
    "        if time % 20 == 0:\n",
    "            print('t =',time)\n",
    "            pgame.display()\n",
    "    print('Cumulative reward',f'{cum_r:.2f}')\n",
    "    print('Succeeded?',succeed)\n",
    "    print('Final common pixels:',100 if succeed else pgame.get_common_pixels(state))\n",
    "    return state"
   ]
  },
  {
   "cell_type": "code",
   "execution_count": 33,
   "metadata": {},
   "outputs": [
    {
     "name": "stdout",
     "output_type": "stream",
     "text": [
      "Initial state:\n"
     ]
    },
    {
     "data": {
      "text/markdown": [
       "| | | | | | | | |█|█|\n",
       "|-|-|-|-|-|-|-|-|-|-|\n",
       "| | | | | |█|█| | |█|\n",
       "| | | | |█| | | |█| |\n",
       "|█| | | | | | |█| | |\n",
       "| | | | | | | | | | |\n",
       "| | | | | | | |█| | |\n",
       "| | | | | | |█| |█| |\n",
       "| |█| | | | |█| |█| |\n",
       "| | | | |█| | | | | |\n",
       "| | | |█| | |█| | |█|"
      ]
     },
     "metadata": {},
     "output_type": "display_data"
    },
    {
     "name": "stdout",
     "output_type": "stream",
     "text": [
      "Initial common pixels 4\n",
      "t = 0\n"
     ]
    },
    {
     "data": {
      "text/markdown": [
       "| | | | | | | | |█|█|\n",
       "|-|-|-|-|-|-|-|-|-|-|\n",
       "| | | | | |█|█| | |█|\n",
       "| | | | |█| | | |█| |\n",
       "|█| | | | | | |█| | |\n",
       "| | | | | | | | | | |\n",
       "| | | | | | | |█| | |\n",
       "| | | | | | |█| |█| |\n",
       "| |█| | | | |█| | | |\n",
       "| | | | |█| | | | | |\n",
       "| | | |█| | |█| | |█|"
      ]
     },
     "metadata": {},
     "output_type": "display_data"
    },
    {
     "name": "stdout",
     "output_type": "stream",
     "text": [
      "t = 20\n"
     ]
    },
    {
     "data": {
      "text/markdown": [
       "| | | | | | | | |█|█|\n",
       "|-|-|-|-|-|-|-|-|-|-|\n",
       "| | | | | |█|█| | |█|\n",
       "| | | | |█| | | |█| |\n",
       "|█| | | | | | |█| | |\n",
       "| | | | | | | | | | |\n",
       "| | | | | | | |█| | |\n",
       "| | | | | | |█| |█| |\n",
       "| |█| | | | |█| | | |\n",
       "| | | | |█| | | | | |\n",
       "| | | | |█| |█| | |█|"
      ]
     },
     "metadata": {},
     "output_type": "display_data"
    },
    {
     "name": "stdout",
     "output_type": "stream",
     "text": [
      "t = 40\n"
     ]
    },
    {
     "data": {
      "text/markdown": [
       "| | | | | | | | |█|█|\n",
       "|-|-|-|-|-|-|-|-|-|-|\n",
       "| | | | | |█|█| | |█|\n",
       "| | | | |█| | | |█| |\n",
       "|█| | | | | | |█| | |\n",
       "| | | | | | | | | | |\n",
       "| | | | | | | |█| | |\n",
       "| | | | | | |█| |█| |\n",
       "| |█| | | | |█| | | |\n",
       "| | | | |█| | | | | |\n",
       "| | | | |█| |█| | |█|"
      ]
     },
     "metadata": {},
     "output_type": "display_data"
    },
    {
     "name": "stdout",
     "output_type": "stream",
     "text": [
      "t = 60\n"
     ]
    },
    {
     "data": {
      "text/markdown": [
       "| | | | | | | | |█|█|\n",
       "|-|-|-|-|-|-|-|-|-|-|\n",
       "| | | | | |█|█| | |█|\n",
       "| | | | |█| | | |█| |\n",
       "|█| | | | | | |█| | |\n",
       "| | | | | | | | | | |\n",
       "| | | | | | | |█| | |\n",
       "| | | | | | |█| |█| |\n",
       "| |█| | | | |█| | | |\n",
       "| | | | |█| | | | | |\n",
       "| | | | |█| |█| | |█|"
      ]
     },
     "metadata": {},
     "output_type": "display_data"
    },
    {
     "name": "stdout",
     "output_type": "stream",
     "text": [
      "t = 80\n"
     ]
    },
    {
     "data": {
      "text/markdown": [
       "| | | | | | | | |█|█|\n",
       "|-|-|-|-|-|-|-|-|-|-|\n",
       "| | | | | |█|█| | |█|\n",
       "| | | | |█| | | |█| |\n",
       "|█| | | | | | |█| | |\n",
       "| | | | | | | | | | |\n",
       "| | | | | | | |█| | |\n",
       "| | | | | | |█| |█| |\n",
       "| |█| | | | |█| | | |\n",
       "| | | | |█| | | | | |\n",
       "| | | | |█| |█| | |█|"
      ]
     },
     "metadata": {},
     "output_type": "display_data"
    },
    {
     "name": "stdout",
     "output_type": "stream",
     "text": [
      "t = 100\n"
     ]
    },
    {
     "data": {
      "text/markdown": [
       "| | | | | | | | |█|█|\n",
       "|-|-|-|-|-|-|-|-|-|-|\n",
       "| | | | | |█|█| | |█|\n",
       "| | | | |█| | | |█| |\n",
       "|█| | | | | | |█| | |\n",
       "| | | | | | | | | | |\n",
       "| | | | | | | |█| | |\n",
       "| | | | | | |█| |█| |\n",
       "| |█| | | | |█| | | |\n",
       "| | | | |█| | | | | |\n",
       "| | | | |█| |█| | |█|"
      ]
     },
     "metadata": {},
     "output_type": "display_data"
    },
    {
     "name": "stdout",
     "output_type": "stream",
     "text": [
      "t = 120\n"
     ]
    },
    {
     "data": {
      "text/markdown": [
       "| | | | | | | | |█|█|\n",
       "|-|-|-|-|-|-|-|-|-|-|\n",
       "| | | | | |█|█| | |█|\n",
       "| | | | |█| | | |█| |\n",
       "|█| | | | | | |█| | |\n",
       "| | | | | | | | | | |\n",
       "| | | | | | | |█| | |\n",
       "| | | | | | |█| |█| |\n",
       "| |█| | | | |█| | | |\n",
       "| | | | |█| | | | | |\n",
       "| | | | |█| |█| | |█|"
      ]
     },
     "metadata": {},
     "output_type": "display_data"
    },
    {
     "name": "stdout",
     "output_type": "stream",
     "text": [
      "t = 140\n"
     ]
    },
    {
     "data": {
      "text/markdown": [
       "| | | | | | | | |█|█|\n",
       "|-|-|-|-|-|-|-|-|-|-|\n",
       "| | | | | |█|█| | |█|\n",
       "| | | | |█| | | |█| |\n",
       "|█| | | | | | |█| | |\n",
       "| | | | | | | | | | |\n",
       "| | | | | | | |█| | |\n",
       "| | | | | | |█| |█| |\n",
       "| |█| | | | |█| | | |\n",
       "| | | | |█| | | | | |\n",
       "| | | | |█| |█| | |█|"
      ]
     },
     "metadata": {},
     "output_type": "display_data"
    },
    {
     "name": "stdout",
     "output_type": "stream",
     "text": [
      "t = 160\n"
     ]
    },
    {
     "data": {
      "text/markdown": [
       "| | | | | | | | |█|█|\n",
       "|-|-|-|-|-|-|-|-|-|-|\n",
       "| | | | | |█|█| | |█|\n",
       "| | | | |█| | | |█| |\n",
       "|█| | | | | | |█| | |\n",
       "| | | | | | | | | | |\n",
       "| | | | | | | |█| | |\n",
       "| | | | | | |█| |█| |\n",
       "| |█| | | | |█| | | |\n",
       "| | | | |█| | | | | |\n",
       "| | | | |█| |█| | |█|"
      ]
     },
     "metadata": {},
     "output_type": "display_data"
    },
    {
     "name": "stdout",
     "output_type": "stream",
     "text": [
      "t = 180\n"
     ]
    },
    {
     "data": {
      "text/markdown": [
       "| | | | | | | | |█|█|\n",
       "|-|-|-|-|-|-|-|-|-|-|\n",
       "| | | | | |█|█| | |█|\n",
       "| | | | |█| | | |█| |\n",
       "|█| | | | | | |█| | |\n",
       "| | | | | | | | | | |\n",
       "| | | | | | | |█| | |\n",
       "| | | | | | |█| |█| |\n",
       "| |█| | | | |█| | | |\n",
       "| | | | |█| | | | | |\n",
       "| | | | |█| |█| | |█|"
      ]
     },
     "metadata": {},
     "output_type": "display_data"
    },
    {
     "name": "stdout",
     "output_type": "stream",
     "text": [
      "Cumulative reward -16.36\n",
      "Succeeded? False\n",
      "Final common pixels: 4\n"
     ]
    },
    {
     "data": {
      "text/plain": [
       "[(9, 9),\n",
       " (5, 7),\n",
       " (2, 4),\n",
       " (3, 7),\n",
       " (1, 6),\n",
       " (7, 1),\n",
       " (2, 4),\n",
       " (7, 6),\n",
       " (3, 7),\n",
       " (6, 6),\n",
       " (0, 9),\n",
       " (1, 5),\n",
       " (1, 9),\n",
       " (2, 8),\n",
       " (6, 8),\n",
       " (8, 4),\n",
       " (2, 4),\n",
       " (0, 8),\n",
       " (3, 0),\n",
       " (6, 8),\n",
       " (9, 4),\n",
       " (9, 6)]"
      ]
     },
     "execution_count": 33,
     "metadata": {},
     "output_type": "execute_result"
    }
   ],
   "source": [
    "demonstrate_policy(agent)"
   ]
  },
  {
   "cell_type": "markdown",
   "metadata": {},
   "source": [
    "果然——我们的agent完全失败了。你应该感受到了：policy gradient虽然是理论上十分简单直接的方法，但是实际操作下来很难成功。但别灰心——我们后面几讲会立刻介绍一些技巧，并最终解决这一问题！\n",
    "\n",
    "同时，我们也发现上面的训练过程异常地慢。根本原因实际上很简单——每一个iteration的训练都需要重新采集1000条轨迹来训练。这也是policy gradient的一大特点：极其消耗和环境交互的样本，并且无法（或者很难）重复利用。也正是这一特点决定着policy gradient的应用场合大多数停留在MDP模拟器内，而很难应用到生活中的MDP问题中。"
   ]
  },
  {
   "cell_type": "markdown",
   "metadata": {},
   "source": [
    "## 0.3 RL = Solve MDP while learning it!\n",
    "\n",
    "在0.2这一节中，我们介绍了解决已知reward function和dynamics（即transition function）的MDP的一些求解方法。同时我们意识到，即使对于已知的MDP，但凡state space稍微大一些，求解也绝非易事。\n",
    "\n",
    "但事实上，真正的问题更为困难——他们的MDP都是未知的。也就是因此RL才有实际意义——让一个开始什么都不知道的机器人进入一个MDP，然后从中（不管通过什么手段）获得一个最终很好的policy，这听起来就像是人或者高级动物才特有的行为。换句话说就是，RL就是**一边学习MDP，一边解它**。\n",
    "\n",
    "接下来，就让我们讨论几个真正的RL算法了。"
   ]
  },
  {
   "cell_type": "markdown",
   "metadata": {},
   "source": [
    "#### Do we really need to change anything?\n",
    "\n",
    "你可能疑问，上面我们介绍的Value Iteration和Policy Gradient方法，为什么不能直接应用到未知的MDP上面呢？实际上，你的怀疑是正确的——**Policy Gradient的确可以很好地应用到未知MDP上，因此是RL中的一个重要方法**。但是，Value Iteration就不太行，我们来解释一下为什么。\n",
    "\n",
    "还记得我们之前写Value Iteration的思路：\n",
    "\n",
    "1. 收集大量的state；\n",
    "2. 对于每一个state，枚举所有可能的action，储存所有的reward；同时，储存所有的next state。\n",
    "3. 不断重复训练：\n",
    "    - 计算target\n",
    "    $$\n",
    "    y = \\arg\\max_a \\left(r(s,a)+\\mathbb{E}_{s'\\sim p(s'|s,a)}[V(s')]\\right)\n",
    "    $$\n",
    "    - 对MSE loss $(V(s)-y)^2$ 进行gradient update\n",
    "\n",
    "（当然，还有target network的重要优化，但基本思路是这样的）"
   ]
  },
  {
   "cell_type": "markdown",
   "metadata": {},
   "source": [
    "但是**未知MDP**的含义实际上是，**对于一个state，你只能采取一种action**。比如，你看`gym`的接口，你会发现`env.step`只允许你传入action，而state本身是储存在env的内部的。换句话说，“人生没有后悔药”，在一个未知的MDP里你只能对于每一个state采集一次action，并且进一步也只能得到$p(s'|s,a)$中采样出来的一个$s'$（这依然由环境给你）。这样，value iteration就无法运行。实际上，这才是真正的RL——之前我们介绍的只不过是MDP求解，离真正的RL还有一定的距离。\n",
    "\n",
    "当然，你也可以强行“突破”这一限制，比如你虽然不能在一个state下采取action再“悔棋”，但你可以走遍state space很多次，这样你就有可能两次到达同一个state。只有这样，你才可能可以知道在一个state下面走两个不同的action的结果。但显然，这样的方法是不现实的。\n",
    "\n",
    "因此，Value Iteration方法如果要变成一个真正的RL算法，必须经过一些修改。这些修改我们会在后面介绍。至少，现在我们已经意识到了RL和普通的“求解已知MDP”之间的关键区别。"
   ]
  },
  {
   "cell_type": "markdown",
   "metadata": {},
   "source": [
    "#### A Model is All You Need?\n",
    "\n",
    "一个最直观的想法就是，我们只要建立起来一个环境的模拟器，不就完了吗？我们构造一个**model**（一般称为dynamic model），训练它拟合$p(s'|s,a)$和$r(s,a)$。这样，整体就变成已知的了，然后我们就可以用我们前面任何的MDP solver来解决这一已知MDP的问题。\n",
    "\n",
    "这一想法说起来很容易，因此就可以实践一下：我们拿CartPole开刀。"
   ]
  },
  {
   "cell_type": "markdown",
   "metadata": {},
   "source": [
    "我们选择之前的Value Iteration作为MDP Solver。首先，作为一个baseline（或者说“对照实验”），我们先仿照之前的方法，直接用Value Iteration来解决这一问题。\n",
    "\n",
    "但是问题是，在`gym`的接口下，原来的普通value iteration算法无法进行。因此，我们把gym的环境拷贝到了`utils_0_intro.py`中，并添加一些接口来允许诸如一个state下面实验两种不同的action这样的逆天操作。这不是合法手段，但考虑到我们现在只是在探索，这是可以接受的。"
   ]
  },
  {
   "cell_type": "code",
   "execution_count": 1,
   "metadata": {},
   "outputs": [
    {
     "name": "stdout",
     "output_type": "stream",
     "text": [
      "Your device is cpu\n",
      "(array([ 0.        ,  0.19512194,  0.        , -0.29268292], dtype=float32), 1.0, False, False, {})\n",
      "(array([ 0.        , -0.19512194,  0.        ,  0.29268292], dtype=float32), 1.0, False, False, {})\n"
     ]
    }
   ],
   "source": [
    "from utils_0_intro import CartPoleEnv # the modified gym environment\n",
    "import numpy as np\n",
    "import random\n",
    "random.seed(42)\n",
    "import torch\n",
    "import torch.nn as nn\n",
    "import torch.nn.functional as F\n",
    "from torch.utils.data import DataLoader\n",
    "from utils import device\n",
    "import tqdm\n",
    "torch.manual_seed(3407)\n",
    "torch.backends.cudnn.deterministic = True\n",
    "\n",
    "env = CartPoleEnv()\n",
    "print(env.step_from_state(np.array([0,0,0,0]),1))\n",
    "print(env.step_from_state(np.array([0,0,0,0]),0))"
   ]
  },
  {
   "cell_type": "markdown",
   "metadata": {},
   "source": [
    "阅读源码很容易发现，Cartpole这一环境是决定性的（除了一开始的`reset`），因此无需对$s'$采样。这样，我们就可以使用之前的Value Iteration方法了。\n",
    "\n",
    "我们唯一需要选择的是，选择哪些state来做value iteration的训练。同之前一样，可以想象，这些state应该比较具有代表性。我们可以阅读CartPole相关的documentation，发现state包含position, velocity, angle, angular velocity四个量。position和angle具有限制，超过某个值就会terminate，因此我们选取它们为均匀分布；而velocity和angular velocity可以是无限（参见下面的展示），因此我们选取它们为正态分布，并估计一个合理的方差。\n",
    "\n",
    "这个方差的估计可以采用一些物理的手段：典型的角速度可能是 $\\sqrt{\\frac{g}{L}}\\approx 4.5$，而考虑到单位时间间隔是0.02s，最大的离谱的角速度也不能超过 $\\frac{\\pi/2}{0.02}=79$。因此，角速度选择为 $\\mathcal{N}(0,10)$ 是合理的。对于速度，考虑到滑块的质量是杆的10倍，因此速度是0.1倍；杆的速度是 $\\sqrt{gL}\\approx 2$，因此典型的速度是0.2。另一方面，推一把的力是10,因此加速度是10,在0.02s内的速度变化也是0.2。综上所述，速度选择为 $\\mathcal{N}(0,1)$ 是合理的。\n",
    "\n",
    "> 你可以看到，在这一过程中我们利用了大量的MDP内部的数据。再次强调——这并非RL方法，只是一个对于完全已知的MDP的求解。"
   ]
  },
  {
   "cell_type": "code",
   "execution_count": 2,
   "metadata": {},
   "outputs": [
    {
     "data": {
      "text/plain": [
       "Box([-4.8000002e+00 -3.4028235e+38 -4.1887903e-01 -3.4028235e+38], [4.8000002e+00 3.4028235e+38 4.1887903e-01 3.4028235e+38], (4,), float32)"
      ]
     },
     "execution_count": 2,
     "metadata": {},
     "output_type": "execute_result"
    }
   ],
   "source": [
    "env.observation_space # see the state space"
   ]
  },
  {
   "cell_type": "code",
   "execution_count": 2,
   "metadata": {},
   "outputs": [
    {
     "data": {
      "text/plain": [
       "[-1.7123499160160223,\n",
       " -0.37793762156360855,\n",
       " -0.08339060132939861,\n",
       " -5.972950317964699]"
      ]
     },
     "execution_count": 2,
     "metadata": {},
     "output_type": "execute_result"
    }
   ],
   "source": [
    "states = [[\n",
    "    (random.random() - 0.5) * 4.8,\n",
    "    random.gauss(0,1),\n",
    "    (random.random() - 0.5) * 0.418,\n",
    "    random.gauss(0,10)\n",
    "] for _ in range(1000)]\n",
    "states[500]"
   ]
  },
  {
   "cell_type": "code",
   "execution_count": 3,
   "metadata": {},
   "outputs": [
    {
     "name": "stdout",
     "output_type": "stream",
     "text": [
      "Collected 1000 transitions\n"
     ]
    }
   ],
   "source": [
    "transitions = []\n",
    "for state in states:\n",
    "    out = []\n",
    "    for action in [0,1]:\n",
    "        next_state,reward,terminated,truncated,_ = env.step_from_state(np.array(state),action)\n",
    "        out.append((action,next_state,reward,terminated or truncated))\n",
    "    transitions.append((state,out))\n",
    "\n",
    "print('Collected',len(transitions),'transitions')"
   ]
  },
  {
   "cell_type": "code",
   "execution_count": 4,
   "metadata": {},
   "outputs": [],
   "source": [
    "class ValueNet(nn.Module):\n",
    "\n",
    "    def __init__(self):\n",
    "        super().__init__()\n",
    "        self.mlp = nn.Sequential(\n",
    "            nn.Linear(4,64),\n",
    "            nn.ReLU(),\n",
    "            nn.Linear(64,32),\n",
    "            nn.ReLU(),\n",
    "            nn.Linear(32,1)\n",
    "        )\n",
    "        self.private_env = CartPoleEnv()\n",
    "\n",
    "    def forward(self,x):\n",
    "        return self.mlp(x)\n",
    "    \n",
    "    @torch.no_grad()\n",
    "    def get_action(self,x):\n",
    "        best_act = None; best_val = -float('inf')\n",
    "        for action in [0,1]:\n",
    "            next_state,_,_,_,_ = self.private_env.step_from_state(x,action)\n",
    "            val = self(torch.tensor(next_state,dtype=torch.float32).to(device)).cpu().item()\n",
    "            if val > best_val:\n",
    "                best_val = val\n",
    "                best_act = action\n",
    "        return best_act"
   ]
  },
  {
   "cell_type": "code",
   "execution_count": 5,
   "metadata": {},
   "outputs": [],
   "source": [
    "@torch.no_grad()\n",
    "def get_dataloader(net:ValueNet):\n",
    "    dataset = []\n",
    "    for state,out in transitions:\n",
    "        targets = []\n",
    "        for action,next_state,reward,done in out:\n",
    "            target = torch.tensor(reward,dtype=torch.float).to(device).reshape(1)\n",
    "            if not done:\n",
    "                if not isinstance(next_state,torch.Tensor):\n",
    "                    next_state = torch.tensor(next_state,dtype=torch.float).to(device)\n",
    "                target += net(next_state)\n",
    "            targets.append(target)\n",
    "        dataset.append((state,torch.stack(targets).max(dim=0)[0]))\n",
    "\n",
    "    return DataLoader(dataset=dataset,batch_size=32,shuffle=True,\n",
    "                      collate_fn=lambda datas:{\n",
    "                          'states':torch.from_numpy(np.stack([data[0] for data in datas])).float().to(device),\n",
    "                            'targets':torch.stack([data[1] for data in datas],dim=0).to(device)\n",
    "    })"
   ]
  },
  {
   "cell_type": "code",
   "execution_count": 6,
   "metadata": {},
   "outputs": [],
   "source": [
    "net = ValueNet().to(device)\n",
    "target_net = ValueNet().to(device).requires_grad_(False)\n",
    "target_net.load_state_dict(net.state_dict())\n",
    "ALPHA = 0.15 # Unfortunately, in this example, target network doesn't help much.\n",
    "optimizer = torch.optim.Adam(net.parameters(),lr=1e-2,weight_decay=3e-5)\n",
    "\n",
    "def update_target_net():\n",
    "    for theta_0,theta in zip(target_net.parameters(),net.parameters()):\n",
    "        theta_0.copy_((1-ALPHA) * theta_0 + ALPHA * theta)\n",
    "\n",
    "def train(num_iterations=200):\n",
    "    special_state,_ = env.reset()\n",
    "    print('We use the following state for monitoring Value:\\n',special_state)\n",
    "    specific_values = []\n",
    "    avg_losses = []\n",
    "    with tqdm.trange(num_iterations) as bar:\n",
    "        for iteration in bar:\n",
    "            losses = []\n",
    "            dataloader = get_dataloader(target_net)\n",
    "            for item in dataloader:\n",
    "                states = item['states']\n",
    "                targets = item['targets']\n",
    "                values = net(states)\n",
    "                loss = F.mse_loss(values,targets)\n",
    "                optimizer.zero_grad()\n",
    "                loss.backward()\n",
    "                optimizer.step()\n",
    "                losses.append(loss.detach().cpu().item())\n",
    "            update_target_net()\n",
    "            avg_losses.append(sum(losses)/len(losses))\n",
    "            if iteration % 10 == 0:\n",
    "                with torch.no_grad():\n",
    "                    val = net(torch.tensor(special_state,dtype=torch.float).to(device)).cpu().item()\n",
    "                    specific_values.append(val)\n",
    "                    bar.set_description(f'Value of the given state: {val:.2f}; Avg Loss: {avg_losses[-1]:.4f}')\n",
    "    return specific_values,avg_losses"
   ]
  },
  {
   "cell_type": "code",
   "execution_count": 7,
   "metadata": {},
   "outputs": [
    {
     "name": "stdout",
     "output_type": "stream",
     "text": [
      "We use the following state for monitoring Value:\n",
      " [-0.01624329 -0.0038344  -0.0372833  -0.01359928]\n"
     ]
    },
    {
     "name": "stderr",
     "output_type": "stream",
     "text": [
      "Value of the given state: 28.66; Avg Loss: 1.3115: 100%|██████████| 200/200 [00:27<00:00,  7.32it/s]\n"
     ]
    },
    {
     "data": {
      "image/png": "[encoded data removed]",
      "text/plain": [
       "<Figure size 640x480 with 2 Axes>"
      ]
     },
     "metadata": {},
     "output_type": "display_data"
    }
   ],
   "source": [
    "specific_values,avg_losses = train()\n",
    "import matplotlib.pyplot as plt\n",
    "fig,ax1 = plt.subplots()\n",
    "ax1.plot([x[0] * 10 for x in enumerate(specific_values)],specific_values,color='b',label='value')\n",
    "ax1.set_ylabel('Value for a given state')\n",
    "ax1.tick_params('y',color='b')\n",
    "ax2 = ax1.twinx()\n",
    "ax2.plot([x[0] for x in enumerate(avg_losses)],avg_losses,color='r',label='loss')\n",
    "ax2.set_ylabel('Average Loss')\n",
    "ax2.tick_params('y',color='r')\n",
    "ax1.legend()\n",
    "ax2.legend()\n",
    "plt.show()"
   ]
  },
  {
   "cell_type": "code",
   "execution_count": 7,
   "metadata": {},
   "outputs": [],
   "source": [
    "import gymnasium as gym\n",
    "env = gym.make('CartPole-v1')\n",
    "\n",
    "def demonstrate_policy(agent:ValueNet):\n",
    "    cum_rewards = []\n",
    "    for _ in range(10):\n",
    "        state,_ = env.reset()\n",
    "        tot = 0\n",
    "        for t in range(505):\n",
    "            action = agent.get_action(state)\n",
    "            state,reward,terminated,truncated,_ = env.step(action)\n",
    "            tot += reward\n",
    "            if truncated or terminated:\n",
    "                print(f'Stopped at time {t} due to', 'truncated' if truncated else 'terminated')\n",
    "                break\n",
    "        cum_rewards.append(tot)\n",
    "    print('Average cumulative reward:',sum(cum_rewards)/len(cum_rewards))"
   ]
  },
  {
   "cell_type": "code",
   "execution_count": 11,
   "metadata": {},
   "outputs": [
    {
     "name": "stdout",
     "output_type": "stream",
     "text": [
      "Stopped at time 499 due to truncated\n",
      "Stopped at time 499 due to truncated\n",
      "Stopped at time 499 due to truncated\n",
      "Stopped at time 499 due to truncated\n",
      "Stopped at time 499 due to truncated\n",
      "Stopped at time 499 due to truncated\n",
      "Stopped at time 499 due to truncated\n",
      "Stopped at time 499 due to truncated\n",
      "Stopped at time 499 due to truncated\n",
      "Stopped at time 499 due to truncated\n",
      "Average cumulative reward: 500.0\n"
     ]
    }
   ],
   "source": [
    "demonstrate_policy(net)"
   ]
  },
  {
   "cell_type": "markdown",
   "metadata": {},
   "source": [
    "哈哈，刷爆了，是不是？可以看出，Value Iteration确实很强大。\n",
    "\n",
    "你可能很奇怪，为什么训练的时候value没有很高，并且随着iteration直线上升？这是因为，很容易就可以学会一个“不倒”的策略，但是对于一个合理的策略而言，value完全取决于经历多少个time step；而你可以理解为一轮iteration大概就是“把若干time stamp连接到一起”。因此，训练的iteration越多，value就越高。注意这并非是常态，而是这里的任务过于简单了导致的。实际上，如果训练很长时间，value将稳定在500。\n",
    "\n",
    "当然，必须再次强调，前面的方法违背了RL的基本原则。因此，我们接下来就来训练一个dynamic model。"
   ]
  },
  {
   "cell_type": "markdown",
   "metadata": {},
   "source": [
    "##### Dynamic Model\n",
    "\n",
    "为了简单起见，我们不去拟合$r(s,a)$了（因为它一直是1,也没什么可以拟合的）。我们只需要拟合next state对state, action的分布。但是既然我们已经知道这一环境是决定性的，不妨直接用一个决定性的分布代替。\n",
    "\n",
    "接下来，我们通过随机的policy和环境交互来采集dynamic model的训练数据。注意我们这里的操作完全合法，没有走后门。为了证明这一点，我们删除自己的`CartPoleEnv`，只使用gym的接口。"
   ]
  },
  {
   "cell_type": "code",
   "execution_count": 8,
   "metadata": {},
   "outputs": [],
   "source": [
    "del CartPoleEnv\n",
    "env = gym.make('CartPole-v1')"
   ]
  },
  {
   "cell_type": "code",
   "execution_count": 9,
   "metadata": {},
   "outputs": [],
   "source": [
    "@torch.no_grad()\n",
    "def get_dynamic_dataloader(tot=5000):\n",
    "    collected = []\n",
    "    while len(collected) < tot:\n",
    "        state,_ = env.reset()\n",
    "        while True:\n",
    "            action = env.action_space.sample()\n",
    "            next_state,reward,terminated,truncated,_ = env.step(action)\n",
    "            if terminated or truncated:\n",
    "                collected.append((state,action,1,np.array([0,0,0,0],dtype=np.float32)))\n",
    "                break\n",
    "            else:\n",
    "                collected.append((state,action,0,next_state))\n",
    "            state = next_state\n",
    "    def collate(datas):\n",
    "        return {\n",
    "            'states': torch.from_numpy(np.stack([data[0] for data in datas])).float().to(device),\n",
    "            'actions': torch.tensor([data[1] for data in datas],dtype=torch.long).to(device),\n",
    "            'terminated': torch.tensor([data[2] for data in datas],dtype=torch.float).to(device),\n",
    "            'next_states': torch.from_numpy(np.stack([data[3] for data in datas])).to(device)\n",
    "        }\n",
    "\n",
    "    return DataLoader(dataset=collected,batch_size=32,shuffle=True,collate_fn=collate)\n",
    "\n",
    "dl = get_dynamic_dataloader(8000)\n",
    "valid_dl = get_dynamic_dataloader(2000)"
   ]
  },
  {
   "cell_type": "code",
   "execution_count": null,
   "metadata": {},
   "outputs": [],
   "source": []
  },
  {
   "cell_type": "code",
   "execution_count": 23,
   "metadata": {},
   "outputs": [],
   "source": [
    "class Model(nn.Module):\n",
    "    \n",
    "    def __init__(self):\n",
    "        super().__init__()\n",
    "        self.feature = nn.Sequential(\n",
    "            nn.Linear(5,32),\n",
    "            nn.ReLU(),\n",
    "            nn.Linear(32,64),\n",
    "            nn.ReLU(),\n",
    "        )\n",
    "        self.next_state_head = nn.Linear(64,4)\n",
    "        self.terminate_head = nn.Linear(64,1)\n",
    "\n",
    "    def forward(self,s,a):\n",
    "        # s: [batch,4]; a: [batch]\n",
    "        concated = torch.cat([s,a.unsqueeze(-1).float()],dim=-1)\n",
    "        feat = self.feature(concated)\n",
    "        return self.next_state_head(feat),self.terminate_head(feat).reshape(-1)\n",
    "    \n",
    "    def get_loss(self,states,actions,next_states,terminated):\n",
    "        pred_next_states,terminate_distr = self(states,actions)\n",
    "        loss1 = F.binary_cross_entropy_with_logits(terminate_distr,terminated)\n",
    "        loss2 = F.mse_loss(pred_next_states,next_states).mean(dim=0)\n",
    "        return loss1 + loss2, loss1, loss2\n",
    "\n",
    "    @torch.no_grad()\n",
    "    def step(self,s,a):\n",
    "        if not isinstance(a,torch.Tensor):\n",
    "            a = torch.tensor(a,dtype=torch.float).to(device)\n",
    "        next_state,terminate_logits = self(s,a)\n",
    "        return next_state,1,(terminate_logits > 0).int(),False"
   ]
  },
  {
   "cell_type": "code",
   "execution_count": 24,
   "metadata": {},
   "outputs": [
    {
     "name": "stderr",
     "output_type": "stream",
     "text": [
      "Epoch 0, Loss 0.9104:   0%|          | 0/251 [00:00<?, ?it/s]"
     ]
    },
    {
     "name": "stderr",
     "output_type": "stream",
     "text": [
      "Epoch 0, Loss 0.3657: 100%|██████████| 251/251 [00:01<00:00, 189.41it/s]\n"
     ]
    },
    {
     "name": "stdout",
     "output_type": "stream",
     "text": [
      "Validation loss: 0.1923288686999253 ; Terminate loss: 0.1565530456247784 ; Next state loss: 0.03577582285340343\n"
     ]
    },
    {
     "name": "stderr",
     "output_type": "stream",
     "text": [
      "Epoch 1, Loss 0.1761: 100%|██████████| 251/251 [00:01<00:00, 216.88it/s]\n"
     ]
    },
    {
     "name": "stdout",
     "output_type": "stream",
     "text": [
      "Validation loss: 0.1628539106912083 ; Terminate loss: 0.13269223970553232 ; Next state loss: 0.03016167120372374\n"
     ]
    },
    {
     "name": "stderr",
     "output_type": "stream",
     "text": [
      "Epoch 2, Loss 0.1587: 100%|██████████| 251/251 [00:00<00:00, 254.51it/s]\n"
     ]
    },
    {
     "name": "stdout",
     "output_type": "stream",
     "text": [
      "Validation loss: 0.15239803495979498 ; Terminate loss: 0.12422546614257116 ; Next state loss: 0.028172569264406488\n"
     ]
    },
    {
     "name": "stderr",
     "output_type": "stream",
     "text": [
      "Epoch 3, Loss 0.1475: 100%|██████████| 251/251 [00:01<00:00, 220.48it/s]\n"
     ]
    },
    {
     "name": "stdout",
     "output_type": "stream",
     "text": [
      "Validation loss: 0.13340495834274899 ; Terminate loss: 0.10874064532773835 ; Next state loss: 0.02466431273413556\n"
     ]
    },
    {
     "name": "stderr",
     "output_type": "stream",
     "text": [
      "Epoch 4, Loss 0.1345: 100%|██████████| 251/251 [00:01<00:00, 241.06it/s]\n"
     ]
    },
    {
     "name": "stdout",
     "output_type": "stream",
     "text": [
      "Validation loss: 0.11871062774979879 ; Terminate loss: 0.09614274650812149 ; Next state loss: 0.02256788184038467\n"
     ]
    },
    {
     "name": "stderr",
     "output_type": "stream",
     "text": [
      "Epoch 5, Loss 0.1215: 100%|██████████| 251/251 [00:01<00:00, 228.37it/s]\n"
     ]
    },
    {
     "name": "stdout",
     "output_type": "stream",
     "text": [
      "Validation loss: 0.11071060951207838 ; Terminate loss: 0.08882398155355264 ; Next state loss: 0.021886628213530733\n"
     ]
    },
    {
     "name": "stderr",
     "output_type": "stream",
     "text": [
      "Epoch 6, Loss 0.1089: 100%|██████████| 251/251 [00:00<00:00, 269.87it/s]\n"
     ]
    },
    {
     "name": "stdout",
     "output_type": "stream",
     "text": [
      "Validation loss: 0.09582794815420158 ; Terminate loss: 0.07637860448587508 ; Next state loss: 0.019449343705283745\n"
     ]
    },
    {
     "name": "stderr",
     "output_type": "stream",
     "text": [
      "Epoch 7, Loss 0.0979: 100%|██████████| 251/251 [00:01<00:00, 248.44it/s]\n"
     ]
    },
    {
     "name": "stdout",
     "output_type": "stream",
     "text": [
      "Validation loss: 0.08994412173827489 ; Terminate loss: 0.07123551164413729 ; Next state loss: 0.018708610500667303\n"
     ]
    },
    {
     "name": "stderr",
     "output_type": "stream",
     "text": [
      "Epoch 8, Loss 0.0905: 100%|██████████| 251/251 [00:01<00:00, 233.51it/s]\n"
     ]
    },
    {
     "name": "stdout",
     "output_type": "stream",
     "text": [
      "Validation loss: 0.08341858556701078 ; Terminate loss: 0.06527296566064396 ; Next state loss: 0.018145620109631666\n"
     ]
    },
    {
     "name": "stderr",
     "output_type": "stream",
     "text": [
      "Epoch 9, Loss 0.0852: 100%|██████████| 251/251 [00:00<00:00, 258.92it/s]\n"
     ]
    },
    {
     "name": "stdout",
     "output_type": "stream",
     "text": [
      "Validation loss: 0.08301051176847919 ; Terminate loss: 0.06573930367945678 ; Next state loss: 0.0172712079818464\n"
     ]
    },
    {
     "name": "stderr",
     "output_type": "stream",
     "text": [
      "Epoch 10, Loss 0.0812: 100%|██████████| 251/251 [00:00<00:00, 270.35it/s]\n"
     ]
    },
    {
     "name": "stdout",
     "output_type": "stream",
     "text": [
      "Validation loss: 0.07630924889374346 ; Terminate loss: 0.06031258424950971 ; Next state loss: 0.015996664965761794\n"
     ]
    },
    {
     "name": "stderr",
     "output_type": "stream",
     "text": [
      "Epoch 11, Loss 0.0778: 100%|██████████| 251/251 [00:01<00:00, 243.40it/s]\n"
     ]
    },
    {
     "name": "stdout",
     "output_type": "stream",
     "text": [
      "Validation loss: 0.07539673454482995 ; Terminate loss: 0.06035178104445102 ; Next state loss: 0.015044953215808149\n"
     ]
    },
    {
     "name": "stderr",
     "output_type": "stream",
     "text": [
      "Epoch 12, Loss 0.0742: 100%|██████████| 251/251 [00:01<00:00, 238.27it/s]\n"
     ]
    },
    {
     "name": "stdout",
     "output_type": "stream",
     "text": [
      "Validation loss: 0.0740230515126198 ; Terminate loss: 0.058903232431187044 ; Next state loss: 0.015119819384482171\n"
     ]
    },
    {
     "name": "stderr",
     "output_type": "stream",
     "text": [
      "Epoch 13, Loss 0.0720: 100%|██████████| 251/251 [00:00<00:00, 268.71it/s]\n"
     ]
    },
    {
     "name": "stdout",
     "output_type": "stream",
     "text": [
      "Validation loss: 0.07105260886370189 ; Terminate loss: 0.05667931188844026 ; Next state loss: 0.014373296829280518\n"
     ]
    },
    {
     "name": "stderr",
     "output_type": "stream",
     "text": [
      "Epoch 14, Loss 0.0713: 100%|██████████| 251/251 [00:00<00:00, 261.82it/s]\n"
     ]
    },
    {
     "name": "stdout",
     "output_type": "stream",
     "text": [
      "Validation loss: 0.06755397321715478 ; Terminate loss: 0.054146570811373376 ; Next state loss: 0.013407401633374984\n"
     ]
    },
    {
     "name": "stderr",
     "output_type": "stream",
     "text": [
      "Epoch 15, Loss 0.0679: 100%|██████████| 251/251 [00:01<00:00, 235.19it/s]\n"
     ]
    },
    {
     "name": "stdout",
     "output_type": "stream",
     "text": [
      "Validation loss: 0.07111688413184196 ; Terminate loss: 0.05703328841084999 ; Next state loss: 0.014083595510335669\n"
     ]
    },
    {
     "name": "stderr",
     "output_type": "stream",
     "text": [
      "Epoch 16, Loss 0.0671: 100%|██████████| 251/251 [00:01<00:00, 209.34it/s]\n"
     ]
    },
    {
     "name": "stdout",
     "output_type": "stream",
     "text": [
      "Validation loss: 0.06687076424159819 ; Terminate loss: 0.054058517310916196 ; Next state loss: 0.01281224715519726\n"
     ]
    },
    {
     "name": "stderr",
     "output_type": "stream",
     "text": [
      "Epoch 17, Loss 0.0635: 100%|██████████| 251/251 [00:01<00:00, 235.07it/s]\n"
     ]
    },
    {
     "name": "stdout",
     "output_type": "stream",
     "text": [
      "Validation loss: 0.06673650986086281 ; Terminate loss: 0.05383673658971453 ; Next state loss: 0.012899773740505298\n"
     ]
    },
    {
     "name": "stderr",
     "output_type": "stream",
     "text": [
      "Epoch 18, Loss 0.0638: 100%|██████████| 251/251 [00:01<00:00, 242.30it/s]\n"
     ]
    },
    {
     "name": "stdout",
     "output_type": "stream",
     "text": [
      "Validation loss: 0.0775176699731558 ; Terminate loss: 0.06301487543221031 ; Next state loss: 0.014502794200938845\n"
     ]
    },
    {
     "name": "stderr",
     "output_type": "stream",
     "text": [
      "Epoch 19, Loss 0.0622: 100%|██████████| 251/251 [00:01<00:00, 235.17it/s]\n"
     ]
    },
    {
     "name": "stdout",
     "output_type": "stream",
     "text": [
      "Validation loss: 0.06575093600928547 ; Terminate loss: 0.05335646194391071 ; Next state loss: 0.012394473575691263\n"
     ]
    },
    {
     "name": "stderr",
     "output_type": "stream",
     "text": [
      "Epoch 20, Loss 0.0600: 100%|██████████| 251/251 [00:01<00:00, 236.76it/s]\n"
     ]
    },
    {
     "name": "stdout",
     "output_type": "stream",
     "text": [
      "Validation loss: 0.06412809426870404 ; Terminate loss: 0.05191769167071297 ; Next state loss: 0.012210402767994396\n"
     ]
    },
    {
     "name": "stderr",
     "output_type": "stream",
     "text": [
      "Epoch 21, Loss 0.0590: 100%|██████████| 251/251 [00:01<00:00, 240.91it/s]\n"
     ]
    },
    {
     "name": "stdout",
     "output_type": "stream",
     "text": [
      "Validation loss: 0.0629559794943484 ; Terminate loss: 0.05106007764189844 ; Next state loss: 0.01189590189033114\n"
     ]
    },
    {
     "name": "stderr",
     "output_type": "stream",
     "text": [
      "Epoch 22, Loss 0.0582: 100%|██████████| 251/251 [00:01<00:00, 209.90it/s]\n"
     ]
    },
    {
     "name": "stdout",
     "output_type": "stream",
     "text": [
      "Validation loss: 0.06969620161948518 ; Terminate loss: 0.057094209894005744 ; Next state loss: 0.012601991790154624\n"
     ]
    },
    {
     "name": "stderr",
     "output_type": "stream",
     "text": [
      "Epoch 23, Loss 0.0572: 100%|██████████| 251/251 [00:01<00:00, 229.73it/s]\n"
     ]
    },
    {
     "name": "stdout",
     "output_type": "stream",
     "text": [
      "Validation loss: 0.061333139029715864 ; Terminate loss: 0.04922389607536533 ; Next state loss: 0.012109243498545967\n"
     ]
    },
    {
     "name": "stderr",
     "output_type": "stream",
     "text": [
      "Epoch 24, Loss 0.0559: 100%|██████████| 251/251 [00:01<00:00, 246.99it/s]\n"
     ]
    },
    {
     "name": "stdout",
     "output_type": "stream",
     "text": [
      "Validation loss: 0.06016261482404338 ; Terminate loss: 0.04860841778535691 ; Next state loss: 0.011554197083035159\n"
     ]
    }
   ],
   "source": [
    "dynamic_model = Model().to(device)\n",
    "dynamic_opt = torch.optim.Adam(dynamic_model.parameters(),lr=1e-3,weight_decay=3e-5)\n",
    "mean_losses = []\n",
    "mean_valid_losses = []\n",
    "for epoch in range(25):\n",
    "    with tqdm.tqdm(dl) as bar:\n",
    "        losses = []\n",
    "        for item in bar:\n",
    "            states = item['states']; actions = item['actions']; terminated = item['terminated']; next_states = item['next_states']\n",
    "            loss,_,_ = dynamic_model.get_loss(states,actions,next_states,terminated)\n",
    "            dynamic_opt.zero_grad()\n",
    "            loss.backward()\n",
    "            dynamic_opt.step()\n",
    "            losses.append(loss.detach().cpu().item())\n",
    "            bar.set_description(f'Epoch {epoch}, Loss {sum(losses)/len(losses):.4f}')\n",
    "    mean_losses.append(sum(losses)/len(losses))\n",
    "    with torch.no_grad():\n",
    "        valid_losses = []\n",
    "        terminate_losses = []\n",
    "        next_state_losses = []\n",
    "        for item in valid_dl:\n",
    "            states = item['states']; actions = item['actions']; terminated = item['terminated']; next_states = item['next_states']\n",
    "            loss,terminate_loss,next_state_loss = dynamic_model.get_loss(states,actions,next_states,terminated)\n",
    "            valid_losses.append(loss.detach().cpu().item())\n",
    "            terminate_losses.append(terminate_loss.detach().cpu().item())\n",
    "            next_state_losses.append(next_state_loss.detach().cpu().item())\n",
    "        print('Validation loss:',sum(valid_losses)/len(valid_losses),'; Terminate loss:',sum(terminate_losses)/len(terminate_losses),'; Next state loss:',sum(next_state_losses)/len(next_state_losses))\n",
    "    mean_valid_losses.append(sum(valid_losses)/len(valid_losses))"
   ]
  },
  {
   "cell_type": "code",
   "execution_count": 25,
   "metadata": {},
   "outputs": [
    {
     "data": {
      "image/png": "[encoded data removed]",
      "text/plain": [
       "<Figure size 640x480 with 1 Axes>"
      ]
     },
     "metadata": {},
     "output_type": "display_data"
    }
   ],
   "source": [
    "import matplotlib.pyplot as plt \n",
    "plt.plot(list(range(len(mean_losses))),mean_losses,label='train')\n",
    "plt.plot(list(range(len(mean_valid_losses))),mean_valid_losses,label='valid')\n",
    "plt.title('Dynamic model loss')\n",
    "plt.legend()\n",
    "plt.show()"
   ]
  },
  {
   "cell_type": "markdown",
   "metadata": {},
   "source": [
    "看起来，loss的下降还算稳定，并且没有很严重的过拟合。一切还算顺利。\n",
    "\n",
    "其实，严格上来说，我们还需要训练一个模型模拟`env.reset()`返回的initial state $s_0$的分布。但为了简化讨论，我们忽略这一点，直接还是使用`env.reset`。接下来，让我们重新利用自己的dynamic model来训练agent。我们只需要修改收集rollout的函数即可。\n",
    "\n",
    "需要注意，既然现在我们完全不清楚MDP的内部，我们就不能像之前一样指定训练的state了。相反，我们使用之前训练dynamic model的数据来取state。"
   ]
  },
  {
   "cell_type": "code",
   "execution_count": 26,
   "metadata": {},
   "outputs": [
    {
     "name": "stdout",
     "output_type": "stream",
     "text": [
      "Number of states: 1000\n"
     ]
    }
   ],
   "source": [
    "states = torch.cat([item['states'] for item in dl],dim=0)\n",
    "states = [states[i] for i in range(states.shape[0])]\n",
    "states = states[:1000]\n",
    "print('Number of states:',len(states))"
   ]
  },
  {
   "cell_type": "code",
   "execution_count": 27,
   "metadata": {},
   "outputs": [
    {
     "name": "stdout",
     "output_type": "stream",
     "text": [
      "Collected 1000 transitions\n"
     ]
    }
   ],
   "source": [
    "transitions = []\n",
    "for state in states:\n",
    "    out = []\n",
    "    actions = torch.tensor([0,1],dtype=torch.float).to(device)\n",
    "    for action in [0,1]:\n",
    "        # sample from our dynamic model\n",
    "        next_state,_,terminated,_ = dynamic_model.step(state,action)\n",
    "        out.append((action,next_state,reward,terminated))\n",
    "    transitions.append((state,out))\n",
    "\n",
    "print('Collected',len(transitions),'transitions')"
   ]
  },
  {
   "cell_type": "markdown",
   "metadata": {},
   "source": [
    "然后，把上面的工作重新做一遍："
   ]
  },
  {
   "cell_type": "code",
   "execution_count": 28,
   "metadata": {},
   "outputs": [],
   "source": [
    "class ValueNet(nn.Module):\n",
    "\n",
    "    def __init__(self):\n",
    "        super().__init__()\n",
    "        self.mlp = nn.Sequential(\n",
    "            nn.Linear(4,128),\n",
    "            nn.ReLU(),\n",
    "            nn.Linear(128,64),\n",
    "            nn.ReLU(),\n",
    "            nn.Linear(64,1)\n",
    "        )\n",
    "\n",
    "    def forward(self,x):\n",
    "        return self.mlp(x)\n",
    "    \n",
    "    @torch.no_grad()\n",
    "    def get_action(self,x):\n",
    "        if not isinstance(x,torch.Tensor):\n",
    "            x = torch.tensor(x,dtype=torch.float).to(device)\n",
    "        best_act = None; best_val = -float('inf')\n",
    "        for action in [0,1]:\n",
    "            next_state,_,terminated,_ = dynamic_model.step(x,action)\n",
    "            if terminated:\n",
    "                val = 0\n",
    "            else:\n",
    "                val = self(next_state).cpu().item()\n",
    "            if val > best_val:\n",
    "                best_val = val\n",
    "                best_act = action\n",
    "        return best_act"
   ]
  },
  {
   "cell_type": "code",
   "execution_count": 29,
   "metadata": {},
   "outputs": [
    {
     "name": "stdout",
     "output_type": "stream",
     "text": [
      "We use the following state for monitoring Value:\n",
      " [-0.02531704  0.0003996   0.00438498 -0.04956347]\n"
     ]
    },
    {
     "name": "stderr",
     "output_type": "stream",
     "text": [
      "  0%|          | 0/200 [00:00<?, ?it/s]"
     ]
    },
    {
     "name": "stderr",
     "output_type": "stream",
     "text": [
      "Value of the given state: 19.26; Avg Loss: 3.2761: 100%|██████████| 200/200 [01:01<00:00,  3.23it/s]\n"
     ]
    }
   ],
   "source": [
    "net = ValueNet().to(device)\n",
    "target_net = ValueNet().to(device).requires_grad_(False)\n",
    "target_net.load_state_dict(net.state_dict())\n",
    "ALPHA = 0.1\n",
    "optimizer = torch.optim.Adam(net.parameters(),lr=1e-2,weight_decay=3e-5)\n",
    "\n",
    "specific_values,avg_losses = train(num_iterations=200)"
   ]
  },
  {
   "cell_type": "code",
   "execution_count": 30,
   "metadata": {},
   "outputs": [
    {
     "data": {
      "image/png": "[encoded data removed]",
      "text/plain": [
       "<Figure size 640x480 with 2 Axes>"
      ]
     },
     "metadata": {},
     "output_type": "display_data"
    }
   ],
   "source": [
    "import matplotlib.pyplot as plt\n",
    "fig,ax1 = plt.subplots()\n",
    "ax1.plot([x[0] * 10 for x in enumerate(specific_values)],specific_values,color='b',label='value')\n",
    "ax1.set_ylabel('Value for a given state')\n",
    "ax1.tick_params('y',color='b')\n",
    "ax2 = ax1.twinx()\n",
    "ax2.plot([x[0] for x in enumerate(avg_losses)],avg_losses,color='r',label='loss')\n",
    "ax2.set_ylabel('Average Loss')\n",
    "ax2.tick_params('y',color='r')\n",
    "ax1.legend()\n",
    "ax2.legend()\n",
    "plt.show()"
   ]
  },
  {
   "cell_type": "markdown",
   "metadata": {},
   "source": [
    "我们发现一个很大的问题：这里的loss上升的很快（回顾上一张图，可以看到代表loss的红线平均下来是不太动的，而在这里急剧地上升）。而且这还是loss最小的一批state，因此可以想象到Value Iteration的目标存在着很大（且随着iteration而增大）的误差。而且不管如何调节超参数，似乎都不行。\n",
    "\n",
    "这让我们有些不安，是否意味着要寄了？"
   ]
  },
  {
   "cell_type": "code",
   "execution_count": 31,
   "metadata": {},
   "outputs": [],
   "source": [
    "def demonstrate_policy(agent:ValueNet):\n",
    "    cum_rewards = []\n",
    "    for _ in range(10):\n",
    "        state,_ = env.reset()\n",
    "        tot = 0\n",
    "        for t in range(505):\n",
    "            action = agent.get_action(state)\n",
    "            state,reward,terminated,truncated,_ = env.step(action)\n",
    "            tot += reward\n",
    "            if truncated or terminated:\n",
    "                print(f'Stopped at time {t} due to', 'truncated' if truncated else 'terminated')\n",
    "                break\n",
    "        cum_rewards.append(tot)\n",
    "    print('Average cumulative reward:',sum(cum_rewards)/len(cum_rewards))"
   ]
  },
  {
   "cell_type": "code",
   "execution_count": 32,
   "metadata": {},
   "outputs": [
    {
     "name": "stdout",
     "output_type": "stream",
     "text": [
      "Stopped at time 10 due to terminated\n",
      "Stopped at time 9 due to terminated\n",
      "Stopped at time 8 due to terminated\n",
      "Stopped at time 8 due to terminated\n",
      "Stopped at time 10 due to terminated\n",
      "Stopped at time 10 due to terminated\n",
      "Stopped at time 10 due to terminated\n",
      "Stopped at time 10 due to terminated\n",
      "Stopped at time 11 due to terminated\n",
      "Stopped at time 10 due to terminated\n",
      "Average cumulative reward: 10.6\n"
     ]
    }
   ],
   "source": [
    "demonstrate_policy(net)"
   ]
  },
  {
   "cell_type": "markdown",
   "metadata": {},
   "source": [
    "果然！但差的程度还是远远糟于我们的想象。为什么会这样？我们接下来应该怎么办？\n",
    "\n",
    "首先，我们来看看，我们的dynamic model做得到底有多好呢？我们可以做一个动画的演示："
   ]
  },
  {
   "cell_type": "code",
   "execution_count": 33,
   "metadata": {},
   "outputs": [
    {
     "name": "stdout",
     "output_type": "stream",
     "text": [
      "The real environment is stopped at time 499\n",
      "Generating Video, this may take around 30 seconds...\n"
     ]
    },
    {
     "data": {
      "text/html": [
       "<video controls  >\n",
       " <source src=\"data:video/mp4;base64,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\" type=\"video/mp4\">\n",
       " Your browser does not support the video tag.\n",
       " </video>"
      ],
      "text/plain": [
       "<IPython.core.display.Video object>"
      ]
     },
     "metadata": {},
     "output_type": "display_data"
    }
   ],
   "source": [
    "import gymnasium as gym\n",
    "import random\n",
    "from utils_0_intro import compare_videos,CartPoleEnv\n",
    "def get_action(state): # Copied from TrivialAgent\n",
    "    _,_,theta,omg = state\n",
    "    if theta < 0 and omg < 0:\n",
    "        return 0\n",
    "    if theta > 0 and omg > 0:\n",
    "        return 1\n",
    "    return random.choice([0,1])\n",
    "\n",
    "\n",
    "frames1 = [];frames2 = []\n",
    "env = gym.make('CartPole-v1',render_mode='rgb_array')\n",
    "fooenv = CartPoleEnv(render_mode='rgb_array')\n",
    "fooenv.reset()\n",
    "state1,_ = env.reset()\n",
    "state2 = torch.tensor(state1,dtype=torch.float).to(device)\n",
    "\n",
    "for t in range(501):\n",
    "    frames1.append(env.render())\n",
    "    fooenv.state = state2.cpu().numpy()\n",
    "    frames2.append(fooenv.render())\n",
    "\n",
    "    action = get_action(state1)\n",
    "\n",
    "    state1, reward, terminated, truncated, info = env.step(action)\n",
    "\n",
    "    state2,_,terminated2,_ = dynamic_model.step(state2,torch.tensor(action,dtype=torch.float).to(device))\n",
    "\n",
    "    if terminated or truncated:\n",
    "        print('The real environment is stopped at time',t)\n",
    "    if terminated2:\n",
    "        print('The model terminated at time',t)\n",
    "    if terminated or terminated2 or truncated:\n",
    "        break\n",
    "\n",
    "print('Generating Video, this may take around 30 seconds...')\n",
    "compare_videos(frames1,frames2,title1='Original',title2='Predicted')"
   ]
  },
  {
   "cell_type": "markdown",
   "metadata": {},
   "source": [
    "可以看到，虽然loss很低，但是在几十步之后模型就停止了，而真正的环境还完全活着！并且，在大约30步的时候，模型就出现了很大的偏差。\n",
    "\n",
    "为什么会这样？这其实很好理解！比如你发现我们的terminated的cross entropy loss大约是0.05，这意味着每一次就有 $1-e^{0.05}$ 的概率犯错误；这样，在大约20轮后，就有很高的概率犯错误了。因此在真正的环境还处于良好状态的时候，模型就有可能认为这一状态应该停止。\n",
    "\n",
    "因此，我们不应该完全利用模型，而是应该结合之前采集的数据和模型的数据。让我们再来试一试！\n",
    "\n",
    "> 你可能觉得这些讨论仍然无法解释loss飞速上升的问题？的确，这里很难找到一个绝对的原因。但是，可以推测，因为模型比较差，环境很容易随便就终止了，这样agent就不清楚"
   ]
  },
  {
   "cell_type": "markdown",
   "metadata": {},
   "source": [
    "# Backup"
   ]
  },
  {
   "cell_type": "code",
   "execution_count": 21,
   "metadata": {},
   "outputs": [
    {
     "name": "stdout",
     "output_type": "stream",
     "text": [
      "Stopped at time 103 due to terminated\n",
      "Stopped at time 98 due to terminated\n",
      "Stopped at time 41 due to terminated\n",
      "Stopped at time 8 due to terminated\n",
      "Stopped at time 8 due to terminated\n",
      "Stopped at time 50 due to terminated\n",
      "Stopped at time 60 due to terminated\n",
      "Stopped at time 78 due to terminated\n",
      "Stopped at time 26 due to terminated\n",
      "Stopped at time 27 due to terminated\n",
      "Average cumulative reward: 50.9\n"
     ]
    }
   ],
   "source": [
    "env = gym.make('CartPole-v1')\n",
    "\n",
    "def demonstrate_policy(agent:ValueNet):\n",
    "    cum_rewards = []\n",
    "    for _ in range(10):\n",
    "        state,_ = env.reset()\n",
    "        state = torch.from_numpy(state).to(device)\n",
    "        tot = 0\n",
    "        for t in range(505):\n",
    "            action = agent.get_action(state)\n",
    "            state,reward,terminated,_ = dynamic_model.step(state,torch.tensor(action,dtype=torch.float).to(device))\n",
    "            tot += reward\n",
    "            if terminated:\n",
    "                print(f'Stopped at time {t} due to terminated')\n",
    "                break\n",
    "        cum_rewards.append(tot)\n",
    "    print('Average cumulative reward:',sum(cum_rewards)/len(cum_rewards))\n",
    "\n",
    "demonstrate_policy(net)"
   ]
  },
  {
   "cell_type": "code",
   "execution_count": null,
   "metadata": {},
   "outputs": [],
   "source": []
  }
 ],
 "metadata": {
  "kernelspec": {
   "display_name": "base",
   "language": "python",
   "name": "python3"
  },
  "language_info": {
   "codemirror_mode": {
    "name": "ipython",
    "version": 3
   },
   "file_extension": ".py",
   "mimetype": "text/x-python",
   "name": "python",
   "nbconvert_exporter": "python",
   "pygments_lexer": "ipython3",
   "version": "3.10.14"
  }
 },
 "nbformat": 4,
 "nbformat_minor": 2
}
