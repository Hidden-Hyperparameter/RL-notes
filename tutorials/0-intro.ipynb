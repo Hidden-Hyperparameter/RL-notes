{
 "cells": [
  {
   "cell_type": "markdown",
   "metadata": {},
   "source": [
    "# 0 Introduction to RL"
   ]
  },
  {
   "cell_type": "markdown",
   "metadata": {},
   "source": [
    "本讲内容十分有趣，像一个“大串烧”：我们以一个完全没有学习过RL的初学者的视角来看RL问题，并尽可能自然地引入许多常见的RL算法。尽管这里并不会详细介绍细节（细节会在后面的讲内部介绍），但是会建立起对这些算法的直观理解。这些理解对之后的深入讨论是至关重要的。"
   ]
  },
  {
   "cell_type": "markdown",
   "metadata": {},
   "source": [
    "**什么是RL?**\n",
    "\n",
    "> Reinforcement learning (RL) is an **interdisciplinary area** of **machine learning** and **optimal control** concerned with how an intelligent agent **ought to take actions** in a **dynamic environment** in order to **maximize the cumulative reward**. Reinforcement learning is one of three basic machine learning paradigms, alongside supervised learning and unsupervised learning. (Wikipedia)\n",
    "\n",
    "简单来说，RL就是一个研究 **如何在和环境交互中最大化自己的利益，或者“reward”** 的学科。RL中重要的元素是**agent**和**environment**，二者形成一个闭环：\n",
    "- agent的输入是environment的反馈，输出它的应对，一般称为**action**；\n",
    "- environment接收agent的反应，并进行一个演化。演化结果给出新的 **状态(state)** 。此外，为了给予agent一个目标，环境还要给agent一个**reward**。\n",
    "\n",
    "换句话说，agent在每一个state下面给出action，而环境根据这个action就会到达一个新的state。而agent的整体目标，如上所述，是 **最大化reward的时间和**。\n",
    "\n",
    "![](./assets/0-1.png)"
   ]
  },
  {
   "cell_type": "markdown",
   "metadata": {},
   "source": [
    "## 0.1 Life is a MDP"
   ]
  },
  {
   "cell_type": "markdown",
   "metadata": {},
   "source": [
    "### MDP\n",
    "\n",
    "在介绍RL的基本概念之前，我们首先要介绍MDP的概念。MDP是**Markov Decision Process**的缩写，是强化学习的基础。"
   ]
  },
  {
   "cell_type": "markdown",
   "metadata": {},
   "source": [
    "一个MDP包括：\n",
    "- 一个状态空间(state space) $S$\n",
    "- 一个动作空间(action space) $A$\n",
    "- 一个奖励函数(reward function) $r$\n",
    "    - 具体地，对于一个state $s\\in S$和一个action $a\\in A$，这一函数给出一个实数 $r(s,a)$，代表着在state $s$下面采取action $a$获得的“奖励”。\n",
    "- 一个状态转移函数(transition function) $p$\n",
    "    - 具体地，对于一个state $s\\in S$和一个action $a\\in A$，这一函数给出一个概率分布$p(s'|s,a)$，代表着在state $s$下面采取action $a$之后，下一个state是$s'$的概率。"
   ]
  },
  {
   "cell_type": "markdown",
   "metadata": {},
   "source": [
    "\n",
    "这里的“Markov”体现在哪里呢？我们可以设想一个agent在和环境逐渐地交互：\n",
    "- agent初始时处于一个state $s_0$,这是环境给定的；\n",
    "- agent根据$s_0$采取一个action $a_0$；\n",
    "- 环境根据$s_0$和$a_0$给出一个reward $r_0$，并且给出下一个state $s_1$。此时，agent就处于state $s_1$；\n",
    "- agent再根据$s_1$采取一个action $a_1$。不断由此往复……\n",
    "\n",
    "可以看到，在这一过程中，只要第$t$轮的$s_t,a_t$给定了，环境就可以决定$s_{t+1}$，而不需要$s_0,a_0,s_1,\\cdots,s_{t-1},a_{t-1}$这些信息！这就是Markov性质的体现。"
   ]
  },
  {
   "cell_type": "markdown",
   "metadata": {},
   "source": [
    "那么，“Decision”又是指什么呢？可以看到，上面的描述只包含了环境的部分；而我们的agent的介入方式也很简单，就是对于一个state $s$，给出一个**政策** (policy)，也就是action的分布。我们可以把它记作$\\pi(a|s)$。\n",
    "\n",
    "> Q: 为什么政策只需要当前的state就可以做出决定呢？和历史一定无关吗？\n",
    ">\n",
    "> A: 这是也是因为我们Markov的假设。你说的这种情况叫做“Non-markovian agent”。虽然这更普遍，但很多经验表明，non-markovian的agent并不比我们这样的agent做的好很多。"
   ]
  },
  {
   "cell_type": "markdown",
   "metadata": {},
   "source": [
    "### POMDP\n",
    "\n",
    "POMDP是Partially Observed MDP的简称。这对应一个虽然略复杂，但更普适的问题陈述：环境并不一定向我们完全袒露心怀，而是只给我们一部分信息。这样的问题在实际中更为常见。比如说，在物理的控制问题中，我们获得一张快照时，就丧失了作为物理系统的state所必须的速度信息。"
   ]
  },
  {
   "cell_type": "markdown",
   "metadata": {},
   "source": [
    "对于POMDP，我们的policy就不能再是state的函数了。我们后面介绍POMDP的问题的时候也会提到，有两种类型的policy:\n",
    "\n",
    "- memoryless: $\\pi(a_t|o_t)$\n",
    "- history-dependent: $\\pi(a_t|o_1,o_2,\\cdots,o_t)$\n",
    "\n",
    "对于前者，我们有一个形象的图来展示：\n",
    "\n",
    "![](../lecture/notes/assets/2-1.png)"
   ]
  },
  {
   "cell_type": "markdown",
   "metadata": {},
   "source": [
    "这里的箭头代表着依赖关系，比如$o_t$依赖于且仅依赖于$s_t$。这样的问题就更加复杂了，因为observation本身不是markovian的——$o_t$不仅依赖于$o_{t-1},a_{t-1}$，而且依赖于$o_{t-2},a_{t-2},\\cdots,o_1,a_1$。\n",
    "\n",
    "在接下来的讨论中，如果不加说明，我们都考虑fully observed的MDP。"
   ]
  },
  {
   "cell_type": "markdown",
   "metadata": {},
   "source": [
    "### Experiment: MDP Simulators\n",
    "\n",
    "MDP是一个如此广泛的概念，以至于大部分生活中的问题，在合适地定义state后，都可以变成一个在MDP中最大化cumulative reward的问题。正因如此，**RL基本上就是研究求解MDP的学科**。\n",
    "\n",
    "但是，在研究RL时，如果真的要和环境进行交互，可能会有很大的代价（想一想为什么？）为此，OpenAI 的 `gym` 包创造了许多模拟环境，供人们“刷分”，也就是把RL算法投入真正应用前先看一看大体上这一方法好不好。我们接下来来看一下gym的使用。\n",
    "\n",
    "> gym就是一坨答辨。 ——某学长\n",
    "\n",
    "gym以它的不稳定和不兼容著称，而其渲染部分则是更符合这一描述。因此，在下面的代码开始前，让我们：\n",
    "- 创造一个`python==3.10`的环境；\n",
    "- 安装[requirements.txt](./requirements.txt)内的包；\n",
    "- 运行`bash install.sh`；\n",
    "- 如果在下面的代码的运行中，你遇到和渲染相关的错误，请不要贸然相信GPT或copilot给你的命令，因为它们有可能会让你的图形界面崩溃，或者显卡驱动失效。建议在各种论坛网站上找一些解决方案。\n",
    "- 如果你奋斗了很久还是看不到图片，建议你不要再尝试了，而是把所有含有`render`相关的代码注释掉，并观察后面的输出。在之后一般情况下，我们都不会用到渲染。\n",
    "- 最后，祈祷！"
   ]
  },
  {
   "cell_type": "code",
   "execution_count": 1,
   "metadata": {},
   "outputs": [
    {
     "data": {
      "text/plain": [
       "'Good luck!'"
      ]
     },
     "execution_count": 1,
     "metadata": {},
     "output_type": "execute_result"
    }
   ],
   "source": [
    "%matplotlib inline\n",
    "\"Gym, I cry out to You; make haste to me! Give output to my code when I cry out to You. Let my library be set before You as binaries, the lifting up of my hands as drivers for graphics.\" and 'Good luck!'"
   ]
  },
  {
   "cell_type": "code",
   "execution_count": 2,
   "metadata": {},
   "outputs": [
    {
     "name": "stdout",
     "output_type": "stream",
     "text": [
      "Your device is cuda\n",
      "Initial state: [ 0.0273956  -0.00611216  0.03585979  0.0197368 ]\n",
      "Initial info: {}\n"
     ]
    },
    {
     "data": {
      "image/png": "[encoded data removed]",
      "text/plain": [
       "<Figure size 640x480 with 1 Axes>"
      ]
     },
     "metadata": {},
     "output_type": "display_data"
    }
   ],
   "source": [
    "import gymnasium as gym\n",
    "from utils import show_image\n",
    "# Create the CartPole environment with 'rgb_array' mode\n",
    "env = gym.make('CartPole-v1', render_mode='rgb_array')\n",
    "\n",
    "# Reset the environment\n",
    "state,info = env.reset(seed=42)\n",
    "print('Initial state:',state)\n",
    "print('Initial info:',info)\n",
    "\n",
    "# Render the environment and display the image\n",
    "image = env.render()\n",
    "show_image(image)"
   ]
  },
  {
   "cell_type": "markdown",
   "metadata": {},
   "source": [
    "如果你成功看到了上面的输出和图片，那么恭喜你，你看到了环境`env`在初始化时的state $s_0$。根据gym的[官方文档](https://gymnasium.farama.org/environments/classic_control/cart_pole/)，这一环境的名字叫做`CartPole`，描述的是一个匀质杆一段铰接在一个置于光滑导轨的小车上。我们看到的`Initial state`中这四个参数的含义如下：\n",
    "- Cart Position\n",
    "- Cart Velocity\n",
    "- Pole Angle\n",
    "- Pole Angular Velocity\n",
    "\n",
    "（注：`gym`包中管这个state叫做`observation`，比如`env.observation_space`实际上是state space的意思）。上面的结果是决定性的，因为我们手动设置了`seed`为42。接下来，让我们再看看action是什么："
   ]
  },
  {
   "cell_type": "code",
   "execution_count": 3,
   "metadata": {},
   "outputs": [
    {
     "data": {
      "text/plain": [
       "('action space', [0, 1, 1, 0, 0, 1, 0, 1, 0, 0])"
      ]
     },
     "execution_count": 3,
     "metadata": {},
     "output_type": "execute_result"
    }
   ],
   "source": [
    "env.action_space.seed(42)\n",
    "env.observation_space.seed(42)\n",
    "'action space',[env.action_space.sample() for _ in range(10)]"
   ]
  },
  {
   "cell_type": "markdown",
   "metadata": {},
   "source": [
    "根据官方文档，0代表向左推一下车，而1代表向右推一下。那么，假设对于初始的状态，我们连续地向右推，会变成什么样？"
   ]
  },
  {
   "cell_type": "code",
   "execution_count": 4,
   "metadata": {},
   "outputs": [
    {
     "name": "stdout",
     "output_type": "stream",
     "text": [
      "time stamp 0 reward: 1.0\n",
      "time stamp 1 reward: 1.0\n",
      "time stamp 2 reward: 1.0\n",
      "time stamp 3 reward: 1.0\n",
      "time stamp 4 reward: 1.0\n",
      "time stamp 5 reward: 1.0\n",
      "time stamp 6 reward: 1.0\n",
      "time stamp 7 reward: 1.0\n",
      "time stamp 8 reward: 1.0\n",
      "time stamp 9 reward: 1.0\n",
      "Stopped at timestamp 9 due to done\n"
     ]
    },
    {
     "data": {
      "text/html": [
       "<video controls  >\n",
       " <source src=\"data:video/mp4;base64,AAAAIGZ0eXBpc29tAAACAGlzb21pc28yYXZjMW1wNDEAAAAIZnJlZQAAB49tZGF0AAACrwYF//+r3EXpvebZSLeWLNgg2SPu73gyNjQgLSBjb3JlIDE2NCByMzEwOCAzMWUxOWY5IC0gSC4yNjQvTVBFRy00IEFWQyBjb2RlYyAtIENvcHlsZWZ0IDIwMDMtMjAyMyAtIGh0dHA6Ly93d3cudmlkZW9sYW4ub3JnL3gyNjQuaHRtbCAtIG9wdGlvbnM6IGNhYmFjPTEgcmVmPTMgZGVibG9jaz0xOjA6MCBhbmFseXNlPTB4MzoweDExMyBtZT1oZXggc3VibWU9NyBwc3k9MSBwc3lfcmQ9MS4wMDowLjAwIG1peGVkX3JlZj0xIG1lX3JhbmdlPTE2IGNocm9tYV9tZT0xIHRyZWxsaXM9MSA4eDhkY3Q9MSBjcW09MCBkZWFkem9uZT0yMSwxMSBmYXN0X3Bza2lwPTEgY2hyb21hX3FwX29mZnNldD0tMiB0aHJlYWRzPTEyIGxvb2thaGVhZF90aHJlYWRzPTIgc2xpY2VkX3RocmVhZHM9MCBucj0wIGRlY2ltYXRlPTEgaW50ZXJsYWNlZD0wIGJsdXJheV9jb21wYXQ9MCBjb25zdHJhaW5lZF9pbnRyYT0wIGJmcmFtZXM9MyBiX3B5cmFtaWQ9MiBiX2FkYXB0PTEgYl9iaWFzPTAgZGlyZWN0PTEgd2VpZ2h0Yj0xIG9wZW5fZ29wPTAgd2VpZ2h0cD0yIGtleWludD0yNTAga2V5aW50X21pbj0yMCBzY2VuZWN1dD00MCBpbnRyYV9yZWZyZXNoPTAgcmNfbG9va2FoZWFkPTQwIHJjPWNyZiBtYnRyZWU9MSBjcmY9MjMuMCBxY29tcD0wLjYwIHFwbWluPTAgcXBtYXg9NjkgcXBzdGVwPTQgaXBfcmF0aW89MS40MCBhcT0xOjEuMDAAgAAAAd9liIQAM//+9uy+BTX9n9CXESzF2kpwPiqkgIB3NMAAKd5AAAADAAdFuEfiFgSD5MAAAAMDjACghYBHhKhbCQj7HEPBZ+aMiS4ADJzmePRCYX9feYtkM56MiafQ3a9p5777/BxKIvMdKHkLIst8xQ2zlQp67iOlc9ZNecXYYPCS/O90iID2M+iAH9CPthqZLXuF5cmjl0ZdoLccoymKDc+o8mOA1Srn5FuPzm1YNYFU7LPMFP61vtKBJwjDlNujwKgeAdH68zhPz1HtCFIJBt8FGw7LJCVEPXtSdzhWRgO0IbUhonERoa4Atvh83Ll8MFnfwterBkjQLArCsEEEawfLJ7U7ZU6Tosb73VZB6uR5Huufd9BkIkhta5NGe4Pt8yfmqAIQEbgGVU6rrG8a9P+YKK07WpgLGI2FjAxJYLs3BedCaLeVh1ShbBUrbREIAUVMAUEJ+cSoMwPh7yh0iwF4GjrSRf7G0/m8uwBTrqC8hj6xk2zM0ydaqZdffxKn6TVmc/eox4c4R903vVp2wQB6pcdVrnsyKBpzTSdeygmkP0f0NJI7RuA1mkBFhNYS1uYSFqig3NQ2fmppQCiJnCPIt5YPH/ohEJKXTWkge6k6HPQPgAAAAwAAAwAAAwAM6QAAAHBBmiRsQz/+nhAAABmyfCldMgAQ2AATPFm6OyS3ysh0b/76N6mcblBIov/XdUxmVcuOx6azb8radlfWvJcXUkMbPGhsMjDcMknfb0anT1httcpYnXUzk9DhXVzdZGUAqYp5BNEVLRGF21qrNqPUJvSAAAAAIUGeQniGfwAAAwLpJh1pExROhJthp3BjAYLBGKi92gls4QAAABABnmF0Qr8AAAMB++AfABHwAAAANQGeY2pCvwAABWa/kFiKKRQoGBwsBkVHaichWiOsWaSYAQhFZCGN1AJc7EQkviI+CvNONLZxAAAAokGaaEmoQWiZTAhX//44QAAAZDkbSNlJGpSAGpk19reL6R6NxIWSn9TdhEXaepNlDWTay54hQCPws7MS0Qh9lk9I9/w0dZWDtVrzrqtZTHHXX6aM+/rfzwQ6T5uK/91w3qRoj9Jb3zNKdP7r0iGajdCCkd1rjG2Ra2MsLQ1E6pirfhn+zLHilYiG9/LeI14OVGmNdVd6HHOOrb6lLHZFjUL7oQAAAFVBnoZFESwz/wAAAwL8wytrdWvaACU7AjAJo6GhgC/lSaSgXGdxchVEWR8/mMvgS/A/y2YyMQ2LQhjhgXHxLQmhI01UhbmTD/gQ6xFBLaw8X1udqL3RAAAAPAGepXRCvwAABWR8yFP5svwwMquHWAoKwqyWdwr2Q2pAfTNyvlnk8pABu0q8pOGAZkiHhc6JtOesrlKmVQAAAE8BnqdqQr8AAAVlgb56asHuNoUcPHgXCMbqGX4yqMDfrR65PGmgMwZyg/NNOXABF9jeAKvGxiiMnaQOOxgpRSc1sEKjERMbD2Lms8bwZe6AAAAAdUGaqUmoQWyZTAhX//44QAAAZ31GtnmeNIAW2c6bLrSBIknb7A5+udR06RQ/7XHx3oEaxt6Nn39r8oyZfNX59nbsG/LpkFOnwP1DZo7OiKKdcwUgheeY5IKut2pKHyp49AkOsTvpMRLX/e5fTajYAyxJFpTAoAAAA6Ntb292AAAAbG12aGQAAAAAAAAAAAAAAAAAAAPoAAAB9AABAAABAAAAAAAAAAAAAAAAAQAAAAAAAAAAAAAAAAAAAAEAAAAAAAAAAAAAAAAAAEAAAAAAAAAAAAAAAAAAAAAAAAAAAAAAAAAAAAAAAAACAAACzXRyYWsAAABcdGtoZAAAAAMAAAAAAAAAAAAAAAEAAAAAAAAB9AAAAAAAAAAAAAAAAAAAAAAAAQAAAAAAAAAAAAAAAAAAAAEAAAAAAAAAAAAAAAAAAEAAAAACWAAAAZAAAAAAACRlZHRzAAAAHGVsc3QAAAAAAAAAAQAAAfQAAAQAAAEAAAAAAkVtZGlhAAAAIG1kaGQAAAAAAAAAAAAAAAAAACgAAAAUAFXEAAAAAAAtaGRscgAAAAAAAAAAdmlkZQAAAAAAAAAAAAAAAFZpZGVvSGFuZGxlcgAAAAHwbWluZgAAABR2bWhkAAAAAQAAAAAAAAAAAAAAJGRpbmYAAAAcZHJlZgAAAAAAAAABAAAADHVybCAAAAABAAABsHN0YmwAAACwc3RzZAAAAAAAAAABAAAAoGF2YzEAAAAAAAAAAQAAAAAAAAAAAAAAAAAAAAACWAGQAEgAAABIAAAAAAAAAAEVTGF2YzYwLjMxLjEwMiBsaWJ4MjY0AAAAAAAAAAAAAAAY//8AAAA2YXZjQwFkABb/4QAZZ2QAFqzZQJgz5eEAAAMAAQAAAwAoDxYtlgEABmjr48siwP34+AAAAAAUYnRydAAAAAAAAHhwAAB4cAAAABhzdHRzAAAAAAAAAAEAAAAKAAACAAAAABRzdHNzAAAAAAAAAAEAAAABAAAAYGN0dHMAAAAAAAAACgAAAAEAAAQAAAAAAQAACgAAAAABAAAEAAAAAAEAAAAAAAAAAQAAAgAAAAABAAAKAAAAAAEAAAQAAAAAAQAAAAAAAAABAAACAAAAAAEAAAQAAAAAHHN0c2MAAAAAAAAAAQAAAAEAAAAKAAAAAQAAADxzdHN6AAAAAAAAAAAAAAAKAAAElgAAAHQAAAAlAAAAFAAAADkAAACmAAAAWQAAAEAAAABTAAAAeQAAABRzdGNvAAAAAAAAAAEAAAAwAAAAYnVkdGEAAABabWV0YQAAAAAAAAAhaGRscgAAAAAAAAAAbWRpcmFwcGwAAAAAAAAAAAAAAAAtaWxzdAAAACWpdG9vAAAAHWRhdGEAAAABAAAAAExhdmY2MC4xNi4xMDA=\" type=\"video/mp4\">\n",
       " Your browser does not support the video tag.\n",
       " </video>"
      ],
      "text/plain": [
       "<IPython.core.display.Video object>"
      ]
     },
     "metadata": {},
     "output_type": "display_data"
    }
   ],
   "source": [
    "from utils import show_video\n",
    "import numpy as np\n",
    "frames = []\n",
    "for t in range(100):\n",
    "    image = env.render()\n",
    "    frames.append(image)\n",
    "\n",
    "    action = np.int64(1) # always take the \"push right\" action.\n",
    "    next_state, reward, done, truncated, info = env.step(action) # 'step' is the function that gives the transition.\n",
    "    state = next_state\n",
    "    print('time stamp',t,'reward:',reward)\n",
    "    if done or truncated:\n",
    "        print('Stopped at timestamp',t,'due to','done' if done else 'truncated')\n",
    "        break\n",
    "\n",
    "show_video(frames)"
   ]
  },
  {
   "cell_type": "markdown",
   "metadata": {},
   "source": [
    "很直观——如果我们一直推这一个车，杆就会向左倒下。此时，因为杆和竖直方向的夹角达到了某个临界值，`env`自动判断为游戏失败而结束。这就是`done`为`True`的原因。\n",
    "\n",
    "同时，我们也可以看到`reward`的数值——对于每一个存活下来的一步，reward都是1。也就是说，我们的目的就是活得越长越好。"
   ]
  },
  {
   "cell_type": "markdown",
   "metadata": {},
   "source": [
    "最后，让我们建立一个简单的agent，对这一任务作出一个难度上的基础感受。我们的`TrivialAgent`的思路很简单——如果杆偏左并且角速度向左，那么我们就往左推车；如果杆偏右并且角速度向右，那么我们就往右推车。最后，对于其他情况，因为这取决于未知的物理参数，我们不妨随机来选取action。这十分粗暴，但不妨让我们就看看它能做得怎样。"
   ]
  },
  {
   "cell_type": "code",
   "execution_count": 5,
   "metadata": {},
   "outputs": [],
   "source": [
    "class TrivialAgent:\n",
    "\n",
    "    def __init__(self,action_space):\n",
    "        self.action_space = action_space\n",
    "    \n",
    "    def get_action(self,state):\n",
    "        _,_,theta,omg = state\n",
    "        if theta < 0 and omg < 0:\n",
    "            return 0\n",
    "        if theta > 0 and omg > 0:\n",
    "            return 1\n",
    "        return self.action_space.sample()"
   ]
  },
  {
   "cell_type": "code",
   "execution_count": 6,
   "metadata": {},
   "outputs": [
    {
     "name": "stdout",
     "output_type": "stream",
     "text": [
      "Terminate at time 499 due to truncated\n",
      "Terminate at time 499 due to truncated\n",
      "Terminate at time 347 due to done\n",
      "Terminate at time 412 due to done\n",
      "Terminate at time 395 due to done\n",
      "Terminate at time 482 due to done\n",
      "Terminate at time 499 due to truncated\n",
      "Terminate at time 249 due to done\n",
      "Terminate at time 499 due to truncated\n",
      "Terminate at time 310 due to done\n",
      "Average cumulative reward 420.1\n",
      "results: [500.0, 500.0, 348.0, 413.0, 396.0, 483.0, 500.0, 250.0, 500.0, 311.0]\n"
     ]
    }
   ],
   "source": [
    "agent = TrivialAgent(env.action_space)\n",
    "NUM_ROLLOUTS = 10\n",
    "results = []\n",
    "for rollout in range(NUM_ROLLOUTS):\n",
    "    cum_reward = 0\n",
    "    state,_ = env.reset()\n",
    "    for t in range(1000):\n",
    "        action = agent.get_action(state) # let our agent to decide what to do\n",
    "        next_state, reward, done, truncated, info = env.step(action)\n",
    "        state = next_state\n",
    "        cum_reward += reward\n",
    "        if done or truncated:\n",
    "            print('Terminate at time',t,'due to', 'done' if done else 'truncated')\n",
    "            results.append(cum_reward)\n",
    "            break\n",
    "print('Average cumulative reward',sum(results)/len(results))\n",
    "print('results:',results)"
   ]
  },
  {
   "cell_type": "markdown",
   "metadata": {},
   "source": [
    "利用`TrivialAgent`，我们解锁了一个新“技能”——`truncated`！这个情况是因为环境具有一个有限的“**horizon**”，也就是到达这个时间后就会自动结束，类似于“游戏胜利”。这样，总的cumulative reward才有上限。我们看到，就这样一个愚蠢的agent就已经可以做到84%的最优解了！因此，这一任务确实是简单的。\n",
    "\n",
    "我们还可以看到，不同组数据之间reward（即存活时间）可以相差很远——最大值是最小值的2倍！的确，你开始认识到RL了——一个接着一个的state迭代使得整个体系具有**巨大的方差**。我们后面会更加具体地讨论这一点。"
   ]
  },
  {
   "cell_type": "markdown",
   "metadata": {},
   "source": [
    "最后，让我们欣赏一下我们的第一个“agent”的舞蹈，来结束这一小节吧！"
   ]
  },
  {
   "cell_type": "code",
   "execution_count": 7,
   "metadata": {},
   "outputs": [
    {
     "name": "stdout",
     "output_type": "stream",
     "text": [
      "Stopped at timestamp 499 due to truncated\n"
     ]
    },
    {
     "data": {
      "text/html": [
       "<video controls  >\n",
       " <source src=\"data:video/mp4;base64,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\" type=\"video/mp4\">\n",
       " Your browser does not support the video tag.\n",
       " </video>"
      ],
      "text/plain": [
       "<IPython.core.display.Video object>"
      ]
     },
     "metadata": {},
     "output_type": "display_data"
    }
   ],
   "source": [
    "frames = []\n",
    "[env.reset() for _ in range(2)] # a tiny trick here :)\n",
    "observation,_ = env.reset()\n",
    "for t in range(1000):\n",
    "    image = env.render()\n",
    "    frames.append(image)\n",
    "\n",
    "    action = agent.get_action(observation)\n",
    "    next_state, reward, done, truncated, info = env.step(action)\n",
    "    observation = next_state\n",
    "    if done or truncated:\n",
    "        print('Stopped at timestamp',t,'due to','done' if done else 'truncated')\n",
    "        break\n",
    "\n",
    "show_video(frames)"
   ]
  },
  {
   "cell_type": "markdown",
   "metadata": {},
   "source": [
    "## 0.2 MDP Solvers"
   ]
  },
  {
   "cell_type": "markdown",
   "metadata": {},
   "source": [
    "理解了MDP的概念之后，我们试着解决MDP问题。乍一看我们可能完全摸不到头脑：比如CartPole环境中，我们是基于一些基础的物理知识作出的判断；但假设我们的agent没有物理知识的输入，它如何能学会在这一个MDP中拿到高分呢？一开始的四个参数就如同“盲盒”一般，agent肯定需要学习一下他们代表什么含义，以及如何演化，最后才进行我们上面所作的“策略设计”。如何让一个机器完成这一切呢？\n",
    "\n",
    "我们首先想到，一个主要的问题是环境的transition function和reward function都是完全未知的。倘若他们都是**已知的**，问题肯定会变得更简单：现在，相当于MDP作为一个透明的系统摆在我们面前，整个问题也就成为一个较为可控的问题。"
   ]
  },
  {
   "cell_type": "markdown",
   "metadata": {},
   "source": [
    "### Values\n",
    "\n",
    "这可能说起来略微抽象，但我们可以考虑如下的具体问题：在一个$4\\times 4$的方格表里有一个特殊的格子，到达那里时游戏结束并且获得奖励5，而其他地方的奖励都是-1（为了督促你尽快到达终点而非随机乱走）。transition也很简单：在每一个格子(state)处，可以选择向一个方向走(action)，然后就走到了下一个state。（如果在终点那么不管如何走都到达end state）。\n",
    "\n",
    "注意根据我们的假设，这个MDP是已知的，也就是我们知道那个特殊的格子在哪里。此时，如果不是agent而是人来解决这一问题，你该如何解决？很明显，你可以给出一个决定性的最优策略：假设我们在那个格子旁边的时候，我们就走过去；进一步，如果在再旁边一点的8个格子处，我们就走到前一次的4个格子……这样，递归地，如果确定了距离格子的Manhattan distance (定义为 $\\text{MHT}((x_1,y_1),(x_2,y_2))=|x_1-x_2|+|y_1-y_2|$)为$n$的所有点的策略，那么距离格子为$n+1$的所有点的策略也就确定了。因此，我们可以给出一个完整的策略。给定一个具体的 $4\\times 4$ 表格和那个特殊的格子，我们就可以给出这个最优策略。一个例子如下所示。\n",
    "\n",
    "|$\\rightarrow$ | $\\rightarrow$ | $\\downarrow$ | $\\leftarrow$|\n",
    "|--|--|--|--|\n",
    "| $\\rightarrow$| $\\to$ | $\\star$ | $\\leftarrow$ |\n",
    "|$\\rightarrow$ | $\\rightarrow$ | $\\uparrow$ | $\\leftarrow$ |\n",
    "| $\\rightarrow$| $\\uparrow$ | $\\uparrow$ | $\\leftarrow$|"
   ]
  },
  {
   "cell_type": "markdown",
   "metadata": {},
   "source": [
    "解决了这一问题，我们接下来试着把问题稍微一般化。假设transition并非像上面一样是确定的，而是**随机的**：在一个格子处向上走，只有70%的概率会真正走到上边——剩下的30%里，会随机走到周围剩余的格子里。注意这才是常态，因为我们在定义MDP的时候给出的就是transition probability $p(s'|s,a)$ 而非一个决定性的函数。我们接下来就来试着求解这一问题。"
   ]
  },
  {
   "cell_type": "markdown",
   "metadata": {},
   "source": [
    "#### Value Iteration\n",
    "\n",
    "那么，这样我们应该怎么办呢？容易想到，我们可以和上面完全类似地使用一种**递推关系**的方法解决这一问题。我们首先假设我们处于**最优的策略**；接下来，我们给每一个格子定义一个**价值**(value)，代表着如果我们是从这个格子出发，那么最好能达到多少分。很明显，我们有 $V(s_{\\star})=5$，其中$s_\\star$代表那个特殊的格子。而对于其他格子，我们则要试着把它的价值和周围几个格子的价值联系起来。"
   ]
  },
  {
   "cell_type": "markdown",
   "metadata": {},
   "source": [
    "||B| | |\n",
    "|--|--|--|--|\n",
    "|C| A | $\\star$ | |\n",
    "| | D| |  |\n",
    "| | | | |\n",
    "\n",
    "让我们以格子$A$为例来研究。我们虽然不知道最优策略是什么，但是我们总可以假设他的一般形式：\n",
    "\n",
    "$$\n",
    "\\pi^\\star(a|s_A)=\\begin{cases}\\rightarrow&,\\text{w.p. }p_1 \\\\\\leftarrow&,\\text{w.p. }p_2 \\\\ \\uparrow&,\\text{w.p. }p_3 \\\\ \\downarrow&,\\text{w.p. }p_4\\end{cases}\n",
    "$$\n",
    "\n",
    "其中$\\pi^\\star$的$\\star$代表这是最优策略。那么，我们就可以根据MDP和$V$的定义写出$V(A)$的表达式：\n",
    "\n",
    "$$\n",
    "\\begin{align*}\n",
    "V(s_A)&=p_1\\left[-1+(70\\%\\times V(s_{\\star})+10\\%\\times V(s_B)+10\\%\\times V(s_C)+10\\%\\times V(s_D))\\right]\\\\\n",
    "&\\quad +p_2\\left[-1+(70\\%\\times V(s_C)+10\\%\\times V(s_\\star)+10\\%\\times V(s_B)+10\\%\\times V(s_D))\\right]\\\\\n",
    "&\\quad +p_3\\left[-1+(70\\%\\times V(s_B)+10\\%\\times V(s_\\star)+10\\%\\times V(s_C)+10\\%\\times V(s_D))\\right]\\\\\n",
    "&\\quad +p_4\\left[-1+(70\\%\\times V(s_D)+10\\%\\times V(s_B)+10\\%\\times V(s_\\star)+10\\%\\times V(s_C))\\right]\n",
    "\\end{align*}\n",
    "$$\n",
    "\n",
    "但是我们又注意到$\\pi^\\star$是最优策略，因为这是我们的假设！因此，我们就可以“确定”下来$p_1,p_2,p_3,p_4$：一定是中括号里最大的那个action具有100%的概率，而其他都是0%概率。因此，我们就给出了：\n",
    "\n",
    "$$\n",
    "V(s_A)=-1+\\max\\Big\\{70\\%\\times V(s_{\\star})+10\\%\\times V(s_B)+10\\%\\times V(s_C)+10\\%\\times V(s_D),70\\%\\times V(s_C)+10\\%\\times V(s_\\star)+10\\%\\times V(s_B)+10\\%\\times V(s_D), \\\\ 70\\%\\times V(s_B)+10\\%\\times V(s_\\star)+10\\%\\times V(s_C)+10\\%\\times V(s_D), 70\\%\\times V(s_D)+10\\%\\times V(s_B)+10\\%\\times V(s_\\star)+10\\%\\times V(s_C)\\Big\\}\n",
    "$$"
   ]
  },
  {
   "cell_type": "markdown",
   "metadata": {},
   "source": [
    "类似地，对于其他的每一个格子，我们都可以列出这样的一个方程。16个方程16个未知数，理论上一定可以求解；但是一系列max的存在使得这个问题变得有些复杂。一个投机取巧的方式是说，假设我们并不是直接求解，而是通过“赋值”的方式来近似求解呢？这就是**Value Iteration**算法的基本思想——看，你已经接触到了第一个RL算法！\n",
    "\n",
    "让我们总结一下，并把上面的讨论一般化。我们给出**Value Iteration**：\n",
    "\n",
    "> **Value Iteration Algorithm**\n",
    "\n",
    "1. Init values $V(s)$ randomly for each state.\n",
    "2. Repeat until convergence:\n",
    "    - For each state $s$:\n",
    "        - Update $V(s)$ by\n",
    "        $$\n",
    "        V(s)\\leftarrow r(s,a)+\\max_{a\\in A}\\mathbb{E}_{s'\\sim p(s'|s,a)}[V(s')]\n",
    "        $$"
   ]
  },
  {
   "cell_type": "markdown",
   "metadata": {},
   "source": [
    "接下来，让我们就来把这一算法应用到上面提出的问题中吧！（为了使得代码简洁一些，我们把一些细节的内容放到了[utils_0_intro.py](./utils_0_intro.py)里面）"
   ]
  },
  {
   "cell_type": "code",
   "execution_count": 1,
   "metadata": {},
   "outputs": [
    {
     "data": {
      "text/markdown": [
       "|0.00|0.00|0.00|0.00|\n",
       "|-|-|-|-|\n",
       "|0.00|0.00|0.00|0.00|\n",
       "|0.00|0.00|0.00|0.00|\n",
       "|0.00|0.00|0.00|0.00|"
      ]
     },
     "metadata": {},
     "output_type": "display_data"
    }
   ],
   "source": [
    "from utils_0_intro import Table\n",
    "from utils import add_method_to_class\n",
    "\n",
    "@add_method_to_class(Table)\n",
    "def iteration(self:Table):\n",
    "    \"\"\"\n",
    "    Perform the Value Iteration algorithm above for one step, and update `self.V`.\n",
    "    \"\"\"\n",
    "    new_V = [[0]*self.size for _ in range(self.size)]\n",
    "    for i in range(self.size):\n",
    "        for j in range(self.size):\n",
    "            if (i,j) == self.special:\n",
    "                new_V[i][j] = 5\n",
    "                continue\n",
    "            l = []\n",
    "            for action in self.get_possible_action((i,j)):\n",
    "                weights = self.get_transition((i,j),action)\n",
    "                l.append(sum([w*self.V[x][y] for (x,y),w in weights.items()]))\n",
    "            new_V[i][j] = -1 + max(l) # The formula above\n",
    "    self.V = new_V\n",
    "\n",
    "t = Table()\n",
    "t.display()"
   ]
  },
  {
   "cell_type": "code",
   "execution_count": 2,
   "metadata": {},
   "outputs": [
    {
     "name": "stdout",
     "output_type": "stream",
     "text": [
      "Iteration 0\n"
     ]
    },
    {
     "data": {
      "text/markdown": [
       "|-1.00|-1.00|-1.00|-1.00|\n",
       "|-|-|-|-|\n",
       "|-1.00|-1.00|5.00|-1.00|\n",
       "|-1.00|-1.00|-1.00|-1.00|\n",
       "|-1.00|-1.00|-1.00|-1.00|"
      ]
     },
     "metadata": {},
     "output_type": "display_data"
    },
    {
     "name": "stdout",
     "output_type": "stream",
     "text": [
      "Iteration 5\n"
     ]
    },
    {
     "data": {
      "text/markdown": [
       "|0.02|1.07|2.95|1.66|\n",
       "|-|-|-|-|\n",
       "|0.30|2.76|5.00|2.95|\n",
       "|-0.67|0.61|2.76|1.07|\n",
       "|-2.74|-0.67|0.30|0.02|"
      ]
     },
     "metadata": {},
     "output_type": "display_data"
    },
    {
     "name": "stdout",
     "output_type": "stream",
     "text": [
      "Iteration 10\n"
     ]
    },
    {
     "data": {
      "text/markdown": [
       "|0.36|1.62|3.03|2.04|\n",
       "|-|-|-|-|\n",
       "|1.04|2.86|5.00|3.03|\n",
       "|-0.28|1.26|2.86|1.62|\n",
       "|-1.22|-0.28|1.04|0.36|"
      ]
     },
     "metadata": {},
     "output_type": "display_data"
    },
    {
     "name": "stdout",
     "output_type": "stream",
     "text": [
      "Iteration 15\n"
     ]
    },
    {
     "data": {
      "text/markdown": [
       "|0.47|1.64|3.05|2.05|\n",
       "|-|-|-|-|\n",
       "|1.08|2.90|5.00|3.05|\n",
       "|-0.10|1.29|2.90|1.64|\n",
       "|-1.13|-0.10|1.08|0.47|"
      ]
     },
     "metadata": {},
     "output_type": "display_data"
    },
    {
     "name": "stdout",
     "output_type": "stream",
     "text": [
      "Iteration 20\n"
     ]
    },
    {
     "data": {
      "text/markdown": [
       "|0.48|1.65|3.05|2.06|\n",
       "|-|-|-|-|\n",
       "|1.09|2.90|5.00|3.05|\n",
       "|-0.09|1.31|2.90|1.65|\n",
       "|-1.09|-0.09|1.09|0.48|"
      ]
     },
     "metadata": {},
     "output_type": "display_data"
    }
   ],
   "source": [
    "for time in range(21):\n",
    "    t.iteration()\n",
    "    if time % 5 == 0:\n",
    "        print('Iteration',time)\n",
    "        t.display()"
   ]
  },
  {
   "cell_type": "markdown",
   "metadata": {},
   "source": [
    "可以发现，这个算法很快就收敛了！的确——在后面的讲中，我们会论证这一算法的收敛性。但接下来，有了这些value，我们应该如何计算我们需要的最优policy呢（还记得我们一开始假设自己处于最优policy，但求解的目标实际上是找到这个policy）？这其实也很简单，因为我们已经得到了结论，我们的action一定是最大化reward $r(s,a)$ 和next value $V(s')$ 的期望值的和。\n",
    "\n",
    "这一过程也被称为**Policy Extraction**：\n",
    "\n",
    "$$\n",
    "\\pi^\\star(a|s)=\\delta\\left(a=\\arg\\max_{a\\in A}\\left(r(s,a)+\\mathbb{E}_{s'\\sim p(s'|s,a)}[V(s')]\\right)\\right)\n",
    "$$\n",
    "\n",
    "其中$\\delta$代表单点分布。\n",
    "\n",
    "让我们实现这一点："
   ]
  },
  {
   "cell_type": "code",
   "execution_count": 3,
   "metadata": {},
   "outputs": [
    {
     "data": {
      "text/markdown": [
       "|$\\rightarrow$|$\\rightarrow$|$\\downarrow$|$\\downarrow$|\n",
       "|-|-|-|-|\n",
       "|$\\rightarrow$|$\\rightarrow$|$\\star$|$\\leftarrow$|\n",
       "|$\\rightarrow$|$\\uparrow$|$\\uparrow$|$\\uparrow$|\n",
       "|$\\uparrow$|$\\uparrow$|$\\uparrow$|$\\uparrow$|"
      ]
     },
     "metadata": {},
     "output_type": "display_data"
    }
   ],
   "source": [
    "@add_method_to_class(Table)\n",
    "def extract_action(self:Table):\n",
    "    self.action = [[None]*self.size for _ in range(self.size)]\n",
    "    for i in range(self.size):\n",
    "        for j in range(self.size):\n",
    "            if (i,j) == self.special:\n",
    "                self.action[i][j] = '\\\\star'\n",
    "                continue\n",
    "            best_act = None\n",
    "            best_val = -float('inf')\n",
    "            for action in self.get_possible_action((i,j)):\n",
    "                weights = self.get_transition((i,j),action)\n",
    "                new_val = -1 + sum([w*self.V[x][y] for (x,y),w in weights.items()])\n",
    "                if new_val > best_val:\n",
    "                    best_val = new_val\n",
    "                    best_act = action\n",
    "            self.action[i][j] = self.get_display_str(best_act)\n",
    "\n",
    "t.extract_action()\n",
    "t.display(display_type='action')"
   ]
  },
  {
   "cell_type": "markdown",
   "metadata": {},
   "source": [
    "我们可以看到，这确实像是一个最优的策略。至此，我们就完成了Value Iteration方法的讨论，并第一次完整地解决了一个已知MDP下的问题！"
   ]
  },
  {
   "cell_type": "markdown",
   "metadata": {},
   "source": [
    "#### What about a larger MDP?\n",
    "\n",
    "上面的方法很直观，并且也很实用。但是，好景不长——在上面的问题里，state space的大小是16。但如果你的梦想是像Alpha Go一样处理围棋，你常见的state space可能是超过$10^{100}$以上！对于这样庞大的state space，就算在宇宙中的每一粒原子上都写下一个value，也不够储存。更为甚者，如果我们处理像之前CartPole一样的问题，我们的state是连续的，就更是无从下手了。\n",
    "\n",
    "但当我们想到这里的时候，我们一下子就发现了——我们可以使用DL中的技术，**用一个神经网络近似$V(s)$** ！这个网络输入$s$，输出对应的value。考虑到神经网络的“压缩”作用（想想ChatGPT这一模型的大小肯定比它的训练数据加起来小很多倍！），我们就可以处理大规模的MDP问题了。上面的算法中不需要修改任何地方——只需要在更新的时候把赋值换为梯度下降就可以了。（当然，如果具体实现起来可能有很多细节，比如为了避免直接训练这样`batch=1`的不稳定，我们需要采集很多数据再做一波训练，等等）"
   ]
  },
  {
   "cell_type": "markdown",
   "metadata": {},
   "source": [
    "但敏锐的你可能会发现其中的漏洞：神经网络的拟合本身会带来一个误差。此时，如果依然采用迭代的方法，我们真的还能保证收敛吗？残酷的现实是：**不**。这样的方法（也称为**fitted Value iteration**）并没有一个收敛的保证。实际上，它们不仅理论上不收敛，在实验上也展现着很大的方差。"
   ]
  },
  {
   "cell_type": "markdown",
   "metadata": {},
   "source": [
    "#### Experiment: Pixel Game\n",
    "\n",
    "我们可以再实操一个例子：“玩像素”（Pixel Game）。我们有一个$10\\times 10$的方格表，其中有22个棋子（也就是“像素”）是我们可以操控的。我们希望这些像素排成一个指定的汉字：\"**兵**\"。\n",
    "\n",
    "一开始，我们的所有棋子随机排布；而对于每一个state，我们可以采取一个action $(x,y,d)$，其中$(x,y)$代表需要移动的棋子的位置（如果没有棋子那么无效）；而$d$和之前一样是0,1,2,3中的一个，代表上下左右移动（如果无法移动那么也无效）。为了简化问题，我们认为transition是确定的，就是按照方向$d$移动$(x,y)$处的棋子后的整个像素排布。最后，reward $r(s,a)$ 取为只和$s$有关。假设$s$和最终target image的共同像素数（不计算重数）是$N$，那么\n",
    "\n",
    "$$\n",
    "r(s,a)=\\begin{cases}\\frac{N-22}{220}&,N<22\\\\100&,N=22\\end{cases}\n",
    "$$\n"
   ]
  },
  {
   "cell_type": "code",
   "execution_count": 1,
   "metadata": {},
   "outputs": [
    {
     "name": "stdout",
     "output_type": "stream",
     "text": [
      "Your device is cpu\n",
      "Target image:\n"
     ]
    },
    {
     "data": {
      "text/markdown": [
       "| | | | | | | | | | |\n",
       "|-|-|-|-|-|-|-|-|-|-|\n",
       "| | | | | |█| | | | |\n",
       "| | | | |█| | | | | |\n",
       "| | | |█| | | | | | |\n",
       "| | | |█|█|█|█|█| | |\n",
       "| | | |█| |█| | | | |\n",
       "| |█|█|█|█|█|█|█|█| |\n",
       "| | | |█| |█| | | | |\n",
       "| | |█| | | |█| | | |\n",
       "| | | | | | | | | | |"
      ]
     },
     "metadata": {},
     "output_type": "display_data"
    },
    {
     "name": "stdout",
     "output_type": "stream",
     "text": [
      "Our initial state:\n"
     ]
    },
    {
     "data": {
      "text/markdown": [
       "|█| |█| | | | | |█| |\n",
       "|-|-|-|-|-|-|-|-|-|-|\n",
       "| | | | | | | | | |█|\n",
       "| |█|█| | | | |█| | |\n",
       "| | | | | | | | | | |\n",
       "| | |█| | | | | | | |\n",
       "|█| | | |█| | | |█| |\n",
       "| | | |█|█| | |█| |█|\n",
       "| | | |█| | | | | | |\n",
       "|█| | | | | | | | |█|\n",
       "| | | | | | | | | | |"
      ]
     },
     "metadata": {},
     "output_type": "display_data"
    },
    {
     "name": "stdout",
     "output_type": "stream",
     "text": [
      "Initial reward -0.08181818181818182\n"
     ]
    }
   ],
   "source": [
    "from utils_0_intro import PixelGame\n",
    "from utils import add_method_to_class\n",
    "pgame = PixelGame()\n",
    "print('Target image:')\n",
    "pgame.display_target()\n",
    "print('Our initial state:')\n",
    "pgame.display(pgame.reset(randomly=True))\n",
    "print('Initial reward',pgame.get_reward())"
   ]
  },
  {
   "cell_type": "markdown",
   "metadata": {},
   "source": [
    "接下来，我们就来设计一个简单的网络$V(s)$。"
   ]
  },
  {
   "cell_type": "code",
   "execution_count": 2,
   "metadata": {},
   "outputs": [],
   "source": [
    "import torch\n",
    "import torch.nn as nn\n",
    "import torch.nn.functional as F\n",
    "from torch.optim import Adam\n",
    "from torch.utils.data import DataLoader,Dataset\n",
    "\n",
    "class Net(nn.Module):\n",
    "\n",
    "    def __init__(self):\n",
    "        super().__init__()\n",
    "        self.conv1 = nn.Conv2d(in_channels=1,out_channels=64,kernel_size=3)\n",
    "        self.conv2 = nn.Conv2d(in_channels=64,out_channels=16,kernel_size=3)\n",
    "        self.conv3 = nn.Conv2d(in_channels=16,out_channels=8,kernel_size=3)\n",
    "        self.mlp = nn.Linear(128,1)\n",
    "\n",
    "    def forward(self,x):\n",
    "        \"\"\"\n",
    "        compute the estimated Value given state `x`.\n",
    "        \"\"\"\n",
    "        x = nn.LeakyReLU(0.1)(self.conv1(x))\n",
    "        x = nn.LeakyReLU(0.1)(self.conv2(x))\n",
    "        x = nn.LeakyReLU(0.1)(self.conv3(x))\n",
    "        x = x.reshape(x.shape[0],-1)\n",
    "        return self.mlp(x)"
   ]
  },
  {
   "cell_type": "markdown",
   "metadata": {},
   "source": [
    "接下来，我们来准备训练数据。回顾一下我们的训练过程是\n",
    "\n",
    "$$\n",
    "V(s)\\leftarrow \\max_{a\\in A}\\left(r(s,a)+\\mathbb{E}_{s'\\sim p(s'|s,a)}[V(s')]\\right)\n",
    "$$\n",
    "\n",
    "这里唯一的变量是$s$。对于哪些$s$做这一更新呢？可以对于所有$s$，但这不现实——这一问题的state space大小是$10^{30}$左右的量级。我们为了充分利用fitted value iteration的优势，我们必须只选取相对少的一些state来训练。\n",
    "\n",
    "那如何选取这些state呢？我们发现，这些state要**具有代表性**。比如最极端地，如果没有任何一个state有着非零的reward，我们的网络就不可能学到任何东西。因此，我们决定根据他们的**分数**（也就是和目标图案重复的pixel个数）来选取数据。"
   ]
  },
  {
   "cell_type": "code",
   "execution_count": 3,
   "metadata": {},
   "outputs": [
    {
     "name": "stdout",
     "output_type": "stream",
     "text": [
      "Gathered states: 4600\n"
     ]
    }
   ],
   "source": [
    "import random\n",
    "\n",
    "@add_method_to_class(PixelGame)\n",
    "def sample_given_score(self:PixelGame,match_num,sample_num=200):\n",
    "    \"\"\"\n",
    "    Sample some states given `match_num`.\n",
    "\n",
    "    Args:\n",
    "        `match_num`: the number of states that match the target image.\n",
    "        `sample_num`: the number of states to sample.\n",
    "    \"\"\"\n",
    "    other_pixels = [(i,j) for i in range(10) for j in range(10) if (i,j) not in self.target_pixel_pos]\n",
    "    states = []\n",
    "    for _ in range(sample_num):\n",
    "        common = random.sample(self.target_pixel_pos,match_num)\n",
    "        others = random.choices(other_pixels + common,k=22-match_num) # can choose in common since it doens't count\n",
    "        states.append(common + others)\n",
    "    return states\n",
    "\n",
    "states = []\n",
    "for match_num in range(23):\n",
    "    states.extend(pgame.sample_given_score(match_num=match_num))\n",
    "print('Gathered states:',len(states))"
   ]
  },
  {
   "cell_type": "markdown",
   "metadata": {},
   "source": [
    "接下来，我们考虑训练过程。回顾一下，最外围的循环是Value iteration，就像之前那样；而和之前不同的是，我们在内部又添加了一个神经网络拟合的循环。\n",
    "\n",
    "一个必须讨论的细节是，为了发挥optimizer的优势，我们应该不是一组一组数据训练，而是把训练数据收集起来并用batch来训练。为此，我们编写一个函数`get_dataloader`。"
   ]
  },
  {
   "cell_type": "code",
   "execution_count": 4,
   "metadata": {},
   "outputs": [
    {
     "name": "stdout",
     "output_type": "stream",
     "text": [
      "Storing transitions, this may take around a minute...\n"
     ]
    },
    {
     "data": {
      "text/plain": [
       "4600"
      ]
     },
     "execution_count": 4,
     "metadata": {},
     "output_type": "execute_result"
    }
   ],
   "source": [
    "# first load the transitions once\n",
    "print('Storing transitions, this may take around a minute...')\n",
    "transition_datas = []\n",
    "for state in states:\n",
    "    actions = pgame.get_actions(state)\n",
    "    nexts = []\n",
    "    terminated = False\n",
    "    for action in actions:\n",
    "        next_state = pgame.get_transition(state,action)\n",
    "        if next_state is None:\n",
    "            terminated = True\n",
    "            break\n",
    "        nexts.append(pgame.as_tensor(next_state))\n",
    "    transition_datas.append({\n",
    "        'state':state,\n",
    "        'next_states':torch.stack(nexts,dim=0) if not terminated else None,\n",
    "        'terminated':terminated\n",
    "    })\n",
    "len(transition_datas)"
   ]
  },
  {
   "cell_type": "code",
   "execution_count": 5,
   "metadata": {},
   "outputs": [],
   "source": [
    "from utils import device\n",
    "\n",
    "@torch.no_grad()\n",
    "def get_dataloader(net:Net):\n",
    "    dataset = []\n",
    "    for it in transition_datas:\n",
    "        state = it['state']\n",
    "        target = pgame.get_reward(state)\n",
    "        term = it['terminated']\n",
    "        if not term:\n",
    "            target += net(it['next_states'].to(device)).max(dim=0)[0].cpu().item()\n",
    "        dataset.append((state,target))\n",
    "    return DataLoader(dataset=dataset,batch_size=128,shuffle=True,\n",
    "    collate_fn=lambda datas:\n",
    "        {\n",
    "            'states': torch.stack([pgame.as_tensor(data[0]) for data in datas],dim=0),\n",
    "            'targets':torch.tensor([data[1] for data in datas],dtype=torch.float).unsqueeze(-1)\n",
    "        }\n",
    "    )"
   ]
  },
  {
   "cell_type": "markdown",
   "metadata": {},
   "source": [
    "注意，这里的`terminated`变量处理了一个特殊情况：如果已经到了最终的state $s_\\star$，那么没有下一个transition，而且value的训练目标就是$r(s_\\star)=100$。\n",
    "\n",
    "最后，我们可以开始了！"
   ]
  },
  {
   "cell_type": "code",
   "execution_count": 6,
   "metadata": {},
   "outputs": [
    {
     "name": "stdout",
     "output_type": "stream",
     "text": [
      "We use this random state to monitor the value:\n"
     ]
    },
    {
     "data": {
      "text/markdown": [
       "| | | | | |█| | | | |\n",
       "|-|-|-|-|-|-|-|-|-|-|\n",
       "| |█|█| | |█| | | | |\n",
       "| | | | | | |█| | | |\n",
       "| | | |█| | | | | | |\n",
       "| | | |█|█| |█| | | |\n",
       "| | | |█| | | | | | |\n",
       "| | |█| |█| |█|█|█|█|\n",
       "| |█| | | | | |█| | |\n",
       "| |█| | | | | | | | |\n",
       "| | | | | |█|█| | | |"
      ]
     },
     "metadata": {},
     "output_type": "display_data"
    }
   ],
   "source": [
    "pick_state = states[len(states)//2] # here we select a state to monitor the convergence of value iteration.\n",
    "values_for_that_state = []\n",
    "print('We use this random state to monitor the value:')\n",
    "pgame.display(pick_state)"
   ]
  },
  {
   "cell_type": "code",
   "execution_count": 57,
   "metadata": {},
   "outputs": [
    {
     "name": "stderr",
     "output_type": "stream",
     "text": [
      "Iteration 0: loss 378.9311: 100%|██████████| 36/36 [00:01<00:00, 30.80it/s]\n"
     ]
    },
    {
     "name": "stdout",
     "output_type": "stream",
     "text": [
      "Value of the specific state 0.3292299509048462\n"
     ]
    },
    {
     "name": "stderr",
     "output_type": "stream",
     "text": [
      "Iteration 1: loss 170.7536: 100%|██████████| 36/36 [00:01<00:00, 29.52it/s]\n",
      "Iteration 2: loss 48.3388: 100%|██████████| 36/36 [00:01<00:00, 32.23it/s]\n",
      "Iteration 3: loss 16.6988: 100%|██████████| 36/36 [00:01<00:00, 30.32it/s]\n",
      "Iteration 4: loss 9.5480: 100%|██████████| 36/36 [00:01<00:00, 27.90it/s] \n",
      "Iteration 5: loss 6.9925: 100%|██████████| 36/36 [00:01<00:00, 26.57it/s] \n"
     ]
    },
    {
     "name": "stdout",
     "output_type": "stream",
     "text": [
      "Value of the specific state 22.306779861450195\n"
     ]
    },
    {
     "name": "stderr",
     "output_type": "stream",
     "text": [
      "Iteration 6: loss 8.9907: 100%|██████████| 36/36 [00:01<00:00, 25.32it/s] \n",
      "Iteration 7: loss 8.9030: 100%|██████████| 36/36 [00:01<00:00, 24.60it/s] \n",
      "Iteration 8: loss 7.2833: 100%|██████████| 36/36 [00:01<00:00, 28.58it/s] \n",
      "Iteration 9: loss 7.9333: 100%|██████████| 36/36 [00:01<00:00, 28.22it/s] \n",
      "Iteration 10: loss 11.7262: 100%|██████████| 36/36 [00:01<00:00, 28.60it/s]\n"
     ]
    },
    {
     "name": "stdout",
     "output_type": "stream",
     "text": [
      "Value of the specific state 69.13394927978516\n"
     ]
    },
    {
     "name": "stderr",
     "output_type": "stream",
     "text": [
      "Iteration 11: loss 25.0498: 100%|██████████| 36/36 [00:01<00:00, 28.04it/s]\n",
      "Iteration 12: loss 33.6014: 100%|██████████| 36/36 [00:01<00:00, 27.83it/s]\n",
      "Iteration 13: loss 61.3941: 100%|██████████| 36/36 [00:01<00:00, 27.82it/s]\n",
      "Iteration 14: loss 60.5420: 100%|██████████| 36/36 [00:01<00:00, 28.16it/s]\n",
      "Iteration 15: loss 83.2631: 100%|██████████| 36/36 [00:01<00:00, 26.81it/s] \n"
     ]
    },
    {
     "name": "stdout",
     "output_type": "stream",
     "text": [
      "Value of the specific state 118.82010650634766\n"
     ]
    },
    {
     "name": "stderr",
     "output_type": "stream",
     "text": [
      "Iteration 16: loss 140.7156: 100%|██████████| 36/36 [00:01<00:00, 26.34it/s]\n",
      "Iteration 17: loss 344.9636: 100%|██████████| 36/36 [00:01<00:00, 29.03it/s]\n",
      "Iteration 18: loss 643.1255: 100%|██████████| 36/36 [00:01<00:00, 29.19it/s]\n",
      "Iteration 19: loss 532.6680: 100%|██████████| 36/36 [00:01<00:00, 25.71it/s]\n",
      "Iteration 20: loss 917.9474: 100%|██████████| 36/36 [00:01<00:00, 28.52it/s] \n"
     ]
    },
    {
     "name": "stdout",
     "output_type": "stream",
     "text": [
      "Value of the specific state 208.20388793945312\n"
     ]
    },
    {
     "name": "stderr",
     "output_type": "stream",
     "text": [
      "Iteration 21: loss 910.9753: 100%|██████████| 36/36 [00:01<00:00, 26.99it/s] \n",
      "Iteration 22: loss 1384.3209: 100%|██████████| 36/36 [00:01<00:00, 28.42it/s]\n",
      "Iteration 23: loss 2010.1080: 100%|██████████| 36/36 [00:01<00:00, 27.19it/s]\n",
      "Iteration 24: loss 2916.3315: 100%|██████████| 36/36 [00:01<00:00, 26.68it/s]\n"
     ]
    }
   ],
   "source": [
    "from tqdm import tqdm\n",
    "net = Net().to(device)\n",
    "opt = Adam(net.parameters(),lr=5e-3)\n",
    "values_for_that_state = []\n",
    "for iteration in range(25):\n",
    "    losses = []\n",
    "    dataloader = get_dataloader(net)\n",
    "    with tqdm(dataloader) as bar:\n",
    "        for it in bar:\n",
    "            val = net(it['states'].to(device)) # [batch,1]\n",
    "            loss = F.mse_loss(val,it['targets'])\n",
    "            opt.zero_grad()\n",
    "            loss.backward()\n",
    "            opt.step()\n",
    "            losses.append(loss.detach().cpu().item())\n",
    "            bar.set_description(f'Iteration {iteration}: loss {sum(losses)/len(losses):.4f}')\n",
    "    with torch.no_grad():\n",
    "        value = net(pgame.as_tensor(pick_state).unsqueeze(0).to(device)).cpu().item()\n",
    "    if iteration % 5 == 0:\n",
    "        print('Value of the specific state',value)\n",
    "    values_for_that_state.append(value)"
   ]
  },
  {
   "cell_type": "markdown",
   "metadata": {},
   "source": [
    "我们还可以观察一下整个过程中value整体上是如何变化的："
   ]
  },
  {
   "cell_type": "code",
   "execution_count": 58,
   "metadata": {},
   "outputs": [
    {
     "data": {
      "image/png": "[encoded data removed]",
      "text/plain": [
       "<Figure size 640x480 with 1 Axes>"
      ]
     },
     "metadata": {},
     "output_type": "display_data"
    }
   ],
   "source": [
    "import matplotlib.pyplot as plt\n",
    "plt.plot([x[0] for x in enumerate(values_for_that_state)],values_for_that_state)\n",
    "plt.title('Value for a given state')\n",
    "plt.show()"
   ]
  },
  {
   "cell_type": "markdown",
   "metadata": {},
   "source": [
    "可以发现，value虽然开始有所涨落，但之后上升的很快。我们再来看看给出的策略如何？"
   ]
  },
  {
   "cell_type": "code",
   "execution_count": 7,
   "metadata": {},
   "outputs": [],
   "source": [
    "def demonstrate_policy(net):\n",
    "    state = pgame.reset(randomly=True)\n",
    "    cum_r = 0\n",
    "    succeed = False\n",
    "    print('Initial state:')\n",
    "    pgame.display()\n",
    "    print('Initial common pixels',pgame.get_common_pixels(state))\n",
    "    for time in range(200):\n",
    "        actions = pgame.get_actions(state)\n",
    "        best_act = None\n",
    "        best_val = float('-inf')\n",
    "        for action in actions:\n",
    "            next_state = pgame.get_transition(state,action)\n",
    "            with torch.no_grad():\n",
    "                value = net(pgame.as_tensor(next_state).unsqueeze(0).to(device)).cpu().item()\n",
    "            if value > best_val:\n",
    "                best_val = value\n",
    "                best_act = action\n",
    "        cum_r += pgame.get_reward(state)\n",
    "        state = pgame.get_transition(state,best_act)\n",
    "        if state is None:\n",
    "            succeed = True\n",
    "            break\n",
    "        pgame.set_state(state)\n",
    "        if time % 20 == 1:\n",
    "            print('t =',time)\n",
    "            pgame.display()\n",
    "    print('Cumulative reward',f'{cum_r:.2f}')\n",
    "    print('Succeeded?',succeed)\n",
    "    print('Final common pixels:',100 if succeed else pgame.get_common_pixels(state))\n",
    "    return state"
   ]
  },
  {
   "cell_type": "code",
   "execution_count": 60,
   "metadata": {},
   "outputs": [
    {
     "name": "stdout",
     "output_type": "stream",
     "text": [
      "Initial state:\n"
     ]
    },
    {
     "data": {
      "text/markdown": [
       "| |█| |█| | |█| | |█|\n",
       "|-|-|-|-|-|-|-|-|-|-|\n",
       "| | |█| | | |█|█| | |\n",
       "| |█| | | | | | | | |\n",
       "| |█| | | | | | | | |\n",
       "| | | | |█| |█|█| | |\n",
       "| | | | | | | | | | |\n",
       "| | | |█| | | | | | |\n",
       "|█| | | | | | | | | |\n",
       "|█| | | | | |█|█| |█|\n",
       "| | | | | | | | | | |"
      ]
     },
     "metadata": {},
     "output_type": "display_data"
    },
    {
     "name": "stdout",
     "output_type": "stream",
     "text": [
      "Initial common pixels 5\n",
      "t = 1\n"
     ]
    },
    {
     "data": {
      "text/markdown": [
       "| |█| |█| | |█| | |█|\n",
       "|-|-|-|-|-|-|-|-|-|-|\n",
       "| | |█| | | |█|█| | |\n",
       "| | | | | | | | | | |\n",
       "| |█| | | | | | | | |\n",
       "| | | | |█| |█| | | |\n",
       "| | | | | | | | | | |\n",
       "| | | |█| | | | | | |\n",
       "|█| | | | | | | | | |\n",
       "|█| | | | | |█|█| |█|\n",
       "| | | | | | | | | | |"
      ]
     },
     "metadata": {},
     "output_type": "display_data"
    },
    {
     "name": "stdout",
     "output_type": "stream",
     "text": [
      "t = 21\n"
     ]
    },
    {
     "data": {
      "text/markdown": [
       "| | |█| | | | | | | |\n",
       "|-|-|-|-|-|-|-|-|-|-|\n",
       "| | | |█| | |█| | | |\n",
       "| | | | | | | | | | |\n",
       "| |█| | | | | | | | |\n",
       "| | | | | |█| | | | |\n",
       "| | | | | | | | | | |\n",
       "| | | |█| | | | | | |\n",
       "|█| | | | | | | | | |\n",
       "| | | | | | | |█| | |\n",
       "| | | | | | | | | | |"
      ]
     },
     "metadata": {},
     "output_type": "display_data"
    },
    {
     "name": "stdout",
     "output_type": "stream",
     "text": [
      "t = 41\n"
     ]
    },
    {
     "data": {
      "text/markdown": [
       "| | |█| | | | | | | |\n",
       "|-|-|-|-|-|-|-|-|-|-|\n",
       "| | | |█| | |█| | | |\n",
       "| | | | | | | | | | |\n",
       "| |█| | | | | | | | |\n",
       "| | | | | |█| | | | |\n",
       "| | | | | | | | | | |\n",
       "| | | |█| | | | | | |\n",
       "|█| | | | | | | | | |\n",
       "| | | | | | | |█| | |\n",
       "| | | | | | | | | | |"
      ]
     },
     "metadata": {},
     "output_type": "display_data"
    },
    {
     "name": "stdout",
     "output_type": "stream",
     "text": [
      "t = 61\n"
     ]
    },
    {
     "data": {
      "text/markdown": [
       "| | |█| | | | | | | |\n",
       "|-|-|-|-|-|-|-|-|-|-|\n",
       "| | | |█| | |█| | | |\n",
       "| | | | | | | | | | |\n",
       "| |█| | | | | | | | |\n",
       "| | | | | |█| | | | |\n",
       "| | | | | | | | | | |\n",
       "| | | |█| | | | | | |\n",
       "|█| | | | | | | | | |\n",
       "| | | | | | | |█| | |\n",
       "| | | | | | | | | | |"
      ]
     },
     "metadata": {},
     "output_type": "display_data"
    },
    {
     "name": "stdout",
     "output_type": "stream",
     "text": [
      "t = 81\n"
     ]
    },
    {
     "data": {
      "text/markdown": [
       "| | |█| | | | | | | |\n",
       "|-|-|-|-|-|-|-|-|-|-|\n",
       "| | | |█| | |█| | | |\n",
       "| | | | | | | | | | |\n",
       "| |█| | | | | | | | |\n",
       "| | | | | |█| | | | |\n",
       "| | | | | | | | | | |\n",
       "| | | |█| | | | | | |\n",
       "|█| | | | | | | | | |\n",
       "| | | | | | | |█| | |\n",
       "| | | | | | | | | | |"
      ]
     },
     "metadata": {},
     "output_type": "display_data"
    },
    {
     "name": "stdout",
     "output_type": "stream",
     "text": [
      "t = 101\n"
     ]
    },
    {
     "data": {
      "text/markdown": [
       "| | |█| | | | | | | |\n",
       "|-|-|-|-|-|-|-|-|-|-|\n",
       "| | | |█| | |█| | | |\n",
       "| | | | | | | | | | |\n",
       "| |█| | | | | | | | |\n",
       "| | | | | |█| | | | |\n",
       "| | | | | | | | | | |\n",
       "| | | |█| | | | | | |\n",
       "|█| | | | | | | | | |\n",
       "| | | | | | | |█| | |\n",
       "| | | | | | | | | | |"
      ]
     },
     "metadata": {},
     "output_type": "display_data"
    },
    {
     "name": "stdout",
     "output_type": "stream",
     "text": [
      "t = 121\n"
     ]
    },
    {
     "data": {
      "text/markdown": [
       "| | |█| | | | | | | |\n",
       "|-|-|-|-|-|-|-|-|-|-|\n",
       "| | | |█| | |█| | | |\n",
       "| | | | | | | | | | |\n",
       "| |█| | | | | | | | |\n",
       "| | | | | |█| | | | |\n",
       "| | | | | | | | | | |\n",
       "| | | |█| | | | | | |\n",
       "|█| | | | | | | | | |\n",
       "| | | | | | | |█| | |\n",
       "| | | | | | | | | | |"
      ]
     },
     "metadata": {},
     "output_type": "display_data"
    },
    {
     "name": "stdout",
     "output_type": "stream",
     "text": [
      "t = 141\n"
     ]
    },
    {
     "data": {
      "text/markdown": [
       "| | |█| | | | | | | |\n",
       "|-|-|-|-|-|-|-|-|-|-|\n",
       "| | | |█| | |█| | | |\n",
       "| | | | | | | | | | |\n",
       "| |█| | | | | | | | |\n",
       "| | | | | |█| | | | |\n",
       "| | | | | | | | | | |\n",
       "| | | |█| | | | | | |\n",
       "|█| | | | | | | | | |\n",
       "| | | | | | | |█| | |\n",
       "| | | | | | | | | | |"
      ]
     },
     "metadata": {},
     "output_type": "display_data"
    },
    {
     "name": "stdout",
     "output_type": "stream",
     "text": [
      "t = 161\n"
     ]
    },
    {
     "data": {
      "text/markdown": [
       "| | |█| | | | | | | |\n",
       "|-|-|-|-|-|-|-|-|-|-|\n",
       "| | | |█| | |█| | | |\n",
       "| | | | | | | | | | |\n",
       "| |█| | | | | | | | |\n",
       "| | | | | |█| | | | |\n",
       "| | | | | | | | | | |\n",
       "| | | |█| | | | | | |\n",
       "|█| | | | | | | | | |\n",
       "| | | | | | | |█| | |\n",
       "| | | | | | | | | | |"
      ]
     },
     "metadata": {},
     "output_type": "display_data"
    },
    {
     "name": "stdout",
     "output_type": "stream",
     "text": [
      "t = 181\n"
     ]
    },
    {
     "data": {
      "text/markdown": [
       "| | |█| | | | | | | |\n",
       "|-|-|-|-|-|-|-|-|-|-|\n",
       "| | | |█| | |█| | | |\n",
       "| | | | | | | | | | |\n",
       "| |█| | | | | | | | |\n",
       "| | | | | |█| | | | |\n",
       "| | | | | | | | | | |\n",
       "| | | |█| | | | | | |\n",
       "|█| | | | | | | | | |\n",
       "| | | | | | | |█| | |\n",
       "| | | | | | | | | | |"
      ]
     },
     "metadata": {},
     "output_type": "display_data"
    },
    {
     "name": "stdout",
     "output_type": "stream",
     "text": [
      "Cumulative reward -18.08\n",
      "Succeeded? False\n",
      "Final common pixels: 2\n"
     ]
    }
   ],
   "source": [
    "demonstrate_policy(net)"
   ]
  },
  {
   "cell_type": "markdown",
   "metadata": {},
   "source": [
    "我们发现我们的网络竟然什么都没有学到——最后的common pixel个数竟然少于一开始的！这显然说明了网络的价值评估出现了错误。再一回味，也又发现了问题：无论如何，value都不应该到达100以上，因为最终的state才有reward 100，而其他的state reward都为负数。一定是有地方出了问题！\n",
    "\n",
    "哈哈，的确——提出理论只需要凭感觉就可以了，但做实验的人需要想的就多了。我们只能观察：可以发现，**随着value的大幅度上升，loss也增加了**，如何解释这件事呢？"
   ]
  },
  {
   "cell_type": "markdown",
   "metadata": {},
   "source": [
    "其实，道理很简单——为什么在一个iteration内部我们的loss不能降到0？我们的神经网络表达能力肯定还是够的，真正的问题在于**数据太差**。为什么数据差？原因也很简单，因为value iteration的中间结果可能有一定波动，这些波动在不同的state上体现不一样，而value又间接地被当成训练数据，这就好比是训练数据上下了毒一般。更糟糕的是，这样训练出来的糟糕模型又被当成下一次训练的目标，这样loss就会爆炸一般大幅上升。\n",
    "\n",
    "一个很好的比喻是说，上面的方法宛如**shooting a moving target**。我们的DL模型之所以强大，是因为他们狠狠地在固定的靶子上训练并达到极高的水准；而现在把他们应用到这里可能令他们有些水土不服。为何不让靶子**停下来**，或者**慢下来**呢？这就是**target network**的基本思想。"
   ]
  },
  {
   "cell_type": "markdown",
   "metadata": {},
   "source": [
    "#### Target Network"
   ]
  },
  {
   "cell_type": "markdown",
   "metadata": {},
   "source": [
    "首先，我们引入一个**target network** $V_{\\theta_0}$，而把原来的网络叫做$V_\\theta$。其次，我们的更新方式就变成了\n",
    "\n",
    "$$\n",
    "\\theta \\leftarrow \\theta + \\eta \\nabla_{\\theta}\\left[V_\\theta(s)-\\left(\\max_{a\\in A}\\left(r(s,a)+\\mathbb{E}_{s'\\sim p(s'|s,a)}[V_{\\theta_0}(s')]\\right)\\right)\\right]^2\n",
    "$$\n",
    "\n",
    "顾名思义——target network就用于target的计算。回顾之前的方法，相当于target network被取为前一个Iteration更新后的$V$，瞬息万变；而现在，我们希望target network的更新慢一些。\n",
    "\n",
    "第一个方法就是，我们**隔一段时间猛地更新一下**：\n",
    "\n",
    "```python\n",
    "if iteration % PERIOD == 0:\n",
    "    target_net.load_state_dict(net.state_dict())\n",
    "```\n",
    "\n",
    "而第二个方法更加文明：我们每一次使用running average更新。也就是说：\n",
    "\n",
    "$$\n",
    "\\theta_0 \\leftarrow (1-\\alpha)\\theta_0 + \\alpha \\theta\n",
    "$$\n",
    "\n",
    "这稍微更难实现一些，但更稳定（可以想象），因此我们采用这第二种方法。"
   ]
  },
  {
   "cell_type": "code",
   "execution_count": 8,
   "metadata": {},
   "outputs": [
    {
     "name": "stderr",
     "output_type": "stream",
     "text": [
      "  0%|          | 0/36 [00:00<?, ?it/s]/home/zhh/anaconda3/envs/DYY/lib/python3.10/site-packages/torch/autograd/graph.py:768: UserWarning: CUDA initialization: CUDA unknown error - this may be due to an incorrectly set up environment, e.g. changing env variable CUDA_VISIBLE_DEVICES after program start. Setting the available devices to be zero. (Triggered internally at ../c10/cuda/CUDAFunctions.cpp:108.)\n",
      "  return Variable._execution_engine.run_backward(  # Calls into the C++ engine to run the backward pass\n",
      "Iteration 0: loss 380.1263: 100%|██████████| 36/36 [00:02<00:00, 13.60it/s]\n"
     ]
    },
    {
     "name": "stdout",
     "output_type": "stream",
     "text": [
      "Value of the specific state -1.7006075382232666\n"
     ]
    },
    {
     "name": "stderr",
     "output_type": "stream",
     "text": [
      "Iteration 1: loss 286.6912: 100%|██████████| 36/36 [00:01<00:00, 30.62it/s]\n",
      "Iteration 2: loss 231.8857: 100%|██████████| 36/36 [00:01<00:00, 29.00it/s]\n",
      "Iteration 3: loss 145.4007: 100%|██████████| 36/36 [00:01<00:00, 27.87it/s]\n",
      "Iteration 4: loss 138.0900: 100%|██████████| 36/36 [00:01<00:00, 28.76it/s]\n",
      "Iteration 5: loss 86.3560: 100%|██████████| 36/36 [00:01<00:00, 27.91it/s]\n"
     ]
    },
    {
     "name": "stdout",
     "output_type": "stream",
     "text": [
      "Value of the specific state 0.17137743532657623\n"
     ]
    },
    {
     "name": "stderr",
     "output_type": "stream",
     "text": [
      "Iteration 6: loss 74.8810: 100%|██████████| 36/36 [00:01<00:00, 29.18it/s]\n",
      "Iteration 7: loss 43.3864: 100%|██████████| 36/36 [00:01<00:00, 26.18it/s]\n",
      "Iteration 8: loss 31.3327: 100%|██████████| 36/36 [00:01<00:00, 28.45it/s]\n",
      "Iteration 9: loss 26.0478: 100%|██████████| 36/36 [00:01<00:00, 30.19it/s]\n",
      "Iteration 10: loss 19.5462: 100%|██████████| 36/36 [00:01<00:00, 22.96it/s]\n"
     ]
    },
    {
     "name": "stdout",
     "output_type": "stream",
     "text": [
      "Value of the specific state 0.6864661574363708\n"
     ]
    },
    {
     "name": "stderr",
     "output_type": "stream",
     "text": [
      "Iteration 11: loss 15.9316: 100%|██████████| 36/36 [00:01<00:00, 25.77it/s]\n",
      "Iteration 12: loss 14.2429: 100%|██████████| 36/36 [00:01<00:00, 29.68it/s]\n",
      "Iteration 13: loss 12.2972: 100%|██████████| 36/36 [00:01<00:00, 28.10it/s]\n",
      "Iteration 14: loss 11.3102: 100%|██████████| 36/36 [00:01<00:00, 28.93it/s]\n",
      "Iteration 15: loss 10.9364: 100%|██████████| 36/36 [00:01<00:00, 28.46it/s]\n"
     ]
    },
    {
     "name": "stdout",
     "output_type": "stream",
     "text": [
      "Value of the specific state 0.815923810005188\n"
     ]
    },
    {
     "name": "stderr",
     "output_type": "stream",
     "text": [
      "Iteration 16: loss 10.2865: 100%|██████████| 36/36 [00:01<00:00, 30.06it/s]\n",
      "Iteration 17: loss 9.6947: 100%|██████████| 36/36 [00:01<00:00, 27.52it/s]\n",
      "Iteration 18: loss 12.5096: 100%|██████████| 36/36 [00:01<00:00, 27.61it/s]\n",
      "Iteration 19: loss 8.8762: 100%|██████████| 36/36 [00:01<00:00, 28.78it/s]\n",
      "Iteration 20: loss 8.5178: 100%|██████████| 36/36 [00:01<00:00, 27.76it/s]\n"
     ]
    },
    {
     "name": "stdout",
     "output_type": "stream",
     "text": [
      "Value of the specific state 1.3873649835586548\n"
     ]
    },
    {
     "name": "stderr",
     "output_type": "stream",
     "text": [
      "Iteration 21: loss 8.2454: 100%|██████████| 36/36 [00:01<00:00, 24.31it/s]\n",
      "Iteration 22: loss 9.1589: 100%|██████████| 36/36 [00:01<00:00, 27.99it/s] \n",
      "Iteration 23: loss 10.1366: 100%|██████████| 36/36 [00:01<00:00, 24.61it/s]\n",
      "Iteration 24: loss 7.6865: 100%|██████████| 36/36 [00:01<00:00, 25.79it/s]\n",
      "Iteration 25: loss 7.2592: 100%|██████████| 36/36 [00:01<00:00, 24.90it/s]\n"
     ]
    },
    {
     "name": "stdout",
     "output_type": "stream",
     "text": [
      "Value of the specific state 1.7577736377716064\n"
     ]
    },
    {
     "name": "stderr",
     "output_type": "stream",
     "text": [
      "Iteration 26: loss 6.1591: 100%|██████████| 36/36 [00:01<00:00, 22.87it/s]\n",
      "Iteration 27: loss 5.6755: 100%|██████████| 36/36 [00:01<00:00, 27.71it/s]\n",
      "Iteration 28: loss 5.6489: 100%|██████████| 36/36 [00:01<00:00, 28.96it/s]\n",
      "Iteration 29: loss 5.9079: 100%|██████████| 36/36 [00:01<00:00, 25.45it/s]\n",
      "Iteration 30: loss 5.1560: 100%|██████████| 36/36 [00:01<00:00, 26.31it/s]\n"
     ]
    },
    {
     "name": "stdout",
     "output_type": "stream",
     "text": [
      "Value of the specific state 2.6860718727111816\n"
     ]
    },
    {
     "name": "stderr",
     "output_type": "stream",
     "text": [
      "Iteration 31: loss 4.7254: 100%|██████████| 36/36 [00:01<00:00, 26.42it/s]\n",
      "Iteration 32: loss 4.7112: 100%|██████████| 36/36 [00:01<00:00, 28.04it/s]\n",
      "Iteration 33: loss 4.3643: 100%|██████████| 36/36 [00:01<00:00, 27.11it/s]\n",
      "Iteration 34: loss 3.8525: 100%|██████████| 36/36 [00:01<00:00, 26.07it/s]\n",
      "Iteration 35: loss 4.4488: 100%|██████████| 36/36 [00:01<00:00, 28.06it/s]\n"
     ]
    },
    {
     "name": "stdout",
     "output_type": "stream",
     "text": [
      "Value of the specific state 3.428640842437744\n"
     ]
    },
    {
     "name": "stderr",
     "output_type": "stream",
     "text": [
      "Iteration 36: loss 3.2464: 100%|██████████| 36/36 [00:01<00:00, 25.51it/s]\n",
      "Iteration 37: loss 4.0186: 100%|██████████| 36/36 [00:01<00:00, 29.25it/s]\n",
      "Iteration 38: loss 2.9010: 100%|██████████| 36/36 [00:01<00:00, 27.62it/s]\n",
      "Iteration 39: loss 2.6364: 100%|██████████| 36/36 [00:01<00:00, 26.15it/s]\n",
      "Iteration 40: loss 2.7099: 100%|██████████| 36/36 [00:01<00:00, 25.74it/s]\n"
     ]
    },
    {
     "name": "stdout",
     "output_type": "stream",
     "text": [
      "Value of the specific state 4.623112201690674\n"
     ]
    },
    {
     "name": "stderr",
     "output_type": "stream",
     "text": [
      "Iteration 41: loss 3.7212: 100%|██████████| 36/36 [00:01<00:00, 23.86it/s]\n",
      "Iteration 42: loss 3.8031: 100%|██████████| 36/36 [00:01<00:00, 24.75it/s]\n",
      "Iteration 43: loss 2.7938: 100%|██████████| 36/36 [00:01<00:00, 22.55it/s]\n",
      "Iteration 44: loss 3.6801: 100%|██████████| 36/36 [00:01<00:00, 25.91it/s]\n",
      "Iteration 45: loss 3.5135: 100%|██████████| 36/36 [00:01<00:00, 27.05it/s]\n"
     ]
    },
    {
     "name": "stdout",
     "output_type": "stream",
     "text": [
      "Value of the specific state 5.84722900390625\n"
     ]
    },
    {
     "name": "stderr",
     "output_type": "stream",
     "text": [
      "Iteration 46: loss 3.2741: 100%|██████████| 36/36 [00:01<00:00, 27.91it/s]\n",
      "Iteration 47: loss 2.2997: 100%|██████████| 36/36 [00:01<00:00, 24.99it/s]\n",
      "Iteration 48: loss 2.5101: 100%|██████████| 36/36 [00:01<00:00, 28.46it/s]\n",
      "Iteration 49: loss 2.2010: 100%|██████████| 36/36 [00:01<00:00, 24.71it/s]\n"
     ]
    }
   ],
   "source": [
    "from tqdm import tqdm\n",
    "net = Net().to(device)\n",
    "target_net = Net().to(device).requires_grad_(False)\n",
    "target_net.load_state_dict(net.state_dict())\n",
    "opt = Adam(net.parameters(),lr=5e-3)\n",
    "values_for_that_state = []\n",
    "ALPHA = 0.2\n",
    "def update_target():\n",
    "    for theta_0,theta in zip(target_net.parameters(),net.parameters()):\n",
    "        theta_0.copy_((1-ALPHA) * theta_0 + ALPHA * theta)\n",
    "\n",
    "def continue_train_one(iteration):\n",
    "    losses = []\n",
    "    dataloader = get_dataloader(target_net)\n",
    "    with tqdm(dataloader) as bar:\n",
    "        for it in bar:\n",
    "            val = net(it['states'].to(device)) # [batch,1]\n",
    "            loss = F.mse_loss(val,it['targets'])\n",
    "            opt.zero_grad()\n",
    "            loss.backward()\n",
    "            opt.step()\n",
    "            losses.append(loss.detach().cpu().item())\n",
    "            bar.set_description(f'Iteration {iteration}: loss {sum(losses)/len(losses):.4f}')\n",
    "    update_target()\n",
    "    with torch.no_grad():\n",
    "        value = net(pgame.as_tensor(pick_state).unsqueeze(0).to(device)).cpu().item()\n",
    "    if iteration % 5 == 0:\n",
    "        print('Value of the specific state',value)\n",
    "    values_for_that_state.append(value)\n",
    "\n",
    "for iteration in range(50):\n",
    "    continue_train_one(iteration)"
   ]
  },
  {
   "cell_type": "code",
   "execution_count": 11,
   "metadata": {},
   "outputs": [
    {
     "data": {
      "image/png": "[encoded data removed]",
      "text/plain": [
       "<Figure size 640x480 with 1 Axes>"
      ]
     },
     "metadata": {},
     "output_type": "display_data"
    }
   ],
   "source": [
    "plt.plot([x[0] for x in enumerate(values_for_that_state)],values_for_that_state)\n",
    "plt.title('Value for a given state')\n",
    "plt.show()"
   ]
  },
  {
   "cell_type": "markdown",
   "metadata": {},
   "source": [
    "看起来不错！之前loss随着value增大的逐渐上升现象消失了。让我们继续吧！\n",
    "\n",
    "当然，看到value一直在上升，我们也要大概心里有个概念：value的理论值大概是多少？上限肯定是100；而下限可以简单地估算：$100-0.1\\times (20\\times 22)=56$，其中$20\\times 22$是最大可能的操作步数。因此，最终的value应该在二者之间才合理。"
   ]
  },
  {
   "cell_type": "code",
   "execution_count": 12,
   "metadata": {},
   "outputs": [
    {
     "name": "stderr",
     "output_type": "stream",
     "text": [
      "Iteration 50: loss 3.6074: 100%|██████████| 36/36 [00:01<00:00, 33.18it/s]\n"
     ]
    },
    {
     "name": "stdout",
     "output_type": "stream",
     "text": [
      "Value of the specific state 7.542821884155273\n"
     ]
    },
    {
     "name": "stderr",
     "output_type": "stream",
     "text": [
      "Iteration 51: loss 4.9976: 100%|██████████| 36/36 [00:01<00:00, 27.24it/s]\n",
      "Iteration 52: loss 3.1923: 100%|██████████| 36/36 [00:01<00:00, 29.82it/s]\n",
      "Iteration 53: loss 2.9819: 100%|██████████| 36/36 [00:01<00:00, 28.40it/s]\n",
      "Iteration 54: loss 2.8536: 100%|██████████| 36/36 [00:01<00:00, 30.05it/s]\n",
      "Iteration 55: loss 3.4566: 100%|██████████| 36/36 [00:01<00:00, 28.92it/s]\n"
     ]
    },
    {
     "name": "stdout",
     "output_type": "stream",
     "text": [
      "Value of the specific state 10.080211639404297\n"
     ]
    },
    {
     "name": "stderr",
     "output_type": "stream",
     "text": [
      "Iteration 56: loss 3.1856: 100%|██████████| 36/36 [00:01<00:00, 29.90it/s]\n",
      "Iteration 57: loss 3.4566: 100%|██████████| 36/36 [00:01<00:00, 29.20it/s]\n",
      "Iteration 58: loss 2.8012: 100%|██████████| 36/36 [00:01<00:00, 24.70it/s]\n",
      "Iteration 59: loss 3.1339: 100%|██████████| 36/36 [00:01<00:00, 25.45it/s]\n",
      "Iteration 60: loss 4.8317: 100%|██████████| 36/36 [00:01<00:00, 26.15it/s]\n"
     ]
    },
    {
     "name": "stdout",
     "output_type": "stream",
     "text": [
      "Value of the specific state 14.747027397155762\n"
     ]
    },
    {
     "name": "stderr",
     "output_type": "stream",
     "text": [
      "Iteration 61: loss 3.6975: 100%|██████████| 36/36 [00:01<00:00, 27.33it/s]\n",
      "Iteration 62: loss 3.8921: 100%|██████████| 36/36 [00:01<00:00, 26.90it/s]\n",
      "Iteration 63: loss 4.7970: 100%|██████████| 36/36 [00:01<00:00, 27.10it/s]\n",
      "Iteration 64: loss 5.5465: 100%|██████████| 36/36 [00:01<00:00, 25.14it/s]\n",
      "Iteration 65: loss 6.7890: 100%|██████████| 36/36 [00:01<00:00, 27.52it/s]\n"
     ]
    },
    {
     "name": "stdout",
     "output_type": "stream",
     "text": [
      "Value of the specific state 18.557485580444336\n"
     ]
    },
    {
     "name": "stderr",
     "output_type": "stream",
     "text": [
      "Iteration 66: loss 5.8203: 100%|██████████| 36/36 [00:01<00:00, 27.66it/s]\n",
      "Iteration 67: loss 7.4562: 100%|██████████| 36/36 [00:01<00:00, 27.78it/s]\n",
      "Iteration 68: loss 7.1440: 100%|██████████| 36/36 [00:01<00:00, 26.02it/s]\n",
      "Iteration 69: loss 6.3553: 100%|██████████| 36/36 [00:01<00:00, 26.69it/s]\n",
      "Iteration 70: loss 6.9507: 100%|██████████| 36/36 [00:01<00:00, 23.81it/s]\n"
     ]
    },
    {
     "name": "stdout",
     "output_type": "stream",
     "text": [
      "Value of the specific state 24.748151779174805\n"
     ]
    },
    {
     "name": "stderr",
     "output_type": "stream",
     "text": [
      "Iteration 71: loss 6.7741: 100%|██████████| 36/36 [00:01<00:00, 26.10it/s]\n",
      "Iteration 72: loss 6.3916: 100%|██████████| 36/36 [00:01<00:00, 25.65it/s]\n",
      "Iteration 73: loss 8.7974: 100%|██████████| 36/36 [00:01<00:00, 26.24it/s]\n",
      "Iteration 74: loss 7.0303: 100%|██████████| 36/36 [00:01<00:00, 27.77it/s]\n",
      "Iteration 75: loss 10.7839: 100%|██████████| 36/36 [00:01<00:00, 27.41it/s]\n"
     ]
    },
    {
     "name": "stdout",
     "output_type": "stream",
     "text": [
      "Value of the specific state 33.13731384277344\n"
     ]
    },
    {
     "name": "stderr",
     "output_type": "stream",
     "text": [
      "Iteration 76: loss 12.9645: 100%|██████████| 36/36 [00:01<00:00, 24.88it/s]\n",
      "Iteration 77: loss 18.0066: 100%|██████████| 36/36 [00:01<00:00, 26.69it/s]\n",
      "Iteration 78: loss 9.4740: 100%|██████████| 36/36 [00:01<00:00, 27.63it/s] \n",
      "Iteration 79: loss 15.8039: 100%|██████████| 36/36 [00:01<00:00, 27.32it/s]\n",
      "Iteration 80: loss 13.6706: 100%|██████████| 36/36 [00:01<00:00, 25.63it/s]\n"
     ]
    },
    {
     "name": "stdout",
     "output_type": "stream",
     "text": [
      "Value of the specific state 45.65507125854492\n"
     ]
    },
    {
     "name": "stderr",
     "output_type": "stream",
     "text": [
      "Iteration 81: loss 31.2237: 100%|██████████| 36/36 [00:01<00:00, 26.16it/s]\n",
      "Iteration 82: loss 12.6750: 100%|██████████| 36/36 [00:01<00:00, 28.66it/s]\n",
      "Iteration 83: loss 13.3711: 100%|██████████| 36/36 [00:01<00:00, 27.13it/s]\n",
      "Iteration 84: loss 12.3195: 100%|██████████| 36/36 [00:01<00:00, 26.46it/s]\n",
      "Iteration 85: loss 14.7042: 100%|██████████| 36/36 [00:01<00:00, 26.50it/s]\n"
     ]
    },
    {
     "name": "stdout",
     "output_type": "stream",
     "text": [
      "Value of the specific state 53.035179138183594\n"
     ]
    },
    {
     "name": "stderr",
     "output_type": "stream",
     "text": [
      "Iteration 86: loss 18.1406: 100%|██████████| 36/36 [00:01<00:00, 23.50it/s]\n",
      "Iteration 87: loss 13.5039: 100%|██████████| 36/36 [00:01<00:00, 23.65it/s]\n",
      "Iteration 88: loss 30.8387: 100%|██████████| 36/36 [00:01<00:00, 27.60it/s]\n",
      "Iteration 89: loss 16.8508: 100%|██████████| 36/36 [00:01<00:00, 24.55it/s]\n",
      "Iteration 90: loss 19.6893: 100%|██████████| 36/36 [00:01<00:00, 26.06it/s]\n"
     ]
    },
    {
     "name": "stdout",
     "output_type": "stream",
     "text": [
      "Value of the specific state 60.28752136230469\n"
     ]
    },
    {
     "name": "stderr",
     "output_type": "stream",
     "text": [
      "Iteration 91: loss 28.1568: 100%|██████████| 36/36 [00:01<00:00, 27.49it/s]\n",
      "Iteration 92: loss 21.6423: 100%|██████████| 36/36 [00:01<00:00, 27.58it/s]\n",
      "Iteration 93: loss 26.5686: 100%|██████████| 36/36 [00:01<00:00, 25.60it/s]\n",
      "Iteration 94: loss 26.4804: 100%|██████████| 36/36 [00:01<00:00, 25.38it/s]\n",
      "Iteration 95: loss 29.9398: 100%|██████████| 36/36 [00:01<00:00, 25.15it/s]\n"
     ]
    },
    {
     "name": "stdout",
     "output_type": "stream",
     "text": [
      "Value of the specific state 70.80062103271484\n"
     ]
    },
    {
     "name": "stderr",
     "output_type": "stream",
     "text": [
      "Iteration 96: loss 35.4577: 100%|██████████| 36/36 [00:01<00:00, 25.19it/s]\n",
      "Iteration 97: loss 42.0739: 100%|██████████| 36/36 [00:01<00:00, 26.43it/s]\n",
      "Iteration 98: loss 71.4439: 100%|██████████| 36/36 [00:01<00:00, 26.47it/s]\n",
      "Iteration 99: loss 46.8109: 100%|██████████| 36/36 [00:01<00:00, 26.68it/s]\n"
     ]
    }
   ],
   "source": [
    "for iteration in range(50,100):\n",
    "    continue_train_one(iteration)"
   ]
  },
  {
   "cell_type": "code",
   "execution_count": 15,
   "metadata": {},
   "outputs": [
    {
     "data": {
      "image/png": "[encoded data removed]",
      "text/plain": [
       "<Figure size 640x480 with 1 Axes>"
      ]
     },
     "metadata": {},
     "output_type": "display_data"
    }
   ],
   "source": [
    "plt.plot([x[0] for x in enumerate(values_for_that_state)],values_for_that_state)\n",
    "plt.title('Value for a given state')\n",
    "plt.show()"
   ]
  },
  {
   "cell_type": "markdown",
   "metadata": {},
   "source": [
    "糟了——就在最后几个iteration里，value又和loss一起起飞了。我们没有从根本上解决这个问题，但不妨先看看效果如何："
   ]
  },
  {
   "cell_type": "code",
   "execution_count": 13,
   "metadata": {},
   "outputs": [
    {
     "name": "stdout",
     "output_type": "stream",
     "text": [
      "Initial state:\n"
     ]
    },
    {
     "data": {
      "text/markdown": [
       "|█| | | | | | |█| | |\n",
       "|-|-|-|-|-|-|-|-|-|-|\n",
       "| |█| |█| | |█| | | |\n",
       "| |█|█| |█| | |█| | |\n",
       "| | |█| | | |█| | |█|\n",
       "| | | | | | | | | |█|\n",
       "| | | | | | | | | | |\n",
       "| | | | | |█|█| | | |\n",
       "| |█| | | | |█| | | |\n",
       "| | | | | | | | | | |\n",
       "| | | | |█|█| | | | |"
      ]
     },
     "metadata": {},
     "output_type": "display_data"
    },
    {
     "name": "stdout",
     "output_type": "stream",
     "text": [
      "Initial common pixels 3\n",
      "t = 1\n"
     ]
    },
    {
     "data": {
      "text/markdown": [
       "|█| | | | | | |█| | |\n",
       "|-|-|-|-|-|-|-|-|-|-|\n",
       "| |█| |█| | | | | | |\n",
       "| |█|█| |█| |█|█| | |\n",
       "| | |█| | | |█| | |█|\n",
       "| | | | | | | | | |█|\n",
       "| | | | | | | | | | |\n",
       "| | | | | |█|█| | | |\n",
       "| |█| | | | | | | | |\n",
       "| | | | | | | | | | |\n",
       "| | | | |█|█| | | | |"
      ]
     },
     "metadata": {},
     "output_type": "display_data"
    },
    {
     "name": "stdout",
     "output_type": "stream",
     "text": [
      "t = 21\n"
     ]
    },
    {
     "data": {
      "text/markdown": [
       "|█| | | | | | |█| | |\n",
       "|-|-|-|-|-|-|-|-|-|-|\n",
       "| |█| | | | | | | | |\n",
       "| |█| | |█| | |█| | |\n",
       "| | | |█| | |█| | |█|\n",
       "| | | |█|█| | | | |█|\n",
       "| | | | | | | | | | |\n",
       "| | |█| |█|█|█| | | |\n",
       "| | | |█| | | | | | |\n",
       "| | | | | | | | | | |\n",
       "| | | | |█| | | | | |"
      ]
     },
     "metadata": {},
     "output_type": "display_data"
    },
    {
     "name": "stdout",
     "output_type": "stream",
     "text": [
      "t = 41\n"
     ]
    },
    {
     "data": {
      "text/markdown": [
       "|█| | | | | | |█| | |\n",
       "|-|-|-|-|-|-|-|-|-|-|\n",
       "| |█| | | | | | | | |\n",
       "| |█| | |█| | | | | |\n",
       "| | | |█| |█|█| | | |\n",
       "| | | |█|█|█|█| | |█|\n",
       "| | | |█| |█| | | |█|\n",
       "| | | |█|█|█|█| | | |\n",
       "| | | |█| |█| | | | |\n",
       "| | | | | | | | | | |\n",
       "| | | | | | | | | | |"
      ]
     },
     "metadata": {},
     "output_type": "display_data"
    },
    {
     "name": "stdout",
     "output_type": "stream",
     "text": [
      "t = 61\n"
     ]
    },
    {
     "data": {
      "text/markdown": [
       "| |█| | | | | |█| | |\n",
       "|-|-|-|-|-|-|-|-|-|-|\n",
       "| | | | | | | | | | |\n",
       "| | | | |█| | | | | |\n",
       "| | | |█| |█|█| | | |\n",
       "| | | |█|█|█|█|█| | |\n",
       "| | | |█| |█| | | | |\n",
       "| | | |█|█|█|█|█| | |\n",
       "| | | |█| |█| | | | |\n",
       "| | | | | | | | | | |\n",
       "| | | | | | | | | | |"
      ]
     },
     "metadata": {},
     "output_type": "display_data"
    },
    {
     "name": "stdout",
     "output_type": "stream",
     "text": [
      "t = 81\n"
     ]
    },
    {
     "data": {
      "text/markdown": [
       "| |█| | | | | |█| | |\n",
       "|-|-|-|-|-|-|-|-|-|-|\n",
       "| | | | | | | | | | |\n",
       "| | | | |█| | | | | |\n",
       "| | | |█| |█|█| | | |\n",
       "| | | |█|█|█|█|█| | |\n",
       "| | | |█| |█| | | | |\n",
       "| | | |█|█|█|█|█| | |\n",
       "| | | |█| |█| | | | |\n",
       "| | | | | | | | | | |\n",
       "| | | | | | | | | | |"
      ]
     },
     "metadata": {},
     "output_type": "display_data"
    },
    {
     "name": "stdout",
     "output_type": "stream",
     "text": [
      "t = 101\n"
     ]
    },
    {
     "data": {
      "text/markdown": [
       "| |█| | | | | |█| | |\n",
       "|-|-|-|-|-|-|-|-|-|-|\n",
       "| | | | | | | | | | |\n",
       "| | | | |█| | | | | |\n",
       "| | | |█| |█|█| | | |\n",
       "| | | |█|█|█|█|█| | |\n",
       "| | | |█| |█| | | | |\n",
       "| | | |█|█|█|█|█| | |\n",
       "| | | |█| |█| | | | |\n",
       "| | | | | | | | | | |\n",
       "| | | | | | | | | | |"
      ]
     },
     "metadata": {},
     "output_type": "display_data"
    },
    {
     "name": "stdout",
     "output_type": "stream",
     "text": [
      "t = 121\n"
     ]
    },
    {
     "data": {
      "text/markdown": [
       "| |█| | | | | |█| | |\n",
       "|-|-|-|-|-|-|-|-|-|-|\n",
       "| | | | | | | | | | |\n",
       "| | | | |█| | | | | |\n",
       "| | | |█| |█|█| | | |\n",
       "| | | |█|█|█|█|█| | |\n",
       "| | | |█| |█| | | | |\n",
       "| | | |█|█|█|█|█| | |\n",
       "| | | |█| |█| | | | |\n",
       "| | | | | | | | | | |\n",
       "| | | | | | | | | | |"
      ]
     },
     "metadata": {},
     "output_type": "display_data"
    },
    {
     "name": "stdout",
     "output_type": "stream",
     "text": [
      "t = 141\n"
     ]
    },
    {
     "data": {
      "text/markdown": [
       "| |█| | | | | |█| | |\n",
       "|-|-|-|-|-|-|-|-|-|-|\n",
       "| | | | | | | | | | |\n",
       "| | | | |█| | | | | |\n",
       "| | | |█| |█|█| | | |\n",
       "| | | |█|█|█|█|█| | |\n",
       "| | | |█| |█| | | | |\n",
       "| | | |█|█|█|█|█| | |\n",
       "| | | |█| |█| | | | |\n",
       "| | | | | | | | | | |\n",
       "| | | | | | | | | | |"
      ]
     },
     "metadata": {},
     "output_type": "display_data"
    },
    {
     "name": "stdout",
     "output_type": "stream",
     "text": [
      "t = 161\n"
     ]
    },
    {
     "data": {
      "text/markdown": [
       "| |█| | | | | |█| | |\n",
       "|-|-|-|-|-|-|-|-|-|-|\n",
       "| | | | | | | | | | |\n",
       "| | | | |█| | | | | |\n",
       "| | | |█| |█|█| | | |\n",
       "| | | |█|█|█|█|█| | |\n",
       "| | | |█| |█| | | | |\n",
       "| | | |█|█|█|█|█| | |\n",
       "| | | |█| |█| | | | |\n",
       "| | | | | | | | | | |\n",
       "| | | | | | | | | | |"
      ]
     },
     "metadata": {},
     "output_type": "display_data"
    },
    {
     "name": "stdout",
     "output_type": "stream",
     "text": [
      "t = 181\n"
     ]
    },
    {
     "data": {
      "text/markdown": [
       "| |█| | | | | |█| | |\n",
       "|-|-|-|-|-|-|-|-|-|-|\n",
       "| | | | | | | | | | |\n",
       "| | | | |█| | | | | |\n",
       "| | | |█| |█|█| | | |\n",
       "| | | |█|█|█|█|█| | |\n",
       "| | | |█| |█| | | | |\n",
       "| | | |█|█|█|█|█| | |\n",
       "| | | |█| |█| | | | |\n",
       "| | | | | | | | | | |\n",
       "| | | | | | | | | | |"
      ]
     },
     "metadata": {},
     "output_type": "display_data"
    },
    {
     "name": "stdout",
     "output_type": "stream",
     "text": [
      "Cumulative reward -7.17\n",
      "Succeeded? False\n",
      "Final common pixels: 16\n"
     ]
    }
   ],
   "source": [
    "last_state = demonstrate_policy(net)"
   ]
  },
  {
   "cell_type": "markdown",
   "metadata": {},
   "source": [
    "模型的确取得了很大的进步，但还没有排“兵”布阵的能力。但接下来，我们该何去何从呢？\n",
    "\n",
    "我们可以先以上面的最后一张图片为例子，看看为什么这个过程进行不下去了？"
   ]
  },
  {
   "cell_type": "code",
   "execution_count": 14,
   "metadata": {},
   "outputs": [
    {
     "name": "stdout",
     "output_type": "stream",
     "text": [
      "[((0, 1, 1), 236.60252380371094), ((0, 7, 1), 236.60252380371094), ((0, 1, 3), 236.34033203125), ((0, 1, 2), 235.5745391845703), ((0, 1, 0), 235.56044006347656)]\n"
     ]
    }
   ],
   "source": [
    "actions = pgame.get_actions(last_state)\n",
    "lst = []\n",
    "for a in actions:\n",
    "    lst.append((a,net(pgame.as_tensor(pgame.get_transition(last_state,a)).unsqueeze(0).to(device)).item()))\n",
    "print(sorted(lst,reverse=True,key=lambda x: x[1])[:5])"
   ]
  },
  {
   "cell_type": "markdown",
   "metadata": {},
   "source": [
    "我们发现，排名前几名的action，其对应的value都很接近！在这样的情况下，模型自身近似造成的误差就已经远大于不同action之间的“区分度”，而在这里模型恰好选择了一个不做任何操作的action，这样他就被“卡住”了。\n",
    "\n",
    "同时，我们看到Value的数值又是超过了100！的确，神经网络的本质让这没有任何办法——神经网络的输出是十分“凹凸不平”的，就算整体上Value小于100,也肯定有一些奇怪的地方Value非常巨大。在这些地方Value网络的准确度更是完全没法保证。"
   ]
  },
  {
   "cell_type": "markdown",
   "metadata": {},
   "source": [
    "为了解决这一问题，我们其实可以从根本上反思Value Iteration这一方法：还记得之前我们如何引入Value这一概念的吗？当时我们假设自己处于最优策略，并据此给出每一个点处的“价值”，满足一个递推关系。然后，我们设法求解这个递推关系得到一个Value的近似值。最后，我们再做policy extraction。在这一过程中，Value毕竟只是一个媒介。我们自然地想到：我们是否可以**不经过Value这一层，直接优化policy**呢？\n",
    "\n",
    "从直觉上，这样非常好——因为policy直接就是我们想要的东西，就没有必要比较不同的Value，神经网络的拟合误差也就不会被放大。这就是Policy-based method的本质性优点，下面我们就来探讨它们。"
   ]
  },
  {
   "cell_type": "markdown",
   "metadata": {},
   "source": [
    "### Policy-based Methods\n",
    "\n",
    "如何直接优化policy呢？我们从定义出发：\n",
    "\n",
    "$$\n",
    "J(s)=\\mathbb{E}_{a\\sim \\pi(a|s)}\\left[r(s,a)+\\mathbb{E}_{s'\\sim p(s'|s,a)}\\left[\\mathbb{E}_{a'\\sim \\pi(a'|s')}[r(s',a')+\\cdots]\\right]\\right]\n",
    "$$\n",
    "\n",
    "为了记号方便，我们记$\\tau$为**轨迹**(trajectory)，也就是$s,a,s',a',\\cdots$不断下去。我们可以用$\\tau$的概率分布代替：\n",
    "\n",
    "$$\n",
    "p(\\tau|s)=\\pi(a|s)p(s'|s,a)\\pi(a'|s')\\cdots\n",
    "$$\n",
    "\n",
    "$$\n",
    "J(s)=\\mathbb{E}_{\\tau\\sim p(\\tau|s)}\\left[\\sum_{t=0}^{T}r(s_t,a_t)\\right]\n",
    "$$\n",
    "\n",
    "其中，记号$s_0,a_0,s_1,a_1,\\cdots$定义为和$s,a,s',a',\\cdots$一一对应（也就是$s_0:=s,a_0:=a$，依次类推）。$T$是horizon，也就是在这么多步后立刻结束；这个变量通常在实验中设置，以避免运行周期过长或者总reward发散。这样，这个MDP问题就变成了**找到一个函数$\\pi(a|s)$，使得目标函数$J$最大化**。（$J$可以理解为$J(s)$对$s$的平均）这样一个函数优化问题。"
   ]
  },
  {
   "cell_type": "markdown",
   "metadata": {},
   "source": [
    "#### Policy Gradients\n",
    "\n",
    "诚然，可以把$\\pi$像之前一开始尝试Value Iteration的时候那样写为表格(tabular)形式；但我们还是更希望讨论一般的情况，这时我们应该使用神经网络来表达$\\pi$：$\\pi_\\theta$。一个想法是，我们能否 **直接对 $J$ 求$\\theta$的梯度**？假设$\\pi$由参数$\\theta$决定，那么：\n",
    "\n",
    "$$\n",
    "\\nabla_\\theta J(\\theta)=\\nabla_\\theta \\sum_{\\tau}p(\\tau)\\left(\\sum_{t=0}^{T}r(s_t,a_t)\\right)\n",
    "$$\n",
    "\n",
    "很明显，只有$p(\\tau|s)$里面含有对$\\theta$的梯度。因为对乘积求导数，所以自然采用对数求导：\n",
    "\n",
    "$$\n",
    "\\begin{align*}\n",
    "\\nabla_\\theta J(\\theta)&=\\sum_{\\tau}p(\\tau)\\left(\\sum_{t=0}^T \\nabla_\\theta\\log \\pi_\\theta(a_t|s_t)\\right)\\left(\\sum_{t=0}^{T}r(s_t,a_t)\\right)\\\\\n",
    "&=\\mathbb{E}_{\\tau\\sim p(\\tau)}\\left[\\left(\\sum_{t=0}^T \\nabla_\\theta\\log \\pi_\\theta(a_t|s_t)\\right)\\left(\\sum_{t=0}^{T}r(s_t,a_t)\\right)\\right]\n",
    "\\end{align*}\n",
    "$$\n",
    "\n",
    "注意到最后又写成了期待值的形式——这意味着可以使用采样的方法估计。为何一定要采样？因为如果严格计算，那么计算量随着时间指数级别地增长，完全无法控制。"
   ]
  },
  {
   "cell_type": "markdown",
   "metadata": {},
   "source": [
    "这就是著名的**Policy Gradients**方法。你可能会惊叹：这一表达式竟然如此简单，我们只需要采样并梯度下降就可以完成MDP问题的求解了！的确如此，但在实现的地方需要小心：这里的采样$p(\\tau)$也和policy $\\pi$有关。因此，每做一次gradient step，就要重新做一次采样。这样，我们就给出了算法：\n",
    "\n",
    "> (Vanilla) **Policy Gradient Algorithm**\n",
    ">\n",
    "> 不断重复：\n",
    "> 1. 采集若干trajectory $\\tau\\sim p(\\tau)$\n",
    "> 2. 计算梯度并作gradient step。\n",
    "\n",
    "我们很容易就可以实现这一方法。就让我们在Pixel Game上一雪前耻吧！"
   ]
  },
  {
   "cell_type": "code",
   "execution_count": 8,
   "metadata": {},
   "outputs": [],
   "source": [
    "from utils import device\n",
    "import torch\n",
    "import torch.nn as nn\n",
    "import torch.nn.functional as F\n",
    "from torch.utils.data import DataLoader\n",
    "from tqdm import tqdm\n",
    "from utils_0_intro import PixelGame\n",
    "pgame = PixelGame()"
   ]
  },
  {
   "cell_type": "markdown",
   "metadata": {},
   "source": [
    "当然，还有一些必须注意的细节。首先是为了利用optimizer，我们不应该直接计算梯度，而是搞一个**fake loss**来backward，这个loss就可以选取为\n",
    "\n",
    "$$\n",
    "J_{\\text{fake}}=\\mathbb{E}_{\\tau\\sim p(\\tau)}\\left[\\left(\\sum_{t=0}^T\\log \\pi_\\theta(a_t|s_t)\\right)\\left(\\sum_{t=0}^{T}r(s_t,a_t)\\right)\\right]\n",
    "$$\n",
    "\n",
    "此外，为了计算方便，我们让模型输出对400个完整action的logit，最后再通过`action_mask`选取出有意义的action。"
   ]
  },
  {
   "cell_type": "code",
   "execution_count": 9,
   "metadata": {},
   "outputs": [],
   "source": [
    "class PolicyGrad(nn.Module):\n",
    "\n",
    "    def __init__(self):\n",
    "        super().__init__()\n",
    "        self.conv1 = nn.Conv2d(in_channels=1,out_channels=64,kernel_size=3,padding=1)\n",
    "        self.conv2 = nn.Conv2d(in_channels=64,out_channels=8,kernel_size=3,padding=1)\n",
    "        self.rev1 = nn.ConvTranspose2d(in_channels=8,out_channels=64,kernel_size=3,padding=1)\n",
    "        self.rev2 = nn.ConvTranspose2d(in_channels=64,out_channels=32,kernel_size=3,padding=1)\n",
    "        self.mlp = nn.Conv2d(in_channels=32,out_channels=4,kernel_size=1)\n",
    "\n",
    "    def forward(self,x):\n",
    "        f1 = F.relu(self.conv1(x))\n",
    "        f2 = F.relu(self.conv2(f1))\n",
    "        rev1 = F.relu(self.rev1(f2)) + f1\n",
    "        rev2 = F.relu(self.rev2(rev1)) + x\n",
    "        return self.mlp(rev2).reshape(x.shape[0],-1) # logits\n",
    "    \n",
    "    def get_action(self,x,action_mask):\n",
    "        logits = self(x)\n",
    "        return torch.distributions.Categorical(logits=logits + action_mask).sample()\n",
    "    \n",
    "    def get_prob(self,x,a,action_mask):\n",
    "        # notice that both a and x is batched, and a has shape [batch]\n",
    "        logits = self(x)\n",
    "        probs = torch.softmax(logits + action_mask,dim=-1)\n",
    "        return probs[torch.arange(a.shape[0]),a]"
   ]
  },
  {
   "cell_type": "code",
   "execution_count": 10,
   "metadata": {},
   "outputs": [],
   "source": [
    "def act2ind(a):\n",
    "    x,y,d = a\n",
    "    return 4*(10*x+y)+d\n",
    "\n",
    "def ind2act(ind):\n",
    "    d = ind % 4; rem = ind // 4\n",
    "    return rem//10, rem%10, d\n",
    "\n",
    "def build_action_mask(actions):\n",
    "    msk = torch.empty(400)\n",
    "    msk.fill_(-1e6)\n",
    "    msk[[act2ind(a) for a in actions]] = 0\n",
    "    return msk.to(device)\n",
    "\n",
    "def collect_rollout(agent:PolicyGrad,horizon=50):\n",
    "    state = pgame.reset(randomly=True)\n",
    "    states = [];actions = [];rewards = [];truncates = [];action_masks = []\n",
    "    for t in range(horizon):\n",
    "        tensor_state = pgame.as_tensor(state)\n",
    "        possible_actions = pgame.get_actions(state)\n",
    "        action_mask = build_action_mask(possible_actions)\n",
    "        action = agent.get_action(tensor_state.to(device),action_mask=action_mask)\n",
    "\n",
    "        states.append(tensor_state)\n",
    "        action_masks.append(action_mask)\n",
    "        actions.append(action)\n",
    "        rewards.append(pgame.get_reward(state))\n",
    "        truncates.append(False)\n",
    "\n",
    "        state = pgame.get_transition(state,ind2act(action.cpu().item()))\n",
    "        if state is None: # win before horizon\n",
    "            need_add = horizon - len(states)\n",
    "            states += [torch.zeros_like(states[0])] * need_add\n",
    "            actions += [0] * need_add\n",
    "            rewards += [0] * need_add\n",
    "            truncates += [True] * need_add\n",
    "            action_masks += [torch.zeros_like(action_masks[0])] * need_add\n",
    "    return states,actions,rewards,truncates,action_masks\n",
    "\n",
    "def get_dataloader(agent:PolicyGrad,num_rollouts=1000):\n",
    "    def collate(datas):\n",
    "        out_states = [];out_acts = [];out_rews = [];out_truncated = [];out_action_masks = []\n",
    "        for data in datas:\n",
    "            states,actions,rewards,truncated,action_masks = data\n",
    "            out_states.append(torch.stack(states)) # item: [T,1,10,10]\n",
    "            out_acts.append(torch.stack(actions).int()) # item: [T,1]\n",
    "            out_rews.append(sum(rewards)) # item: float\n",
    "            out_truncated.append(torch.tensor(truncated,dtype=torch.float)) # item: [T]\n",
    "            out_action_masks.append(torch.stack(action_masks)) # item: [T, 400]\n",
    "        return {\n",
    "            'states': torch.stack(out_states), # [batch,T,1,10,10]\n",
    "            'actions':torch.stack(out_acts), # [batch,T,1]\n",
    "            'rewards':torch.tensor(out_rews), # [batch]\n",
    "            'truncated':torch.stack(out_truncated), # [batch,T]\n",
    "            'actmask': torch.stack(out_action_masks) # [batch,T,400]\n",
    "        }\n",
    "    dataset = []\n",
    "    with tqdm(range(num_rollouts),desc='Sampling Trajectories') as bar:\n",
    "        for _ in bar:\n",
    "            dataset.append(collect_rollout(agent))\n",
    "    return DataLoader(dataset=dataset,batch_size=32,collate_fn=collate)"
   ]
  },
  {
   "cell_type": "markdown",
   "metadata": {},
   "source": [
    "开始训练！注意，没有GPU的话sample trajectory可能会很慢。"
   ]
  },
  {
   "cell_type": "code",
   "execution_count": 12,
   "metadata": {},
   "outputs": [
    {
     "name": "stderr",
     "output_type": "stream",
     "text": [
      "Sampling Trajectories: 100%|██████████| 1000/1000 [00:56<00:00, 17.68it/s]\n",
      "Iteration 0: loss nan, avg cum-reward: -4.0523: 100%|██████████| 32/32 [00:07<00:00,  4.51it/s]       \n"
     ]
    },
    {
     "data": {
      "image/png": "[encoded data removed]",
      "text/plain": [
       "<Figure size 640x480 with 1 Axes>"
      ]
     },
     "metadata": {},
     "output_type": "display_data"
    },
    {
     "name": "stderr",
     "output_type": "stream",
     "text": [
      "Sampling Trajectories:   0%|          | 0/1000 [00:00<?, ?it/s]\n"
     ]
    },
    {
     "ename": "ValueError",
     "evalue": "Expected parameter logits (Tensor of shape (1, 400)) of distribution Categorical(logits: torch.Size([1, 400])) to satisfy the constraint IndependentConstraint(Real(), 1), but found invalid values:\ntensor([[nan, nan, nan, nan, nan, nan, nan, nan, nan, nan, nan, nan, nan, nan, nan, nan, nan, nan, nan, nan, nan, nan, nan, nan,\n         nan, nan, nan, nan, nan, nan, nan, nan, nan, nan, nan, nan, nan, nan, nan, nan, nan, nan, nan, nan, nan, nan, nan, nan,\n         nan, nan, nan, nan, nan, nan, nan, nan, nan, nan, nan, nan, nan, nan, nan, nan, nan, nan, nan, nan, nan, nan, nan, nan,\n         nan, nan, nan, nan, nan, nan, nan, nan, nan, nan, nan, nan, nan, nan, nan, nan, nan, nan, nan, nan, nan, nan, nan, nan,\n         nan, nan, nan, nan, nan, nan, nan, nan, nan, nan, nan, nan, nan, nan, nan, nan, nan, nan, nan, nan, nan, nan, nan, nan,\n         nan, nan, nan, nan, nan, nan, nan, nan, nan, nan, nan, nan, nan, nan, nan, nan, nan, nan, nan, nan, nan, nan, nan, nan,\n         nan, nan, nan, nan, nan, nan, nan, nan, nan, nan, nan, nan, nan, nan, nan, nan, nan, nan, nan, nan, nan, nan, nan, nan,\n         nan, nan, nan, nan, nan, nan, nan, nan, nan, nan, nan, nan, nan, nan, nan, nan, nan, nan, nan, nan, nan, nan, nan, nan,\n         nan, nan, nan, nan, nan, nan, nan, nan, nan, nan, nan, nan, nan, nan, nan, nan, nan, nan, nan, nan, nan, nan, nan, nan,\n         nan, nan, nan, nan, nan, nan, nan, nan, nan, nan, nan, nan, nan, nan, nan, nan, nan, nan, nan, nan, nan, nan, nan, nan,\n         nan, nan, nan, nan, nan, nan, nan, nan, nan, nan, nan, nan, nan, nan, nan, nan, nan, nan, nan, nan, nan, nan, nan, nan,\n         nan, nan, nan, nan, nan, nan, nan, nan, nan, nan, nan, nan, nan, nan, nan, nan, nan, nan, nan, nan, nan, nan, nan, nan,\n         nan, nan, nan, nan, nan, nan, nan, nan, nan, nan, nan, nan, nan, nan, nan, nan, nan, nan, nan, nan, nan, nan, nan, nan,\n         nan, nan, nan, nan, nan, nan, nan, nan, nan, nan, nan, nan, nan, nan, nan, nan, nan, nan, nan, nan, nan, nan, nan, nan,\n         nan, nan, nan, nan, nan, nan, nan, nan, nan, nan, nan, nan, nan, nan, nan, nan, nan, nan, nan, nan, nan, nan, nan, nan,\n         nan, nan, nan, nan, nan, nan, nan, nan, nan, nan, nan, nan, nan, nan, nan, nan, nan, nan, nan, nan, nan, nan, nan, nan,\n         nan, nan, nan, nan, nan, nan, nan, nan, nan, nan, nan, nan, nan, nan, nan, nan]],\n       grad_fn=<SubBackward0>)",
     "output_type": "error",
     "traceback": [
      "\u001b[0;31m---------------------------------------------------------------------------\u001b[0m",
      "\u001b[0;31mValueError\u001b[0m                                Traceback (most recent call last)",
      "Cell \u001b[0;32mIn[12], line 4\u001b[0m\n\u001b[1;32m      2\u001b[0m optimizer \u001b[38;5;241m=\u001b[39m torch\u001b[38;5;241m.\u001b[39moptim\u001b[38;5;241m.\u001b[39mAdam(agent\u001b[38;5;241m.\u001b[39mparameters(),lr\u001b[38;5;241m=\u001b[39m\u001b[38;5;241m1e-3\u001b[39m)\n\u001b[1;32m      3\u001b[0m \u001b[38;5;28;01mfor\u001b[39;00m iteration \u001b[38;5;129;01min\u001b[39;00m \u001b[38;5;28mrange\u001b[39m(\u001b[38;5;241m20\u001b[39m):\n\u001b[0;32m----> 4\u001b[0m     dataloader \u001b[38;5;241m=\u001b[39m \u001b[43mget_dataloader\u001b[49m\u001b[43m(\u001b[49m\u001b[43magent\u001b[49m\u001b[43m)\u001b[49m\n\u001b[1;32m      5\u001b[0m     \u001b[38;5;28;01mwith\u001b[39;00m tqdm(dataloader) \u001b[38;5;28;01mas\u001b[39;00m bar:\n\u001b[1;32m      6\u001b[0m         losses \u001b[38;5;241m=\u001b[39m []\n",
      "Cell \u001b[0;32mIn[10], line 60\u001b[0m, in \u001b[0;36mget_dataloader\u001b[0;34m(agent, num_rollouts)\u001b[0m\n\u001b[1;32m     58\u001b[0m \u001b[38;5;28;01mwith\u001b[39;00m tqdm(\u001b[38;5;28mrange\u001b[39m(num_rollouts),desc\u001b[38;5;241m=\u001b[39m\u001b[38;5;124m'\u001b[39m\u001b[38;5;124mSampling Trajectories\u001b[39m\u001b[38;5;124m'\u001b[39m) \u001b[38;5;28;01mas\u001b[39;00m bar:\n\u001b[1;32m     59\u001b[0m     \u001b[38;5;28;01mfor\u001b[39;00m _ \u001b[38;5;129;01min\u001b[39;00m bar:\n\u001b[0;32m---> 60\u001b[0m         dataset\u001b[38;5;241m.\u001b[39mappend(\u001b[43mcollect_rollout\u001b[49m\u001b[43m(\u001b[49m\u001b[43magent\u001b[49m\u001b[43m)\u001b[49m)\n\u001b[1;32m     61\u001b[0m \u001b[38;5;28;01mreturn\u001b[39;00m DataLoader(dataset\u001b[38;5;241m=\u001b[39mdataset,batch_size\u001b[38;5;241m=\u001b[39m\u001b[38;5;241m32\u001b[39m,collate_fn\u001b[38;5;241m=\u001b[39mcollate)\n",
      "Cell \u001b[0;32mIn[10], line 22\u001b[0m, in \u001b[0;36mcollect_rollout\u001b[0;34m(agent, horizon)\u001b[0m\n\u001b[1;32m     20\u001b[0m possible_actions \u001b[38;5;241m=\u001b[39m pgame\u001b[38;5;241m.\u001b[39mget_actions(state)\n\u001b[1;32m     21\u001b[0m action_mask \u001b[38;5;241m=\u001b[39m build_action_mask(possible_actions)\n\u001b[0;32m---> 22\u001b[0m action \u001b[38;5;241m=\u001b[39m \u001b[43magent\u001b[49m\u001b[38;5;241;43m.\u001b[39;49m\u001b[43mget_action\u001b[49m\u001b[43m(\u001b[49m\u001b[43mtensor_state\u001b[49m\u001b[38;5;241;43m.\u001b[39;49m\u001b[43mto\u001b[49m\u001b[43m(\u001b[49m\u001b[43mdevice\u001b[49m\u001b[43m)\u001b[49m\u001b[43m,\u001b[49m\u001b[43maction_mask\u001b[49m\u001b[38;5;241;43m=\u001b[39;49m\u001b[43maction_mask\u001b[49m\u001b[43m)\u001b[49m\n\u001b[1;32m     24\u001b[0m states\u001b[38;5;241m.\u001b[39mappend(tensor_state)\n\u001b[1;32m     25\u001b[0m action_masks\u001b[38;5;241m.\u001b[39mappend(action_mask)\n",
      "Cell \u001b[0;32mIn[9], line 20\u001b[0m, in \u001b[0;36mPolicyGrad.get_action\u001b[0;34m(self, x, action_mask)\u001b[0m\n\u001b[1;32m     18\u001b[0m \u001b[38;5;28;01mdef\u001b[39;00m \u001b[38;5;21mget_action\u001b[39m(\u001b[38;5;28mself\u001b[39m,x,action_mask):\n\u001b[1;32m     19\u001b[0m     logits \u001b[38;5;241m=\u001b[39m \u001b[38;5;28mself\u001b[39m(x)\n\u001b[0;32m---> 20\u001b[0m     \u001b[38;5;28;01mreturn\u001b[39;00m \u001b[43mtorch\u001b[49m\u001b[38;5;241;43m.\u001b[39;49m\u001b[43mdistributions\u001b[49m\u001b[38;5;241;43m.\u001b[39;49m\u001b[43mCategorical\u001b[49m\u001b[43m(\u001b[49m\u001b[43mlogits\u001b[49m\u001b[38;5;241;43m=\u001b[39;49m\u001b[43mlogits\u001b[49m\u001b[43m \u001b[49m\u001b[38;5;241;43m+\u001b[39;49m\u001b[43m \u001b[49m\u001b[43maction_mask\u001b[49m\u001b[43m)\u001b[49m\u001b[38;5;241m.\u001b[39msample()\n",
      "File \u001b[0;32m~/anaconda3/envs/DYY/lib/python3.10/site-packages/torch/distributions/categorical.py:71\u001b[0m, in \u001b[0;36mCategorical.__init__\u001b[0;34m(self, probs, logits, validate_args)\u001b[0m\n\u001b[1;32m     67\u001b[0m \u001b[38;5;28mself\u001b[39m\u001b[38;5;241m.\u001b[39m_num_events \u001b[38;5;241m=\u001b[39m \u001b[38;5;28mself\u001b[39m\u001b[38;5;241m.\u001b[39m_param\u001b[38;5;241m.\u001b[39msize()[\u001b[38;5;241m-\u001b[39m\u001b[38;5;241m1\u001b[39m]\n\u001b[1;32m     68\u001b[0m batch_shape \u001b[38;5;241m=\u001b[39m (\n\u001b[1;32m     69\u001b[0m     \u001b[38;5;28mself\u001b[39m\u001b[38;5;241m.\u001b[39m_param\u001b[38;5;241m.\u001b[39msize()[:\u001b[38;5;241m-\u001b[39m\u001b[38;5;241m1\u001b[39m] \u001b[38;5;28;01mif\u001b[39;00m \u001b[38;5;28mself\u001b[39m\u001b[38;5;241m.\u001b[39m_param\u001b[38;5;241m.\u001b[39mndimension() \u001b[38;5;241m>\u001b[39m \u001b[38;5;241m1\u001b[39m \u001b[38;5;28;01melse\u001b[39;00m torch\u001b[38;5;241m.\u001b[39mSize()\n\u001b[1;32m     70\u001b[0m )\n\u001b[0;32m---> 71\u001b[0m \u001b[38;5;28;43msuper\u001b[39;49m\u001b[43m(\u001b[49m\u001b[43m)\u001b[49m\u001b[38;5;241;43m.\u001b[39;49m\u001b[38;5;21;43m__init__\u001b[39;49m\u001b[43m(\u001b[49m\u001b[43mbatch_shape\u001b[49m\u001b[43m,\u001b[49m\u001b[43m \u001b[49m\u001b[43mvalidate_args\u001b[49m\u001b[38;5;241;43m=\u001b[39;49m\u001b[43mvalidate_args\u001b[49m\u001b[43m)\u001b[49m\n",
      "File \u001b[0;32m~/anaconda3/envs/DYY/lib/python3.10/site-packages/torch/distributions/distribution.py:70\u001b[0m, in \u001b[0;36mDistribution.__init__\u001b[0;34m(self, batch_shape, event_shape, validate_args)\u001b[0m\n\u001b[1;32m     68\u001b[0m         valid \u001b[38;5;241m=\u001b[39m constraint\u001b[38;5;241m.\u001b[39mcheck(value)\n\u001b[1;32m     69\u001b[0m         \u001b[38;5;28;01mif\u001b[39;00m \u001b[38;5;129;01mnot\u001b[39;00m valid\u001b[38;5;241m.\u001b[39mall():\n\u001b[0;32m---> 70\u001b[0m             \u001b[38;5;28;01mraise\u001b[39;00m \u001b[38;5;167;01mValueError\u001b[39;00m(\n\u001b[1;32m     71\u001b[0m                 \u001b[38;5;124mf\u001b[39m\u001b[38;5;124m\"\u001b[39m\u001b[38;5;124mExpected parameter \u001b[39m\u001b[38;5;132;01m{\u001b[39;00mparam\u001b[38;5;132;01m}\u001b[39;00m\u001b[38;5;124m \u001b[39m\u001b[38;5;124m\"\u001b[39m\n\u001b[1;32m     72\u001b[0m                 \u001b[38;5;124mf\u001b[39m\u001b[38;5;124m\"\u001b[39m\u001b[38;5;124m(\u001b[39m\u001b[38;5;132;01m{\u001b[39;00m\u001b[38;5;28mtype\u001b[39m(value)\u001b[38;5;241m.\u001b[39m\u001b[38;5;18m__name__\u001b[39m\u001b[38;5;132;01m}\u001b[39;00m\u001b[38;5;124m of shape \u001b[39m\u001b[38;5;132;01m{\u001b[39;00m\u001b[38;5;28mtuple\u001b[39m(value\u001b[38;5;241m.\u001b[39mshape)\u001b[38;5;132;01m}\u001b[39;00m\u001b[38;5;124m) \u001b[39m\u001b[38;5;124m\"\u001b[39m\n\u001b[1;32m     73\u001b[0m                 \u001b[38;5;124mf\u001b[39m\u001b[38;5;124m\"\u001b[39m\u001b[38;5;124mof distribution \u001b[39m\u001b[38;5;132;01m{\u001b[39;00m\u001b[38;5;28mrepr\u001b[39m(\u001b[38;5;28mself\u001b[39m)\u001b[38;5;132;01m}\u001b[39;00m\u001b[38;5;124m \u001b[39m\u001b[38;5;124m\"\u001b[39m\n\u001b[1;32m     74\u001b[0m                 \u001b[38;5;124mf\u001b[39m\u001b[38;5;124m\"\u001b[39m\u001b[38;5;124mto satisfy the constraint \u001b[39m\u001b[38;5;132;01m{\u001b[39;00m\u001b[38;5;28mrepr\u001b[39m(constraint)\u001b[38;5;132;01m}\u001b[39;00m\u001b[38;5;124m, \u001b[39m\u001b[38;5;124m\"\u001b[39m\n\u001b[1;32m     75\u001b[0m                 \u001b[38;5;124mf\u001b[39m\u001b[38;5;124m\"\u001b[39m\u001b[38;5;124mbut found invalid values:\u001b[39m\u001b[38;5;130;01m\\n\u001b[39;00m\u001b[38;5;132;01m{\u001b[39;00mvalue\u001b[38;5;132;01m}\u001b[39;00m\u001b[38;5;124m\"\u001b[39m\n\u001b[1;32m     76\u001b[0m             )\n\u001b[1;32m     77\u001b[0m \u001b[38;5;28msuper\u001b[39m()\u001b[38;5;241m.\u001b[39m\u001b[38;5;21m__init__\u001b[39m()\n",
      "\u001b[0;31mValueError\u001b[0m: Expected parameter logits (Tensor of shape (1, 400)) of distribution Categorical(logits: torch.Size([1, 400])) to satisfy the constraint IndependentConstraint(Real(), 1), but found invalid values:\ntensor([[nan, nan, nan, nan, nan, nan, nan, nan, nan, nan, nan, nan, nan, nan, nan, nan, nan, nan, nan, nan, nan, nan, nan, nan,\n         nan, nan, nan, nan, nan, nan, nan, nan, nan, nan, nan, nan, nan, nan, nan, nan, nan, nan, nan, nan, nan, nan, nan, nan,\n         nan, nan, nan, nan, nan, nan, nan, nan, nan, nan, nan, nan, nan, nan, nan, nan, nan, nan, nan, nan, nan, nan, nan, nan,\n         nan, nan, nan, nan, nan, nan, nan, nan, nan, nan, nan, nan, nan, nan, nan, nan, nan, nan, nan, nan, nan, nan, nan, nan,\n         nan, nan, nan, nan, nan, nan, nan, nan, nan, nan, nan, nan, nan, nan, nan, nan, nan, nan, nan, nan, nan, nan, nan, nan,\n         nan, nan, nan, nan, nan, nan, nan, nan, nan, nan, nan, nan, nan, nan, nan, nan, nan, nan, nan, nan, nan, nan, nan, nan,\n         nan, nan, nan, nan, nan, nan, nan, nan, nan, nan, nan, nan, nan, nan, nan, nan, nan, nan, nan, nan, nan, nan, nan, nan,\n         nan, nan, nan, nan, nan, nan, nan, nan, nan, nan, nan, nan, nan, nan, nan, nan, nan, nan, nan, nan, nan, nan, nan, nan,\n         nan, nan, nan, nan, nan, nan, nan, nan, nan, nan, nan, nan, nan, nan, nan, nan, nan, nan, nan, nan, nan, nan, nan, nan,\n         nan, nan, nan, nan, nan, nan, nan, nan, nan, nan, nan, nan, nan, nan, nan, nan, nan, nan, nan, nan, nan, nan, nan, nan,\n         nan, nan, nan, nan, nan, nan, nan, nan, nan, nan, nan, nan, nan, nan, nan, nan, nan, nan, nan, nan, nan, nan, nan, nan,\n         nan, nan, nan, nan, nan, nan, nan, nan, nan, nan, nan, nan, nan, nan, nan, nan, nan, nan, nan, nan, nan, nan, nan, nan,\n         nan, nan, nan, nan, nan, nan, nan, nan, nan, nan, nan, nan, nan, nan, nan, nan, nan, nan, nan, nan, nan, nan, nan, nan,\n         nan, nan, nan, nan, nan, nan, nan, nan, nan, nan, nan, nan, nan, nan, nan, nan, nan, nan, nan, nan, nan, nan, nan, nan,\n         nan, nan, nan, nan, nan, nan, nan, nan, nan, nan, nan, nan, nan, nan, nan, nan, nan, nan, nan, nan, nan, nan, nan, nan,\n         nan, nan, nan, nan, nan, nan, nan, nan, nan, nan, nan, nan, nan, nan, nan, nan, nan, nan, nan, nan, nan, nan, nan, nan,\n         nan, nan, nan, nan, nan, nan, nan, nan, nan, nan, nan, nan, nan, nan, nan, nan]],\n       grad_fn=<SubBackward0>)"
     ]
    }
   ],
   "source": [
    "agent = PolicyGrad().to(device)\n",
    "optimizer = torch.optim.Adam(agent.parameters(),lr=1e-3)\n",
    "for iteration in range(20):\n",
    "    dataloader = get_dataloader(agent)\n",
    "    with tqdm(dataloader) as bar:\n",
    "        losses = []\n",
    "        tot_cum_reward = 0\n",
    "        tot_cnt = 0\n",
    "        for item in bar:\n",
    "            states = item['states'].to(device);actions = item['actions'].to(device);rewards = item['rewards'].to(device);truncated = item['truncated'].to(device);act_masks = item['actmask'].to(device)\n",
    "            tot_cnt += rewards.shape[0]\n",
    "            tot_cum_reward += rewards.sum(dim=0)\n",
    "            probs = agent.get_prob(states.reshape(-1,1,10,10) , actions.reshape(-1),action_mask=act_masks.reshape(-1,400)).reshape(states.shape[0],-1) # [batch,T]\n",
    "            j = (probs.log() * (1-truncated)).sum(dim=-1) * (rewards)\n",
    "            optimizer.zero_grad()\n",
    "            loss = -j.mean(dim=0)\n",
    "            loss.backward()\n",
    "            optimizer.step()\n",
    "            losses.append(loss.detach().cpu().item())\n",
    "            bar.set_description(f'Iteration {iteration}: loss {sum(losses)/len(losses):.4f}, avg cum-reward: {tot_cum_reward/tot_cnt:.4f}')\n",
    "        plt.plot(list(range(len(losses))),losses)\n",
    "        plt.show()"
   ]
  },
  {
   "cell_type": "markdown",
   "metadata": {},
   "source": [
    "完了！怎么出现了nan？别急，如果你观察到了绘制出来的曲线，那么你会发现它并非一个健康的MLE曲线，因为他画的是loss，却是上凸的。仔细一想，就发现问题了：我们采集到的所有数据的reward都是负数，这样就导致我们的$\\nabla_\\theta J$实际上是最小化一个log likelihood，这可以到达无限小！\n",
    "\n",
    "你可能会奇怪，但是理论上policy gradient方法是正确的啊？的确，原来并非纯粹地最小化log likelihood，因为也有地方reward为正。只不过在实践中，我们的随机policy很难采样到最后那个100的reward，即使采样到了也不会被重视。这样，就出现了上面训练崩溃的问题。"
   ]
  },
  {
   "cell_type": "markdown",
   "metadata": {},
   "source": [
    "#### Reward Normalizing\n",
    "\n",
    "如何解决这一困境呢？也好办：我们在训练前，先**把reward进行一个normalize**。也就是把一个Batch里面的cumulative reward变成均值0,方差1。为什么可以这样做？首先，我们可以注意到\n",
    "\n",
    "$$\n",
    "\\mathbb{E}_{\\tau\\sim p(\\tau)}\\left[\\left(\\sum_{t=0}^T \\nabla_\\theta\\log \\pi_\\theta(a_t|s_t)\\right)\\cdot b\\right] = \\sum_{\\tau}p(\\tau)\\nabla_\\theta \\log p(\\tau)=0\n",
    "$$\n",
    "\n",
    "因此，我们可以在$\\sum_{t=0}^T r(s_t,a_t)$上减去任意一个bias $b$；而再除以方差$\\sigma$只不过是调整一下learning rate。因此，这一操作完全可行。\n",
    "\n",
    "让我们来试一试："
   ]
  },
  {
   "cell_type": "code",
   "execution_count": 31,
   "metadata": {},
   "outputs": [
    {
     "name": "stderr",
     "output_type": "stream",
     "text": [
      "Sampling Trajectories: 100%|██████████| 1000/1000 [00:44<00:00, 22.44it/s]\n",
      "Iteration 0: loss 1.3000, avg cum-reward: -4.0574: 100%|██████████| 32/32 [00:06<00:00,  4.67it/s]\n"
     ]
    },
    {
     "data": {
      "image/png": "[encoded data removed]",
      "text/plain": [
       "<Figure size 640x480 with 1 Axes>"
      ]
     },
     "metadata": {},
     "output_type": "display_data"
    },
    {
     "name": "stderr",
     "output_type": "stream",
     "text": [
      "Sampling Trajectories: 100%|██████████| 1000/1000 [00:52<00:00, 18.99it/s]\n",
      "Iteration 1: loss 1.6304, avg cum-reward: -4.0399: 100%|██████████| 32/32 [00:07<00:00,  4.54it/s]\n"
     ]
    },
    {
     "data": {
      "image/png": "[encoded data removed]",
      "text/plain": [
       "<Figure size 640x480 with 1 Axes>"
      ]
     },
     "metadata": {},
     "output_type": "display_data"
    },
    {
     "name": "stderr",
     "output_type": "stream",
     "text": [
      "Sampling Trajectories: 100%|██████████| 1000/1000 [00:52<00:00, 19.13it/s]\n",
      "Iteration 2: loss 1.7789, avg cum-reward: -4.0309: 100%|██████████| 32/32 [00:06<00:00,  4.62it/s]\n"
     ]
    },
    {
     "data": {
      "image/png": "[encoded data removed]",
      "text/plain": [
       "<Figure size 640x480 with 1 Axes>"
      ]
     },
     "metadata": {},
     "output_type": "display_data"
    },
    {
     "name": "stderr",
     "output_type": "stream",
     "text": [
      "Sampling Trajectories: 100%|██████████| 1000/1000 [01:20<00:00, 12.45it/s]\n",
      "Iteration 3: loss 3.4793, avg cum-reward: -3.9929: 100%|██████████| 32/32 [00:07<00:00,  4.07it/s]\n"
     ]
    },
    {
     "data": {
      "image/png": "[encoded data removed]",
      "text/plain": [
       "<Figure size 640x480 with 1 Axes>"
      ]
     },
     "metadata": {},
     "output_type": "display_data"
    },
    {
     "name": "stderr",
     "output_type": "stream",
     "text": [
      "Sampling Trajectories: 100%|██████████| 1000/1000 [00:54<00:00, 18.25it/s]\n",
      "Iteration 4: loss -6.7131, avg cum-reward: -4.0405: 100%|██████████| 32/32 [00:07<00:00,  4.46it/s]\n"
     ]
    },
    {
     "data": {
      "image/png": "[encoded data removed]",
      "text/plain": [
       "<Figure size 640x480 with 1 Axes>"
      ]
     },
     "metadata": {},
     "output_type": "display_data"
    }
   ],
   "source": [
    "agent = PolicyGrad().to(device)\n",
    "optimizer = torch.optim.Adam(agent.parameters(),lr=1e-3)\n",
    "for iteration in range(5):\n",
    "    dataloader = get_dataloader(agent)\n",
    "    with tqdm(dataloader) as bar:\n",
    "        losses = []\n",
    "        cum_rewards = []\n",
    "        for item in bar:\n",
    "            states = item['states'].to(device);actions = item['actions'].to(device);rewards = item['rewards'].to(device);truncated = item['truncated'].to(device);act_masks = item['actmask'].to(device)\n",
    "            cum_rewards.append(rewards.mean(dim=0))\n",
    "            probs = agent.get_prob(states.reshape(-1,1,10,10) , actions.reshape(-1),action_mask=act_masks.reshape(-1,400)).reshape(states.shape[0],-1) # [batch,T]\n",
    "            rewards_normalized = (rewards - rewards.mean(dim=0))/(rewards.std(dim=0) + 1e-5)\n",
    "            j = (probs.log() * (1-truncated)).sum(dim=-1) * (rewards_normalized)\n",
    "            optimizer.zero_grad()\n",
    "            loss = -j.mean(dim=0)\n",
    "            loss.backward()\n",
    "            optimizer.step()\n",
    "            losses.append(loss.detach().cpu().item())\n",
    "            bar.set_description(f'Iteration {iteration}: loss {sum(losses)/len(losses):.4f}, avg cum-reward: {sum(cum_rewards)/len(cum_rewards):.4f}')\n",
    "        plt.plot(list(range(len(losses))),losses)\n",
    "        plt.show()"
   ]
  },
  {
   "cell_type": "markdown",
   "metadata": {},
   "source": [
    "因为不同的batch的归一化$\\sigma$不同，这里画的图像其实意义不大，主要是表明不再发散了。不过有些令人沮丧——虽然不再发散了，但似乎policy采样出来的cumulative reward一直不怎么变化。而且再根据horizon为50来估算一下：平均下来每次reward为-0.8，基本就代表只有3-4个pixel重合，差不多就是random move的水准。\n",
    "\n",
    "我们再来看一下policy的具体表现："
   ]
  },
  {
   "cell_type": "code",
   "execution_count": 32,
   "metadata": {},
   "outputs": [],
   "source": [
    "def demonstrate_policy(agent:PolicyGrad):\n",
    "    state = pgame.reset(randomly=True)\n",
    "    cum_r = 0\n",
    "    succeed = False\n",
    "    print('Initial state:')\n",
    "    pgame.display()\n",
    "    print('Initial common pixels',pgame.get_common_pixels(state))\n",
    "    for time in range(200):\n",
    "        possible_actions = pgame.get_actions(state)\n",
    "        action = agent.get_action(pgame.as_tensor(state).to(device),action_mask=build_action_mask(possible_actions)).cpu().item()\n",
    "        reward = pgame.get_reward(state)\n",
    "        cum_r += reward\n",
    "        state = pgame.get_transition(state,ind2act(action))\n",
    "        if state is None:\n",
    "            succeed = True\n",
    "            break\n",
    "        pgame.set_state(state)\n",
    "        if time % 20 == 0:\n",
    "            print('t =',time)\n",
    "            pgame.display()\n",
    "    print('Cumulative reward',f'{cum_r:.2f}')\n",
    "    print('Succeeded?',succeed)\n",
    "    print('Final common pixels:',100 if succeed else pgame.get_common_pixels(state))\n",
    "    return state"
   ]
  },
  {
   "cell_type": "code",
   "execution_count": 33,
   "metadata": {},
   "outputs": [
    {
     "name": "stdout",
     "output_type": "stream",
     "text": [
      "Initial state:\n"
     ]
    },
    {
     "data": {
      "text/markdown": [
       "| | | | | | | | |█|█|\n",
       "|-|-|-|-|-|-|-|-|-|-|\n",
       "| | | | | |█|█| | |█|\n",
       "| | | | |█| | | |█| |\n",
       "|█| | | | | | |█| | |\n",
       "| | | | | | | | | | |\n",
       "| | | | | | | |█| | |\n",
       "| | | | | | |█| |█| |\n",
       "| |█| | | | |█| |█| |\n",
       "| | | | |█| | | | | |\n",
       "| | | |█| | |█| | |█|"
      ]
     },
     "metadata": {},
     "output_type": "display_data"
    },
    {
     "name": "stdout",
     "output_type": "stream",
     "text": [
      "Initial common pixels 4\n",
      "t = 0\n"
     ]
    },
    {
     "data": {
      "text/markdown": [
       "| | | | | | | | |█|█|\n",
       "|-|-|-|-|-|-|-|-|-|-|\n",
       "| | | | | |█|█| | |█|\n",
       "| | | | |█| | | |█| |\n",
       "|█| | | | | | |█| | |\n",
       "| | | | | | | | | | |\n",
       "| | | | | | | |█| | |\n",
       "| | | | | | |█| |█| |\n",
       "| |█| | | | |█| | | |\n",
       "| | | | |█| | | | | |\n",
       "| | | |█| | |█| | |█|"
      ]
     },
     "metadata": {},
     "output_type": "display_data"
    },
    {
     "name": "stdout",
     "output_type": "stream",
     "text": [
      "t = 20\n"
     ]
    },
    {
     "data": {
      "text/markdown": [
       "| | | | | | | | |█|█|\n",
       "|-|-|-|-|-|-|-|-|-|-|\n",
       "| | | | | |█|█| | |█|\n",
       "| | | | |█| | | |█| |\n",
       "|█| | | | | | |█| | |\n",
       "| | | | | | | | | | |\n",
       "| | | | | | | |█| | |\n",
       "| | | | | | |█| |█| |\n",
       "| |█| | | | |█| | | |\n",
       "| | | | |█| | | | | |\n",
       "| | | | |█| |█| | |█|"
      ]
     },
     "metadata": {},
     "output_type": "display_data"
    },
    {
     "name": "stdout",
     "output_type": "stream",
     "text": [
      "t = 40\n"
     ]
    },
    {
     "data": {
      "text/markdown": [
       "| | | | | | | | |█|█|\n",
       "|-|-|-|-|-|-|-|-|-|-|\n",
       "| | | | | |█|█| | |█|\n",
       "| | | | |█| | | |█| |\n",
       "|█| | | | | | |█| | |\n",
       "| | | | | | | | | | |\n",
       "| | | | | | | |█| | |\n",
       "| | | | | | |█| |█| |\n",
       "| |█| | | | |█| | | |\n",
       "| | | | |█| | | | | |\n",
       "| | | | |█| |█| | |█|"
      ]
     },
     "metadata": {},
     "output_type": "display_data"
    },
    {
     "name": "stdout",
     "output_type": "stream",
     "text": [
      "t = 60\n"
     ]
    },
    {
     "data": {
      "text/markdown": [
       "| | | | | | | | |█|█|\n",
       "|-|-|-|-|-|-|-|-|-|-|\n",
       "| | | | | |█|█| | |█|\n",
       "| | | | |█| | | |█| |\n",
       "|█| | | | | | |█| | |\n",
       "| | | | | | | | | | |\n",
       "| | | | | | | |█| | |\n",
       "| | | | | | |█| |█| |\n",
       "| |█| | | | |█| | | |\n",
       "| | | | |█| | | | | |\n",
       "| | | | |█| |█| | |█|"
      ]
     },
     "metadata": {},
     "output_type": "display_data"
    },
    {
     "name": "stdout",
     "output_type": "stream",
     "text": [
      "t = 80\n"
     ]
    },
    {
     "data": {
      "text/markdown": [
       "| | | | | | | | |█|█|\n",
       "|-|-|-|-|-|-|-|-|-|-|\n",
       "| | | | | |█|█| | |█|\n",
       "| | | | |█| | | |█| |\n",
       "|█| | | | | | |█| | |\n",
       "| | | | | | | | | | |\n",
       "| | | | | | | |█| | |\n",
       "| | | | | | |█| |█| |\n",
       "| |█| | | | |█| | | |\n",
       "| | | | |█| | | | | |\n",
       "| | | | |█| |█| | |█|"
      ]
     },
     "metadata": {},
     "output_type": "display_data"
    },
    {
     "name": "stdout",
     "output_type": "stream",
     "text": [
      "t = 100\n"
     ]
    },
    {
     "data": {
      "text/markdown": [
       "| | | | | | | | |█|█|\n",
       "|-|-|-|-|-|-|-|-|-|-|\n",
       "| | | | | |█|█| | |█|\n",
       "| | | | |█| | | |█| |\n",
       "|█| | | | | | |█| | |\n",
       "| | | | | | | | | | |\n",
       "| | | | | | | |█| | |\n",
       "| | | | | | |█| |█| |\n",
       "| |█| | | | |█| | | |\n",
       "| | | | |█| | | | | |\n",
       "| | | | |█| |█| | |█|"
      ]
     },
     "metadata": {},
     "output_type": "display_data"
    },
    {
     "name": "stdout",
     "output_type": "stream",
     "text": [
      "t = 120\n"
     ]
    },
    {
     "data": {
      "text/markdown": [
       "| | | | | | | | |█|█|\n",
       "|-|-|-|-|-|-|-|-|-|-|\n",
       "| | | | | |█|█| | |█|\n",
       "| | | | |█| | | |█| |\n",
       "|█| | | | | | |█| | |\n",
       "| | | | | | | | | | |\n",
       "| | | | | | | |█| | |\n",
       "| | | | | | |█| |█| |\n",
       "| |█| | | | |█| | | |\n",
       "| | | | |█| | | | | |\n",
       "| | | | |█| |█| | |█|"
      ]
     },
     "metadata": {},
     "output_type": "display_data"
    },
    {
     "name": "stdout",
     "output_type": "stream",
     "text": [
      "t = 140\n"
     ]
    },
    {
     "data": {
      "text/markdown": [
       "| | | | | | | | |█|█|\n",
       "|-|-|-|-|-|-|-|-|-|-|\n",
       "| | | | | |█|█| | |█|\n",
       "| | | | |█| | | |█| |\n",
       "|█| | | | | | |█| | |\n",
       "| | | | | | | | | | |\n",
       "| | | | | | | |█| | |\n",
       "| | | | | | |█| |█| |\n",
       "| |█| | | | |█| | | |\n",
       "| | | | |█| | | | | |\n",
       "| | | | |█| |█| | |█|"
      ]
     },
     "metadata": {},
     "output_type": "display_data"
    },
    {
     "name": "stdout",
     "output_type": "stream",
     "text": [
      "t = 160\n"
     ]
    },
    {
     "data": {
      "text/markdown": [
       "| | | | | | | | |█|█|\n",
       "|-|-|-|-|-|-|-|-|-|-|\n",
       "| | | | | |█|█| | |█|\n",
       "| | | | |█| | | |█| |\n",
       "|█| | | | | | |█| | |\n",
       "| | | | | | | | | | |\n",
       "| | | | | | | |█| | |\n",
       "| | | | | | |█| |█| |\n",
       "| |█| | | | |█| | | |\n",
       "| | | | |█| | | | | |\n",
       "| | | | |█| |█| | |█|"
      ]
     },
     "metadata": {},
     "output_type": "display_data"
    },
    {
     "name": "stdout",
     "output_type": "stream",
     "text": [
      "t = 180\n"
     ]
    },
    {
     "data": {
      "text/markdown": [
       "| | | | | | | | |█|█|\n",
       "|-|-|-|-|-|-|-|-|-|-|\n",
       "| | | | | |█|█| | |█|\n",
       "| | | | |█| | | |█| |\n",
       "|█| | | | | | |█| | |\n",
       "| | | | | | | | | | |\n",
       "| | | | | | | |█| | |\n",
       "| | | | | | |█| |█| |\n",
       "| |█| | | | |█| | | |\n",
       "| | | | |█| | | | | |\n",
       "| | | | |█| |█| | |█|"
      ]
     },
     "metadata": {},
     "output_type": "display_data"
    },
    {
     "name": "stdout",
     "output_type": "stream",
     "text": [
      "Cumulative reward -16.36\n",
      "Succeeded? False\n",
      "Final common pixels: 4\n"
     ]
    },
    {
     "data": {
      "text/plain": [
       "[(9, 9),\n",
       " (5, 7),\n",
       " (2, 4),\n",
       " (3, 7),\n",
       " (1, 6),\n",
       " (7, 1),\n",
       " (2, 4),\n",
       " (7, 6),\n",
       " (3, 7),\n",
       " (6, 6),\n",
       " (0, 9),\n",
       " (1, 5),\n",
       " (1, 9),\n",
       " (2, 8),\n",
       " (6, 8),\n",
       " (8, 4),\n",
       " (2, 4),\n",
       " (0, 8),\n",
       " (3, 0),\n",
       " (6, 8),\n",
       " (9, 4),\n",
       " (9, 6)]"
      ]
     },
     "execution_count": 33,
     "metadata": {},
     "output_type": "execute_result"
    }
   ],
   "source": [
    "demonstrate_policy(agent)"
   ]
  },
  {
   "cell_type": "markdown",
   "metadata": {},
   "source": [
    "果然——我们的agent完全失败了。你应该感受到了：policy gradient虽然是理论上十分简单直接的方法，但是实际操作下来很难成功。但别灰心——我们后面几讲会立刻介绍一些技巧，并最终解决这一问题！\n",
    "\n",
    "同时，我们也发现上面的训练过程异常地慢。根本原因实际上很简单——每一个iteration的训练都需要重新采集1000条轨迹来训练。这也是policy gradient的一大特点：极其消耗和环境交互的样本，并且无法（或者很难）重复利用。也正是这一特点决定着policy gradient的应用场合大多数停留在MDP模拟器内，而很难应用到生活中的MDP问题中。"
   ]
  },
  {
   "cell_type": "markdown",
   "metadata": {},
   "source": [
    "## 0.3 RL = Solve MDP while learning it!\n",
    "\n",
    "在0.2这一节中，我们介绍了解决已知reward function和dynamics（即transition function）的MDP的一些求解方法。同时我们意识到，即使对于已知的MDP，但凡state space稍微大一些，求解也绝非易事。\n",
    "\n",
    "但事实上，真正的问题更为困难——他们的MDP都是未知的。也就是因此RL才有实际意义——让一个开始什么都不知道的机器人进入一个MDP，然后从中（不管通过什么手段）获得一个最终很好的policy，这听起来就像是人或者高级动物才特有的行为。换句话说就是，RL就是**一边学习MDP，一边解它**。\n",
    "\n",
    "接下来，就让我们讨论几个真正的RL算法了。"
   ]
  },
  {
   "cell_type": "markdown",
   "metadata": {},
   "source": [
    "#### Do we really need to change anything?\n",
    "\n",
    "你可能疑问，上面我们介绍的Value Iteration和Policy Gradient方法，为什么不能直接应用到未知的MDP上面呢？实际上，你的怀疑是正确的——**Policy Gradient的确可以很好地应用到未知MDP上，因此是RL中的一个重要方法**。但是，Value Iteration就不太行，我们来解释一下为什么。\n",
    "\n",
    "还记得我们之前写Value Iteration的思路：\n",
    "\n",
    "1. 收集大量的state；\n",
    "2. 对于每一个state，枚举所有可能的action，储存所有的reward；同时，储存所有的next state。\n",
    "3. 不断重复训练：\n",
    "    - 计算target\n",
    "    $$\n",
    "    y = \\arg\\max_a \\left(r(s,a)+\\mathbb{E}_{s'\\sim p(s'|s,a)}[V(s')]\\right)\n",
    "    $$\n",
    "    - 对MSE loss $(V(s)-y)^2$ 进行gradient update\n",
    "\n",
    "（当然，还有target network的重要优化，但基本思路是这样的）"
   ]
  },
  {
   "cell_type": "markdown",
   "metadata": {},
   "source": [
    "但是**未知MDP**的含义实际上是，**对于一个state，你只能采取一种action**。比如，你看`gym`的接口，你会发现`env.step`只允许你传入action，而state本身是储存在env的内部的。换句话说，“人生没有后悔药”，在一个未知的MDP里你只能对于每一个state采集一次action，并且进一步也只能得到$p(s'|s,a)$中采样出来的一个$s'$（这依然由环境给你）。这样，value iteration就无法运行。实际上，这才是真正的RL——之前我们介绍的只不过是MDP求解，离真正的RL还有一定的距离。\n",
    "\n",
    "当然，你也可以强行“突破”这一限制，比如你虽然不能在一个state下采取action再“悔棋”，但你可以走遍state space很多次，这样你就有可能两次到达同一个state。只有这样，你才可能可以知道在一个state下面走两个不同的action的结果。但显然，这样的方法是不现实的。\n",
    "\n",
    "因此，Value Iteration方法如果要变成一个真正的RL算法，必须经过一些修改。这些修改我们会在后面介绍。至少，现在我们已经意识到了RL和普通的“求解已知MDP”之间的关键区别。"
   ]
  },
  {
   "cell_type": "markdown",
   "metadata": {},
   "source": [
    "#### A Model is All You Need?\n",
    "\n",
    "一个最直观的想法就是，我们只要建立起来一个环境的模拟器，不就完了吗？我们构造一个**model**（一般称为dynamic model），训练它拟合$p(s'|s,a)$和$r(s,a)$。这样，整体就变成已知的了，然后我们就可以用我们前面任何的MDP solver来解决这一已知MDP的问题。\n",
    "\n",
    "这一想法说起来很容易，因此就可以实践一下：我们拿CartPole开刀。"
   ]
  },
  {
   "cell_type": "markdown",
   "metadata": {},
   "source": [
    "我们选择之前的Value Iteration作为MDP Solver。首先，作为一个baseline（或者说“对照实验”），我们先仿照之前的方法，直接用Value Iteration来解决这一问题。\n",
    "\n",
    "但是问题是，在`gym`的接口下，原来的普通value iteration算法无法进行。因此，我们把gym的环境拷贝到了`utils_0_intro.py`中，并添加一些接口来允许诸如一个state下面实验两种不同的action这样的逆天操作。这不是合法手段，但考虑到我们现在只是在探索，这是可以接受的。"
   ]
  },
  {
   "cell_type": "code",
   "execution_count": 1,
   "metadata": {},
   "outputs": [
    {
     "name": "stdout",
     "output_type": "stream",
     "text": [
      "Your device is cpu\n",
      "(array([ 0.        ,  0.19512194,  0.        , -0.29268292], dtype=float32), 1.0, False, False, {})\n",
      "(array([ 0.        , -0.19512194,  0.        ,  0.29268292], dtype=float32), 1.0, False, False, {})\n"
     ]
    },
    {
     "name": "stderr",
     "output_type": "stream",
     "text": [
      "/home/zhh/anaconda3/envs/DYY/lib/python3.10/site-packages/torch/cuda/__init__.py:128: UserWarning: CUDA initialization: CUDA unknown error - this may be due to an incorrectly set up environment, e.g. changing env variable CUDA_VISIBLE_DEVICES after program start. Setting the available devices to be zero. (Triggered internally at ../c10/cuda/CUDAFunctions.cpp:108.)\n",
      "  return torch._C._cuda_getDeviceCount() > 0\n"
     ]
    }
   ],
   "source": [
    "from utils_0_intro import CartPoleEnv # the modified gym environment\n",
    "import numpy as np\n",
    "import random\n",
    "random.seed(42)\n",
    "import torch\n",
    "import torch.nn as nn\n",
    "import torch.nn.functional as F\n",
    "from torch.utils.data import DataLoader\n",
    "from utils import device\n",
    "import tqdm\n",
    "torch.manual_seed(3407)\n",
    "torch.backends.cudnn.deterministic = True\n",
    "\n",
    "env = CartPoleEnv()\n",
    "print(env.step_from_state(np.array([0,0,0,0]),1))\n",
    "print(env.step_from_state(np.array([0,0,0,0]),0))"
   ]
  },
  {
   "cell_type": "markdown",
   "metadata": {},
   "source": [
    "阅读源码很容易发现，Cartpole这一环境是决定性的（除了一开始的`reset`），因此无需对$s'$采样。这样，我们就可以使用之前的Value Iteration方法了。\n",
    "\n",
    "我们唯一需要选择的是，选择哪些state来做value iteration的训练。同之前一样，可以想象，这些state应该比较具有代表性。我们可以阅读CartPole相关的documentation，发现state包含position, velocity, angle, angular velocity四个量。position和angle具有限制，超过某个值就会terminate，因此我们选取它们为均匀分布；而velocity和angular velocity可以是无限（参见下面的展示），因此我们选取它们为正态分布，并估计一个合理的方差。\n",
    "\n",
    "这个方差的估计可以采用一些物理的手段：典型的角速度可能是 $\\sqrt{\\frac{g}{L}}\\approx 4.5$，而考虑到单位时间间隔是0.02s，最大的离谱的角速度也不能超过 $\\frac{\\pi/2}{0.02}=79$。因此，角速度选择为 $\\mathcal{N}(0,10)$ 是合理的。对于速度，考虑到滑块的质量是杆的10倍，因此速度是0.1倍；杆的速度是 $\\sqrt{gL}\\approx 2$，因此典型的速度是0.2。另一方面，推一把的力是10,因此加速度是10,在0.02s内的速度变化也是0.2。综上所述，速度选择为 $\\mathcal{N}(0,1)$ 是合理的。\n",
    "\n",
    "> 你可以看到，在这一过程中我们利用了大量的MDP内部的数据。再次强调——这并非RL方法，只是一个对于完全已知的MDP的求解。"
   ]
  },
  {
   "cell_type": "code",
   "execution_count": 2,
   "metadata": {},
   "outputs": [
    {
     "data": {
      "text/plain": [
       "Box([-4.8000002e+00 -3.4028235e+38 -4.1887903e-01 -3.4028235e+38], [4.8000002e+00 3.4028235e+38 4.1887903e-01 3.4028235e+38], (4,), float32)"
      ]
     },
     "execution_count": 2,
     "metadata": {},
     "output_type": "execute_result"
    }
   ],
   "source": [
    "env.observation_space # see the state space"
   ]
  },
  {
   "cell_type": "code",
   "execution_count": 3,
   "metadata": {},
   "outputs": [
    {
     "data": {
      "text/plain": [
       "[-1.7123499160160223,\n",
       " -0.37793762156360855,\n",
       " -0.08339060132939861,\n",
       " -5.972950317964699]"
      ]
     },
     "execution_count": 3,
     "metadata": {},
     "output_type": "execute_result"
    }
   ],
   "source": [
    "states = [[\n",
    "    (random.random() - 0.5) * 4.8,\n",
    "    random.gauss(0,1),\n",
    "    (random.random() - 0.5) * 0.418,\n",
    "    random.gauss(0,10)\n",
    "] for _ in range(8000)]\n",
    "states[500]"
   ]
  },
  {
   "cell_type": "code",
   "execution_count": 4,
   "metadata": {},
   "outputs": [
    {
     "name": "stdout",
     "output_type": "stream",
     "text": [
      "Collected 8000 transitions\n"
     ]
    }
   ],
   "source": [
    "transitions = []\n",
    "for state in states:\n",
    "    out = []\n",
    "    for action in [0,1]:\n",
    "        next_state,reward,terminated,truncated,_ = env.step_from_state(np.array(state),action)\n",
    "        out.append((action,next_state,reward,terminated or truncated))\n",
    "    transitions.append((state,out))\n",
    "\n",
    "print('Collected',len(transitions),'transitions')"
   ]
  },
  {
   "cell_type": "code",
   "execution_count": 5,
   "metadata": {},
   "outputs": [],
   "source": [
    "class ValueNet(nn.Module):\n",
    "\n",
    "    def __init__(self):\n",
    "        super().__init__()\n",
    "        self.mlp = nn.Sequential(\n",
    "            nn.Linear(4,64),\n",
    "            nn.ReLU(),\n",
    "            nn.Linear(64,32),\n",
    "            nn.ReLU(),\n",
    "            nn.Linear(32,1)\n",
    "        )\n",
    "        self.private_env = CartPoleEnv()\n",
    "\n",
    "    def forward(self,x):\n",
    "        return self.mlp(x)\n",
    "    \n",
    "    @torch.no_grad()\n",
    "    def get_action(self,x):\n",
    "        best_act = None; best_val = -float('inf')\n",
    "        for action in [0,1]:\n",
    "            next_state,_,_,_,_ = self.private_env.step_from_state(x,action)\n",
    "            val = self(torch.tensor(next_state,dtype=torch.float32).to(device)).cpu().item()\n",
    "            if val > best_val:\n",
    "                best_val = val\n",
    "                best_act = action\n",
    "        return best_act"
   ]
  },
  {
   "cell_type": "code",
   "execution_count": 6,
   "metadata": {},
   "outputs": [],
   "source": [
    "@torch.no_grad()\n",
    "def get_dataloader(net:ValueNet):\n",
    "    dataset = []\n",
    "    for state,out in transitions:\n",
    "        targets = []\n",
    "        for action,next_state,reward,done in out:\n",
    "            target = torch.tensor(reward,dtype=torch.float).to(device).reshape(1)\n",
    "            if not done:\n",
    "                if not isinstance(next_state,torch.Tensor):\n",
    "                    next_state = torch.tensor(next_state,dtype=torch.float).to(device)\n",
    "                target += net(next_state)\n",
    "            targets.append(target)\n",
    "        dataset.append((state,torch.stack(targets).max(dim=0)[0]))\n",
    "\n",
    "    return DataLoader(dataset=dataset,batch_size=32,shuffle=True,\n",
    "                      collate_fn=lambda datas:{\n",
    "                          'states':torch.from_numpy(np.stack([data[0] for data in datas])).float().to(device),\n",
    "                            'targets':torch.stack([data[1] for data in datas],dim=0).to(device)\n",
    "    })"
   ]
  },
  {
   "cell_type": "code",
   "execution_count": 37,
   "metadata": {},
   "outputs": [],
   "source": [
    "net = ValueNet().to(device)\n",
    "target_net = ValueNet().to(device).requires_grad_(False)\n",
    "target_net.load_state_dict(net.state_dict())\n",
    "ALPHA = 1 # Unfortunately, in this example, target network doesn't help much.\n",
    "optimizer = torch.optim.Adam(net.parameters(),lr=5e-3)\n",
    "\n",
    "def update_target_net():\n",
    "    for theta_0,theta in zip(target_net.parameters(),net.parameters()):\n",
    "        theta_0.copy_((1-ALPHA) * theta_0 + ALPHA * theta)\n",
    "\n",
    "def train():\n",
    "    special_state,_ = env.reset()\n",
    "    print('We use the following state for monitoring Value:\\n',special_state)\n",
    "    specific_values = []\n",
    "    for iteration in range(50):\n",
    "        losses = []\n",
    "        dataloader = get_dataloader(target_net)\n",
    "        with tqdm.tqdm(dataloader) as bar:\n",
    "            for item in bar:\n",
    "                states = item['states']\n",
    "                targets = item['targets']\n",
    "                values = net(states)\n",
    "                loss = F.mse_loss(values,targets)\n",
    "                optimizer.zero_grad()\n",
    "                loss.backward()\n",
    "                optimizer.step()\n",
    "                losses.append(loss.detach().cpu().item())\n",
    "                bar.set_description(f'Iteration {iteration}, Loss {sum(losses)/len(losses):.4f}')\n",
    "        update_target_net()\n",
    "        if iteration % 5 == 0:\n",
    "            with torch.no_grad():\n",
    "                val = net(torch.tensor(special_state,dtype=torch.float).to(device)).cpu().item()\n",
    "                specific_values.append(val)\n",
    "                print('Value of the given state:',f'{val:.2f}')\n",
    "    return specific_values"
   ]
  },
  {
   "cell_type": "code",
   "execution_count": 8,
   "metadata": {},
   "outputs": [
    {
     "name": "stdout",
     "output_type": "stream",
     "text": [
      "We use the following state for monitoring Value:\n",
      " [ 0.04925176 -0.01581599  0.01900435 -0.01521593]\n"
     ]
    },
    {
     "name": "stderr",
     "output_type": "stream",
     "text": [
      "Iteration 0, Loss 0.0357: 100%|██████████| 250/250 [00:00<00:00, 928.18it/s] \n"
     ]
    },
    {
     "name": "stdout",
     "output_type": "stream",
     "text": [
      "Value of the given state: 1.01\n"
     ]
    },
    {
     "name": "stderr",
     "output_type": "stream",
     "text": [
      "Iteration 1, Loss 0.1189: 100%|██████████| 250/250 [00:00<00:00, 963.87it/s]\n",
      "Iteration 2, Loss 0.1186: 100%|██████████| 250/250 [00:00<00:00, 1092.25it/s]\n",
      "Iteration 3, Loss 0.0942: 100%|██████████| 250/250 [00:00<00:00, 1055.60it/s]\n",
      "Iteration 4, Loss 0.1004: 100%|██████████| 250/250 [00:00<00:00, 936.33it/s]\n",
      "Iteration 5, Loss 0.1022: 100%|██████████| 250/250 [00:00<00:00, 984.38it/s] \n"
     ]
    },
    {
     "name": "stdout",
     "output_type": "stream",
     "text": [
      "Value of the given state: 5.90\n"
     ]
    },
    {
     "name": "stderr",
     "output_type": "stream",
     "text": [
      "Iteration 6, Loss 0.1055: 100%|██████████| 250/250 [00:00<00:00, 1067.94it/s]\n",
      "Iteration 7, Loss 0.1071: 100%|██████████| 250/250 [00:00<00:00, 1044.10it/s]\n",
      "Iteration 8, Loss 0.1272: 100%|██████████| 250/250 [00:00<00:00, 864.85it/s]\n",
      "Iteration 9, Loss 0.1563: 100%|██████████| 250/250 [00:00<00:00, 1034.63it/s]\n",
      "Iteration 10, Loss 0.1872: 100%|██████████| 250/250 [00:00<00:00, 979.58it/s]\n"
     ]
    },
    {
     "name": "stdout",
     "output_type": "stream",
     "text": [
      "Value of the given state: 11.37\n"
     ]
    },
    {
     "name": "stderr",
     "output_type": "stream",
     "text": [
      "Iteration 11, Loss 0.1832: 100%|██████████| 250/250 [00:00<00:00, 1165.06it/s]\n",
      "Iteration 12, Loss 0.2391: 100%|██████████| 250/250 [00:00<00:00, 1148.45it/s]\n",
      "Iteration 13, Loss 0.2825: 100%|██████████| 250/250 [00:00<00:00, 1124.74it/s]\n",
      "Iteration 14, Loss 0.3513: 100%|██████████| 250/250 [00:00<00:00, 1105.36it/s]\n",
      "Iteration 15, Loss 0.3698: 100%|██████████| 250/250 [00:00<00:00, 815.11it/s] \n"
     ]
    },
    {
     "name": "stdout",
     "output_type": "stream",
     "text": [
      "Value of the given state: 17.47\n"
     ]
    },
    {
     "name": "stderr",
     "output_type": "stream",
     "text": [
      "Iteration 16, Loss 0.4029: 100%|██████████| 250/250 [00:00<00:00, 999.89it/s] \n",
      "Iteration 17, Loss 0.4977: 100%|██████████| 250/250 [00:00<00:00, 1040.81it/s]\n",
      "Iteration 18, Loss 0.5458: 100%|██████████| 250/250 [00:00<00:00, 1094.90it/s]\n",
      "Iteration 19, Loss 0.6385: 100%|██████████| 250/250 [00:00<00:00, 1022.79it/s]\n",
      "Iteration 20, Loss 0.5550: 100%|██████████| 250/250 [00:00<00:00, 1058.82it/s]\n"
     ]
    },
    {
     "name": "stdout",
     "output_type": "stream",
     "text": [
      "Value of the given state: 23.09\n"
     ]
    },
    {
     "name": "stderr",
     "output_type": "stream",
     "text": [
      "Iteration 21, Loss 0.5676: 100%|██████████| 250/250 [00:00<00:00, 834.39it/s]\n",
      "Iteration 22, Loss 0.6048: 100%|██████████| 250/250 [00:00<00:00, 1018.89it/s]\n",
      "Iteration 23, Loss 0.7239: 100%|██████████| 250/250 [00:00<00:00, 964.58it/s]\n",
      "Iteration 24, Loss 0.7333: 100%|██████████| 250/250 [00:00<00:00, 991.66it/s] \n",
      "Iteration 25, Loss 0.7178: 100%|██████████| 250/250 [00:00<00:00, 940.22it/s]\n"
     ]
    },
    {
     "name": "stdout",
     "output_type": "stream",
     "text": [
      "Value of the given state: 29.21\n"
     ]
    },
    {
     "name": "stderr",
     "output_type": "stream",
     "text": [
      "Iteration 26, Loss 0.6938: 100%|██████████| 250/250 [00:00<00:00, 1069.07it/s]\n",
      "Iteration 27, Loss 0.7566: 100%|██████████| 250/250 [00:00<00:00, 938.44it/s] \n",
      "Iteration 28, Loss 0.8682: 100%|██████████| 250/250 [00:00<00:00, 865.50it/s]\n",
      "Iteration 29, Loss 1.0395: 100%|██████████| 250/250 [00:00<00:00, 966.03it/s]\n",
      "Iteration 30, Loss 0.9835: 100%|██████████| 250/250 [00:00<00:00, 1039.09it/s]\n"
     ]
    },
    {
     "name": "stdout",
     "output_type": "stream",
     "text": [
      "Value of the given state: 35.02\n"
     ]
    },
    {
     "name": "stderr",
     "output_type": "stream",
     "text": [
      "Iteration 31, Loss 1.1391: 100%|██████████| 250/250 [00:00<00:00, 1018.44it/s]\n",
      "Iteration 32, Loss 1.1624: 100%|██████████| 250/250 [00:00<00:00, 1047.82it/s]\n",
      "Iteration 33, Loss 1.8185: 100%|██████████| 250/250 [00:00<00:00, 950.65it/s]\n",
      "Iteration 34, Loss 1.6910: 100%|██████████| 250/250 [00:00<00:00, 885.32it/s] \n",
      "Iteration 35, Loss 2.0738: 100%|██████████| 250/250 [00:00<00:00, 890.65it/s]\n"
     ]
    },
    {
     "name": "stdout",
     "output_type": "stream",
     "text": [
      "Value of the given state: 43.75\n"
     ]
    },
    {
     "name": "stderr",
     "output_type": "stream",
     "text": [
      "Iteration 36, Loss 1.9313: 100%|██████████| 250/250 [00:00<00:00, 979.77it/s] \n",
      "Iteration 37, Loss 1.8784: 100%|██████████| 250/250 [00:00<00:00, 1019.21it/s]\n",
      "Iteration 38, Loss 2.0699: 100%|██████████| 250/250 [00:00<00:00, 885.12it/s]\n",
      "Iteration 39, Loss 1.8359: 100%|██████████| 250/250 [00:00<00:00, 844.15it/s]\n",
      "Iteration 40, Loss 2.3194: 100%|██████████| 250/250 [00:00<00:00, 1005.35it/s]\n"
     ]
    },
    {
     "name": "stdout",
     "output_type": "stream",
     "text": [
      "Value of the given state: 51.52\n"
     ]
    },
    {
     "name": "stderr",
     "output_type": "stream",
     "text": [
      "Iteration 41, Loss 2.1514: 100%|██████████| 250/250 [00:00<00:00, 997.69it/s] \n",
      "Iteration 42, Loss 2.6199: 100%|██████████| 250/250 [00:00<00:00, 956.87it/s] \n",
      "Iteration 43, Loss 2.8036: 100%|██████████| 250/250 [00:00<00:00, 1038.06it/s]\n",
      "Iteration 44, Loss 3.6110: 100%|██████████| 250/250 [00:00<00:00, 999.48it/s]\n",
      "Iteration 45, Loss 3.1859: 100%|██████████| 250/250 [00:00<00:00, 877.94it/s] \n"
     ]
    },
    {
     "name": "stdout",
     "output_type": "stream",
     "text": [
      "Value of the given state: 60.10\n"
     ]
    },
    {
     "name": "stderr",
     "output_type": "stream",
     "text": [
      "Iteration 46, Loss 2.9924: 100%|██████████| 250/250 [00:00<00:00, 944.15it/s]\n",
      "Iteration 47, Loss 3.7927: 100%|██████████| 250/250 [00:00<00:00, 958.74it/s]\n",
      "Iteration 48, Loss 4.3670: 100%|██████████| 250/250 [00:00<00:00, 1027.86it/s]\n",
      "Iteration 49, Loss 4.9832: 100%|██████████| 250/250 [00:00<00:00, 1101.26it/s]\n"
     ]
    },
    {
     "data": {
      "image/png": "[encoded data removed]",
      "text/plain": [
       "<Figure size 640x480 with 1 Axes>"
      ]
     },
     "metadata": {},
     "output_type": "display_data"
    }
   ],
   "source": [
    "specific_values = train()\n",
    "import matplotlib.pyplot as plt\n",
    "plt.plot([x[0] * 5 for x in enumerate(specific_values)],specific_values)\n",
    "plt.title('Value for a given state')\n",
    "plt.show()"
   ]
  },
  {
   "cell_type": "code",
   "execution_count": 9,
   "metadata": {},
   "outputs": [],
   "source": [
    "import gymnasium as gym\n",
    "env = gym.make('CartPole-v1')\n",
    "\n",
    "def demonstrate_policy(agent:ValueNet):\n",
    "    cum_rewards = []\n",
    "    for _ in range(10):\n",
    "        state,_ = env.reset()\n",
    "        tot = 0\n",
    "        for t in range(505):\n",
    "            action = agent.get_action(state)\n",
    "            state,reward,terminated,truncated,_ = env.step(action)\n",
    "            tot += reward\n",
    "            if truncated or terminated:\n",
    "                print(f'Stopped at time {t} due to', 'truncated' if truncated else 'terminated')\n",
    "                break\n",
    "        cum_rewards.append(tot)\n",
    "    print('Average cumulative reward:',sum(cum_rewards)/len(cum_rewards))"
   ]
  },
  {
   "cell_type": "code",
   "execution_count": 10,
   "metadata": {},
   "outputs": [
    {
     "name": "stdout",
     "output_type": "stream",
     "text": [
      "Stopped at time 118 due to terminated\n",
      "Stopped at time 122 due to terminated\n",
      "Stopped at time 115 due to terminated\n",
      "Stopped at time 119 due to terminated\n",
      "Stopped at time 118 due to terminated\n",
      "Stopped at time 116 due to terminated\n",
      "Stopped at time 120 due to terminated\n",
      "Stopped at time 120 due to terminated\n",
      "Stopped at time 118 due to terminated\n",
      "Stopped at time 121 due to terminated\n",
      "Average cumulative reward: 119.7\n"
     ]
    }
   ],
   "source": [
    "demonstrate_policy(net)"
   ]
  },
  {
   "cell_type": "markdown",
   "metadata": {},
   "source": [
    "哈哈，刷爆了，是不是？可以看出，Value Iteration确实很强大。\n",
    "\n",
    "你可能很奇怪，为什么训练的时候value没有很高，并且随着iteration直线上升？这是因为，很容易就可以学会一个“不倒”的策略，但是对于一个合理的策略而言，value完全取决于经历多少个time step；而你可以理解为一轮iteration大概就是“把若干time stamp连接到一起”。因此，训练的iteration越多，value就越高。注意这并非是常态，而是这里的任务过于简单了导致的。实际上，如果训练很长时间，value将稳定在500。\n",
    "\n",
    "当然，必须再次强调，前面的方法违背了RL的基本原则。因此，我们接下来就来训练一个dynamic model。"
   ]
  },
  {
   "cell_type": "markdown",
   "metadata": {},
   "source": [
    "##### Dynamic Model\n",
    "\n",
    "为了简单起见，我们不去拟合$r(s,a)$了（因为它一直是1,也没什么可以拟合的）。我们只需要拟合next state对state, action的分布。这里因为拟合一个分布，所以应该采用一种生成式模型；但简便起见，我们就直接使用高斯来拟合了。~~别装了，你知道这个环境是determininstic的~~\n",
    "\n",
    "接下来，我们通过随机的policy和环境交互来采集dynamic model的训练数据。注意我们这里的操作完全合法，没有走后门。为了证明这一点，我们删除自己的`CartPoleEnv`，只使用gym的接口。"
   ]
  },
  {
   "cell_type": "code",
   "execution_count": 11,
   "metadata": {},
   "outputs": [],
   "source": [
    "del CartPoleEnv\n",
    "env = gym.make('CartPole-v1')"
   ]
  },
  {
   "cell_type": "code",
   "execution_count": 12,
   "metadata": {},
   "outputs": [],
   "source": [
    "@torch.no_grad()\n",
    "def get_dynamic_dataloader(tot=5000):\n",
    "    collected = []\n",
    "    while len(collected) < tot:\n",
    "        state,_ = env.reset()\n",
    "        while True:\n",
    "            action = env.action_space.sample()\n",
    "            next_state,reward,terminated,truncated,_ = env.step(action)\n",
    "            if terminated or truncated:\n",
    "                collected.append((state,action,1,np.array([0,0,0,0],dtype=np.float32)))\n",
    "                break\n",
    "            else:\n",
    "                collected.append((state,action,0,next_state))\n",
    "            state = next_state\n",
    "    def collate(datas):\n",
    "        return {\n",
    "            'states': torch.from_numpy(np.stack([data[0] for data in datas])).float().to(device),\n",
    "            'actions': torch.tensor([data[1] for data in datas],dtype=torch.long).to(device),\n",
    "            'terminated': torch.tensor([data[2] for data in datas],dtype=torch.float).to(device),\n",
    "            'next_states': torch.from_numpy(np.stack([data[3] for data in datas])).to(device)\n",
    "        }\n",
    "\n",
    "    return DataLoader(dataset=collected,batch_size=32,shuffle=True,collate_fn=collate)\n",
    "\n",
    "dl = get_dynamic_dataloader(8000)\n",
    "valid_dl = get_dynamic_dataloader(2000)"
   ]
  },
  {
   "cell_type": "code",
   "execution_count": 13,
   "metadata": {},
   "outputs": [],
   "source": [
    "class Model(nn.Module):\n",
    "    \n",
    "    def __init__(self):\n",
    "        super().__init__()\n",
    "        self.feature = nn.Sequential(\n",
    "            nn.Linear(5,32),\n",
    "            nn.ReLU(),\n",
    "            nn.Linear(32,64),\n",
    "            nn.ReLU(),\n",
    "        )\n",
    "        self.terminate = nn.Linear(64,1)\n",
    "        self.mu_head = nn.Linear(64,4)\n",
    "        self.sigma_head = nn.Linear(64,4)\n",
    "\n",
    "    def forward(self,s,a):\n",
    "        # s: [batch,4]; a: [batch]\n",
    "        concated = torch.cat([s,a.unsqueeze(-1).float()],dim=-1)\n",
    "        feat = self.feature(concated)\n",
    "        return torch.distributions.Bernoulli(logits=self.terminate(feat).squeeze(-1)),torch.distributions.Normal(loc=self.mu_head(feat), scale=torch.exp(self.sigma_head(feat)))\n",
    "    \n",
    "    @torch.no_grad()\n",
    "    def step(self,s,a):\n",
    "        term,dist = self(s,a)\n",
    "        return dist.sample(),1,(term.sample()>0.5).item(),False"
   ]
  },
  {
   "cell_type": "code",
   "execution_count": 14,
   "metadata": {},
   "outputs": [
    {
     "name": "stderr",
     "output_type": "stream",
     "text": [
      "Epoch 0, Loss -1.0280: 100%|██████████| 251/251 [00:00<00:00, 350.42it/s]\n"
     ]
    },
    {
     "name": "stdout",
     "output_type": "stream",
     "text": [
      "Validation loss: -4.582691695955065\n"
     ]
    },
    {
     "name": "stderr",
     "output_type": "stream",
     "text": [
      "Epoch 1, Loss -6.2255: 100%|██████████| 251/251 [00:00<00:00, 356.03it/s]\n"
     ]
    },
    {
     "name": "stdout",
     "output_type": "stream",
     "text": [
      "Validation loss: -7.6926553514268665\n"
     ]
    },
    {
     "name": "stderr",
     "output_type": "stream",
     "text": [
      "Epoch 2, Loss -8.7054: 100%|██████████| 251/251 [00:00<00:00, 388.29it/s]\n"
     ]
    },
    {
     "name": "stdout",
     "output_type": "stream",
     "text": [
      "Validation loss: -10.152746503315274\n"
     ]
    },
    {
     "name": "stderr",
     "output_type": "stream",
     "text": [
      "Epoch 3, Loss -10.3324: 100%|██████████| 251/251 [00:00<00:00, 450.65it/s]\n"
     ]
    },
    {
     "name": "stdout",
     "output_type": "stream",
     "text": [
      "Validation loss: -10.389985917106507\n"
     ]
    },
    {
     "name": "stderr",
     "output_type": "stream",
     "text": [
      "Epoch 4, Loss -10.9389: 100%|██████████| 251/251 [00:00<00:00, 500.42it/s]\n"
     ]
    },
    {
     "name": "stdout",
     "output_type": "stream",
     "text": [
      "Validation loss: -12.038765468294658\n"
     ]
    },
    {
     "name": "stderr",
     "output_type": "stream",
     "text": [
      "Epoch 5, Loss -11.7715: 100%|██████████| 251/251 [00:00<00:00, 511.37it/s]\n"
     ]
    },
    {
     "name": "stdout",
     "output_type": "stream",
     "text": [
      "Validation loss: -11.228277161007835\n"
     ]
    },
    {
     "name": "stderr",
     "output_type": "stream",
     "text": [
      "Epoch 6, Loss -12.2033: 100%|██████████| 251/251 [00:00<00:00, 463.83it/s]\n"
     ]
    },
    {
     "name": "stdout",
     "output_type": "stream",
     "text": [
      "Validation loss: -12.314142317998977\n"
     ]
    },
    {
     "name": "stderr",
     "output_type": "stream",
     "text": [
      "Epoch 7, Loss -12.6024: 100%|██████████| 251/251 [00:00<00:00, 386.21it/s]\n"
     ]
    },
    {
     "name": "stdout",
     "output_type": "stream",
     "text": [
      "Validation loss: -12.750473764207628\n"
     ]
    },
    {
     "name": "stderr",
     "output_type": "stream",
     "text": [
      "Epoch 8, Loss -13.1248: 100%|██████████| 251/251 [00:00<00:00, 424.31it/s]\n"
     ]
    },
    {
     "name": "stdout",
     "output_type": "stream",
     "text": [
      "Validation loss: -13.170708928789411\n"
     ]
    },
    {
     "name": "stderr",
     "output_type": "stream",
     "text": [
      "Epoch 9, Loss -13.5468: 100%|██████████| 251/251 [00:00<00:00, 395.16it/s]\n"
     ]
    },
    {
     "name": "stdout",
     "output_type": "stream",
     "text": [
      "Validation loss: -13.587769356984941\n"
     ]
    },
    {
     "name": "stderr",
     "output_type": "stream",
     "text": [
      "Epoch 10, Loss -14.0309: 100%|██████████| 251/251 [00:00<00:00, 328.11it/s]\n"
     ]
    },
    {
     "name": "stdout",
     "output_type": "stream",
     "text": [
      "Validation loss: -13.78218962654235\n"
     ]
    },
    {
     "name": "stderr",
     "output_type": "stream",
     "text": [
      "Epoch 11, Loss -14.3098: 100%|██████████| 251/251 [00:00<00:00, 417.71it/s]\n"
     ]
    },
    {
     "name": "stdout",
     "output_type": "stream",
     "text": [
      "Validation loss: -13.721996549576048\n"
     ]
    },
    {
     "name": "stderr",
     "output_type": "stream",
     "text": [
      "Epoch 12, Loss -14.3259: 100%|██████████| 251/251 [00:00<00:00, 355.70it/s]\n"
     ]
    },
    {
     "name": "stdout",
     "output_type": "stream",
     "text": [
      "Validation loss: -12.671242290072971\n"
     ]
    },
    {
     "name": "stderr",
     "output_type": "stream",
     "text": [
      "Epoch 13, Loss -14.8042: 100%|██████████| 251/251 [00:00<00:00, 351.25it/s]\n"
     ]
    },
    {
     "name": "stdout",
     "output_type": "stream",
     "text": [
      "Validation loss: -15.39889137328617\n"
     ]
    },
    {
     "name": "stderr",
     "output_type": "stream",
     "text": [
      "Epoch 14, Loss -15.2078: 100%|██████████| 251/251 [00:00<00:00, 395.73it/s]\n"
     ]
    },
    {
     "name": "stdout",
     "output_type": "stream",
     "text": [
      "Validation loss: -14.934150862315345\n"
     ]
    },
    {
     "name": "stderr",
     "output_type": "stream",
     "text": [
      "Epoch 15, Loss -15.0038: 100%|██████████| 251/251 [00:00<00:00, 305.86it/s]\n"
     ]
    },
    {
     "name": "stdout",
     "output_type": "stream",
     "text": [
      "Validation loss: -13.748658634367443\n"
     ]
    },
    {
     "name": "stderr",
     "output_type": "stream",
     "text": [
      "Epoch 16, Loss -15.5240: 100%|██████████| 251/251 [00:00<00:00, 260.22it/s]\n"
     ]
    },
    {
     "name": "stdout",
     "output_type": "stream",
     "text": [
      "Validation loss: -11.62738769773453\n"
     ]
    },
    {
     "name": "stderr",
     "output_type": "stream",
     "text": [
      "Epoch 17, Loss -15.2968: 100%|██████████| 251/251 [00:00<00:00, 267.92it/s]\n"
     ]
    },
    {
     "name": "stdout",
     "output_type": "stream",
     "text": [
      "Validation loss: -15.630683808099656\n"
     ]
    },
    {
     "name": "stderr",
     "output_type": "stream",
     "text": [
      "Epoch 18, Loss -15.1845: 100%|██████████| 251/251 [00:00<00:00, 286.55it/s]\n"
     ]
    },
    {
     "name": "stdout",
     "output_type": "stream",
     "text": [
      "Validation loss: -12.118427685328893\n"
     ]
    },
    {
     "name": "stderr",
     "output_type": "stream",
     "text": [
      "Epoch 19, Loss -15.2653: 100%|██████████| 251/251 [00:00<00:00, 400.20it/s]\n"
     ]
    },
    {
     "name": "stdout",
     "output_type": "stream",
     "text": [
      "Validation loss: -14.103234064011346\n"
     ]
    },
    {
     "name": "stderr",
     "output_type": "stream",
     "text": [
      "Epoch 20, Loss -15.8864: 100%|██████████| 251/251 [00:00<00:00, 302.80it/s]\n"
     ]
    },
    {
     "name": "stdout",
     "output_type": "stream",
     "text": [
      "Validation loss: -14.51382727850051\n"
     ]
    },
    {
     "name": "stderr",
     "output_type": "stream",
     "text": [
      "Epoch 21, Loss -15.9695: 100%|██████████| 251/251 [00:00<00:00, 294.92it/s]\n"
     ]
    },
    {
     "name": "stdout",
     "output_type": "stream",
     "text": [
      "Validation loss: -15.973733417571538\n"
     ]
    },
    {
     "name": "stderr",
     "output_type": "stream",
     "text": [
      "Epoch 22, Loss -16.2050: 100%|██████████| 251/251 [00:00<00:00, 307.51it/s]\n"
     ]
    },
    {
     "name": "stdout",
     "output_type": "stream",
     "text": [
      "Validation loss: -15.776277269635882\n"
     ]
    },
    {
     "name": "stderr",
     "output_type": "stream",
     "text": [
      "Epoch 23, Loss -15.6925: 100%|██████████| 251/251 [00:00<00:00, 288.69it/s]\n"
     ]
    },
    {
     "name": "stdout",
     "output_type": "stream",
     "text": [
      "Validation loss: -16.676187863425604\n"
     ]
    },
    {
     "name": "stderr",
     "output_type": "stream",
     "text": [
      "Epoch 24, Loss -15.4178: 100%|██████████| 251/251 [00:00<00:00, 261.23it/s]\n"
     ]
    },
    {
     "name": "stdout",
     "output_type": "stream",
     "text": [
      "Validation loss: -15.267881862700932\n"
     ]
    },
    {
     "name": "stderr",
     "output_type": "stream",
     "text": [
      "Epoch 25, Loss -16.5391: 100%|██████████| 251/251 [00:00<00:00, 310.27it/s]\n"
     ]
    },
    {
     "name": "stdout",
     "output_type": "stream",
     "text": [
      "Validation loss: -13.168877677311974\n"
     ]
    },
    {
     "name": "stderr",
     "output_type": "stream",
     "text": [
      "Epoch 26, Loss -16.3806: 100%|██████████| 251/251 [00:00<00:00, 341.34it/s]\n"
     ]
    },
    {
     "name": "stdout",
     "output_type": "stream",
     "text": [
      "Validation loss: -16.131200699579146\n"
     ]
    },
    {
     "name": "stderr",
     "output_type": "stream",
     "text": [
      "Epoch 27, Loss -16.7894: 100%|██████████| 251/251 [00:00<00:00, 279.38it/s]\n"
     ]
    },
    {
     "name": "stdout",
     "output_type": "stream",
     "text": [
      "Validation loss: -15.789048573327443\n"
     ]
    },
    {
     "name": "stderr",
     "output_type": "stream",
     "text": [
      "Epoch 28, Loss -16.0318: 100%|██████████| 251/251 [00:00<00:00, 252.91it/s]\n"
     ]
    },
    {
     "name": "stdout",
     "output_type": "stream",
     "text": [
      "Validation loss: -16.945329469347758\n"
     ]
    },
    {
     "name": "stderr",
     "output_type": "stream",
     "text": [
      "Epoch 29, Loss -16.2700: 100%|██████████| 251/251 [00:00<00:00, 297.65it/s]\n"
     ]
    },
    {
     "name": "stdout",
     "output_type": "stream",
     "text": [
      "Validation loss: -17.430690356663295\n"
     ]
    },
    {
     "name": "stderr",
     "output_type": "stream",
     "text": [
      "Epoch 30, Loss -16.4526: 100%|██████████| 251/251 [00:00<00:00, 287.56it/s]\n"
     ]
    },
    {
     "name": "stdout",
     "output_type": "stream",
     "text": [
      "Validation loss: -16.77452670203315\n"
     ]
    },
    {
     "name": "stderr",
     "output_type": "stream",
     "text": [
      "Epoch 31, Loss -17.1201: 100%|██████████| 251/251 [00:00<00:00, 266.79it/s]\n"
     ]
    },
    {
     "name": "stdout",
     "output_type": "stream",
     "text": [
      "Validation loss: -17.85955253479973\n"
     ]
    },
    {
     "name": "stderr",
     "output_type": "stream",
     "text": [
      "Epoch 32, Loss -15.7524: 100%|██████████| 251/251 [00:01<00:00, 246.47it/s]\n"
     ]
    },
    {
     "name": "stdout",
     "output_type": "stream",
     "text": [
      "Validation loss: -17.481278858487567\n"
     ]
    },
    {
     "name": "stderr",
     "output_type": "stream",
     "text": [
      "Epoch 33, Loss -17.1713: 100%|██████████| 251/251 [00:00<00:00, 312.42it/s]\n"
     ]
    },
    {
     "name": "stdout",
     "output_type": "stream",
     "text": [
      "Validation loss: -16.26189464992947\n"
     ]
    },
    {
     "name": "stderr",
     "output_type": "stream",
     "text": [
      "Epoch 34, Loss -13.7982: 100%|██████████| 251/251 [00:00<00:00, 298.62it/s]\n"
     ]
    },
    {
     "name": "stdout",
     "output_type": "stream",
     "text": [
      "Validation loss: -14.644446145920526\n"
     ]
    },
    {
     "name": "stderr",
     "output_type": "stream",
     "text": [
      "Epoch 35, Loss -16.8215: 100%|██████████| 251/251 [00:01<00:00, 247.02it/s]\n"
     ]
    },
    {
     "name": "stdout",
     "output_type": "stream",
     "text": [
      "Validation loss: -17.44156135074676\n"
     ]
    },
    {
     "name": "stderr",
     "output_type": "stream",
     "text": [
      "Epoch 36, Loss -15.8947: 100%|██████████| 251/251 [00:00<00:00, 315.52it/s]\n"
     ]
    },
    {
     "name": "stdout",
     "output_type": "stream",
     "text": [
      "Validation loss: -17.570762028769842\n"
     ]
    },
    {
     "name": "stderr",
     "output_type": "stream",
     "text": [
      "Epoch 37, Loss -16.4163: 100%|██████████| 251/251 [00:00<00:00, 294.51it/s]\n"
     ]
    },
    {
     "name": "stdout",
     "output_type": "stream",
     "text": [
      "Validation loss: -17.85304223923456\n"
     ]
    },
    {
     "name": "stderr",
     "output_type": "stream",
     "text": [
      "Epoch 38, Loss -16.8941: 100%|██████████| 251/251 [00:00<00:00, 343.75it/s]\n"
     ]
    },
    {
     "name": "stdout",
     "output_type": "stream",
     "text": [
      "Validation loss: -18.256733031499955\n"
     ]
    },
    {
     "name": "stderr",
     "output_type": "stream",
     "text": [
      "Epoch 39, Loss -17.0028: 100%|██████████| 251/251 [00:00<00:00, 254.81it/s]\n"
     ]
    },
    {
     "name": "stdout",
     "output_type": "stream",
     "text": [
      "Validation loss: -17.546695769779266\n"
     ]
    },
    {
     "name": "stderr",
     "output_type": "stream",
     "text": [
      "Epoch 40, Loss -17.1936: 100%|██████████| 251/251 [00:01<00:00, 248.29it/s]\n"
     ]
    },
    {
     "name": "stdout",
     "output_type": "stream",
     "text": [
      "Validation loss: -17.057363691784087\n"
     ]
    },
    {
     "name": "stderr",
     "output_type": "stream",
     "text": [
      "Epoch 41, Loss -16.5136: 100%|██████████| 251/251 [00:00<00:00, 339.35it/s]\n"
     ]
    },
    {
     "name": "stdout",
     "output_type": "stream",
     "text": [
      "Validation loss: -16.859869866144088\n"
     ]
    },
    {
     "name": "stderr",
     "output_type": "stream",
     "text": [
      "Epoch 42, Loss -16.8003: 100%|██████████| 251/251 [00:01<00:00, 245.74it/s]\n"
     ]
    },
    {
     "name": "stdout",
     "output_type": "stream",
     "text": [
      "Validation loss: -17.20519833337693\n"
     ]
    },
    {
     "name": "stderr",
     "output_type": "stream",
     "text": [
      "Epoch 43, Loss -16.8428: 100%|██████████| 251/251 [00:00<00:00, 255.40it/s]\n"
     ]
    },
    {
     "name": "stdout",
     "output_type": "stream",
     "text": [
      "Validation loss: -18.218255058167472\n"
     ]
    },
    {
     "name": "stderr",
     "output_type": "stream",
     "text": [
      "Epoch 44, Loss -17.4119: 100%|██████████| 251/251 [00:00<00:00, 329.43it/s]\n"
     ]
    },
    {
     "name": "stdout",
     "output_type": "stream",
     "text": [
      "Validation loss: -15.552915315779428\n"
     ]
    },
    {
     "name": "stderr",
     "output_type": "stream",
     "text": [
      "Epoch 45, Loss -17.1719: 100%|██████████| 251/251 [00:01<00:00, 229.12it/s]\n"
     ]
    },
    {
     "name": "stdout",
     "output_type": "stream",
     "text": [
      "Validation loss: -17.681219509669713\n"
     ]
    },
    {
     "name": "stderr",
     "output_type": "stream",
     "text": [
      "Epoch 46, Loss -17.1590: 100%|██████████| 251/251 [00:01<00:00, 232.54it/s]\n"
     ]
    },
    {
     "name": "stdout",
     "output_type": "stream",
     "text": [
      "Validation loss: -18.079049186101035\n"
     ]
    },
    {
     "name": "stderr",
     "output_type": "stream",
     "text": [
      "Epoch 47, Loss -17.1775: 100%|██████████| 251/251 [00:01<00:00, 243.43it/s]\n"
     ]
    },
    {
     "name": "stdout",
     "output_type": "stream",
     "text": [
      "Validation loss: -14.643894816201831\n"
     ]
    },
    {
     "name": "stderr",
     "output_type": "stream",
     "text": [
      "Epoch 48, Loss -17.5383: 100%|██████████| 251/251 [00:01<00:00, 231.32it/s]\n"
     ]
    },
    {
     "name": "stdout",
     "output_type": "stream",
     "text": [
      "Validation loss: -17.986544412279887\n"
     ]
    },
    {
     "name": "stderr",
     "output_type": "stream",
     "text": [
      "Epoch 49, Loss -17.4111: 100%|██████████| 251/251 [00:00<00:00, 301.23it/s]\n"
     ]
    },
    {
     "name": "stdout",
     "output_type": "stream",
     "text": [
      "Validation loss: -16.9467615248665\n"
     ]
    }
   ],
   "source": [
    "dynamic_model = Model().to(device)\n",
    "dynamic_opt = torch.optim.Adam(dynamic_model.parameters(),lr=1e-3,weight_decay=3e-5)\n",
    "mean_losses = []\n",
    "mean_valid_losses = []\n",
    "for epoch in range(50):\n",
    "    with tqdm.tqdm(dl) as bar:\n",
    "        losses = []\n",
    "        for item in bar:\n",
    "            states = item['states']; actions = item['actions']; terminated = item['terminated']; next_states = item['next_states']\n",
    "            terminated_distr,next_distr = dynamic_model(states,actions)\n",
    "            log_prob = terminated_distr.log_prob(terminated) + (1-terminated) * next_distr.log_prob(next_states).sum(dim=-1)\n",
    "            loss = - log_prob.mean(dim=0)\n",
    "            dynamic_opt.zero_grad()\n",
    "            loss.backward()\n",
    "            dynamic_opt.step()\n",
    "            losses.append(loss.detach().cpu().item())\n",
    "            bar.set_description(f'Epoch {epoch}, Loss {sum(losses)/len(losses):.4f}')\n",
    "    mean_losses.append(sum(losses)/len(losses))\n",
    "    with torch.no_grad():\n",
    "        valid_losses = []\n",
    "        for item in valid_dl:\n",
    "            states = item['states']; actions = item['actions']; terminated = item['terminated']; next_states = item['next_states']\n",
    "            terminated_distr,next_distr = dynamic_model(states,actions)\n",
    "            log_prob = terminated_distr.log_prob(terminated) + (1-terminated) * next_distr.log_prob(next_states).sum(dim=-1)\n",
    "            loss = - log_prob.mean(dim=0)\n",
    "            valid_losses.append(loss.detach().cpu().item())\n",
    "        print('Validation loss:',sum(valid_losses)/len(valid_losses))\n",
    "    mean_valid_losses.append(sum(valid_losses)/len(valid_losses))"
   ]
  },
  {
   "cell_type": "code",
   "execution_count": 15,
   "metadata": {},
   "outputs": [
    {
     "data": {
      "image/png": "[encoded data removed]",
      "text/plain": [
       "<Figure size 640x480 with 1 Axes>"
      ]
     },
     "metadata": {},
     "output_type": "display_data"
    }
   ],
   "source": [
    "import matplotlib.pyplot as plt \n",
    "plt.plot(list(range(len(mean_losses))),mean_losses,label='train')\n",
    "plt.plot(list(range(len(mean_valid_losses))),mean_valid_losses,label='valid')\n",
    "plt.title('Dynamic model MLE loss')\n",
    "plt.ylim(min(mean_losses + mean_valid_losses) - 5,0)\n",
    "plt.legend()\n",
    "plt.show()"
   ]
  },
  {
   "cell_type": "markdown",
   "metadata": {},
   "source": [
    "看起来，log-likelihood的下降很稳定，并且没有很严重的过度拟合。不过从loss上不太容易看出来的是，但是我们的model做得到底有多好呢？我们可以做一个动画的演示："
   ]
  },
  {
   "cell_type": "code",
   "execution_count": 16,
   "metadata": {},
   "outputs": [
    {
     "name": "stdout",
     "output_type": "stream",
     "text": [
      "Stopped at timestamp 499 due to truncated\n",
      "Generating Video, this may take around 30 seconds...\n"
     ]
    },
    {
     "data": {
      "text/html": [
       "<video controls  >\n",
       " <source src=\"data:video/mp4;base64,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\" type=\"video/mp4\">\n",
       " Your browser does not support the video tag.\n",
       " </video>"
      ],
      "text/plain": [
       "<IPython.core.display.Video object>"
      ]
     },
     "metadata": {},
     "output_type": "display_data"
    }
   ],
   "source": [
    "# from utils import show_video\n",
    "import gymnasium as gym\n",
    "import random\n",
    "from utils_0_intro import compare_videos,CartPoleEnv # CartPoleEnv(the modified gym environment) is imported again, but just for demonstration purpose. We will delete it later.\n",
    "def get_action(state): # Copied from TrivialAgent\n",
    "    _,_,theta,omg = state\n",
    "    if theta < 0 and omg < 0:\n",
    "        return 0\n",
    "    if theta > 0 and omg > 0:\n",
    "        return 1\n",
    "    return random.choice([0,1])\n",
    "\n",
    "\n",
    "frames1 = [];frames2 = []\n",
    "env = gym.make('CartPole-v1',render_mode='rgb_array')\n",
    "fooenv = CartPoleEnv(render_mode='rgb_array')\n",
    "fooenv.reset()\n",
    "state1,_ = env.reset()\n",
    "state2 = torch.tensor(state1,dtype=torch.float).to(device)\n",
    "\n",
    "for t in range(500):\n",
    "    frames1.append(env.render())\n",
    "    fooenv.state = state2.cpu().numpy()\n",
    "    frames2.append(fooenv.render())\n",
    "\n",
    "    action = get_action(state1)\n",
    "\n",
    "    state1, reward, terminated, truncated, info = env.step(action)\n",
    "\n",
    "    state2,_,_,_ = dynamic_model.step(state2,torch.tensor(action,dtype=torch.float).to(device))\n",
    "\n",
    "    if terminated or truncated:\n",
    "        print('Stopped at timestamp',t,'due to','terminated' if terminated else 'truncated')\n",
    "        break\n",
    "\n",
    "print('Generating Video, this may take around 30 seconds...')\n",
    "compare_videos(frames1,frames2,title1='Original',title2='Predicted')\n",
    "del CartPoleEnv"
   ]
  },
  {
   "cell_type": "markdown",
   "metadata": {},
   "source": [
    "其实，严格上来说，我们还需要训练一个模型模拟`env.reset()`返回的initial state $s_0$的分布。但为了简化讨论，我们忽略这一点，直接还是使用`env.reset`。接下来，让我们重新利用自己的dynamic model来训练agent。我们只需要修改收集rollout的函数即可。\n",
    "\n",
    "需要注意，既然现在我们完全不清楚MDP的内部，我们就不能像之前一样选定训练的state了。相反，我们使用之前训练dynamic model的数据来取state。"
   ]
  },
  {
   "cell_type": "code",
   "execution_count": 17,
   "metadata": {},
   "outputs": [
    {
     "name": "stdout",
     "output_type": "stream",
     "text": [
      "Number of states: 8004\n"
     ]
    }
   ],
   "source": [
    "states = torch.cat([item['states'] for item in dl],dim=0)\n",
    "states = [states[i] for i in range(states.shape[0])]\n",
    "print('Number of states:',len(states))"
   ]
  },
  {
   "cell_type": "code",
   "execution_count": 34,
   "metadata": {},
   "outputs": [
    {
     "name": "stdout",
     "output_type": "stream",
     "text": [
      "Collected 8004 transitions\n"
     ]
    }
   ],
   "source": [
    "transitions = []\n",
    "for state in states:\n",
    "    out = []\n",
    "    actions = torch.tensor([0,1],dtype=torch.float).to(device)\n",
    "    for action in [0,1]:\n",
    "        # sample from our dynamic model\n",
    "        terminated_distr,next_distr = dynamic_model(state,torch.tensor(action,dtype=torch.float).to(device))\n",
    "        terminated = terminated_distr.sample().cpu().item()\n",
    "        next_state = next_distr.sample()\n",
    "        out.append((action,next_state,reward,terminated))\n",
    "    transitions.append((state,out))\n",
    "\n",
    "print('Collected',len(transitions),'transitions')"
   ]
  },
  {
   "cell_type": "markdown",
   "metadata": {},
   "source": [
    "然后，把上面的工作重新做一遍："
   ]
  },
  {
   "cell_type": "code",
   "execution_count": 35,
   "metadata": {},
   "outputs": [],
   "source": [
    "class ValueNet(nn.Module):\n",
    "\n",
    "    def __init__(self):\n",
    "        super().__init__()\n",
    "        self.mlp = nn.Sequential(\n",
    "            nn.Linear(4,64),\n",
    "            nn.ReLU(),\n",
    "            nn.Linear(64,32),\n",
    "            nn.ReLU(),\n",
    "            nn.Linear(32,1)\n",
    "        )\n",
    "\n",
    "    def forward(self,x):\n",
    "        return self.mlp(x)\n",
    "    \n",
    "    @torch.no_grad()\n",
    "    def get_action(self,x):\n",
    "        if not isinstance(x,torch.Tensor):\n",
    "            x = torch.tensor(x,dtype=torch.float).to(device)\n",
    "        best_act = None; best_val = -float('inf')\n",
    "        for action in [0,1]:\n",
    "            terminated_distr,next_distr = dynamic_model(x,torch.tensor(action,dtype=torch.float).to(device))\n",
    "            terminated = terminated_distr.sample().cpu().item()\n",
    "            next_state = next_distr.sample()\n",
    "            if terminated:\n",
    "                val = 0\n",
    "            else:\n",
    "                val = self(next_state).cpu().item()\n",
    "            if val > best_val:\n",
    "                best_val = val\n",
    "                best_act = action\n",
    "        return best_act"
   ]
  },
  {
   "cell_type": "code",
   "execution_count": 38,
   "metadata": {},
   "outputs": [
    {
     "name": "stdout",
     "output_type": "stream",
     "text": [
      "We use the following state for monitoring Value:\n",
      " [ 0.02728574  0.00164937 -0.00031826  0.03355269]\n"
     ]
    },
    {
     "name": "stderr",
     "output_type": "stream",
     "text": [
      "Collecting Transitions:   0%|          | 0/200 [00:00<?, ?it/s]\n"
     ]
    },
    {
     "ename": "AttributeError",
     "evalue": "'int' object has no attribute 'cpu'",
     "output_type": "error",
     "traceback": [
      "\u001b[0;31m---------------------------------------------------------------------------\u001b[0m",
      "\u001b[0;31mAttributeError\u001b[0m                            Traceback (most recent call last)",
      "Cell \u001b[0;32mIn[38], line 7\u001b[0m\n\u001b[1;32m      4\u001b[0m ALPHA \u001b[38;5;241m=\u001b[39m \u001b[38;5;241m0.2\u001b[39m\n\u001b[1;32m      5\u001b[0m optimizer \u001b[38;5;241m=\u001b[39m torch\u001b[38;5;241m.\u001b[39moptim\u001b[38;5;241m.\u001b[39mAdam(net\u001b[38;5;241m.\u001b[39mparameters(),lr\u001b[38;5;241m=\u001b[39m\u001b[38;5;241m1e-3\u001b[39m)\n\u001b[0;32m----> 7\u001b[0m specific_values \u001b[38;5;241m=\u001b[39m \u001b[43mtrain\u001b[49m\u001b[43m(\u001b[49m\u001b[43m)\u001b[49m\n",
      "Cell \u001b[0;32mIn[37], line 17\u001b[0m, in \u001b[0;36mtrain\u001b[0;34m()\u001b[0m\n\u001b[1;32m     15\u001b[0m \u001b[38;5;28;01mfor\u001b[39;00m iteration \u001b[38;5;129;01min\u001b[39;00m \u001b[38;5;28mrange\u001b[39m(\u001b[38;5;241m50\u001b[39m):\n\u001b[1;32m     16\u001b[0m     losses \u001b[38;5;241m=\u001b[39m []\n\u001b[0;32m---> 17\u001b[0m     dataloader \u001b[38;5;241m=\u001b[39m \u001b[43mget_dataloader\u001b[49m\u001b[43m(\u001b[49m\u001b[43mtarget_net\u001b[49m\u001b[43m)\u001b[49m\n\u001b[1;32m     18\u001b[0m     \u001b[38;5;28;01mwith\u001b[39;00m tqdm\u001b[38;5;241m.\u001b[39mtqdm(dataloader) \u001b[38;5;28;01mas\u001b[39;00m bar:\n\u001b[1;32m     19\u001b[0m         \u001b[38;5;28;01mfor\u001b[39;00m item \u001b[38;5;129;01min\u001b[39;00m bar:\n",
      "Cell \u001b[0;32mIn[28], line 44\u001b[0m, in \u001b[0;36mget_dataloader\u001b[0;34m(agent, rollout_num, collect_meth)\u001b[0m\n\u001b[1;32m     42\u001b[0m \u001b[38;5;28;01mwith\u001b[39;00m tqdm(\u001b[38;5;28mrange\u001b[39m(rollout_num),desc\u001b[38;5;241m=\u001b[39m\u001b[38;5;124m'\u001b[39m\u001b[38;5;124mCollecting Transitions\u001b[39m\u001b[38;5;124m'\u001b[39m) \u001b[38;5;28;01mas\u001b[39;00m bar:\n\u001b[1;32m     43\u001b[0m     \u001b[38;5;28;01mfor\u001b[39;00m _ \u001b[38;5;129;01min\u001b[39;00m bar:\n\u001b[0;32m---> 44\u001b[0m         dataset\u001b[38;5;241m.\u001b[39mappend(\u001b[43mcollect_meth\u001b[49m\u001b[43m(\u001b[49m\u001b[43magent\u001b[49m\u001b[43m)\u001b[49m)\n\u001b[1;32m     45\u001b[0m \u001b[38;5;28;01mreturn\u001b[39;00m DataLoader(dataset\u001b[38;5;241m=\u001b[39mdataset,batch_size\u001b[38;5;241m=\u001b[39m\u001b[38;5;241m32\u001b[39m,collate_fn\u001b[38;5;241m=\u001b[39mcollate)\n",
      "File \u001b[0;32m~/anaconda3/envs/DYY/lib/python3.10/site-packages/torch/utils/_contextlib.py:116\u001b[0m, in \u001b[0;36mcontext_decorator.<locals>.decorate_context\u001b[0;34m(*args, **kwargs)\u001b[0m\n\u001b[1;32m    113\u001b[0m \u001b[38;5;129m@functools\u001b[39m\u001b[38;5;241m.\u001b[39mwraps(func)\n\u001b[1;32m    114\u001b[0m \u001b[38;5;28;01mdef\u001b[39;00m \u001b[38;5;21mdecorate_context\u001b[39m(\u001b[38;5;241m*\u001b[39margs, \u001b[38;5;241m*\u001b[39m\u001b[38;5;241m*\u001b[39mkwargs):\n\u001b[1;32m    115\u001b[0m     \u001b[38;5;28;01mwith\u001b[39;00m ctx_factory():\n\u001b[0;32m--> 116\u001b[0m         \u001b[38;5;28;01mreturn\u001b[39;00m \u001b[43mfunc\u001b[49m\u001b[43m(\u001b[49m\u001b[38;5;241;43m*\u001b[39;49m\u001b[43margs\u001b[49m\u001b[43m,\u001b[49m\u001b[43m \u001b[49m\u001b[38;5;241;43m*\u001b[39;49m\u001b[38;5;241;43m*\u001b[39;49m\u001b[43mkwargs\u001b[49m\u001b[43m)\u001b[49m\n",
      "Cell \u001b[0;32mIn[28], line 9\u001b[0m, in \u001b[0;36mcollect_rollout\u001b[0;34m(agent, horizon)\u001b[0m\n\u001b[1;32m      7\u001b[0m terminates \u001b[38;5;241m=\u001b[39m []\n\u001b[1;32m      8\u001b[0m \u001b[38;5;28;01mfor\u001b[39;00m t \u001b[38;5;129;01min\u001b[39;00m \u001b[38;5;28mrange\u001b[39m(horizon):\n\u001b[0;32m----> 9\u001b[0m     action \u001b[38;5;241m=\u001b[39m \u001b[43magent\u001b[49m\u001b[38;5;241;43m.\u001b[39;49m\u001b[43mget_action\u001b[49m\u001b[43m(\u001b[49m\u001b[43mtorch\u001b[49m\u001b[38;5;241;43m.\u001b[39;49m\u001b[43mtensor\u001b[49m\u001b[43m(\u001b[49m\u001b[43mstate\u001b[49m\u001b[43m)\u001b[49m\u001b[38;5;241;43m.\u001b[39;49m\u001b[43mto\u001b[49m\u001b[43m(\u001b[49m\u001b[43mdevice\u001b[49m\u001b[43m)\u001b[49m\u001b[43m)\u001b[49m\u001b[38;5;241;43m.\u001b[39;49m\u001b[43mcpu\u001b[49m()\u001b[38;5;241m.\u001b[39mitem()\n\u001b[1;32m     10\u001b[0m     action \u001b[38;5;241m=\u001b[39m \u001b[38;5;28mint\u001b[39m(action)\n\u001b[1;32m     11\u001b[0m     states\u001b[38;5;241m.\u001b[39mappend(state)\n",
      "\u001b[0;31mAttributeError\u001b[0m: 'int' object has no attribute 'cpu'"
     ]
    }
   ],
   "source": [
    "net = ValueNet().to(device)\n",
    "target_net = ValueNet().to(device).requires_grad_(False)\n",
    "target_net.load_state_dict(net.state_dict())\n",
    "ALPHA = 0.2\n",
    "optimizer = torch.optim.Adam(net.parameters(),lr=1e-3)\n",
    "\n",
    "specific_values = train()"
   ]
  },
  {
   "cell_type": "code",
   "execution_count": 21,
   "metadata": {},
   "outputs": [
    {
     "data": {
      "image/png": "[encoded data removed]",
      "text/plain": [
       "<Figure size 640x480 with 1 Axes>"
      ]
     },
     "metadata": {},
     "output_type": "display_data"
    }
   ],
   "source": [
    "import matplotlib.pyplot as plt\n",
    "plt.plot([x[0] * 5 for x in enumerate(specific_values)],specific_values)\n",
    "plt.title('Value for a given state')\n",
    "plt.show()"
   ]
  },
  {
   "cell_type": "markdown",
   "metadata": {},
   "source": [
    "很好！我们发现这个agent的表现和之前的Value Iteration方法差不多。那么，他的具体表现如何呢？"
   ]
  },
  {
   "cell_type": "code",
   "execution_count": 22,
   "metadata": {},
   "outputs": [],
   "source": [
    "def demonstrate_policy(agent:ValueNet):\n",
    "    cum_rewards = []\n",
    "    for _ in range(10):\n",
    "        state,_ = env.reset()\n",
    "        tot = 0\n",
    "        for t in range(505):\n",
    "            action = agent.get_action(state)\n",
    "            state,reward,terminated,truncated,_ = env.step(action)\n",
    "            tot += reward\n",
    "            if truncated or terminated:\n",
    "                print(f'Stopped at time {t} due to', 'truncated' if truncated else 'terminated')\n",
    "                break\n",
    "        cum_rewards.append(tot)\n",
    "    print('Average cumulative reward:',sum(cum_rewards)/len(cum_rewards))"
   ]
  },
  {
   "cell_type": "code",
   "execution_count": 23,
   "metadata": {},
   "outputs": [
    {
     "name": "stdout",
     "output_type": "stream",
     "text": [
      "Stopped at time 18 due to terminated\n",
      "Stopped at time 14 due to terminated\n",
      "Stopped at time 12 due to terminated\n",
      "Stopped at time 19 due to terminated\n",
      "Stopped at time 16 due to terminated\n",
      "Stopped at time 14 due to terminated\n",
      "Stopped at time 14 due to terminated\n",
      "Stopped at time 13 due to terminated\n",
      "Stopped at time 18 due to terminated\n",
      "Stopped at time 15 due to terminated\n",
      "Average cumulative reward: 16.3\n"
     ]
    }
   ],
   "source": [
    "demonstrate_policy(net)"
   ]
  },
  {
   "cell_type": "markdown",
   "metadata": {},
   "source": [
    "为什么会这样？你可能被惊呆了。"
   ]
  },
  {
   "cell_type": "code",
   "execution_count": 24,
   "metadata": {},
   "outputs": [
    {
     "name": "stdout",
     "output_type": "stream",
     "text": [
      "Stopped at time 19 due to terminated\n",
      "Stopped at time 56 due to terminated\n",
      "Stopped at time 2 due to terminated\n",
      "Stopped at time 12 due to terminated\n",
      "Stopped at time 60 due to terminated\n",
      "Stopped at time 5 due to terminated\n",
      "Stopped at time 9 due to terminated\n",
      "Stopped at time 45 due to terminated\n",
      "Stopped at time 41 due to terminated\n",
      "Stopped at time 31 due to terminated\n",
      "Average cumulative reward: 29.0\n"
     ]
    }
   ],
   "source": [
    "env = gym.make('CartPole-v1')\n",
    "\n",
    "def demonstrate_policy(agent:ValueNet):\n",
    "    cum_rewards = []\n",
    "    for _ in range(10):\n",
    "        state,_ = env.reset()\n",
    "        state = torch.from_numpy(state).to(device)\n",
    "        tot = 0\n",
    "        for t in range(505):\n",
    "            action = agent.get_action(state)\n",
    "            state,reward,terminated,_ = dynamic_model.step(state,torch.tensor(action,dtype=torch.float).to(device))\n",
    "            tot += reward\n",
    "            if terminated:\n",
    "                print(f'Stopped at time {t} due to terminated')\n",
    "                break\n",
    "        cum_rewards.append(tot)\n",
    "    print('Average cumulative reward:',sum(cum_rewards)/len(cum_rewards))\n",
    "\n",
    "demonstrate_policy(net)"
   ]
  }
 ],
 "metadata": {
  "kernelspec": {
   "display_name": "base",
   "language": "python",
   "name": "python3"
  },
  "language_info": {
   "codemirror_mode": {
    "name": "ipython",
    "version": 3
   },
   "file_extension": ".py",
   "mimetype": "text/x-python",
   "name": "python",
   "nbconvert_exporter": "python",
   "pygments_lexer": "ipython3",
   "version": "3.10.14"
  }
 },
 "nbformat": 4,
 "nbformat_minor": 2
}
