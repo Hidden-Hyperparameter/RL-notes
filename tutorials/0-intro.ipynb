{
 "cells": [
  {
   "cell_type": "markdown",
   "metadata": {},
   "source": [
    "# 0 Introduction to RL"
   ]
  },
  {
   "cell_type": "markdown",
   "metadata": {},
   "source": [
    "**什么是RL?**\n",
    "\n",
    "> Reinforcement learning (RL) is an **interdisciplinary area** of **machine learning** and **optimal control** concerned with how an intelligent agent **ought to take actions** in a **dynamic environment** in order to **maximize the cumulative reward**. Reinforcement learning is one of three basic machine learning paradigms, alongside supervised learning and unsupervised learning. (Wikipedia)\n",
    "\n",
    "简单来说，RL就是一个研究 **如何在和环境交互中最大化自己的利益，或者“reward”** 的学科。RL中重要的元素是**agent**和**environment**，二者形成一个闭环：\n",
    "- agent的输入是environment的反馈，输出它的应对，一般称为**action**；\n",
    "- environment接收agent的反应，并进行一个演化。演化结果给出新的 **状态(state)** 。此外，为了给予agent一个目标，环境还要给agent一个**reward**。\n",
    "\n",
    "换句话说，agent在每一个state下面给出action，而环境根据这个action就会到达一个新的state。而agent的整体目标，如上所述，是 **最大化reward的时间和**。\n",
    "\n",
    "![](./assets/0-1.png)"
   ]
  },
  {
   "cell_type": "markdown",
   "metadata": {},
   "source": [
    "## 0.1 Life is a MDP"
   ]
  },
  {
   "cell_type": "markdown",
   "metadata": {},
   "source": [
    "### MDP\n",
    "\n",
    "在介绍RL的基本概念之前，我们首先要介绍MDP的概念。MDP是**Markov Decision Process**的缩写，是强化学习的基础。"
   ]
  },
  {
   "cell_type": "markdown",
   "metadata": {},
   "source": [
    "一个MDP包括：\n",
    "- 一个状态空间(state space) $S$\n",
    "- 一个动作空间(action space) $A$\n",
    "- 一个奖励函数(reward function) $r$\n",
    "    - 具体地，对于一个state $s\\in S$和一个action $a\\in A$，这一函数给出一个实数 $r(s,a)$，代表着在state $s$下面采取action $a$获得的“奖励”。\n",
    "- 一个状态转移函数(transition function) $p$\n",
    "    - 具体地，对于一个state $s\\in S$和一个action $a\\in A$，这一函数给出一个概率分布$p(s'|s,a)$，代表着在state $s$下面采取action $a$之后，下一个state是$s'$的概率。"
   ]
  },
  {
   "cell_type": "markdown",
   "metadata": {},
   "source": [
    "\n",
    "这里的“Markov”体现在哪里呢？我们可以设想一个agent在和环境逐渐地交互：\n",
    "- agent初始时处于一个state $s_0$,这是环境给定的；\n",
    "- agent根据$s_0$采取一个action $a_0$；\n",
    "- 环境根据$s_0$和$a_0$给出一个reward $r_0$，并且给出下一个state $s_1$。此时，agent就处于state $s_1$；\n",
    "- agent再根据$s_1$采取一个action $a_1$。不断由此往复……\n",
    "\n",
    "可以看到，在这一过程中，只要第$t$轮的$s_t,a_t$给定了，环境就可以决定$s_{t+1}$，而不需要$s_0,a_0,s_1,\\cdots,s_{t-1},a_{t-1}$这些信息！这就是Markov性质的体现。"
   ]
  },
  {
   "cell_type": "markdown",
   "metadata": {},
   "source": [
    "那么，“Decision”又是指什么呢？可以看到，上面的描述只包含了环境的部分；而我们的agent的介入方式也很简单，就是对于一个state $s$，给出一个**政策** (policy)，也就是action的分布。我们可以把它记作$\\pi(a|s)$。\n",
    "\n",
    "> Q: 为什么政策只需要当前的state就可以做出决定呢？和历史一定无关吗？\n",
    ">\n",
    "> A: 这是也是因为我们Markov的假设。你说的这种情况叫做“Non-markovian agent”。虽然这更普遍，但很多经验表明，non-markovian的agent并不比我们这样的agent做的好很多。"
   ]
  },
  {
   "cell_type": "markdown",
   "metadata": {},
   "source": [
    "### POMDP\n",
    "\n",
    "POMDP是Partially Observed MDP的简称。这对应一个虽然略复杂，但更普适的问题陈述：环境并不一定向我们完全袒露心怀，而是只给我们一部分信息。这样的问题在实际中更为常见。比如说，在物理的控制问题中，我们获得一张快照时，就丧失了作为物理系统的state所必须的速度信息。"
   ]
  },
  {
   "cell_type": "markdown",
   "metadata": {},
   "source": [
    "对于POMDP，我们的policy就不能再是state的函数了。我们后面介绍POMDP的问题的时候也会提到，有两种类型的policy:\n",
    "\n",
    "- memoryless: $\\pi(a_t|o_t)$\n",
    "- history-dependent: $\\pi(a_t|o_1,o_2,\\cdots,o_t)$\n",
    "\n",
    "对于前者，我们有一个形象的图来展示：\n",
    "\n",
    "![](../lecture/notes/assets/2-1.png)"
   ]
  },
  {
   "cell_type": "markdown",
   "metadata": {},
   "source": [
    "这里的箭头代表着依赖关系，比如$o_t$依赖于且仅依赖于$s_t$。这样的问题就更加复杂了，因为observation本身不是markovian的——$o_t$不仅依赖于$o_{t-1},a_{t-1}$，而且依赖于$o_{t-2},a_{t-2},\\cdots,o_1,a_1$。\n",
    "\n",
    "在接下来的讨论中，如果不加说明，我们都考虑fully observed的MDP。"
   ]
  },
  {
   "cell_type": "markdown",
   "metadata": {},
   "source": [
    "### MDP Simulators\n",
    "\n",
    "MDP是一个如此广泛的概念，以至于大部分生活中的问题，在合适地定义state后，都可以变成一个在MDP中最大化cumulative reward的问题。正因如此，**RL基本上就是研究求解MDP的学科**。\n",
    "\n",
    "但是，在研究RL时，如果真的要和环境进行交互，可能会有很大的代价（想一想为什么？）为此，OpenAI 的 `gym` 包创造了许多模拟环境，供人们“刷分”，也就是把RL算法投入真正应用前先看一看大体上这一方法好不好。我们接下来来看一下gym的使用。\n",
    "\n",
    "> gym就是一坨答辨。 ——某学长\n",
    "\n",
    "gym以它的不稳定和不兼容著称，而其渲染部分则是更符合这一描述。因此，在下面的代码开始前，让我们：\n",
    "- 安装[requirements.txt](./requirements.txt)内的包；\n",
    "- 运行`bash install.sh`；\n",
    "- 如果在下面的代码的运行中，你遇到和渲染相关的错误，请不要贸然相信GPT或copilot给你的命令，因为它们有可能会让你的图形界面崩溃，或者显卡驱动失效。建议在各种论坛网站上找一些解决方案。\n",
    "- 最后，祈祷！"
   ]
  },
  {
   "cell_type": "code",
   "execution_count": 1,
   "metadata": {},
   "outputs": [
    {
     "data": {
      "text/plain": [
       "'Good luck!'"
      ]
     },
     "execution_count": 1,
     "metadata": {},
     "output_type": "execute_result"
    }
   ],
   "source": [
    "%matplotlib inline\n",
    "\"Gym, I cry out to You; make haste to me! Give output to my code when I cry out to You. Let my library be set before You as binaries, the lifting up of my hands as drivers for graphics.\" and 'Good luck!'"
   ]
  },
  {
   "cell_type": "code",
   "execution_count": 2,
   "metadata": {},
   "outputs": [
    {
     "name": "stdout",
     "output_type": "stream",
     "text": [
      "Initial observation: [ 0.0273956  -0.00611216  0.03585979  0.0197368 ]\n",
      "Initial info: {}\n"
     ]
    },
    {
     "data": {
      "image/png": "[encoded data removed]",
      "text/plain": [
       "<Figure size 640x480 with 1 Axes>"
      ]
     },
     "metadata": {},
     "output_type": "display_data"
    }
   ],
   "source": [
    "import gymnasium as gym\n",
    "from utils import show_image\n",
    "# Create the CartPole environment with 'rgb_array' mode\n",
    "env = gym.make('CartPole-v1', render_mode='rgb_array')\n",
    "# Reset the environment\n",
    "observation,info = env.reset(seed=42)\n",
    "print('Initial observation:',observation)\n",
    "print('Initial info:',info)\n",
    "# Render the environment and display the image\n",
    "image = env.render()\n",
    "show_image(image)"
   ]
  },
  {
   "cell_type": "markdown",
   "metadata": {},
   "source": [
    "如果你成功看到了上面的输出和图片，那么恭喜你，你看到了环境`env`在初始化时的state $s_0$。根据gym的[官方文档](https://gymnasium.farama.org/environments/classic_control/cart_pole/)，这四个参数的含义如下：\n",
    "- Cart Position\n",
    "- Cart Velocity\n",
    "- Pole Angle\n",
    "- Pole Angular Velocity\n",
    "\n",
    "上面的结果是决定性的，因为我们手动设置了`seed`为42。接下来，让我们再看看action是什么："
   ]
  },
  {
   "cell_type": "code",
   "execution_count": 3,
   "metadata": {},
   "outputs": [
    {
     "data": {
      "text/plain": [
       "('action space',\n",
       " [np.int64(0),\n",
       "  np.int64(1),\n",
       "  np.int64(1),\n",
       "  np.int64(0),\n",
       "  np.int64(0),\n",
       "  np.int64(1),\n",
       "  np.int64(0),\n",
       "  np.int64(1),\n",
       "  np.int64(0),\n",
       "  np.int64(0)])"
      ]
     },
     "execution_count": 3,
     "metadata": {},
     "output_type": "execute_result"
    }
   ],
   "source": [
    "env.action_space.seed(42)\n",
    "env.observation_space.seed(42)\n",
    "'action space',[env.action_space.sample() for _ in range(10)]"
   ]
  },
  {
   "cell_type": "markdown",
   "metadata": {},
   "source": [
    "根据官方文档，0代表向左推一下车，而1代表向右推一下。那么，假设对于初始的状态，我们连续地向右推，会变成什么样？"
   ]
  },
  {
   "cell_type": "code",
   "execution_count": 4,
   "metadata": {},
   "outputs": [
    {
     "name": "stdout",
     "output_type": "stream",
     "text": [
      "time stamp 0 reward: 1.0\n",
      "time stamp 1 reward: 1.0\n",
      "time stamp 2 reward: 1.0\n",
      "time stamp 3 reward: 1.0\n",
      "time stamp 4 reward: 1.0\n",
      "time stamp 5 reward: 1.0\n",
      "time stamp 6 reward: 1.0\n",
      "time stamp 7 reward: 1.0\n",
      "time stamp 8 reward: 1.0\n",
      "time stamp 9 reward: 1.0\n",
      "Stopped at timestamp 9 due to done\n"
     ]
    },
    {
     "data": {
      "text/html": [
       "<video controls  >\n",
       " <source src=\"data:video/mp4;base64,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\" type=\"video/mp4\">\n",
       " Your browser does not support the video tag.\n",
       " </video>"
      ],
      "text/plain": [
       "<IPython.core.display.Video object>"
      ]
     },
     "metadata": {},
     "output_type": "display_data"
    }
   ],
   "source": [
    "from utils import show_video\n",
    "import numpy as np\n",
    "frames = []\n",
    "for t in range(100):\n",
    "    image = env.render()\n",
    "    frames.append(image)\n",
    "\n",
    "    action = np.int64(1) # always take the \"push right\" action.\n",
    "    next_obs, reward, done, truncated, info = env.step(action) # 'step' is the function that gives the transition.\n",
    "    observation = next_obs\n",
    "    print('time stamp',t,'reward:',reward)\n",
    "    if done or truncated:\n",
    "        print('Stopped at timestamp',t,'due to','done' if done else 'truncated')\n",
    "        break\n",
    "\n",
    "show_video(frames)"
   ]
  },
  {
   "cell_type": "markdown",
   "metadata": {},
   "source": [
    "很直观——如果我们一直推这一个车，杆就会向左倒下。此时，因为杆和竖直方向的夹角达到了某个临界值，`env`自动判断为游戏失败而结束。这就是`done`为`True`的原因。\n",
    "\n",
    "同时，我们也可以看到`reward`的数值——对于每一个存活下来的一步，reward都是1。也就是说，我们的目的就是活得越长越好。"
   ]
  },
  {
   "cell_type": "markdown",
   "metadata": {},
   "source": [
    "最后，让我们建立一个简单的agent，对这一任务作出一个难度上的基础感受。我们的`TrivialAgent`的思路很简单——如果杆偏左并且角速度向左，那么我们就往左推车；如果杆偏右并且角速度向右，那么我们就往右推车。最后，对于其他情况，因为这取决于未知的物理参数，我们不妨随机来选取action。这十分粗暴，但不妨让我们就看看它能做得怎样。"
   ]
  },
  {
   "cell_type": "code",
   "execution_count": 5,
   "metadata": {},
   "outputs": [],
   "source": [
    "class TrivialAgent:\n",
    "\n",
    "    def __init__(self,action_space):\n",
    "        self.action_space = action_space\n",
    "    \n",
    "    def get_action(self,state):\n",
    "        _,_,theta,omg = state\n",
    "        if theta < 0 and omg < 0:\n",
    "            return 0\n",
    "        if theta > 0 and omg > 0:\n",
    "            return 1\n",
    "        return self.action_space.sample()"
   ]
  },
  {
   "cell_type": "code",
   "execution_count": 6,
   "metadata": {},
   "outputs": [
    {
     "name": "stdout",
     "output_type": "stream",
     "text": [
      "Terminate at time 499 due to truncated\n",
      "Terminate at time 499 due to truncated\n",
      "Terminate at time 347 due to done\n",
      "Terminate at time 412 due to done\n",
      "Terminate at time 395 due to done\n",
      "Terminate at time 482 due to done\n",
      "Terminate at time 499 due to truncated\n",
      "Terminate at time 249 due to done\n",
      "Terminate at time 499 due to truncated\n",
      "Terminate at time 310 due to done\n",
      "Average cumulative reward 420.1\n",
      "results: [500.0, 500.0, 348.0, 413.0, 396.0, 483.0, 500.0, 250.0, 500.0, 311.0]\n"
     ]
    }
   ],
   "source": [
    "agent = TrivialAgent(env.action_space)\n",
    "NUM_ROLLOUTS = 10\n",
    "results = []\n",
    "for rollout in range(NUM_ROLLOUTS):\n",
    "    cum_reward = 0\n",
    "    observation,_ = env.reset()\n",
    "    for t in range(1000):\n",
    "        action = agent.get_action(observation) # let our agent to decide what to do\n",
    "        next_obs, reward, done, truncated, info = env.step(action)\n",
    "        observation = next_obs\n",
    "        cum_reward += reward\n",
    "        if done or truncated:\n",
    "            print('Terminate at time',t,'due to', 'done' if done else 'truncated')\n",
    "            results.append(cum_reward)\n",
    "            break\n",
    "print('Average cumulative reward',sum(results)/len(results))\n",
    "print('results:',results)"
   ]
  },
  {
   "cell_type": "markdown",
   "metadata": {},
   "source": [
    "利用`TrivialAgent`，我们解锁了一个新“技能”——`truncated`！这个情况是因为环境具有一个有限的“**horizon**”，也就是到达这个时间后就会自动结束，类似于“游戏胜利”。这样，总的cumulative reward才有上限。我们看到，就这样一个愚蠢的agent就已经可以做到84%的最优解了！因此，这一任务确实是简单的。\n",
    "\n",
    "我们还可以看到，不同组数据之间reward（即存活时间）可以相差很远——最大值是最小值的2倍！的确，你开始认识到RL了——一个接着一个的state迭代使得整个体系具有巨大的方差。我们后面会更加具体地讨论这一点。"
   ]
  },
  {
   "cell_type": "markdown",
   "metadata": {},
   "source": [
    "最后，让我们欣赏一下我们的第一个“agent”的舞蹈，来结束这一小节吧！"
   ]
  },
  {
   "cell_type": "code",
   "execution_count": 7,
   "metadata": {},
   "outputs": [
    {
     "name": "stdout",
     "output_type": "stream",
     "text": [
      "Stopped at timestamp 499 due to truncated\n"
     ]
    },
    {
     "data": {
      "text/html": [
       "<video controls  >\n",
       " <source src=\"data:video/mp4;base64,AAAAIGZ0eXBpc29tAAACAGlzb21pc28yYXZjMW1wNDEAAAAIZnJlZQAAmWttZGF0AAACrwYF//+r3EXpvebZSLeWLNgg2SPu73gyNjQgLSBjb3JlIDE2NCByMzEwOCAzMWUxOWY5IC0gSC4yNjQvTVBFRy00IEFWQyBjb2RlYyAtIENvcHlsZWZ0IDIwMDMtMjAyMyAtIGh0dHA6Ly93d3cudmlkZW9sYW4ub3JnL3gyNjQuaHRtbCAtIG9wdGlvbnM6IGNhYmFjPTEgcmVmPTMgZGVibG9jaz0xOjA6MCBhbmFseXNlPTB4MzoweDExMyBtZT1oZXggc3VibWU9NyBwc3k9MSBwc3lfcmQ9MS4wMDowLjAwIG1peGVkX3JlZj0xIG1lX3JhbmdlPTE2IGNocm9tYV9tZT0xIHRyZWxsaXM9MSA4eDhkY3Q9MSBjcW09MCBkZWFkem9uZT0yMSwxMSBmYXN0X3Bza2lwPTEgY2hyb21hX3FwX29mZnNldD0tMiB0aHJlYWRzPTEyIGxvb2thaGVhZF90aHJlYWRzPTIgc2xpY2VkX3RocmVhZHM9MCBucj0wIGRlY2ltYXRlPTEgaW50ZXJsYWNlZD0wIGJsdXJheV9jb21wYXQ9MCBjb25zdHJhaW5lZF9pbnRyYT0wIGJmcmFtZXM9MyBiX3B5cmFtaWQ9MiBiX2FkYXB0PTEgYl9iaWFzPTAgZGlyZWN0PTEgd2VpZ2h0Yj0xIG9wZW5fZ29wPTAgd2VpZ2h0cD0yIGtleWludD0yNTAga2V5aW50X21pbj0yMCBzY2VuZWN1dD00MCBpbnRyYV9yZWZyZXNoPTAgcmNfbG9va2FoZWFkPTQwIHJjPWNyZiBtYnRyZWU9MSBjcmY9MjMuMCBxY29tcD0wLjYwIHFwbWluPTAgcXBtYXg9NjkgcXBzdGVwPTQgaXBfcmF0aW89MS40MCBhcT0xOjEuMDAAgAAAAepliIQAM//+9uy+BTX9n9CXESzF2kpwPiqkgIB3NMAAKb9gAAADAAJPkq64EjW6yAAAAwABxgBQQsAjwlQthIR9jiHgs/MvAZcAHoEqu7YXvxaip4sT7OvmWUEw2pP58l+cIXcD34Jmb/RBVc0D+uI0LPnuaYuziiQwiV9MGJUyEhjeRtExRLINDVUBDD80r5+O3WcXvYKkR9u/ImDFxyc++/JZTZmQcfvXyJQKuhDen+k2JUjo4ot4gwjC4rzkYvj9x+dG14qR/KFOGyvSA1OwGrbUgnTii4HFz1EqaEelxayBGWSa8tvJk/KPworIqGTpui/0snkHp5jzL5PcuG38YvgqwJMbmJlebl1Co7qjkSfJx/Z/zZ4wbeqyrhl5rthkWP4fYzZNR+nk6hEK7hqUHmCuuZ9cmcerF3GybMwTtc498nAtMjKW5sKzrbCYbC4e6U7Z5CPQWm7tTj7Fdo990/yhskeRUVUBlZUtd3AugEb1uVbBGHN4Fhu6LJ/pP03T6plE76m0aeW2LRDLF+Wgq5eopYJ6YCPO6v39zj1WX/DzDTvVvegbH+7Qwf0Y7aRrhsUg7Q4AEi1bdTDzWzVSMrNDMUDuuM/OrzIaXCy9dvVfMixzWtdxAl03ZsNEAGEAAAMAAAMAACAhAAAAwEGaJGxDv/6plgAAAwNQsgDZ3lQBqebZRTJuvANee4bsWvSZRciRhtRpSB1O0KwjnFn3q9SoU4wKQiOWl3lK4zDc5X/wviCF6EglrZDQkJW9gmxgcQ3OfaMuU0dpkEctgo1GUGbyQ5rYwudz91WpvBpcM4QYXOlZHQbeBscAjn6BWg85QLs0VSoAU9SJjcxXW6mUYqfFRHPdxL8CHdE//NkZIF+KqKifcSdTmvZg4gznHs9WlBFRpXPebOpXlgat6AAAADlBnkJ4hf8AAAMD4swK/6ELVYUO6FuPKRxnS/LjTI5w2AAOH9YpSQAdCBg/QL+kG5vKGXAkD+ZDFBEAAAAdAZ5hdEK/AAADAfyGQGEidumouBRGbyK02QM5C9MAAAAfAZ5jakK/AAAFZaZY7bfUy87A04NYT/2NG+bALznhUwAAAJBBmmhJqEFomUwIZ//+nhAAABm3dpQGR8JLq+9C/BLgQCSX/Y4tvCp89NSrwYSzo4TO3/fTAmHBHBoIyFx5xikGhNCyh1JbzFd9bjg7Q2JNgb9XjBBIRbmlFvc5z0Z1X6PX6jP5s1mKWMfTQPtiELECcZpZrvAbXrEIC4BHmcykyRS42qWTazZ8U+IMFn0o3ysAAAA0QZ6GRREsM/8AAAMC1wGwfd+BI/XozDfQoH3gA2IgIuqDZd54DvsygrNbIqmQUyix1Y7qmQAAACMBnqV0Qr8AAAMAweVrYJadX6DCSM/gsIOi11ci6J0C29ER8QAAACABnqdqQr8AAAVCv+brwhoiZQF5lgqMc7/cfI4CaPybfgAAAIBBmqxJqEFsmUwIZ//+nhAAABm3YvQD+BiY6pemSs9LTnmWUf6JKAzMhqhUOpl5wkQu1AF5RXZJ5JXJVwAtBstPTUuXPcKlIXPiVMWIjAAoGm4n8ODBnrawr1v1/mTDH18mAefVyfNM/r/oknd7aUQm1jRcoB1zy5thO26N2CRFwAAAADhBnspFFSwz/wAAAwLXTU+zd0pyf6fA3qh6cO1+B03hACFPdiIopug4ngocRj1UFjLyA8UJB4FJwQAAABwBnul0Qr8AAAVBMNdJOLvcCa+NcsUohZ1trHqmAAAAHAGe62pCvwAABUK/jb+uRKUqa08nAWhS1s9TeLgAAAB1QZrwSahBbJlMCGf//p4QAAAZtmHNQCkVedu85+qoLj3oZ7fbE8JsgBgboANpqv7TzSVuIaoKoPcZYNVpEAsN9A1lwfAWMTSK8nCXDir9e9GvKZQUtSVXdMZSMDZBH/IF53jEelellXpnMuOzUeMgmcOsjHtBAAAAJkGfDkUVLDP/AAADAukBUtJctKNy90NxfOv1xa5KsXO1oNpYgbOBAAAAHQGfLXRCvwAABWYufVfgYkFPE5z5sVBg/QFyD5knAAAAGQGfL2pCvwAABWa9y8Ze6b+dZZbOg0Y8G1AAAAC7QZs0SahBbJlMCGf//p4QAAAZugSP4ApCQ+OIGtID712RkENuUDkeKCDroiKZzPm/BLgR7R1Xy7PNgQOkBPnhGz339SBycYYFmGCepP48RaiQ5LhfRji+JtKgrvN3TZmNvIO6eWOsWU+64LbxpZ4VsBHIDIydtWPkxsk/uJbnoO5z51OElJCrKIQeg4KskQtLyABPIhRa6wDOC4urWO/GjBUm8LSP/LtWAEB+1CHBOQXdx8QgU84qy3G6IAAAAC5Bn1JFFSwz/wAAAwLpAVLPG6kZPEoyqfGxIi8FwAhuvpyim+C6Jfut5odK5fUhAAAAHgGfcXRCvwAABUEw10gTa4MElVcAyB9bwJ94sZDZgAAAACkBn3NqQr8AAAVmv42l2rlQXcYErGl14CePRT7lgdF1pe3L8rtRb2lrZwAAAJRBm3hJqEFsmUwIZ//+nhAAABmxS35pLiAhMGAO4W5v8APDS6RCIxZt1mVM/omTCn9Z/1bohAPEnpsW3+ImwqKezFgrsQqCXIrza3bhyFFrTkxJ+ZZQVjzapNVBTHB/orTtGBofbvoN2AjIHhsL18NAHM6uqCIkgMDip3i5HKUZfpkFPaG+m0nSkRC4vncFZA1WpQnlAAAARUGflkUVLDP/AAADAuihJaQozmik+/K2BiJ8gBbgBfybydAP4SC6wWvi6Y1o0GK8nhbuDSmRTpxB+Wzf2z6FfnLCFJg2oAAAACkBn7V0Qr8AAAVnI/H/kGgrlBwY5OblGDFu5gMZwBbkiZ9TzugXFibxoQAAAB0Bn7dqQr8AAAMAS3XcrgxY99vpgtY7KVsaTQ1qSQAAAGtBm7xJqEFsmUwIZ//+nhAAABnRvtJ89ro6Ef/WrDfueokXJ6aS2ASf/jDXYGAObldld5l1aXftbxf4VpRuAuMlPS/g0SifTdK1CzuaEqXRTDa8MG/zh6fZQB7z67eNlPh8/LXJWqeqgSlywAAAACZBn9pFFSwv/wAAAwPNEX+PDBRBOLnWKws1jD3win/VWa76f254+QAAAB0Bn/l0Qr8AAAMB/IfAiCySWyIBNbQsKBFgls2npAAAABABn/tqQr8AAAMAS3X58BqRAAAAdEGb4EmoQWyZTAhn//6eEAAAGdHEcfey1KEv4pzknAmggAN8eSVyYz6zrLJEsgnWEDcEh9fdaDfUpuE72TpMZqBAm1jNU/Of3La2wiDoPnbPfHey6y+SdLfAFfPpNmPOpdK7kG57BMLn7WSPiN5RTUh3nYU/AAAAI0GeHkUVLC//AAADA80Rf5JuAKrJnMtd23Q8pWXCiKEcnHj4AAAAKQGePXRCvwAAAwH8sEbNrELVWtVlKUBljMyFASMazUe0BkE8kdypClJAAAAAFAGeP2pCvwAAAwAbB0uGxptTJgfbAAAAwkGaJEmoQWyZTAhn//6eEAAAGcY0dsAT4ZUwqtUzzjK0gv/hSXxc4po894xIq2Gl6lAD1BYB/jN2wRsTpOqflpR02YeDr18Utzyu4xnGefFds9aKy7F6+VNqPUNibj9Z3SO0tTJyNnM+TOwrVnNYtHc0kwowyusMZ1FH/VdTYGLZKyPzbJrLVrY2xHSHvzfPYfndOKX8W1jvFLd7ACvQDIgunthyntfO+gv+lAjDPfx46tk+n4Et3w6NVtWlZ56/uEdAAAAAK0GeQkUVLDP/AAADARKAkPxWYI9A72wOnemMwKMN+PwGiQ28vvRNvzO7XXEAAAAcAZ5hdEK/AAADAMRHZEFuTh/J6zLynSTTLFtVxAAAADcBnmNqQr8AAAMASYKjwqvfxmC8QAiBadXC9X3/fdchN9zQDIBGSSA9VsDWPoaD4h1cREFuh2uzAAAA7kGaaEmoQWyZTAh3//6plgAAAwNQmeIJAkpBgC/ifGWe2L0i/g8X9S80Uvis/nXR1PBLpSAgh0skuZpdpa8xl3AbonkN75/z4UEpaWTEcOpv4tHYqrMEnNizEJ8du2HntpzEC3y+bAeqH4K+bOCkSwPtU/J1ztuyBnjX8u2GvSC8XR0VDKh+++CIHb4kuFCiLroKXgh3VcMX455TYIA2rgcIatqP27yS9cRkOiCpzT5y7mMD/AUK1L6TCzdHTfcmlShhv6xqUQgTFDYRLyR6XOazjyQnXYb2lfD9OSZ4gOX/rCTHPIh3sCh0OR+KIX0AAABIQZ6GRRUsM/8AAAMC51+Tme3bqttytwKs1vrHSbel6N4ZAaiDQIAH7slv2pOFhVbiXl1JoJi3a+Hrqe8FKIjzyYsv6MjXkSphAAAARQGepXRCvwAABWUwgQOYjQ8CYSsPkWmHRlouaWQZd4LWAEINzeM5nbT16/AD6MMW8ojMXjiGqHX1vi1yhsK6UF2MsIgZcQAAAC8BnqdqQr8AAAVjp9QqIH/TeE5t71uqEnrLcS8OTCQlmyXZkvnI/W69KdzsSRj8wAAAAFlBmqxJqEFsmUwIZ//+nhAAAAMAM3QH2KgFlcIE85QcSYjZcrAqKYTGoxn4X2xhOtrz/KWPTsBGgso1RzwceoYPY745CH36A/j6e7O4VkszDthuAH0P5CqxoAAAADVBnspFFSwz/wAAAwLngIAj5hnYcD4xN/XpTTCIrlTh0AsYH2Nv2YEVr4vWlFNfa4RwFGXugQAAABwBnul0Qr8AAAVnJKIkGvOFjqlOFV+3d8TnS+soAAAAHgGe62pCvwAABWa/jaXr1+DHT08Gvs+zWG6gLXiBOAAAAFFBmvBJqEFsmUwIZ//+nhAAABmy0eLaK5fcKDvq++k78mm/iDFCnQXFwBqfSt+pkdtBAbik/bK8DYJMkIH7j5lK8HocKWMdiBvhRYpiecwiwsEAAAAoQZ8ORRUsM/8AAAMC6QFS1CSYmbwujMR2ZbZp7CQovl8dBcqiPMzcuQAAABsBny10Qr8AAAMB+/tbiaMQ6aePhm1401xO6pkAAAAbAZ8vakK/AAAFZr/hsa2GMhq/INLCEX6Jb6ygAAAAm0GbNEmoQWyZTAhX//44QAAAZMB7xjX8aAoMjf6HDqg1xZl3LrYmd2HGyFVX1Bt3KazDuAHDCNbyV7YBGFaQDO3TWuE/rrL04+f+lQ4NVIlZuMhYYdbS8EJd6rYJMbZkSQKqdjS0p/KQlyBpPQkijZ8ELRIlM04iQ2m8uZo4Vnpp/zD4IpVrQH22TtUOf6XdZ5lThCW3HPt/QN+gAAAAaEGfUkUVLDP/AAADAugGPn5GX8dw6kIv6Wq0qIjawt4f9Ir1pjvgwAdorqpqn41CoVxChPi9STHrLhtQ3JYEPgzRPUkgpsuqTQgV0Xe9DyepXObbUsrCddvMKajbNM1nfqDLa/elIvdBAAAANQGfcXRCvwAAAwH74DTSk3zXyMokdqRqNuYJ4ALnyVLHdFIkAPBj1wAVMfHdc2qxF+3fSk7MAAAANAGfc2pCvwAABWSEDd+xktUw8peqbUxlQh+5aQy1ITzTy3uR0ACH6dVD7puoEJSuhIaXdy4AAACAQZt1SahBbJlMCGf//p4QAAAJtwqL/4ZeA2FdBi9svwUW9IJJCz1n6JVsXBTTmzGOjrny19ie9Z036ATOHrVCsZynqGvjexzBbTcQoJOuLw2VHRnlpuP6PW49FzvVc9Y6rU48+tkrYItBty1gn4CAI2N/8clabhaZgrNO1TlNhVUAAAEmQZuZSeEKUmUwIZ/+nhAAABmxRJsBiwzBbHAUDeKE+QQKJqcsKQz+Z/H2QDe85C9qafKrto1H0QvWv+35FRGq2+Hu5DcsWInofp2ynqkxGsj0hLgYf6rEg3orlqpGOxNDordzntmYCNYp/VXA7yj1KRbFkY8lqfz6sRYU9GWxPIQlMTyNA5EZp1vnYe8FH66MKJDW8buUneMNj3v2Jc6kEvJ3Ib5dtYAl6U1E/8EJsv5H94ZOHRGrGO4sg/oojne5chJb7VDor3cb6GjG74qRujeWslzvIBlffHWl4OV6Vu4iKSd3W4snCxLvUXXg1XMqTzHNJSVwdOtsiVq692dcuZbvW6zaoshZ5fXpziHlmle6t3NqwKr67D44QQIMnuytKsrq8NbQAAAATEGft0U0TC//AAADA+E/KuR0wAC3epFgFnBheNRp/B0NLA5gGFs5VoRDpgunf2CDZEl1oXyc+BhFjOlO3rrzczobNaR7PFeJww/Hl7sAAAAsAZ/WdEK/AAAFiyFXUUJ21B6AGkt05JTCLGo15QLg7VkNWNTa1irBb13yk5UAAAA+AZ/YakK/AAAFiaByRhqQ7tuhQC5mihYv01vwgSd0HH+OD1baYwHATddOuSPPAGNAAsahdXLxQb9Nxe0Xl4AAAADiQZvdSahBaJlMCGf//p4QAAAZsZtovBCdWAKK1ZdEtxEobIY8FWWaDK3QRoa4y1yorxxrJmishprMGownzemnAmL7YQQeg3C25/bDD9rabngXsGTFLzC+g3EBNrXJrxdPGw0MRACp4QM1o7Jaa15rjr8Ag2ZD+4+OXUYCJSiDxweqx8BtIJD9eq9yv8OAXnBJdm4nAqaMEnPavFIQhi690WTPwclPq9DPhbr+uoMw0R173Toz8xX4CvljV8V2X0utwiUPZZq1KiX11ZgKLNfi2XN9NtdiKZ5bb9J5qD8h2xQs4QAAADpBn/tFESwz/wAAAwLooL96nnOyeAeXX+7i4zg0nW0QcuLEdf64F7pw8p7ShvCADeGHW3TU6DUGb2qSAAAANwGeGnRCvwAABWKjbmwAq7BAuP5zOnWuKLTp6Sq+UPyHRGX6W4bccS04YpfeajY433srAwzd/VkAAAAbAZ4cakK/AAADAfwDaeiQ60S95rJBdTuoKTChAAAAV0GaAUmoQWyZTAhf//6MsAAAGfAV+M4AHMYduFsmjoAnLzBvoziecaWRPJCu8etex3ICabZzt5nGlzeus8sRec/Btm5qNRMQ2yNvdI4enFvpT9MWqRiXsAAAACVBnj9FFSwz/wAAAwLooL+CtHfnljfKveoxs6GWm7E7wDBmxAakAAAAHQGeXnRCvwAABWchkKKzU4bAMcQXc7m8UeACoCmhAAAAFwGeQGpCvwAAAwDJOgVR1APVbtlchEWUAAAAm0GaRUmoQWyZTAhn//6eEAAAGbYejIARBvT3AnG3XnJ77qaDxM7qSi/Z7eR583E82M/em9gkw8KSTa2G4HCHEbfxGqtw+qEqbtGneTiQNQCi/WaeoKCculLytHM/sLd14JP2M9viSl3kwijROAsS+Om3UGEbVsyLmcFqpRgQ3Eh1DZzBVzzWi1z6TvCJJe6u/jtq39gBfBYrSD+BAAAAS0GeY0UVLDP/AAADAuiMUUgGfp2vLM8yfzZpFa9cNhkvYpbg4RZIAjJBOLzYa/P3eeNYAnY6M/sySbwhIHk6eQSLkSTybpxOOdVJwAAAADYBnoJ0Qr8AAAVlLtUBzgjRX1PdvLmtFhSZ/IYRMZu1iGI+L87S9UItdnDRGfVOWKKGr4G2F6cAAAAsAZ6EakK/AAAFZr3LyNlmD9m7EzIzspAyj4oDN//OFxuFWKUDMhcEO5QSis8AAADTQZqJSahBbJlMCGf//p4QAAAZu1srWoBNVoFbcsYl/wTz3aLlb6B3oXlt9Dq6eXbSoCfA1VVy6szkmzKHa3fJgytsCa511FX/AiilrpE5FmnzfR1D9dKTbFAigNEX9hSzcShed+BhqdnBgybvV3x77gvUojJiNFY7D8c+wIG8dbPgBjCkdaBh/oumb4yXsetqVRwvut79ijHJ3CXT2A8EcQjMex+siJ/+9/zmWKMp8xITIxDGVwFfZRlD7mm/XSDvOgJ8niALMaqBZJpc5WkeO26ucQAAAFVBnqdFFSwv/wAAAwPKuLiUxrPi40yHPU2IBAXnfg+IUgDeoryKwZRC+K1rS1R0Nc4QfNAANq1rJxE/AfEFrvCyd9JvSZKavyIX0xvpkXB65xYY9am5AAAAQwGexnRCvwAABS7JnQv9XuH+Ya7oElGoa2Np4hdhlQa245i2B2wIEfOaQU0R6AAnWbt+rA/uu+JOnTl8xSIC3rnBUkAAAABWAZ7IakK/AAADAfuMivHO6j/z54EZjnu7SmnMr3pRkpQAlGFfE88ek3PTdIywE3842mCSztwLhuzcRKVoeuocyvq/56Kdy9yK4m++7wkAqikVMB5cxoAAAAD/QZrNSahBbJlMCGf//p4QAAAZ0TbEhngBQbHEVibztEJ5HsDZBepyKUwGowp8QsFSOzY6DbaKx6o9a9oHKC1xNR71tULHKjrMLSNcS4l0p+lsXDrF6HqwHsAeZjOCXFWWmm/3YJs4CueKFZGx9AbDMTHIektDwQ708oZSqiLsw3UlVXZpq2CoPBllensRAYg1W2FPtBgfOtt4hFghdwKGnP8BSEkPp5HiXmZUTL35w32P6K032jyqJr05OkIpC9+iC7w84O36hKDE1OjqzsH2CLHxjCw7zJJFU8UxDvyveCpqnJ3t30dwj9xIcRQ6WW6iGN8zwy3TACA5vvpoQM/JAAAAaEGe60UVLDP/AAADAufQRHYaTYZph29PcMKp1vA2RGAM3AbkxyFvD/M2ziYEMVD3HymFNkhBA9ERTngnyEfbIjahkL1s5aD7idtgsGHX005RLzRUi7SpqXJ8eYnRSLDH3XCyA6Jv1n+YAAAAQwGfCnRCvwAABUEw1qzzdfj266NvevXjCedjopTa6H1S7Uz9ACNsVdw+58LDm+JqfGyBbEf3joP1LD/poERcDJ9/1TAAAAA8AZ8MakK/AAADAfvzfSPMI520WS5zIAS0nCW5v7wn0wS0IRHkBLoYJQduvwOXY/f+zoU58EhN/BAgc+rBAAAAx0GbEUmoQWyZTAhn//6eEAAAGdAZ8ewYIATWE6FSyrtp0PwH8cOpJSQWAmjRXpd9evcZy5nxETdubLU0H+5uIhT5AFeQgWkj9NV5p588AoL3FKTKDAbM1NTWmdjixbJe16tMqaFC5jSF0rP4OYj8N8BXcnFUkz8uo+hkXA0A7rmEvB3NYaWLQyxIfevnYfhucr5MPdTWCwZwdM6nuvkY6SJuTBCvsCE53X+hMQY/uHPb3vbB7tOIMMOKc3AIUM7biTPjW9rsTIEAAABXQZ8vRRUsM/8AAAMC6IRixGTSiCAEs/I6sYu//OxLv/IyoSYS4D54idiCxdbqlR4mFYWRc4Mr5RtvtyZfp64tgR0/o8yFkoma3YUZv3mAV3qhCsHd7SVNAAAAPQGfTnRCvwAABWR9WGVVRuKgCBQQn4BM4N3AD9lC1oLoCWmM1J84M+kpKuslNRQk8aWZQAebP43OeXyeBuIAAAArAZ9QakK/AAAFZWLoJh251NMmQDMWDQRQAltSzJpsmM1DSPCwk5m6Yn2gXAAAAKxBm1VJqEFsmUwIZ//+nhAAABnfyOIDH1fKRMYPnlSD20RvK61l1HeZ0GrV2VcyorPFjyh1ZBa1MmtW4D8ycNqJpQ8lY10bsaLHRI1Sb/PqeUL/FRM6GKkULPHUIC/K9buktjj3XPGqS6d+oHB+7T4nW7kAX7G9EzEynRzMoJOGucX6jmu1Yi8Ss3cZzSYBYHsUe3PKt0Yu7NrSPU8LF2sMLypRLN0qG/bcYRaBAAAAREGfc0UVLDP/AAADAugmPLyBRL8yCAFvq+0EF5HzjEX0sCv58prd4oxgWmCo4fQsykNjKULcNKT7wwPYLxEM4pqWydtAAAAAMQGfknRCvwAABWbwCSvMHx8FcT9QAjxfRDmk9A2sCird5qlRVr/la2Sdl1RePQkxfSAAAAAkAZ+UakK/AAAFZZ8VVMVcn3pMjaPnfvReZKPpmY83HgqH7n/hAAAAYEGbmUmoQWyZTAhn//6eEAAAGS/iJw3SHAJruUVDV8rLwc8i5qrXZzFWGnFdsmx9egyVrEnA+eEtucks0f5IxX8sNnps1lwjwsZHkvkgbcvA8QptDzJ1NHw3KnnV0J3GPAAAADBBn7dFFSwz/wAAAwLWheWY6sU4kpAbZffGSndOFGL+WyEEALYThDfXjxDE2SWYZUEAAAAhAZ/WdEK/AAAFQQ4GJ0D78NJpkIeeKLyD/9kwT5GTbM0JAAAAHwGf2GpCvwAABUFi8g9w5fcRtJpvmudfYjZ+7JWFD+QAAACgQZvdSahBbJlMCGf//p4QAAAZEUeNrxkyL7kuBOfMAcWI5OIH1LunLHun31zFf5q1SJXah4y8KEpl1/klQeBu0KoBCxjDnyI5Szv9l6QAehIVtv5WwNPx3aeGMc51dSYDKEZj+rdoeBKSmPFPJZqrpBZxhOWFRI0sTxNBl3ODMHppHVuQinx6idPDbKJ+F4mnnjnlSn7rDEG5ea4UKlFS5QAAADBBn/tFFSwz/wAAAwLV39s8zR7qklJsPAdYgCHo0UVgr1h8GmM4H5TNkV5SzfLIrYAAAAAyAZ4adEK/AAAFQx9jWLlSYCrPvms0QAli0nThw5jVhbHFvAVyVp/YLu8M8d41mgSP8fEAAAAjAZ4cakK/AAAFQaOqQYtHvjBAC0nNnqoUZLK0d13Y1ybjtqUAAACEQZoBSahBbJlMCGf//p4QAAAZEUSbZzXcc+IBbp3GtBN73qN/lVhP7tQgeakbX7qvTLUcXaw7hh/lSTLc1x9twmnk/ZLtC1MVdWJOdj4CB1hIuLXJpEcdcvqcI48dxkKe9c9C511shqSglaI5jsn7ukRlzGnLTPoenJbcr5XPsGZJTPCAAAAASkGeP0UVLDP/AAADAtcmt047dzuuQxBkygAiCAobi0BOUngkMbesl8XTpWy+2FpU7ecwj3Dcrm5ZzEEsCymQo32twLXNjdb8dFbAAAAAKgGeXnRCvwAABUEN8v5YbFTJkO2ER63XBiZFbOAPIFm5LlTjJT/0hxO2gQAAACoBnkBqQr8AAAU/Hi0TYBbdtw5HIAWq3YJ2Fm0JOqhghzKQi3q/D3GjNWAAAACOQZpFSahBbJlMCGf//p4QAAAZFh6ZyAS8Qqqz/VyMx3kokPrvEy/6d+z7mgAZG1CEa3jEF2cfwuCQ+uNe09vT3Y488tzWeQAmDOz6dg7rf7UZrSwaM7Fnn1ZmRmIcgpJYHuQSjQfHm2ndDqeDq3Vg219VoZWmMf9YvirT2Mi3GUQYy3KbhQ9nBZCrMXwM+QAAAFRBnmNFFSwz/wAAAwLW+T4UfLAQBEgBf7FV9uHwZZF2CvptztoVtS5nex9+BukiFteFUxtHfIApRtqm1hKkEsQ/B73W5orl47MMFh4wPgdZQ8PtMi8AAAA5AZ6CdEK/AAAFQyGQrfI3jS7QnvhOgRDtAFjJkdo1GvzOenWxJQju4rtWHdFNH5aGX5Cos6YrZZTdAAAANAGehGpCvwAABUK9y74LgXYsobAjRkIAR3+QmZv6d9rfPlqQCRUWHmfoIzoiTp5YcDPv1sEAAAChQZqJSahBbJlMCGf//p4QAAAZFhK0gBNd+cjt+R4aXedoZsdftrIMcPO+7NznX4FSl3cV0hdfJGIhhCGRjFY9bswuH7WgVXKsx8T9/+Pu6sYQ4hlBr8lO1COGEz7ZEc6aUK1dBDlIn2LV9q+pFyITsQsB5QQEkPUCW3qya++OgTYIKxnqmEgJsdvM3n/bMfNDiiLwvcZsZp/mzCggve1UD7cAAABCQZ6nRRUsM/8AAAMC1ooJegA8TrNon3lBiM2BAXQ+DjlGHHYXlztVlXBI9EE2obs3Vk3TAxef9Zg/3eS8nGo8kp9JAAAANQGexnRCvwAABUMhkGeOwq7OcUmceiiKaMjm1tZ6gA/dfIfvINwOAMsMOvpzv25TSvwrJvtQAAAAHwGeyGpCvwAABUGieOc2uccFlhm2nd5b/USXrpHSMrYAAACDQZrNSahBbJlMCGf//p4QAAAZG1KsXoArQPu9dL0U/DVWlMIHlIugyCJ222OyWEcALTLBvaVF4T2LDlLdXPMqeCtDChUZV/izShFRVmFdFHNT3I6+hvIdhEGzR0xOAHktQYkevZMqTrv5WbEeQ1TSJfwPiNT7fDXYAoN4OndfDZWK16EAAABQQZ7rRRUsM/8AAAMC1vk8k7gD859hv8mu4cAIVJSn9lEOZUMEtoRrUcVGv1JQv5ATQWmE2UL8vF7EBWqMKfBG0PopFZqc+rxnlKOiPeuDWm4AAAAuAZ8KdEK/AAAFQS2NPl3Joym7m0cQ+0xTTIQ3/0pADm2/BgAkqj6W1+JJzf3jgAAAACsBnwxqQr8AAAVBonkB2UfKs2kjjE4Wmi6g9bPWmSx2BOBuDIIkSSxtRuhBAAAAuEGbEUmoQWyZTAhn//6eEAAAGSN+K6UgH+gqsyVFjudIBgSjwsTC9JTO/333Gal8JSE+vAqO+/ZaCZRqiZlIPS+f7VuCkJI+uqAO2RsEwb+oVZm9MkfBz9uMqa4F7gSBgsLdMHs7sbDs9yFU17NEpy+TP3WP6tO9xVfAQVqUEC1mW9/pAoxATbICeMoLafRsGcZlKw3xQ6T/wGR7K2mfiNz/xSuc/e4EACd5GH56BwZG0m3Q7UKuqssAAAA9QZ8vRRUsM/8AAAMC1yaqsc3JCQaFrEd9mJjDACHh/GhkTX1LY9bLIj2yJGS8FUAUpnwcNtBjNc3C48TEHwAAACEBn050Qr8AAAVBDb+fRKgT7k65UdimTa2SwXmy7U1Sh/wAAAAqAZ9QakK/AAAFQr3LxwzAAP5FIfj6n4tBmGsDAZf3LIMO586JbyP8B+GhAAAAfUGbVUmoQWyZTAhn//6eEAAAGT4TnfFtPDgCfX/lJ+qnMuoYJI6bWqcQ+4orrPihn8Or1gs5IQgL8eMo/VB0Kvd0c3fgS2kDsfo8Ipzr3i7aHkxrBnCf3o5U3kq7o+N7IJrgUB4N29FqiNcKtBzhAJg8CvxDIBrpUTtPb+m5AAAANkGfc0UVLDP/AAADAtahD5rzoAW2rkvOCNh2B3Mcj8ofcj9ENU69LC3t7eD28+W5Bs8ICbym4AAAACQBn5J0Qr8AAAVCLn1Y1ZgNohnWNaKJRC+ABa6800sQl54VK2AAAAAiAZ+UakK/AAAFQaONtzZulA1IcDc22w6UYsJS4xQPBIuB4QAAAHRBm5lJqEFsmUwIZ//+nhAAABiEEtC58YATg9KHBXE1EgxI3ctGW8DSuVMxs6Hj3OLLERuxaPA6O11A8PIJ4sjJmemA/lL2hYIpx5GYO74abh/VhIx7JIf5ASBhTcTuPZB4sr5u05+Y4OX65hUG/tg7k2s5gAAAADBBn7dFFSwz/wAAAwLFJqQquPO0v94zgA9xz4Dz78lc/i1SroCSgC7mykeOQbvyY6cAAAAgAZ/WdEK/AAAFHH0+W5UFB6zz/wSAQCFvPXya+oLzP/EAAAAvAZ/YakK/AAAFHHxroeLwvPS9u7bQAtLGOBtxvybLltXNFHcH03FrvoP1Id4gdUAAAACSQZvdSahBbJlMCGf//p4QAAAYe1UPxAIlbhdJ7LuzZCLXoJcZfsVElsk2b0Kn55wZjkFVYL74M+TUUA676g9HymTlXxTch353kYQ7szwiqnLxuiCq6O3C/TzChBf9/vMJVMjWnbeB1D1a4EfKbOAfddNgF6iiNjQlBGU+KJK+kNpRf3+DVjKsYEFeHvBH1Tj+HpsAAAA7QZ/7RRUsM/8AAAMCxPlAFsBphT5TkdVZPKiBZla5vLgqRCAC22qOJ4KRnJHiO+ZYvrGtsA7oVznORuAAAAAhAZ4adEK/AAAFHyQpp6KDzzMZdR0b+8oKIhMk10gUS1JBAAAAOQGeHGpCvwAABR2m5BWZfZG38c6soz6za9QBz53gUWIMfsAHNSPYLu4NDArW8zr2K6sBtfdyxGZQQQAAALFBmgFJqEFsmUwIZ//+nhAAABiAU6ezgBQUndMxw64oshr45BzZEUNms9OdkF8pM21BYQZ66u+ys7wC2yklRe2xBnpAkIb5hk6CksREA2nebfw9ppGYHPneRt4aKD3yUDROIXFDThNl7RwzvJqM3WoVb05/hICnyAh9fjOjHlT6Cyxd6cUrbf1D9F1Bqmz8+fqh35aTLGNSao2j5NkM8dGl0utnwUX+rtY0an0lJtmFeYAAAABLQZ4/RRUsM/8AAAMCxQGbdhUwAEMl0TWMMwd7z42zHPUjR5Yr7AnHthwF0YUYAKmBZ4rZ1dVQDBnqFfwKu34okrQHR3cTQ2rXObycAAAAMwGeXnRCvwAAAwHlfH1lI7vgmMBXhtKEqY7Xj6WpdlSn0UgAHDdNEb7kkyFAfdlnJAz6wQAAADcBnkBqQr8AAAUcfT3Bbr++9/TFMDN5DBRUCD310kALGktunotHuktjZf/KTMwxDpGj25cP1rsGAAAAkEGaRUmoQWyZTAhn//6eEAAAGHtSoh4BnocAYj+s3/QZ7fSTzyGP6kQJi2NF3NT05Y/lqnSK2Cz5vt1l51WNY0VKelcLBGAl/V9h0QlGejWKAj+FMWbZu7ZX5cfIXbsBp8pArBQDF2l783IxgAzGhvCFcJ2FXTvJ42UIjFPa/bgSd7b2ylpYdyw215XvhJ7xwQAAAC9BnmNFFSwv/wAAAwOq8R8KldRYayZhjxShFygdkCbWTwX/GiVLgMOlpUwy3UDurAAAACQBnoJ0Qr8AAAUa/Ynr1rw9OaeX171VsJj7Nc9nPFXhluDAwekAAAAwAZ6EakK/AAAFHr3Ltdwpkkk2TX+t3wc4hL0uIjSDEQRvURqPVw2bihwT11lBUHTBAAAApEGaiUmoQWyZTAhn//6eEAAAGHn/nUgEnrlWSAkfTKfb2YbEtVivYormHP1TH5wEjdz1wn0nvNNA9JCAJDCw0YGeM+atkUUm4COcycQAvx7JU/Z6D7zw7KyLdN4vIc5AzpHi4b8zj+Xu4shjmqK+FfCQYM3qvLOsvhQekm6XbfNxptXW1Ag7vqtVlsoDhx6osuBSbr+lzhhBxzh+P64bIKW5kFVZAAAAPkGep0UVLDP/AAADAsQGOCzTzlXaJ3GrvFv2UYe5JDPLhFfSq/+cgJKGZwVHmUwXPIAL6AACZ5TVHTEqZT8xAAAAHQGexnRCvwAAAwC6ZDIUQcBbr6dUielK6ORhVO6sAAAALAGeyGpCvwAABR2ieRyLvKzoIms55XBxlPKexrILzuwbd5x7AR/40J3T691YAAAAbEGazUmoQWyZTAhn//6eEAAAGHtSp8QC/RSqHmw6ZPCb9//9WRBopJI564JfTk9u5C/JVp7sAZ2Cc0WbkjMk/aVTayMzvWp7Bmhh0qp3IjDS1KMAkaBsM5ZF5gIlcC1YTKa7wL2/mHGPCVlxnwAAAChBnutFFSwz/wAABxWCcGYTq0qXEx4e8yrohDsWV557QFgf8LFjHcPmAAAAGAGfCnRCvwAABR0tjT4vYcxj7sZ/YdjQgAAAAC0BnwxqQr8AAAUdYugl+equsAAugBSSaMoyHPyTacoRAKKXj0w122aBwfq4+YEAAADUQZsRSahBbJlMCGf//p4QAAAYj+Ij/jADXD2nZfoodiODm//IF66u+MMYXlXW6Lx/pN4QHHOBamKU66Hpqf3yizXYhiBbt00+0BYuoiTxd50UpmYnV91Qg0sWypok0vUhrdPBklm7Xs98ZNNcfhN34F8mwNABWBuUhE7wap2ucm7XFbgvt8XTy+0z/tj6e2lCsgdFwl7J3ngZkTV/irPlOVqypx8rYevkQxz/82GxQMbh68NlpCCsL7UFUlY0KJqH7WbSRknkMJgO4sbeQ7isdEH7JbEAAABXQZ8vRRUsM/8AAAcVgnDyJMMY8yR8ALMA7J7/gPy1qS4Evt7YUXPqt/ZRDmvZSUQ0XpiNhM/aiMxgJ2XvE5zodM+TkOG9NP/FiPMGTgspppb9NJ71rLpJAAAAMAGfTnRCvwAABRx8bKgKGE2UBpqtKdKamlNBKtfMGscRq9FZNlCASUduTKt+PW3VgAAAAEEBn1BqQr8AAAT2NLzxrMdKIKHrmO5mMlbPkrlJS/2a+0AJ1Uurzs1AUutume8cUOEVznIgu4WI0qcl6XFTYuXdWAAAAMNBm1VJqEFsmUwIZ//+nhAAABidc/BRurv2XU+DAf2zidf68EBP+VGzK+Mni8C5o5UwO5Rhg7Wlvc0Hqq9VotM0XH8QBPjdaBgvm4BcNIpArXbkX74PKN69Qkf8ck7Lf84N1ss21URN4WCRy8AK6aRSPJ7hop1Aq7QRzWpMfXqzQzO7PfiSCUpsU2+/cGNqOpFIETaPv7CPUrA2SnQ6Pk2W0y8PT62nVU5CNRHLiTuRM9mlyUv0repVzn7fZh964ibJHoEAAABKQZ9zRRUsM/8AAAcVgnDn6DVZQBf5gqQOhiWhT7njCcy8BPyd+aMd/Dx9qGh9htLrzPO2dFEBMxyF2AKuqcWj8kTCJ8cC+M/G+soAAAAqAZ+SdEK/AAAFHyGQrcMcjiKDysm54UlRMtEJIlOmIoGKGBF3WwHg7Z9+AAAAKwGflGpCvwAABR8LGRc3z+oZHoTmZyFT8pxvW5uCBQjSR/kuw6uEhqaNkDkAAAC0QZuZSahBbJlMCGf//p4QAAAYnhOfgHmsk2ANnTXplnqw7ba6o4JFXOT+dMhNml2GGdTCO93mi4aQfrIMwDmw/ZRmmnpUJifzmYmgDDJ3Og5McCSJBNjPT7MOu6wL2h3T7JIzRDFb/gwqnUSubv83AaQl+AwkOpNk9qOybMvZVfsfnjvDE6NP26KVsTYOIxEqSUqZNnlcMQKcOTkdBIdsjxsjrLElUOEcP2IhyCk/3hsCRiOAAAAAY0Gft0UVLC//AAAJr5yhtuETNSADIMPwWMssy3KfZf+h12hFRMJ9LMhmoN+g2qWkDKrRRZYfx49Dn0egoY9TtqoeCtpDZFMaMZW9sUi2S3PRyJoy2Ob5T2m5GExr2HrrrL5+YQAAAC8Bn9Z0Qr8AAAMB5VVw4M59nV9tzGd537M9fF9PxKJGqaYb2WEdc/g5Iiuyr3lAMQAAAEABn9hqQr8AAAUdonkCcFtnqdBGqV2U05qbh3fvY/oiUTADdbUzDs5MstX5FIMGtPMwz0iPPbfvaKFuhIeSXQDAAAAAbEGb3UmoQWyZTAhn//6eEAAAF+AU3U0gAbTgG5MAcwMVm2t1fjkxWU0BXrumM/2ZuO50JeFAvsrPWVzcrP+w6hqSxSQyAJpHZMcg+Vm3MnnsLUBA7YcXW4m/ACOWIOOA2v6+gNXErLjA7HbkvQAAADxBn/tFFSwv/wAAAwO2l70wzNQsh6IbS1ADdAABgwJbkfufREjhfqvTe2cjqaHsZUwlvzTvJWyuCnKYBb8AAAArAZ4adEK/AAAE+TBz/MjUAJLo3bCaS3+t/Sc8BE4evhlIU44nYzqIoT3VgQAAADUBnhxqQr8AAAUevIMXpI16hIEwqbgLBfws/cyn0RzxZx33gA98ffw4CqMbtaN11YoNgFd6sQAAAIhBmgFJqEFsmUwIZ//+nhAAABieE6BQs0N/Td50wAF1AGFCq1WvLhvkNHFp5Uw6QiYcmBisgUoMsfsOTaBt7gQsgZcU8MWp74/qLZMN3SajH82147vJQrAzTBehjg5q6hgqkZwvqcuUnWX6Au6IVfsAOHHKeI9Pita+PRLXF8znUn2Y8IpZbqjeAAAAPUGeP0UVLDP/AAADAsSg/ZaMjqydXGLcgBL9XHrQRGfGt5BgWWaRDhOb6867DRtEQ+H1yq5pvr2DIOh7KkgAAAAoAZ5edEK/AAAFHTBw+3/tvXF+ABYRyRXeZhRSBntIkmVH7ckpqxzrKQAAAC8BnkBqQr8AAAT2NKOWfbC0eE/CgY6gAtx3DDY5dDGi5XqLNMrgxBxuiB4158Xl4AAAAHdBmkVJqEFsmUwIZ//+nhAAABfZ5lzbAIRvzONbX/fSfSc6bkXV49kWtay7hf/DxxAAqsngdQ6fuy+07IAxjOz9t4S+W0p0RJPfbTVapQpsymbn/c1WYyc173sQ73uCPfd8zvNV6g1brAvxQia+Bu6tZ3iDr/JdwQAAADZBnmNFFSwz/wAAAwKyjFYbSEeOMRA0g9OFYPNL6PaDv9GAC0gFRIs/VeDEXNIwEjPdw0ybY0AAAAAfAZ6CdEK/AAAE+yOK4Zt6eOs8C1QJiye3IiBKqBL8cQAAABoBnoRqQr8AAAT5pwmPVuttQV17xgXj3PA1YQAAAKVBmolJqEFsmUwIb//+p4QAAAYgAo0bxwAMZcf6pturKZogmz7k2BOQaLVFju5sWJd5Ja20XOdnZyFC7Aa4ko1BIr0teySfAd0lKyCW6gfJslsMhdop8yHu8J3r0Vm5SuqUb/aoPR3VT/C6VEbnePufRmhOYF/DavpdILWy2u/uWE9Fp+9boGfMmjNd70k7fag6sDnJLEcpKFSmcQDU0Ep8Qgpxo4EAAABaQZ6nRRUsM/8AAAMCsoyTAAHGWoTydrGm+pSspnBXQB4ny5BkrQilJ5Kdai86KLsIn016zaF7rf7XBkJY0B0TtuE1V4tH3wk6d9bueqXcfEOwA6FYgyYa55ltAAAAJAGexnRCvwAABPrwJHiNZ8Oo25wy09IPx/C34V/lXbMsPpUE4AAAADkBnshqQr8AAATYK1qntcXNEMV5/r2SssG0dxBUKMaWtFOTR4w7/YbsV2c0dzo56KVyxmCEHlh0xbQAAACMQZrLSahBbJlMFEwz//6eEAAAFzyxpQdRDNNefgdIpir8OkuFWBXMHllVLcG64elf2yxx/K8f9VX8V2bpUm16nfcMUv6Wm0KNhfGvPXhoMmczPJa80HJdWwniwACqdegbUptRhcoHo5HXhIwagnhuLKfVKO89XBJ96W/M16gW1vZDCijhxpjgao2N3C8AAAA4AZ7qakK/AAADALXXtBOsQOH+1mvCUuUF+5+G4gAOFFZ1w/nblh2RYFqcg3vYJ5kwipdvt1GuW0AAAABOQZrvSeEKUmUwIZ/+nhAAABfRV0ryJD0x2qklqipqEeEAb3GaIRSq7WxHM0myTVZMDBnKu/a/rlF80s2kH6ARHDTbiPKDRafIGtH+CGIWAAAAREGfDUU0TDP/AAADArL1hmwALKXnpR2Mx0ihDlQ53S90UHIbouJAFPuhnsVSAGX8x4Ys5Itx8QUg3m2gFd8d9c/GgR/hAAAALgGfLHRCvwAABPkKVPzlK3qqzl7MMVqGWsoxV1ACRLPO/1kJNlnOeybnIqN6QcEAAAAdAZ8uakK/AAAE+qOFsvt6nVgK3sMKFaeyhJg+C2kAAACiQZszSahBaJlMCGf//p4QAAAX21UfGADa5Y/urrunzlo677qF7ByxRoL4vljcO7R7DaN/6SnsZTDQ992Yxr67Qo0RwhyW+4Mw2ooSSlBMWPCB2X5Is2qJ4GZvZG4fknl3J7ZKKh7CoDWPbkD7XcV7GiisZIi4wifjIgYTuTEUcGsUUlBK3M6DWGoMYSrIeZwoV3ljaEDcdQ4ZLP1P/BNHHps8AAAAQUGfUUURLC//AAADA5/vXbdImiuKFxmAMY11kzTbsH1smNecCwsnNnDdykefY7y2S9ZW9KcnVKzlV6l0sQWs3IPAAAAAIQGfcHRCvwAABPiyqHl5eZgR/gWIESkpIOP3RDCtmqPltQAAAEkBn3JqQr8AAAMB1k0E/wgwDob5jamW4Qgpv0uVyLAB/Fpvccz6II65LPtQWvbV/YoJKiHh0jbLdYHlMcE93gguG3VnbDz4hKBYAAAArEGbd0moQWyZTAhn//6eEAAAF9FYnwQ7AA6EiwUZUskjs8dT1RgBjvhCfWECNE8Cs6wVJNI+J/EUv8zoGtIuCjz5VhNQGupnXm8jcwwfLmyb3C9g7ljNxu3A4EDM5g3TZuEOpU392X3V8Rh9Q0VpJsCcWvUGrlQzYfNpcF3JrjNNiVjE+5+cORZjvOywfXmu/pBfxlQLtyXMB+0qvzRDP6lFBJhGIUZzfNn/l2AAAABfQZ+VRRUsM/8AAAMCsvlgOQA3QBu5zdOLOPalLR6W1v3bIhM0kx6XaLeaij0sr40ZKaqJnSQHpbgEeDJisgPfPXxKh5WTwOcyHYc8AL0tDLuxN8l0xhoF2dtOp0hjJW0AAAA5AZ+0dEK/AAAE+S2NQkUfLTC6QJUvwDxifwcI/lQA42uwqdorQbQDR/j3vgu77gAbE4TpZ1QnLxP+AAAAMgGftmpCvwAABPmieNrppLLHB18V1pOAV702s5KG3QfCE3ZczfmxpCt8Os/tjf98MxctAAAAkkGbu0moQWyZTAhn//6eEAAAF9nxv85MaTi7EMUVuBUQncnx+0kcamPScLv8TXkVRdWs6GOmsl2kWaEcMMISNGAhR4SUjuKEz8jRajkl+f0UqyjVH6wdbHctlycBv3cZyAKB3b/Vt29PD55gqNVCHp7W29qGbR1bcEPPCZNfWz5Bw8lBxFOxdHG+PMaYLGoVYs2RAAAARUGf2UUVLC//AAADA5/MeovYzJKXJRQACd829FmGmwRlpPm2IpeIMreSR8LcY0C2GzjqPL6Lf3daeDgWvhQvsP4wiX3KSAAAACMBn/h0Qr8AAAT5Db+fTA6FwSAOmkSWQJxofawBNxinL4DWgQAAAC4Bn/pqQr8AAAT6vcu+EKEhhBTTUHMGKTmtoAS3hzxf8yToELpzsaYHt1yLFKheAAAAikGb/0moQWyZTAhn//6eEAAAPP7Hg6ujqBvLIONeLUrDRBZqDPFx3JEcLhvIqZ6GT0ZIMPHNF30CDoB+iP+mJ2dpAI80cGqRZtOliN83NttKJEJEtReRvgZ0JpGDlFT1QOkTr9HyEy88/E5XWTEZg8ixM9CN4qo84BHRTuCulNZDabjlSr/aizyQgQAAAEBBnh1FFSwz/wAAAwKzATyhBdI6nG9CwFsTNj9tz4S2As5QU2IdnYoAA7DbaxqipvGfi1m4ozp0St1aLxQf69bRAAAAHQGePHRCvwAAAwHP+JnKUjMlhe7qE/iN1aE5R7lgAAAAKQGePmpCvwAABNUdPlS9cGXlfPUeJFDE9qD9We7Y1FtpfcvEHyBWeEhYAAAAi0GaI0moQWyZTAhn//6eEAAAF0td20CAE0T+UPsWt0+5F1SBIWVG0kGAmFZuUch9sB2bwg5ZHbdy7eQwSECnywrZokfZGaBHCwanPAk9V6Dxsts4F6AbwOvbPwdXEwZvJnVwmosWbeqUnPYHhINg7/BDatmZ14JLr/t4zph6HAnJYso01tbspkd22rEAAAAuQZ5BRRUsM/8AAAMCoCYr3L52/xDU25zWMJE7XK1sEClbpq6PB+g/lUG3P29yMAAAABsBnmB0Qr8AAATV0HEb0e3Sb5SOCaahbmrsoIEAAAAgAZ5iakK/AAAE1kcSZ1OrlwU4fCvYjCYt3r5+s+IaltAAAABqQZpnSahBbJlMCGf//p4QAAAXOrecgA2/gpCSeoeaxlqjhfEuSjynVFivwJ8TXGWnLq3LxYWoV1d7eBP8U9GrcUiHLwhH6Ms7eDTCEuPpn6UdyWMmMbe1peDt0ZMiCBYiU6yLoGWSZKoPmQAAACxBnoVFFSwz/wAAAwKgjFFydIYA7oioVlXNxwZqCBrE7PGNJXPcZA/GCq5tQQAAACsBnqR0Qr8AAATXkDYJQB1io1xD7Xt3ZQwQTSEALYmFgkFt3YmQafAu51e1AAAAKwGepmpCvwAABNddy7X7qaQUcHB2j5HQMIkI+AAXUfDS6pZpy244o40T+UkAAACLQZqrSahBbJlMCGf//p4QAAAXRXuj4cAms+NGMa9GmLgtf6XnfMtUSWLTKS3CbhOtNQzcJ2SWD4Kcs/sZG67eJfXLgaoL3r+iKdYjx1M49NFaa/49VwK+UvD6LvZQRWJ41y5DwNl8wCt6uGIgn78Uqd+gTKIoBUXHgqJT2KMqVtx/ScTI5UvCet0u2AAAACVBnslFFSwz/wAAAwKhARu+OOZla/a9NSAUyo61Wl8be4JdANoIAAAAFAGe6HRCvwAABLXQqT0CL07Z9gxZAAAAGwGe6mpCvwAABNZHCY9d2bsz5zMxYdxkyFhvagAAAExBmu9JqEFsmUwIZ//+nhAAABc7IOhaAanLLnDHo+SrPnXQwhsrVag+EwieHevwJZ/chNXSQSx+ucB9w6cNjnrNBZmHLUhDa9ishjAgAAAANkGfDUUVLDP/AAADAqCg/ZSL4HAMa69X+4C9ugBG2bpbhSE1E+CTpWaPUX9pT4U/r8j5dYCFtQAAAB4Bnyx0Qr8AAATVrgYnQE1bJ8lAPW3EU5dkLOxjBeEAAAAbAZ8uakK/AAAEt1/m68IV6/vQygjMDTRl2JBfAAAApUGbM0moQWyZTAhn//6eEAAAFztf7cATdhCsQNp/uNp6n5DJFEBfRHtA/Ap6cVa5U71nitmuiA+T3phb+WRqZqGB4UJmOcf1EUsUWhtvSVYJa9TnSnOsd/L80PNYOgz+i3FM4j0aa3BUCoN46xtfYKpDPE2BIbG3wDmVtKK2g/wrwUHiFP6nN6HXGeVoZxegFPrQ+qLrgJKRGE4XxTfdqyhnZCVOsgAAAFRBn1FFFSwz/wAAAwKgoEBNEVIZToAP6EMA4YnBgV9YEetpm/BlVcMutrY/HCuCL006O5IlDv0WzOdB2+peJFrTuCQT064zAj+3Cfkeo6/29ean7A4AAAAiAZ9wdEK/AAAE1s59SLFG+NtifY+DjLI8i4s90zsZZqD67wAAAEEBn3JqQr8AAAMAsPj7sccs+5R1k1ACS4CTrNHomHk2vgl62D72nr/k8xxFfl1BqB1xCkjTbhJ3Ofi4lzdh/WxgcAAAAIZBm3dJqEFsmUwIZ//+nhAAABdFFKqpcgKDnCvEJV5fI1yf59mDeQav+DGySkZPKvuRyChYqNT4FXmWkqXPKbacQFeXTwIKNM3RzHtVIlMJ7vmyHgWBXqq7y7oot4O26R5P6zOPmUoMpGxjgndkwobP8bkiS5XLerDd65E3mj+rv/lzSsQbZgAAAC1Bn5VFFSwz/wAAAwKgoL+AEbEoy15fbjhtiH89gAWrr6BN/9ZRzkxAed1d34EAAAAuAZ+0dEK/AAAE176uU7Rtb86ynrVdGgx0AI7+bHRonpW/9a0S5UnnPljz3MvsWAAAABYBn7ZqQr8AAAMACayZ3jkEcJLbeSLvAAAAnkGbu0moQWyZTAhn//6eEAAAFzsfmHATzd/WbI/AcvhBlDfHthxxPjrOno/0Y6GAi9KdnGE3reBgafI3vNaOWcsY9Roz/mICwVj50fAgeOEGy8vAxh+TMVgS8+agwPsTpuWaKaDr4CMMX7zqdPtt6Uzvek+J8CLK+q3AT30kSXMTDf0nIfUacKoC2RkZv0PFHcsPE0rIY149uiKOuUVBAAAAPEGf2UUVLDP/AAADAqAmK9wUmcc1SSADiP8sUW/NDUc8Xy9iZpQGOjlrcm0xJurgtLtn7eflQGpKSZUu4AAAABwBn/h0Qr8AAATVzY0+L2HMY+ecB90HgEpUXQOBAAAAGAGf+mpCvwAABNddy8Ze5jpeAO8Jb6+PmAAAALlBm/9JqEFsmUwIX//+jLAAAD1cJ09O53y/APWLUt23+WWml53irWPCOX7HRH9KXurIDv5wMXD2POO/XYlaIdTTV+thaKs7oRFzfd3IcxMaOBsvUlL/7UcefwVNEeZgPUDnqqW9jDMhrFQmFpsGSwUYjqA7U3wRcPbE49bFvmmIJnZaJJD7zlHIm+GVcpLQIno+VNseNE4G2y1wA+ubjA8NirfLHt12za58sEfQSbESPU0Bm04X0YdnqQAAACpBnh1FFSwz/wAAAwKg+TyaFgcyL2kdthsOe1J3ewzbRabv0grLairglZUAAAAeAZ48dEK/AAAE18GQoplaulk+sbPf1fXzl0del3fgAAAAHAGePmpCvwAABNZCeQ+L3OpnU+YiwWfnoUdot34AAACQQZoiSahBbJlMCGf//p4QAAAXQFxdJQEI2vakBolBZXRPkH1CXbqY4q+WPnlScMSN0by293k3GemQjNNqK1wqMSAQRbXt1F7UW+AtufkKLAOQjMTqe059iajHEK4YxOYAszIrgzDYB3HcYQahgU1KQMudrhav7VNxKUsiqSlk8TzYKIvutNuCrZumMYYPwIHTAAAAN0GeQEUVLC//AAADAVUgNPh4A5R4Z6Y9FXV67ACdH1nE5t89D37mNSEnzQvcVMXkAzLoBXZngDAAAAAnAZ5hakK/AAADAc+2WEA344K4vlrUsI8WJ+z7FkM7ZFU5UgGxjoJhAAAAqUGaZkmoQWyZTAhn//6eEAAAFsONyUBm+SvVAgNk2hXot2g5gv2XRySHhG/9tKIyYV0ICfhOtIKWzr86m13fTwhQYSki5z9dUP9fUpJeKmTdT8wPwejHIYtZyfwVsrP9JegqX90MZuqxxm/f1Mik+WgOaXvIogprUC/8wkm/N78WkWrZk733z7DWOiSbNymZ3dtdVBuHYRMmzbEsaN7wsg+ONPTNd3OxbWAAAAAwQZ6ERRUsL/8AAAMBWYRa3S4Rx/HNxZ5S30WSUb69qQEIzgdBssldRmWrakhQIIbhAAAAQgGeo3RCvwAAAwHQh7/tFFbicbfvkpYXADRPVBOIupSSb+TwATry90YFWQnDB8hVkixRNuPmkCrbTBr/v3v3ZTr2gwAAAB0BnqVqQr8AAAS2R3O+XD8GMoQLiRPVsQ1WNj8u4QAAAHVBmqpJqEFsmUwIX//+jLAAABdq14bAKPIo/B5ft6N1FgxW02gMEWQGRg5NBE18DyBZtpL61wtZ3iYXNbFkZRAUFGYGeIRjROAQeDHx2UQCP71g8Bz7zWsfNvM5aPgvwGa+IJVrxlK2orZxeTH96lcsqN4n+UkAAABIQZ7IRRUsM/8AAAMCoPk9gwMK/BADdAFGvMsWpjD3DSfe2o0TQiA92OmnmE10N9JM7nxYWU2/6u2RURfAO3odTDwTLT2QBmguAAAAIAGe53RCvwAABNUBtSem/Qwm7YBHQR0qvKCHFatwAQb8AAAAHgGe6WpCvwAABNddy8Ze6fhNZa7s423XoZTjojY9+QAAAItBmu5JqEFsmUwIZ//+nhAAABc8XoAFBsZAaHjDBe9oKLfXgB7YapoWcp8vTKw84szfWu4StlrTr54xil9ox+Q9TjOVx/4yRxEuOV4kZ7mI/FYz9JQRQ4Jfx4QL45i1OI4MOToYQ2HWRkQXdItWoXjHRer+c2UA8jJaj0f3s26npmP/XC/obE9jbeXAAAAALkGfDEUVLDP/AAADAqEBpw5XgPLELkoKbSDR5bWoSVjchRXB5k9uERmWtuPPdUAAAAAiAZ8rdEK/AAADAc8j3b/pqWWntHJ+8iscRMivqnEHt1ze/QAAABkBny1qQr8AAATXX7lG3GtO1hl5o6Al5VHpAAAAekGbMkmoQWyZTAhn//6eEAAAFz8afHAHKkVoGPC1hOu0v5fSbQa0hjhBQWV1k55J6yu4+UoXMoUR6Qp3Rz6/RylX5f3rkesPYiphEIQDmLfn/jQ7QjRy1JHOd7T+nqlF+g5WH9HDWQMYB2lzH+BQTazzaMCMIEIYnTPBAAAAI0GfUEUVLDP/AAADAqEBPKDmEuVeQY5dA78dl/Cs7PKQtoNwAAAAFwGfb3RCvwAAAwAJq52nIemABpkxRuVgAAAAGQGfcWpCvwAABNddy8Ze6b+dZGI4wHU1Bd0AAADDQZt2SahBbJlMCGf//p4QAAAXOx6MgBo4rTtPQMwxcgMfK8Y1OauSAkWql09c8iWfieW792LLeq3qy3BHr2LNNlaMkMyPnvVhLVRBM/rsHxH7Q6R90TRxEefNOtkOwOcEOsc4sCsUhpsT+6wIKZ0zWdBAqweW39ejl2PvllXe45i6Uxfqruue75BUEgrbSXWdKWr4UP00j9/y50lRNsD3a307hHl4088aK7FOI63fEeHAyh8q0D9DS8PKa/C8WI7SzexIAAAAOEGflEUVLDP/AAADAqD5Ozxk3G8uZ//MpoPHsvmFzEXOJos2BRSpk5ZAAxE91K3ArDIDHjTDpWDAAAAAOQGfs3RCvwAABNfBkK3NAXFRMu8PXuqqIRbRTyJeIAW/h32+wUAvY3qF/25te3UJgwcNeQI+A44OkwAAACsBn7VqQr8AAATVHT3BbsbL4EzRqKz6NXKd4jnCk94WCxd7JNd+EZW+8YHAAAAAa0GbuUmoQWyZTAhX//44QAAA6PqRe7qcJW4BoiusFu7GcMNDeqcWPXUAHYhhtNavXnR544SrMQw4N9b35ejoc4CTLe8eGp5vS5bZiiTVxL5jcsUJZXdojklk+VS+VdjuyBUwnFtq4VpdxPmBAAAAL0Gf10UVLCv/AAAMkQtccKCF4tUoPiMorKalFbsJm69i2l9IGsGeDUc2s61OU/WBAAAAHwGf+GpCvwAAAwCxNHzX4Lgp60+2CoEW0aAEls1V1tAAAAJtZYiCAA///vdonwKbWkN6gOSVxSXbT4H/q2dwfI/pAwAAAwAM0hQAASeAHLDzBAvkuWAAACvgBZAuwiQkApY3hUCREpSE/ETkQBHo68PKLRAwB2LPgLobvYlJz2ng4l9XalXJ1qcJ7w/rDNwhfWJLd7PuVTBWclWlNyxbMTwJtmV/HnnvBePApjATeOHPKH4ps9DNDovFKTggrKM9l6Occ77dblbMh0LPosysHz96p4zT0sD4tBTQs4/6HN3oc1rY5ouVgItN9ObDQ7aVZpniuxQ58ZbRTZUHwrlYr434DbXAMm6i9I3O2tPvIUHTpnOYUzgQN/1zpyLMyj8JZE8EpDDndUiffSQEThyy6gOkMxiUBlu27qUT7H6Kj19Nd8hOaoRwL20o0zrXx46YDe84S94sz4Tl8CqbE6MhIqnrxX5D/YorJHHhWgxJKsECr6GZV6D5dajl5n5PtUZ1IZ78pNS2Yopu81tbHl4WliIlZ2Y5WeHWhTzyONwMzMOyFxIKG4SsvuFr3a7tujD9qtjHE6WIpCtoiW8PdCLjoB6kXrdTTUjwBeDtkNAOc+l/1tY0uRUKbGr9TUkb+wQt5NnJ/lUDNmjBKPsYlmg6hFucKRK9YjFy5CIPX8/u5Tq5QK7pQ2Sa6JnMaRBb3R3cHN7kAdP57nl3nPyuJ+kdh+zy4WV4SoJwwK+jkpPifDFrG5GWHjTA8KdQm7ssbx7A+nhjlySVK0z/byHdua+73dbhn8b+iviKjNEAAz6VLH7FR4gkW7JVZ8euVYRlzRJM/5/F0oQ4FBzvnXCzIazFI6wtdWwAAAMAAAMAAAMAAJqBAAAAtEGaJGxDP/6eEAAAF0Lr9xeXHsGNyPcD9DqLcsTSGfHdb6P5tShLdUD6NL6JOZSCpI/z65afHJwKtdYZ7qA3YKBCBf2z0we9XmpTrHJxiuCZdkCd5SxzX9aKdzhktjYMibT0EKa+Ync0ouW39GaK2NKpsUGAPgx3xybAQTu+M8oKpeFmhVaR6sfb8j2xukdW+RED9ua7AR7O/MNbtecCpVD2dDtM7+Osq2vbOyFCjU54yRbExQAAADtBnkJ4hn8AAAMA+ISGc9xhpBr4y7zwInlPSIw/KghPo8cMlEEm3MgAs4o8zrprH/dPxKXu68upUlN+qQAAADABnmF0Qr8AAATVzjqusUnIRYha52isMiz4GN4lIAP3y9xI7U/A5+0vp3VRY/aC/VEAAAAcAZ5jakK/AAADAdBklW+Xu6SchyQSL7sc1xSPSAAAAIdBmmhJqEFomUwIZ//+nhAAABdeZdCq83zywE+yoF/UJYqN3evXhA9tPVCLae1gCG2GqiXdCF5ZnY3vt6emhye7QscvpRydmwIm9ajeoFfdbdsOGGiIvbiwVBRznWR4MCgaYr3xIzsSWegZuTOaWfaUIrPFadBooM4tNAjhD9oezGmZjL1CV4gAAAAlQZ6GRREsM/8AAAMCoKC/gBGxKMxlDBgABM69aa5MszRMqXZu/QAAACEBnqV0Qr8AAATXwZCimV+qgAaydzCX4jITVrDtK9uioHAAAAAQAZ6nakK/AAADAAFir+fW0QAAAJRBmqxJqEFsmUwIZ//+nhAAABa9hD6W/AQV+VFKTO2r4MbuWtEsujIqw4/PIeR1C7n4HngiSHrSk4OaQNYKdd73kukW9OjTLZIWKIwqeOOeki4+dJEZ6qciLtR2t52ejeYQ2ss80PxFroBWq3wc0tAbMTzM64KOhXdsM+w/PDKOpVtUUK6CzqA7qTM450eUzr/WUuJgAAAAH0GeykUVLDP/AAADAo6ht4rrH9wKAz7kAjeZ5XjTJd0AAAAjAZ7pdEK/AAAEt8Qpp7r3vnPfnKAAWoebaBm9K8VhReT+XcEAAAAPAZ7rakK/AAADAAADAK2BAAAAwkGa8EmoQWyZTAhf//6MsAAAFvmeym2A6CA5GA+sdMddfcnUXroczXau9xTblRjuI7aafjsQPZQie2kUsjS6xazJ4GX5VAuPrC1RkGCDLA3LlkYg75iZeaUSF8NYq2xIq4GRn1V0DuOcR16VnS5FEWJk1ax327ubBPpolSEj7yl6Dk4dpahTrYeacF/gg3UQV8m3W5Bgw9Iz/h5NOm53B9uLrZ/Mma9lESdq1JCebfcyyouWwkKosldXLNKT56flVvrRAAAATkGfDkUVLDP/AAADAo8BidZfgUE1gC1eddwZljWlDy02TCkb1MtEeLf0aET2ZL5aLcdh54VpAUSmf1NO8ja8vDeuvSQ08CfpVl7iKug9YAAAAD8Bny10Qr8AAAMBxJ2mtHidMAPNH4ufFVFWgAufJg1qWqPH3CFv3t69UT5WldL5LkwYOpV7dG9RYaydGQuE91QAAAAtAZ8vakK/AAAEtkcUBsOlUG3sQ+7kAK4+1D2n9LPhyEOdwP3iDiHjJrh1C4ThAAAAtkGbMkmoQWyZTBRMM//+nhAAABa7fcPAEH1xm/VGHlQdh/CV21TvSNXAcggzEXLkzZbF9CCY4eGbcdEXVul3PV7f+05imgHiYO9SujB77j171cd5CS4vBWBxR/jlYD4zhAn2I41WAK8zV/Fo7VDxA+gQ3hPoIqASIgqzq3oqm2h8HxadNGphHfSWA7qdbGIkTZrXmaYpyA6iM31KJqnU/owrcwg5NgxgrkpvItsotqrCaCcv2ifQAAAANwGfUWpCvwAABLOcsFbtPir4ZUswCJ3okz1ODC7EXyeWLYXKcwubji4MAEqRPg8/u2TH9B+/4bAAAAC1QZtWSeEKUmUwIZ/+nhAAABbEPtxuQE0bc3ETA7NCq1qgxrcPXERXVV/uu/g0q7JZzzKWv1waf81TZgCXn+LT/w7NWq7dkdZ7GmYoQgFPVDVSXR7giSpgOfwirRS06Tz3lvnwxzXeDXDqCnoCMdkm+3x4nJ7pX/Wc7W1O0JgcO3S/fhTNUM6RtaxmRBFhMEJcSJzyvDMYoYTDWdzWAwD5jmay+aKfiJW6cY7Ln/6LzI9O9/iJRQAAAC5Bn3RFNEwz/wAAAwKOobeK7lK5cbEln31NrLuxYtDAPvMAC4X6/BTI4qJVuZUxAAAAIAGfk3RCvwAAAwHFh+toRmX8HiL0mvmf/aqI6oFZbFlBAAAAGgGflWpCvwAAAwAX50uywU/P7iw+i1k+4G7gAAAAUUGbmkmoQWiZTAhn//6eEAAAFsMLBiDYAUMM1s1NhzePAQK+jGSbOKq0Mdu/uTNH1XEoDEXtIu/O1CdJsBL8T4c2PZdp96YPs+b03+jWmHFikgAAACpBn7hFESwz/wAAAwKhAO96eybR5zJL1eVp+rCi0UMqZO1+r6/gh90dBTUAAAAZAZ/XdEK/AAAEts8WTHisjkhRUtYUEpR6QAAAAC8Bn9lqQr8AAATXXcvqFz2KjV9UwewN9hIAHZSPVsACDFrE93fVms/Xn6mwl++h0wAAAGNBm95JqEFsmUwIZ//+nhAAABbGxQNRYhwH5vJjuqC6tZH4/ZgGy6pBYpfv0R7TowxRkjVJ1GO3DCnj6ZqM+dvo1YicdmS4MzWGui0p2Lz9KCKixE/dTp24IaW4V7q7mfOVivkAAAA8QZ/8RRUsM/8AAAMCoU0i8w4xj4pSUL6a0UzXO+sPbGgAdlIteqlfPFopXbPeXOBbpF5IGPxRF+RaRXsoAAAAHAGeG3RCvwAABNXQ0buM51VFF6bPuUySGQxmcF0AAAAcAZ4dakK/AAAE113L6hc9io1fVIBF4YsUL2aHpQAAANlBmgJJqEFsmUwIZ//+nhAAABbDCwOJlgAHyAMAejptesPy37DeqdjjnVWSOxGg6wWFt/7wyfwdo7cWcKo4UMa5no9PwJAxjYf7XHXA/w4kpRTKiIzv53Yfyiq7F4/wbK9USGhGFXPiidG+n/M7Z2KpnEoSnbdFWLQVAkcJBxInkPNlkWDhZI/Qz0yQ8oFG1EDTJMpynM03fjQtPuhyqZcV1+i70OSTZ4CM/egL667MjAS30E3cKvlrIX7IiaqrzrsEsL9lB4NWhCuH6ipVHkniwfKrcHdbkZLqAAAAM0GeIEUVLC//AAAJLnP8zrT83ux7YnKqu/NrhWGcQmiW6SW+r0M19Bw44HkqPhiGGXDLwQAAABsBnl90Qr8AAATV0NGShwBm5/q2C8QkiM8cS7gAAAAtAZ5BakK/AAAMk6XOX68eudJdCLUFiv2XZL10x6op3+AZDQZTL0AbBSDhHDAhAAAAuEGaRkmoQWyZTAhn//6eEAAAFqthzUA+OWWgItII0ISV5sm4srhGWA/N3Y381V4Xr30NODNwZfHFbnZgJKhDvTAMR3NZa9pviV4Z5iFkJ/N8lC9qmp4JsHdHxXiKWfQ/+JnPa6VdggC6Ga+SK0tmqTCXk4bnhs9IXYwNuvdfdUXSaKvnssUL5YGVd4AHh0Ty7PxOpYT3ilnSD+nFJj+NSg8vJRoDCG2JVt/ggpkCxiOUYQdlsDqlgvEAAAAwQZ5kRRUsM/8AAAbBhyN3GYRI2yoFDd9Nf+GqGJlJ7nUkADsd5051gdX1JOU+oCnHAAAAQAGeg3RCvwAADI/1ppSb5PBPmuvaQYm0tDZBLDPrQILAC0oXwicT3oVNzCL9sOiDMNtmBW//r+VIn+Ow+W/YPmAAAAAeAZ6FakK/AAAMk6XOYUPRYhwWCds1r1zGV34MMFTBAAAAiEGaikmoQWyZTAhn//6eEAAACGm/wmjVhPY27acPde4J70x2BQYasussANq0oypokOFA/0/4Bt2+37czi3sKwfXAt8FggUiPGct4zQ0WP7w71noxRlXSJRVY5AQXmr5LGruCfUsXAuIldX+DnrJkklcNsuUshkb25NX++Qth3qjoZZ45/5/6CSsAAAAmQZ6oRRUsM/8AAAbBhyN3HwPqdbFukyaZ9E0vmZQAPmauwjpnrYEAAAApAZ7HdEK/AAAMj/Wml47stFixPaTpAFrl00cAA5BSMWQFkg7sd6EoPugAAAAaAZ7JakK/AAAMk6XOYUPAfpnvX91+rVrKQfMAAAB/QZrOSahBbJlMCGf//p4QAAAWrKtcBCpgMwAGCr+Z3ymiLFNFlHm5ZmdSza5fE/mBwfxRb6vzdhFzvafBcD1CDQJeqbaCmj4VquJZeFfCDKCuu9emvvbSHZ+WJ5azkwRJF2B14a2gDdOafTMxBD+g7ThnK9kLvJGifnpp+rDxgQAAADlBnuxFFSwz/wAABsGHI3cfA+4/UsAaVGZTCi0uGyirotQAC2JaVimtStEHq/svx4jI8qGupmEe/gcAAAAhAZ8LdEK/AAAMj/Wml47hkZ72jnG1++WhALOy9y3ampvRAAAAMQGfDWpCvwAADJOlzmFDwJrENp2Uvfn8l9wOIzB9k6vD4ESEmVE9UAJZw5mCSfmNruAAAACvQZsSSahBbJlMCGf//p4QAAAWq1OPpAbEGZMQLDLtAYdx2f6CjWQNbl8AEzf7W1SSFsMNCHHrQ1VxBu63t6iUeibh6wuxqvZkKBb7JAr8dOUrHHN7M/lmACUEeQlBjMJW6YlnheX9h43DrH2vUjrEQ4Vcz4nL/4gWkeaZ3ac9/m/5kBJX7mW/eBGaijE4aftzZOuR/jRKYjnMjGOq+X0lsnhVdAcaLDvdD6uFAmT+bgAAADhBnzBFFSwz/wAABsGHI3cOda2qMqhIIAiF97aWASKNzzbZ/qRsuY+rNNvNSvbXvM07jr/iMLKtdwAAADkBn090Qr8AAAyP9aaXjwVW5dr4NWZ4FHBAze7/ybv6lcwnYAQ9gvJMXbGtDA4ejxBj/pVQFLT73vwAAAAhAZ9RakK/AAAMk6XOX7MrijLB0uMWsFm4aq/gh1vVfOqAAAAAm0GbVkmoQWyZTAhn//6eEAAAO57HgxH7CHgcWa+VRK0ZWgzNk2oL6hmUALqGDPiWaMmjk0flOw3h8BNjGoyZdYGrxBxRPfGMPjGJ+/yfu3WeoUh0JjNXmP9ZR2kUBXJnJ2eBClSiFO8JND04WxbklP7IRiyuvRH1WC0YSgHmwy77nF/+iWl46su0s3HpOcyGBkQgezRGqaODf+DxAAAAIUGfdEUVLDP/AAAGv+Mcu2onjbhMJYa7DmrfUsAIqfNDAwAAAB0Bn5N0Qr8AAAyP9aaXjupcfn3iTBm77ty68WbqmQAAABEBn5VqQr8AAATXX6huNGwIOAAAAHVBm5pJqEFsmUwIZ//+nhAAABa1Y9P7gP9CVk7NYDFrQwCjibsF93IUQyKMkbBLSk50m9Hrr5BnPH11MvwKD0glz61PcZJFHVsTyS7kbGqopBZEglz8HvdwAb0jqDqEepi20xr/N2jalCqjUYi4ypbLV/6rEzAAAABMQZ+4RRUsL/8AAAkuc/zOtRTPIydKZEWMwD0lUX/1IyD6MQTEAi3XGACIN8WWRAdTMXKh9BxxeTYkG95eYENAa51ZMiT/41HDoH34bQAAACsBn9d0Qr8AAATVzjrEKpJCaW0ALY5d7RgVn5mkWPyeiAVltDiaKnAYHdUwAAAAHwGf2WpCvwAADJOlzmBV13OdE3BpKceyrcL8bw2l78AAAAA9QZveSahBbJlMCGf//p4QAAAIab+JyNUDWam51mgARcZt4Y3/GngSqlP0upvy/8PpM44K1fXUc+G05TIx4QAAAB1Bn/xFFSwv/wAACS+cxvVjVu3GYbfwQzIgjikbPgAAADABnht0Qr8AAAyP9aaXqG8aqRMmlAmW2RyUCQuu8AxCAD5HEfKzIZdSfW9PF1pyypkAAAATAZ4dakK/AAAMk6XOYUcxDK9h3QAAAG1BmgJJqEFsmUwIX//+jLAAABbcZkAYxUtLlh3Y2gQ6S52uckutikHvgs1IPbHiV7gvc/RZ4c9d3KsxxypM6uz6P2AA9pQhwbXlmruGr70bducg2M4vrUUZs0PemGV3YAAAPCu4+VnngKtzadLwAAAAIkGeIEUVLDP/AAAGwYcjdyB40WNn+ap7hWjEao3/1vzeVU0AAAAeAZ5fdEK/AAAMj/Wml54d6fS1diKWOptgUd5gbqmAAAAAFQGeQWpCvwAADJOlzmG87bQ0xFejqwAAAEdBmkRJqEFsmUwUTDf//qeEAAAFzy4PcAtX+PZdR6Gl9axTvu8zrr0RPRm/FFf9wJHKUVvxzyDmFFMx8dOwKnqIjvFOEUwyXwAAABkBnmNqQr8AAAyVhmoJNlCwFupao4FZ2JuAAAAAvkGaZknhClJlMFLDP/6eEAAAFqdavR2AJ8O6W2REWK/Aib0f1p+iQtmh/I/y7Rbrczc7LxFSR+L/4vmAv6mZr6Hu4QG3QpV+x496lrghXaFc0NOhvUxCuLglIZIl4uH8tdrJr5YtS7L5m6xCjSCHeKeXp3veTSo0uUfEK0B/ew5OA5NffnfV0Uip+RU1BQJ5xhFIWpVGWRRRgOXc6Xtp4f/8XVeFpym8nvdsKwMGMjjZ/2VAqd58MAB0uzoLJzAAAAAuAZ6FakK/AAADAcU0Hgp9O+HFaE0t0AFw58fEV12KnlRpZOQfE/g6kMjnwaf90QAAAJlBmopJ4Q6JlMCGf/6eEAAACHM0fkPZDGOA5TmcClc4cvwYAON7ZdfReO1JTLuBkE9ATJx7IZXhlmXTl+kHTZVfu4E+o0e4C9mSOe0scrrAKmmlBx3F0uQEOghBZcIBWOSOfJmOnPcwvPbQddn3Xdobcb/IwY0VX9PXX8Wk0/LnGS2j2ySogYFtWYWCHWg8vnI4WQmHr4SZqWAAAAAmQZ6oRRU8M/8AAAMA8xX0NJcCP3kLnhNNNgJvr3j5a3qSVUXHWBEAAAAXAZ7HdEK/AAADAbn+lXbEVi0bFttUGLAAAAAdAZ7JakK/AAADAcVklW+fY+3nEgeOzA7npd+Ej9UAAACDQZrOSahBaJlMCGf//p4QAAAWskm/gD5WrElXcjrY6eGFj7yE8Vfcbhg/eEvh1WM07CiTWTIDlWR9LB8ccVwtpb03o1AC5MEYdYac8xxsa2awPDEmicVqSHTZaE6QL2pMWCnp956oPf3A3b3mgGyIUExdpN1ri2+xtBXOicWMMFtmZ8EAAAAzQZ7sRREsM/8AAAMCjqG51eaAE1T2L9OOYzvYezTrwtMBN1oZYrJRLhXAPpNkuWi2Q+wJAAAAHwGfC3RCvwAABLfEKZjPOe6NW1PsiTYsE2CbdtAYAl8AAAAhAZ8NakK/AAADAKg0+zdNkt9GHYIJf5a/8U9dWt1fxB0wAAAAlkGbEkmoQWyZTAh3//6plgAAAwLuL2rYBMW0D86yS6+e4vwP4FtC7g0VsrVv13nr5c8RdIXKcIaF/DM2/Y55pgz1KfJzwsaD11MffokU5nQR9F4wgB7nfnIFyN474zG/hRNpKpCQS8dqjgcJvCzfFr17epf9rJKY3HSS+efAopjJZLRHc+/FAGkRL08IUu55d6Rs/aK8gAAAADhBnzBFFSwz/wAAAwKOobGb6oobXKZ/hD1YKfBFiTswY4JvIoo7Zb489neAASWPsU6Q+Nu2Gd1FvwAAADIBn090Qr8AAAS10Fkl/eDJJbBZPT5Ni5VlmDrQAlq3Uolw8Pc8ETMzlCSbOOjjSN8NwAAAAB0Bn1FqQr8AAAMBunS5zCh49wTsHAULUc2l2Pt8FwAAANJBm1ZJqEFsmUwIb//+p4QAAAXPKtb8BQoBMVODdgMqCaDb6T9JHYfYevT+6zPWoBdMxzjKHgDisMrSKx6wiaDsVS7JeGQkmjj03NU+Tr9hbatf/EMqAHKIM9V0uaWRlhtyyHoeYWckdN4+MJTqj5AUMtty14F7tRPIft/Nr1drSCUa74G4nr3+mahwBx52Osw0XbVRMlLk9idvjG66MFwvSJgnAtVRw60gyAAW3jYkMTorO5m4M6qpnFZM+e21DPV78dfGW+R7w+CAp71yAjM66X0AAABEQZ90RRUsL/8AAAMDc4ZnBquITS7GTNbs3FckSPTh/XidAGVhfCwAE3lSAb1nWK0S0+8VQT8LiAkGWA0d4UV/zeptNoUAAAA2AZ+TdEK/AAAEt8Poo1Sq/iqJFf8v9IGGJskADaJHo0+GpLrKS191OOdtClq9kf1mFnOjrMtpAAAALgGflWpCvwAABLdfefgzWKltfxC8fubP0+Q2eiRLf00etvpr+taIioosy+qp5YAAAAAXQZuaSahBbJlMCGf//p4QAAADAAADAz4AAAA8QZ+4RRUsM/8AAAMCdUSEsoB+8dTGjPLTqmJdOept/KCgBc/aaUWOtqy64H2swRKi82WiG/pKKJspfSPnAAAAGwGf13RCvwAABJXQ10gTa9sHP1V1Z88oXQoqoAAAACABn9lqQr8AAASXX+cwKszwktY7019jsXexNVjBDmRVQAAAAIlBm95JqEFsmUwIZ//+nhAAABbHHIVfghr+9SfLnZsLZkqKV8+HoluAoGEeCvbdwi10AkBNYfmKUWW5aAsCE4WX2UY6xRyZrrMLUNXroQQlCbxOaNEci+NhmTWnklP6w0BgX2YMr9SGJqyV1Fjgdw2vFyVRjmu6NKFcsHS1wB38lpwIDOY5i3uwaQAAACJBn/xFFSwz/wAAAwKPAVLSXLSfV68clrYOfVf0N848SaDwAAAAEAGeG3RCvwAABJXQcRXQBd0AAAAcAZ4dakK/AAAEt13Lxl7p9wrtY3ph+KkAUIrZgQAAAJZBmgJJqEFsmUwIZ//+nhAAABanXDduQFCq8sF8NT6SBtcH3uFdvOeeaGxpcCMa0zWNtfMf4bIzAVEXd+qDtBBcg4uPS35roDwJSKCbSpp1PzdrI9YZlBYYMqF29yLazbcz/kv+ULwCKHFojZ9XpPqfCnxzapnoTKY5Ivsx0BvpaehR1KnObYZQz34P6fUtOgOBSNGO+5wAAAAhQZ4gRRUsM/8AAAMCfU1QR9kFpL+V33ziDkEc4akSYFdxAAAAEAGeX3RCvwAABJXQcRXQBdwAAAA5AZ5BakK/AAAEl1/sr0dqq3L+fOgi+w2e4C//+r8kMQylAAdmeX9r7WdnGsX7At1QkHWDg8mK/m/BAAAAvkGaRkmoQWyZTAhn//6eEAAAFsLeVMaOAzd/NX73+4tedsqeYlUgTTe5KvkP6hnqfd16DGv8ExDpu+h1dx9a1u81U0MfuNIUbymx0jntHxC/9tU7gCu6qZWN+MYFVwz3vTysDyjXNpDyxgqK1uUARNlnowOLx8aa0+BmXjajOU/5jxsqz8twBeuywWaqN7O9P/WmeZ5fSx5Y3XJq/+4wmKssCfFwoskao+VTGf/nKjCnyxtImdI5FZ4t2fTaiYEAAABCQZ5kRRUsM/8AAAMCjiYr3DXh+UGKQzh1lh0tERK0z/xB+xZfsP/5RpZzZd93d9pUnrxyACabSHIdx++BNShGFUtgAAAALAGeg3RCvwAABLe/ZAP3OFoW6Kx3aNqjxFAMIe5F3koASmF2DelcrfMAAwuAAAAALQGehWpCvwAABLddy/7W32SSZADH+FvAZ1EEALSNFS5tbhN9RzwkjYEIEZOPSQAAAKpBmopJqEFsmUwIb//+p4QAAAXVDy7k6A4f5WMC5w5+Q/WUARCI7SmaVgCanhSprhqlUEUW7/5JY7x8ufguoIrzwYcjG2Gk55F03J9nB6zWx5o9Eh0/ugpTxtj4430kwg6Qx5AR/ChXIAeuDA/S8T0XIhsLxadjGHoennblur6nz9m8JWTlz89TKDqICq5aJ4zIuvpA/sjV6xOLKx5roTiGM/Sebrd8GYHFqAAAACVBnqhFFSwz/wAAAwKOoL+frZb57BfpQRCaWZ7VlgkM9rM3Qk9JAAAAMQGex3RCvwAABJXQ3FXgJPS3ZETT1yB7Pqim4TfWy5cwk/3JLvTQ/eX71EPSzIjnuqAAAAAWAZ7JakK/AAADAdBlIelH8KeMWMo/8QAAABxBms5JqEFsmUwIZ//+nhAAAAMDN1mzyIlkxQKTAAAAOUGe7EUVLDP/AAADAo2i+nl5wiYXydpjm0sXSOc34uU909IjzSgqzQK3hGHABaO4cokm8t8cm/WuhQAAABsBnwt0Qr8AAAS3xKogulnMx+I1lem9xigO6mkAAAAaAZ8NakK/AAAEtkfObJOMLyuiNtGqZ9h+mh4AAACpQZsSSahBbJlMCGf//p4QAAAWxsI+RWWAFHkWoRAWktI+lXK0m0nHSqI1MUpE3ApQgyAHWy5qo1s09vfAKY3aPPQQIb6U5ryTDQbreQzx4PrTByucQTb1meXCSSIc2a9eM4F6UaKPywhNtQZM+ZUHTFN0e8RO4avjmyVPk0ttFvoz+enhc5Nq1BT4ltpXyErsOgneaWVD8rtBLP52z7ZJHHWOwfckPYakoAAAAENBnzBFFSwv/wAAAwOJ713rIwDJ5367hZ/S7DefJXWaPvKdCn2I2T4JACE2QBOjWXh1ppDQEM+beVep/l86WGjEjlTBAAAALAGfT3RCvwAABNXNFwVZuUEKjbH5ZsuTgYK+yMABKl/NlpSo/vnyTG+VJeqAAAAAHwGfUWpCvwAAAwCstOIXKbCj8nnuVdm4kFHsYlHxcu4AAACRQZtWSahBbJlMCGf//p4QAAAWH1ZevsdTQEAq1Di2KncVV2GMbNw0iBcicCR1B9+5NPl49ilgOSy1EUrbP0JQYcTywb23/Y0LeAavFtvnp0O3XVg+TbI/DJ9b2yYItiXPJsr9r/NP2ROQiIBekWeadcfRNGs74xOXn8jZ1yCgmT0CufOJ79ul7EIvMhqbvhXfMQAAAC9Bn3RFFSwv/wAAAwFPgKydO5CtqBwer2FgO/yReVaYr4lG11qp0pplebTyJP4EjQAAACEBn5N0Qr8AAAMBxCFEtWZ9UP6v5Jk7HKJoYbvW9ayCv3UAAAAaAZ+VakK/AAADAcUDLYsqd0rIGlma+VpF6CAAAACzQZuaSahBbJlMCF///oywAAAW1lbTMIZoB8rUEqSQ5XybZlnepXMIF8XFBRPvxehK1OncAWzLzQVXZC0DcZADEMjsVmHN7O8oSPq7eLcC5KHa1Ls6SDSCwxLyQOYcIUQvm9Ur++py4n0J4xfR9E8iXpWULQqr3sJkFwxFxV0jEq0+oHN1TSLu52PuBFZpPcKUSnsoO4vRcr/BeN46CA6ukh5k/bya5PYNlrsJ4zXS9IPvJ2AAAABeQZ+4RRUsL/8AAAMDc4ZnBm5mV51wlVEcuWmAzBYAJps4w+TNK7p3XNEbmzexaceDqSKnM6U2sW3hyhUHUtKdV2sCbUmEvyz4ACP9CxClQLTc1aaUM8/3NYptg6jK2QAAACgBn9d0Qr8AAAS10GR189/kKYRPUpVIgu56vU7BaIqIlIgz1GlWu38IAAAAKgGf2WpCvwAAAwHFfZdtPea1GrMs3A6K/RPSzZLL8X47vMENVlpIvbPBgQAAAH1Bm91JqEFsmUwId//+qZYAAAMC7WidPYc6AJx42qEOEx7a6kxxxRuoUvPJpHOA7NkjveSDAhkby9T0L07zIi4e6pp7h8W31V8I0rLnDKYMoHwwDG7ga6PkiHnl/kwPcN/PDVa5YdmB+cpqRfzWQp/XIGAg5oa4vSgXoG13zQAAADlBn/tFFSwv/wAAAwN0pnKisd8TGRcVeZ1d2Owjk5HECkl+3PlFw5ts4ANTkM56uiaKGzIJX98AYEAAAAArAZ4cakK/AAAEtSQN6l+KrHFEa472gBqcylJ5uK9mYQWcRvH3HpI43VG+4QAAABdBmgFJqEFsmUwIZ//+nhAAAAMAAAMDPwAAABhBnj9FFSwz/wAAAwJ9TUeTMHQ4g0TQ+aEAAAASAZ5edEK/AAADAAiroVe158pJAAAAEgGeQGpCvwAAAwAIrr93y+vKSAAAAJhBmkVJqEFsmUwId//+qZYAAAMC7a+7OgEEH76p4kYWieu9dV0/hqi5QxfSUfa8c7xjQBxwhbjNBOfvDFDRgY/e4Isr6cAg1HmPg88260gGIXb3GtOegMvzCcBCJhoCUzrFSitEZ0WztPodcLWZSMug6HlaReZlwNuLEIvSsNjYG4DgWHpumWaF/9bOW39jY1GtDY3UfDI7gQAAACFBnmNFFSwz/wAAAwKOoSWkKM9rxeDwx0MQBEZyVSjpPSUAAAAbAZ6CdEK/AAAEt8QpnTx+uBje23txw1P0CeC4AAAAJwGehGpCvwAAAwA+voqRjanzTEz8c8DdtgACVIlp3nPfVLoyzdlJeAAAAERBmolJqEFsmUwIZ//+nhAAAAhs/ZeRdWy2e1LukPLOx+b6BdfzKAgdfi/7gxbEKkxYv2jxa9CBSOJdYdDGJUbWC7JdwQAAADhBnqdFFSwz/wAAAwJ9TUeTVfw2Zie8ltIAS0k67jFnGRIynq5kKpfbelQFr7E8glaCcBusJDSqYAAAAB4BnsZ0Qr8AAAMArKYOIliOhzVojl52TT8bYKMtymEAAAAgAZ7IakK/AAADAcWvRlwkBKHJ0LoZ6HMN4N9B3N9kMCAAAABDQZrNSahBbJlMCHf//qmWAAADARhfbQATo0MkR1oyi6L8VlaBXnCSO+k/Hqe1165HVGrcD4qeV62mxjonc/zoBD8PmQAAADJBnutFFSwz/wAAAwKOjFKybjqXn8ALeGDriffQF0r+PumFPGf31qbVMZ47FI1C4B58WQAAABUBnwp0Qr8AAAS10HESwrceURLRibkAAAAcAZ8MakK/AAAEtkcpRjXsX6axiPUZNFj3eLjguQAAABpBmxFJqEFsmUwId//+qZYAAAMC3BOtVAAZUAAAABVBny9FFSwz/wAAAwDtsExFJVx8GfAAAAAfAZ9OdEK/AAADAD68fM7VUdtI0Lmh+jxlVnFnjBxJiwAAAA8Bn1BqQr8AAAMAAAMArYAAAACNQZtVSahBbJlMCGf//p4QAAAWq2TsygITBjcqIgKAodN+Qs+H33mdYrkAdMpdwM+oGkZrdLX1VY4Tx9XA5GVefM7v25kPjnq7bVMs5rmNFDTiJDZ4qq3FkgMAejlGLVjuVdlcvYHk2D/zTC9C4q2x/ZihuBpwB08qPYmq8+9H48UQqtGijVGTFPzgsXegAAAAMUGfc0UVLC//AAADA3QZ7+7uq0ABLmfR7ZNkacEHaY8/6XgRZwE4Oq5FcuQrG3RusCEAAAAcAZ+SdEK/AAAEt8SqxWwvaOOvhmBIkNPjb4B9wQAAAB0Bn5RqQr8AAAMB0AH/rAy5avWZDgj2Z7LMJV0pgQAAADtBm5lJqEFsmUwIb//+p4QAAAXQQzUjFQAnKcXLipfMDjSxMG9RUwOw4Gy5mznx29vkMuh1ilO7EfIz4AAAACxBn7dFFSwz/wAAAwKPAZ66FabaLH9QAGrMTx40xxUPzJFrK145LpjxpJNruAAAAB0Bn9Z0Qr8AAAMBxOAVdNqIw18Qp7IB7GyN0dUpgQAAAB4Bn9hqQr8AAAS3X3f/pE4XqBDSoZwXMhdoGQlNkpgAAACDQZvdSahBbJlMCGf//p4QAAAWtW5AN4BNZ7abNhX+ymfLRg0oyBSnHKrPb7BQxSamL+aCuPUIIQvxj8QTitTtWQFi2aPoPkOyOdYvy5cQGypYbrvfY2a6WnP6dpT5h9hCF1d7NhH64gfZF9HfxYO1LA3X/6HcsvvxanUdUBxoJTjjSwoAAABAQZ/7RRUsL/8AAAMDc4ZnCt1/WVZ0Sx7EjDzDQufOJ8q6VGvHKOhu9QZZPe3ZYAiQ+KspHCkcOza/Pu9D0k1gPwAAAC4Bnhp0Qr8AAAS3w/gWHYkDbZfYx2NUBoAolFDFryiuyab2kbUhQm1+eT6mdvQQAAAAGgGeHGpCvwAABLZHCY87AEnJo+Aq51VjwlB5AAAApUGaAUmoQWyZTAh3//6plgAAAwLvrsfr/0AOjBbmPI5Cgma2e8st+NAf0aJ5V6L+REmA3n0w4AIcoi10R/4Fcvq/t5Jqtm1H+1LdRN9X6a6hKITTjcfwlG4LNUGlfsQNhvgfLSd1SSvw7U7947Njuslv1bjwnhZWbAB92CLT8eRj22XraPcA8nrHrjzdJMqNNHZ/p3fMu7fRpDR2y16or/+QtWFFgQAAAFNBnj9FFSwz/wAAAwKPK2ZyDgd3KSYK1bAq9gAcXldOJCjVGdwAVPqORTz671fPsidmmpnoDrQHSJX5YhE1jry7L9E4Ep30ZPfG0UjJosHq9Cf6CAAAADsBnl50Qr8AAAS1JA3r6f/1WWAKgBHglGQATA/xNhaVFVZIj047WolNPPWd8+ntCLAIqoIJJJwwt97ywQAAAEQBnkBqQr8AAAS3X3f6FXZ6bKm0TwioAR4JUXDDehe3iXNwYBBgnlaVXK+zrOzN4aPE+bTL4kZNoBFo/55Nu3yX9J+GwAAAAM5BmkVJqEFsmUwIZ//+nhAAABa6e3IDXAQUHdz0wueBvRoTArF8Two54cbrSHj2Zd1hDKlUOiywpCyP+5g7w/2EVAcLrT/K/H67XLA7oRxIyF7eoIZHp/jZZKuEePTLnkeyrKNRSZV/W9lf75Ovuoa5pzfM4qrzGJvHuOZ8VbWvMjbSmmMjfR2ANA1KRoxjj1FX0WSBgLGa4WVRZjAPGEVoNE7ppzsc/qiSf92FjMFpPfCpHflVWgsS/b4L54Eo2baWQf213kZbwwPa4uTXzQAAADVBnmNFFSwz/wAAAwKOoL+AEbGea8UVMeX6e4O9UpjOpMYNwAAg/fjMIhFlEJJ9K7OM9eGgsQAAACsBnoJ0Qr8AAAS1HT0ILvZSYzBSzP0mYyUNNm2fyVgZleOIOdmnT/uBEvpAAAAAFwGehGpCvwAAAwAX50uxrBmyyzuFp9ysAAAAZEGaiUmoQWyZTAhn//6eEAAAFqd6LXiWa9UUlAPgnMmzF/bCdWvKwxepno4ns8LekpRId50woce+eTwn4xioSXUjS1SH0a4gmZ4bc+5ZsWkb1PTMm9MfMwLZXoCFpVOYb134FBEAAAAyQZ6nRRUsL/8AAAMDdBf+PCYxGMiQ9xa8WuqdQIwn2/Zo540MJIbXwANvLbZl0XZZT/AAAAAgAZ7GdEK/AAAEr9/sn9ZIEFl8obL5FzYnmb75D93+J2EAAAAbAZ7IakK/AAAEuDKfYEhKPQDTgJWRrQCaspmQAAAAdUGazUmoQWyZTAhn//6eEAAAFsQ/IjSYtewmvafCNDe0T3ZlySy7taSf0hqf+57HitoXBAJ/sJ390mV7JoHCXgrMhchqjwRNIp/G88AMwDgxi35nOiAAgEbb+jQu9MBKCg0//h/cE2Z6iKODLW60VAe8P0SNHQAAACBBnutFFSwz/wAAAwJ8oeR4ymP8WSsZrkMmvoMJLfQUNwAAABwBnwp0Qr8AAASV0NxWxiydCivEqUpHTfISaFdxAAAADwGfDGpCvwAAAwAAAwCtgQAAAK1BmxFJqEFsmUwIZ//+nhAAABbDCwVs8M+7AZb+4H4GympYoCHvxlkBDRMq5xwZx129Ryzh5iVOOX6STAY8hNHxFgeT+VB0oHoW8xCA66qK0y7jBuZLzHBtcXWXNLRaJfVqRJnb/dasO9li4aOfMJGSoDO6mTS45EuNGw96HwsEYKNO2UuAazTBDW+SuXztMljLS5WW6cdCzW29+JvzgMY6FqZYnxRN2piZDYoZzAAAACxBny9FFSwz/wAAAwKO+TuDc+In/DmpztIkG3PKet0Kk66CM/GsS34BgeAbgAAAACgBn050Qr8AAAS3wHaBPIAOcK3sEnKZJpv/auXYqCRvGFj7LJEq3KmBAAAAIwGfUGpCvwAABJdf5zAqyu5oeLPwfEvXpcgbICJGGt52KS7gAAAAuEGbVUmoQWyZTAhn//6eEAAAFqthBsAsm77U1oMzCum5i6Wl0Y6EW/Mrec0B5eCuJ6+senPlSlv3CaNonhjNbxToaxT20zSAlouM4MOIFud8SYj3cqNNcuhZ5YSeduWjp3hXLkJIC0HamZNTu+bQPXtcPcc5Mc5XaBY9BzHmy8taQ2E/wtpeY6XuSpEArfbQ4dubJf36KGeqlihJfss5MkC163JTk8XyA46uKGlbXfkck+Bc3wAwGrgAAABWQZ9zRRUsL/8AAAMDcuIPTBp0AFNmxjU0yuG4KGs87lRHb984e/kyG5KhC9kAMnYOyqBcHomQnXoRcbvKph1FAi4u8rFkZhdT1Qb7sZMHqWSSHK6+SmEAAAA9AZ+SdEK/AAAEtc2NiBItRG88HRNlooCAFqtrg83TO9+zftT9Gud61mM8MqErMCNYBV3x3xi7lHyDt92kgQAAAB4Bn5RqQr8AAAS3XcvGXum/nWRiOMByZYDkrTF2TAkAAACVQZuZSahBbJlMCGf//p4QAAAWq0NjABtN/jABvc9bYQGtJnGQILrVEh9el+GzhS2hv8ZqleP/gpnJ12kCu/PgqrpZeucKjCaCA8bOz3FsiRczzrHk8DIHrLpADGT9wSx0EqbK6cuTOhztq5QR0xTclhbNLg0S1xYPCuqY7ZUc0gJ+NrvT6fyWXxMdqmL2cdSVxrrvbvoAAABRQZ+3RRUsM/8AAAMCjwXZAAcLuQdMb8plahMNhBNtR4yVWAzIFeijjWHr9Sivaly0DY0tsmZYu+ptBQioqCd1C+klxbis3AqOnzdVl794qIwIAAAAJgGf1nRCvwAAAwCsSF6Gg2zOTVQWzF9nwLNKEUSEOptYz94Q7eWBAAAAMgGf2GpCvwAABLddy8Ze6b+dZGI4zlzy8KBAGuk/vrjkANjNx7JRJNXHgM1z9BFetewIAAAAxUGb3UmoQWyZTAhn//6eEAAAFqtdYgChtC8NR/wjM0zWk2z6O4xzB4DkIzx1MAz/LsvVhlZzkR0XIsNmCKFg2qJUbATlgZwLB1eVF9ZBFLN0MEpeeSWejlsdIw5IHz07H6Ah7F2NHpNYZ3ZuCyz75kW0j4rUsmQpBjJH1AF8/ijlYmrKeN7FJlQrtYQUy/sfajouwnlx94puoAueTCHxakeaSPSzjnEbkAGj+U7JfQCNrh2NVULpoGlTGTi7858xWb+3BQegAAAAIEGf+0UVLDP/AAADAo8BPKDmEuVeKJQ7mDW4qhj8jbMDAAAADwGeGnRCvwAAAwAAAwCtgAAAACcBnhxqQr8AAAS2Qnj/gl9ar/10rqEdDuaGnG+Pg4U96KW8na4QlZ8AAACLQZoBSahBbJlMCGf//p4QAAAWq1wUa6ySAoYwdlC/Bj8vtGL5m5D6m8317V8yEeluNKXlHEFzGDwlWQSeeuSj1J/qOu5XBo/6h020rXkqmVr2Q/Fxem2hi7eOq+tV7b43xdu96nbfeTqbl7IgVKqcOgc3SXBy/KrgHDcKFNW3hSHhjXFVRs1XUuBRpQAAAEtBnj9FFSwv/wAAAwN0pkPHuFdXgaADi8r4xbUwiiV0Q0dtEiGSt/FymlMBx5Ya3duljfwYmsSqYZaWvl4j9x9n6owLKPuIq4bstCAAAAAyAZ5edEK/AAADAKyWVQryOMCAfdY80HKAC6aFLSGXtxOowFcNRnz+R4Gd2zpKLdYW8sEAAAAuAZ5AakK/AAAEt10EoK14QZiNoAyoCqFcYMyMwlYe3x4ZcgA/jf8GWSu7furwgAAAAKtBmkVJqEFsmUwIZ//+nhAAABarH3SADlQDz/lgu8yncRBCaeH5qwUELrSL2x1JsnslR4FSjIkBvIhMCZElyPswugxyHR7kBhOparjDFtcsKvLXmQRXtr/2LoIYKGtNE36lJXNYaOmNVKbLO/Bsmkfebz+FL4HjfbrX5qUjm5HRNQwbXmlaeeIrPZjon+6orZVRzo6GHtmhZ7lgD9j22mdNOgAU66aigQ4zilsAAAAqQZ5jRRUsL/8AAAMDc/m9NQy5bFz1C/6CCrz9Xnh1f8JeJDnJc0eLEL5ZAAAAGAGegnRCvwAABLfBkKKZWWHPd26XH78f4AAAACgBnoRqQr8AAAS3XcvIt8tWU2PpYY4L4o8Dq0Lqxv4+XCV0M6/h3sCAAAAAu0GaiUmoQWyZTAhn//6eEAAAFqfy7ZRfQxBFPp36dCNC02swcP0HFXHwyOPidaPGKZ2QK1H7zs5F0DhpgNkhrQ3g2kRuISdxQ9+uu5YA0FNzG3IBaE+i9HHdvII7GqWVKnsTquW1DCZvJePffVxA6LdeQbeTmB4lstveGnWH0FCvWwXnsjlSrpw6uX4VBoOMvH4i1LCq/XQBiuwQYRrc1jxInL6uFapgMwqDRG57S14wCrNk/xsc2CLLtoEAAAAmQZ6nRRUsL/8AAAkUNWj85R6fVNkToLHomA/ultF9AQrW1BQ89gQAAAARAZ7GdEK/AAAMj/T4LoTGSFkAAAA4AZ7IakK/AAAMk6UZNDXHsaPTIAai01wcigpHXuwveAaVQe7Rp0e2rRN9YlH1Hbpy1+CebdngtSMAAADIQZrNSahBbJlMCGf//p4QAAA7nseCuGkEHljK8qI6uAHCorSHVP44zOgMn7DB4c376M3jPATpyYweG8cS9Zezd9eNLuOlJeQcVeFhvVD9U0QoDRdSG8mQwS10hHDAZEuq4vKTW7rhaidmBH45m3RMnp/QtgTKUnCcNf/b7LWeOatUtHV+LnTodm6LNA7lYpRJRZx+SHaUBDpalJLsHROp3h0GlUTJsl/xk4GnxUDlZGeDCThAAAADAKZd5os/a/Kt3fmrb/CKOKkAAAA6QZ7rRRUsL/8AAAks60kmGkjdMYJgMgwAuttpKQdKjujdxLiEbpefDclU4lf1o19V9REDFtveowHmBQAAAFIBnwp0Qr8AAAyP9KAOA4DVOj2oMGeUy58cPbloFhzU2YwqTOoALokevZyTUm02vLsIvm+kQ4mRaexlLdlU58e6EoZ+nZy2O80PZGEU5LvG9KDxAAAAGAGfDGpCvwAABJdf50OJyyOVrWqCX5iHXQAAANJBmxFJqEFsmUwIZ//+nhAAABYbIkJ8Ag5tiuEWaUjWbNvibnv7gzB+96uvxRbvPF+LoUaLY7NePX5n8W/+C7YRwf6MCiGf5hoeG2BgMZwyXhajlVoW7gSEW+CuQOALPk9JJDqja+LuRh/LUDGXFthv7FObY2FOd/LCdQVnat7QOU9JF28DQuDAm3JUNRnW30rBzWndTX29AdCcAFMDX7G2jN0fzc2XNkcN7yDVa7syP/dlsfUnGec0ibiSsxVnfJA/ZG5pgCEydLO2toMeLfFmUYAAAAAxQZ8vRRUsM/8AAAMCeu+pB5lQ5G4u9JR25vyUitEmJkTtwsIbB5Vy1dhs5tOdOOXZQAAAABsBn050Qr8AAASXxCmnuoUfZFOD3Gj4EeqZ8V8AAAAmAZ9QakK/AAAEk0UucqtqprO0aRw93+pUHbVsqsZF5qmlsemzMHgAAACWQZtVSahBbJlMCGf//p4QAAAWGI+Z1dPnJY8uKNyxbeeZdY98mGlv+LxrCMrjZIa4Ds70bJ47s4JxlnsRMEcOLdQ9gVLcC3C4Ey/kJw0V1X5RkX+n42tF+s2R7pX++MZdyujFyZiftY/Z+GfA6NTdqQKR8I3RMnFce64mDRfFPEA7cukzrYoiNdRdbgdEpiywZahGQ0iAAAAALkGfc0UVLDP/AAADAnP8SqHl8Jgr9oJRp9tax32A0oW7Ouo3poE4u09/wkmd+YEAAAAXAZ+SdEK/AAAEl8QpmODuJqLppUsMO6EAAAA5AZ+UakK/AAAEl1+QdrQBZh8s9/yofujEHTMiGSn71IJAB9Jf0/CEks3n277m3tjNVjx/DdIezurZAAAAiEGbmUmoQWyZTAhn//6eEAAAFjLVm7VsADnyjVWI/ZTh+bHJssBURhPm7L62xdUt2CgkAN07KqpAGnO7D40MgHncXsbHZuMudSXa7JdkM0fkLlJho5NT6yiH0p9gRfRUr4ZS7h6Rdj+ecd/WpDK2lJIIhVbqFHpjAJ0bgFj6q5kJ8tbtB8iT2IAAAAA0QZ+3RRUsM/8AAAMCfPk9lb+tpKUaOG6C/JMSNphQp65qV72pI5sN/c56pudvJaUYH3l2UAAAACQBn9Z0Qr8AAASOfaSggC23IOCP7nAzGhzCEi/bEOY8pfhk7y0AAAA+AZ/YakK/AAAElgLyEH4jeb3wjImfdaR2AhA5VPVKS9IVABsgNca7sDDjUvIZgtvEmuNQ86qBiZcYBbeaD9wAAACvQZvdSahBbJlMCF///oywAAAWRoQ7dffxJCAnUPjKeZ7xpDQkC+6/Ji7KoKQazqX1VBSSw3R4Xp594T+J2h7Dok/e1JYzLNvZ1gfSE/olKo4XHW+N4mybzGX4k6gMmQQp+JKrZ1jzjJ3QmoFwIxOqModLBcO8mBaUylD996+LaaKYp+TVTQXVD0jNp3LI0g1JHwZWPxb4ksMCtVUQAsifkwayqsNRHCDBa6DTYfy7FwAAAExBn/tFFSwv/wAAAwNfhjvZdPbLxG7ImHEu5a3yzxD8a4QA3XQAGlsUEaVfDEZSil7gqozBF2bODT4mbfyNcOMBtUK9NbyjrEmebhsDAAAALAGeGnRCvwAABJe/Y4nfNnkpA6EGqKKm/HRnHodPrm6qd5mihqfHj9L0o5JOAAAALQGeHGpCvwAABJZCePw+IgOFSFWQUKB0mFF5oUQjFMNBB5GlZsCOMioERUoYEQAAAKJBmgBJqEFsmUwIZ//+nhAAABYbEsHIBJDt1xdHXOYN+pwu8zc4ePrcc2U+yf1a8lEhTZduXNl4s+fBQ1jU+ypCqHEsNtRWUvqPmCEB0D3uPtGVWqBIVaVuCi8DSQY5RKp8szSbee61yBAcTsQcRiFmT88YhJlCwALrRQ2MMpwl/nfflWS3P0y6c2/tHn1L1ptlUpqRVuT37ji1nbC81zxwoMEAAABEQZ4+RRUsL/8AAAMDVmekJCSq8K7rTCiAwRSmNpra+N5HfZhe6dfvFUmrGawpY8AESQc7cTHXdIzY73cKdMfpx23qIYsAAAA1AZ5fakK/AAAMQ6QrD8oaG8+1NUlD/IHtoEFc6AEl34vUyoR2wF7gpJ3FoxtVLZTHrbVCfYsAAACDQZpESahBbJlMCGf//p4QAAAWN27atKFfUHACjn458dfouemdLdx+cFIOI95qy5Y5vaBdTzZytGefAUBxc4p9rK2zQWhACcghgYkcEgEMBhwVD8dVT1MQTLKdAezWjfZDM4zwnzoJL33cHDcNcBAr8jKgCCcUnxro2ajAzi0rV6iqb0AAAABTQZ5iRRUsL/8AAAjvnMTEDdLjku7Fd0ADamFMyt+qCHWKxseZW1tAUb/KL7MPo8/AFqelmtbKaNEEyaThNpUrG3j9ysjmd+x+Y07CfCAToM94YXEAAABDAZ6BdEK/AAAMP/TUZp/sV9d2eZZARg2MnA9L4lrIAJ1U4IljE1VCbbWpOD+0QVUr+4uG8l/PePTSZJDRVNA5ZPoP6wAAADQBnoNqQr8AAAxDpPNa09/EQIXScE/5+Wz3HD8DOUALF4inHdacx/CaYsCZjvcfNB9xihGAAAAAn0GaiEmoQWyZTAhn//6eEAAAFhrKDiAM4Sdaac+b8wug+DBtZutd/hDMa5scBn01oiHFNHuM6KM8OliOSIcZJsQUCQxDZXLH2Lc3r7Logxt/UY9R+i2rbcRBfG6P78Vak91YVNfc+WRqSc4Kxen+ysW0ly0VMK7A6KksH+H1B+u9R6OejJMAyCPYxILpBNQTA7ONfefqHkM80txugLOAgAAAAEpBnqZFFSwz/wAABpmHE5gpZhQTPPn+0zn+uW2E4dsh96XhLTb3QAC6JFqOCcDsfkc2XNRSkIFdo7tIpObi5OIrsVj3gLrppmuYDQAAADwBnsV0Qr8AAAw/9M+0VmNVetp8Ptv1dCXoxAmA3nuiKQAACupLWrTHDDyCdtUAiBvTEnjVKCptTyMjMWAAAAApAZ7HakK/AAAMQ6UZeZbGmWkHC/FxWcvsIEvxACzhSKwkrKqAJx73WUEAAACqQZrMSahBbJlMCGf//p4QAAAWPmWVP02LeAFgWHVGufYIz0kiop7zyuqlXlLFvvv5gET/4scad5fB4+8pvHZCeG+tNLFJrCJKi/bbcxJejOmkbT1cDef1RkGqxxrZkRrYNsVssJQTM/GJ3seifYLeIdHsonMsm6HKmC8KQfrKqtTsHKw6x4UQg8TdjZOTDguifZssRe5UuEP+RmJ5/SJxVRfxDWJNO9ngjFgAAABNQZ7qRRUsM/8AAAaZhxMExW0B/oJsORaIcXidGsiXK39ILx+hklP/qCbHHbQvjZALuOakGqpQLyfYJTf7WzWEwNqyVQmSvZqHf+h+9UEAAAAeAZ8JdEK/AAAMP/TQUhp/PKwIdlvespgUPsNKTEErAAAATAGfC2pCvwAADEOlBqZOgTuryyIgeh7trI14AUG3fyGUFp3L6P9Us4NCHHu6xI82CIvwbin6TgBX1athnJkXkvKPVPDecwX0fBFmYsEAAACAQZsQSahBbJlMCF///oywAAAV0pEZh99ADpC3doiaEsys1zxKspb/3tmc0sqS6XeYmhaA9kzbocEmZ69M7Jf/aQfjQOI5G2CcEn8mfEhDdq0CmGIhrK+7Hgtt3TvguWo6rGqal3cQs6gJblzyfVu2ERwdQqOAKhDX80pYp7KAFoEAAAB5QZ8uRRUsM/8AAAaZhyI2a1CIJX+W/N8KxwDmwCE0phF6sH75sB7kKzPcK97Jx81JRuXl8S9n0mjUJQYr9exIsQXCdpIYiFbIwmrEMVWab+vPVYAob4OXdQtI2/5ZQagmL7UCXtuMlaTx7D04IBwq85bSOpOX5YAtgAAAACsBn010Qr8AAAw/9Zhcqvk3wHF09llKvdyQ0zEEb9vXoEqN4xe2gG684QDAAAAAPAGfT2pCvwAADEOlwtZV+414ZHJ7jvb8hV9W1fARo1sm10dTQoHE55gAFiTE8dsMz+grjhKUNLlk1hpiwQAAAItBm1RJqEFsmUwIZ//+nhAAABWQVRjcAC2GF6dfp39XE/2W6B5KXAm1javBUA48IPB2jmuX/x3pBJIW77zegnpoNJDxH5GTdfE4AwOp98NXfr0qoDtS4P5SyHujFaYDhTrMQY64PlAdw5g2ZJxwF1lnuXMkHGbvRN4CFENJ+NRni/HPHvxX1hy0CJ6AAAAATEGfckUVLC//AAAI75zEp7THd9xH2SetX72CtxhFHOvvB3neNAC0jXpa5qbaI2T8FcWqMeM9NlRaamH34ppTvtOAA5F7rKb1TgNMeEAAAAA+AZ+RdEK/AAAMP/WX9dAGr4FyPQWj4PuKaCU0/TUGHuEdFoI17h4AIcbnjJ63RQbHuz0qbROPLK+IjHoMKxcAAAA6AZ+TakK/AAAMQ6XDYyqxtoAWxzQAvcKq/92KrdbiKik1gaxh9/tlqF46jFbZ7+2yUl5pq4JSCZgygQAAAF1Bm5hJqEFsmUwIV//+OEAAAFPRSVmFr8EhDsUEa5ibRAAIE4x5qafBuBY3FUdPnQ2j5QOB1RXCZQ/mJv940q3+4lxXNP/GaShf3PXQYu3T4IZ/OT8fLzOQ8NoeQ20AAABYQZ+2RRUsM/8AAAaZhyJhWeF0FielZoAPviwWaa95ChXwPJWKdWOoOz++eddL9xbWUIemc7p6FE03uyAtFOq0hr3GQ9LB5kS8CY+mNqZSk6MYn/sjfdEygAAAAE0Bn9V0Qr8AAAw/9Zhkls81v++ysm019kQAtVk5NkQSSBABZ0J9/4WKDL0EntKhXj7GLmefZtOot9f08qLgAR6RwhVRWxTwV0n43a5lQAAAADUBn9dqQr8AAAxDpcLL8UlUAJaSwaQ7leDP0AhbOo/TZz+TuSY3bZoSPjWLLlVO9SmdjyTKgQAAAChBm9lJqEFsmUwIV//+OEAAAFPlgDtP7zR1LOcOlxyxiAZqeuDoxMEPAAAaf21vb3YAAABsbXZoZAAAAAAAAAAAAAAAAAAAA+gAAGGoAAEAAAEAAAAAAAAAAAAAAAABAAAAAAAAAAAAAAAAAAAAAQAAAAAAAAAAAAAAAAAAQAAAAAAAAAAAAAAAAAAAAAAAAAAAAAAAAAAAAAAAAAIAABmpdHJhawAAAFx0a2hkAAAAAwAAAAAAAAAAAAAAAQAAAAAAAGGoAAAAAAAAAAAAAAAAAAAAAAABAAAAAAAAAAAAAAAAAAAAAQAAAAAAAAAAAAAAAAAAQAAAAAJYAAABkAAAAAAAJGVkdHMAAAAcZWxzdAAAAAAAAAABAABhqAAABAAAAQAAAAAZIW1kaWEAAAAgbWRoZAAAAAAAAAAAAAAAAAAAKAAAA+gAVcQAAAAAAC1oZGxyAAAAAAAAAAB2aWRlAAAAAAAAAAAAAAAAVmlkZW9IYW5kbGVyAAAAGMxtaW5mAAAAFHZtaGQAAAABAAAAAAAAAAAAAAAkZGluZgAAABxkcmVmAAAAAAAAAAEAAAAMdXJsIAAAAAEAABiMc3RibAAAALBzdHNkAAAAAAAAAAEAAACgYXZjMQAAAAAAAAABAAAAAAAAAAAAAAAAAAAAAAJYAZAASAAAAEgAAAAAAAAAARVMYXZjNjAuMzEuMTAyIGxpYngyNjQAAAAAAAAAAAAAABj//wAAADZhdmNDAWQAFv/hABlnZAAWrNlAmDPl4QAAAwABAAADACgPFi2WAQAGaOvjyyLA/fj4AAAAABRidHJ0AAAAAAAAMRUAADEVAAAAGHN0dHMAAAAAAAAAAQAAAfQAAAIAAAAAGHN0c3MAAAAAAAAAAgAAAAEAAAD7AAAPkGN0dHMAAAAAAAAB8AAAAAEAAAQAAAAAAQAACgAAAAABAAAEAAAAAAEAAAAAAAAAAQAAAgAAAAABAAAKAAAAAAEAAAQAAAAAAQAAAAAAAAABAAACAAAAAAEAAAoAAAAAAQAABAAAAAABAAAAAAAAAAEAAAIAAAAAAQAACgAAAAABAAAEAAAAAAEAAAAAAAAAAQAAAgAAAAABAAAKAAAAAAEAAAQAAAAAAQAAAAAAAAABAAACAAAAAAEAAAoAAAAAAQAABAAAAAABAAAAAAAAAAEAAAIAAAAAAQAACgAAAAABAAAEAAAAAAEAAAAAAAAAAQAAAgAAAAABAAAKAAAAAAEAAAQAAAAAAQAAAAAAAAABAAACAAAAAAEAAAoAAAAAAQAABAAAAAABAAAAAAAAAAEAAAIAAAAAAQAACgAAAAABAAAEAAAAAAEAAAAAAAAAAQAAAgAAAAABAAAKAAAAAAEAAAQAAAAAAQAAAAAAAAABAAACAAAAAAEAAAoAAAAAAQAABAAAAAABAAAAAAAAAAEAAAIAAAAAAQAACgAAAAABAAAEAAAAAAEAAAAAAAAAAQAAAgAAAAABAAAEAAAAAAEAAAoAAAAAAQAABAAAAAABAAAAAAAAAAEAAAIAAAAAAQAACgAAAAABAAAEAAAAAAEAAAAAAAAAAQAAAgAAAAABAAAKAAAAAAEAAAQAAAAAAQAAAAAAAAABAAACAAAAAAEAAAoAAAAAAQAABAAAAAABAAAAAAAAAAEAAAIAAAAAAQAACgAAAAABAAAEAAAAAAEAAAAAAAAAAQAAAgAAAAABAAAKAAAAAAEAAAQAAAAAAQAAAAAAAAABAAACAAAAAAEAAAoAAAAAAQAABAAAAAABAAAAAAAAAAEAAAIAAAAAAQAACgAAAAABAAAEAAAAAAEAAAAAAAAAAQAAAgAAAAABAAAKAAAAAAEAAAQAAAAAAQAAAAAAAAABAAACAAAAAAEAAAoAAAAAAQAABAAAAAABAAAAAAAAAAEAAAIAAAAAAQAACgAAAAABAAAEAAAAAAEAAAAAAAAAAQAAAgAAAAABAAAKAAAAAAEAAAQAAAAAAQAAAAAAAAABAAACAAAAAAEAAAoAAAAAAQAABAAAAAABAAAAAAAAAAEAAAIAAAAAAQAACgAAAAABAAAEAAAAAAEAAAAAAAAAAQAAAgAAAAABAAAKAAAAAAEAAAQAAAAAAQAAAAAAAAABAAACAAAAAAEAAAoAAAAAAQAABAAAAAABAAAAAAAAAAEAAAIAAAAAAQAACgAAAAABAAAEAAAAAAEAAAAAAAAAAQAAAgAAAAABAAAKAAAAAAEAAAQAAAAAAQAAAAAAAAABAAACAAAAAAEAAAoAAAAAAQAABAAAAAABAAAAAAAAAAEAAAIAAAAAAQAACgAAAAABAAAEAAAAAAEAAAAAAAAAAQAAAgAAAAABAAAKAAAAAAEAAAQAAAAAAQAAAAAAAAABAAACAAAAAAEAAAoAAAAAAQAABAAAAAABAAAAAAAAAAEAAAIAAAAAAQAACgAAAAABAAAEAAAAAAEAAAAAAAAAAQAAAgAAAAABAAAKAAAAAAEAAAQAAAAAAQAAAAAAAAABAAACAAAAAAEAAAoAAAAAAQAABAAAAAABAAAAAAAAAAEAAAIAAAAAAQAACgAAAAABAAAEAAAAAAEAAAAAAAAAAQAAAgAAAAABAAAKAAAAAAEAAAQAAAAAAQAAAAAAAAABAAACAAAAAAEAAAoAAAAAAQAABAAAAAABAAAAAAAAAAEAAAIAAAAAAQAACgAAAAABAAAEAAAAAAEAAAAAAAAAAQAAAgAAAAABAAAGAAAAAAEAAAIAAAAAAQAACgAAAAABAAAEAAAAAAEAAAAAAAAAAQAAAgAAAAABAAAKAAAAAAEAAAQAAAAAAQAAAAAAAAABAAACAAAAAAEAAAoAAAAAAQAABAAAAAABAAAAAAAAAAEAAAIAAAAAAQAACgAAAAABAAAEAAAAAAEAAAAAAAAAAQAAAgAAAAABAAAKAAAAAAEAAAQAAAAAAQAAAAAAAAABAAACAAAAAAEAAAoAAAAAAQAABAAAAAABAAAAAAAAAAEAAAIAAAAAAQAACgAAAAABAAAEAAAAAAEAAAAAAAAAAQAAAgAAAAABAAAKAAAAAAEAAAQAAAAAAQAAAAAAAAABAAACAAAAAAEAAAoAAAAAAQAABAAAAAABAAAAAAAAAAEAAAIAAAAAAQAACgAAAAABAAAEAAAAAAEAAAAAAAAAAQAAAgAAAAABAAAKAAAAAAEAAAQAAAAAAQAAAAAAAAABAAACAAAAAAEAAAoAAAAAAQAABAAAAAABAAAAAAAAAAEAAAIAAAAAAQAACgAAAAABAAAEAAAAAAEAAAAAAAAAAQAAAgAAAAABAAAIAAAAAAIAAAIAAAAAAQAACgAAAAABAAAEAAAAAAEAAAAAAAAAAQAAAgAAAAABAAAKAAAAAAEAAAQAAAAAAQAAAAAAAAABAAACAAAAAAEAAAoAAAAAAQAABAAAAAABAAAAAAAAAAEAAAIAAAAAAQAACgAAAAABAAAEAAAAAAEAAAAAAAAAAQAAAgAAAAABAAAKAAAAAAEAAAQAAAAAAQAAAAAAAAABAAACAAAAAAEAAAgAAAAAAgAAAgAAAAABAAAEAAAAAAEAAAoAAAAAAQAABAAAAAABAAAAAAAAAAEAAAIAAAAAAQAACgAAAAABAAAEAAAAAAEAAAAAAAAAAQAAAgAAAAABAAAKAAAAAAEAAAQAAAAAAQAAAAAAAAABAAACAAAAAAEAAAoAAAAAAQAABAAAAAABAAAAAAAAAAEAAAIAAAAAAQAABgAAAAABAAACAAAAAAEAAAoAAAAAAQAABAAAAAABAAAAAAAAAAEAAAIAAAAAAQAACgAAAAABAAAEAAAAAAEAAAAAAAAAAQAAAgAAAAABAAAKAAAAAAEAAAQAAAAAAQAAAAAAAAABAAACAAAAAAEAAAoAAAAAAQAABAAAAAABAAAAAAAAAAEAAAIAAAAAAQAACgAAAAABAAAEAAAAAAEAAAAAAAAAAQAAAgAAAAABAAAKAAAAAAEAAAQAAAAAAQAAAAAAAAABAAACAAAAAAEAAAoAAAAAAQAABAAAAAABAAAAAAAAAAEAAAIAAAAAAQAACgAAAAABAAAEAAAAAAEAAAAAAAAAAQAAAgAAAAABAAAKAAAAAAEAAAQAAAAAAQAAAAAAAAABAAACAAAAAAEAAAoAAAAAAQAABAAAAAABAAAAAAAAAAEAAAIAAAAAAQAACgAAAAABAAAEAAAAAAEAAAAAAAAAAQAAAgAAAAABAAAKAAAAAAEAAAQAAAAAAQAAAAAAAAABAAACAAAAAAEAAAYAAAAAAQAAAgAAAAABAAAGAAAAAAEAAAIAAAAAAQAACgAAAAABAAAEAAAAAAEAAAAAAAAAAQAAAgAAAAABAAAKAAAAAAEAAAQAAAAAAQAAAAAAAAABAAACAAAAAAEAAAoAAAAAAQAABAAAAAABAAAAAAAAAAEAAAIAAAAAAQAACgAAAAABAAAEAAAAAAEAAAAAAAAAAQAAAgAAAAABAAAKAAAAAAEAAAQAAAAAAQAAAAAAAAABAAACAAAAAAEAAAoAAAAAAQAABAAAAAABAAAAAAAAAAEAAAIAAAAAAQAACgAAAAABAAAEAAAAAAEAAAAAAAAAAQAAAgAAAAABAAAKAAAAAAEAAAQAAAAAAQAAAAAAAAABAAACAAAAAAEAAAoAAAAAAQAABAAAAAABAAAAAAAAAAEAAAIAAAAAAQAACgAAAAABAAAEAAAAAAEAAAAAAAAAAQAAAgAAAAABAAAKAAAAAAEAAAQAAAAAAQAAAAAAAAABAAACAAAAAAEAAAoAAAAAAQAABAAAAAABAAAAAAAAAAEAAAIAAAAAAQAACgAAAAABAAAEAAAAAAEAAAAAAAAAAQAAAgAAAAABAAAIAAAAAAIAAAIAAAAAAQAACgAAAAABAAAEAAAAAAEAAAAAAAAAAQAAAgAAAAABAAAKAAAAAAEAAAQAAAAAAQAAAAAAAAABAAACAAAAAAEAAAoAAAAAAQAABAAAAAABAAAAAAAAAAEAAAIAAAAAAQAACgAAAAABAAAEAAAAAAEAAAAAAAAAAQAAAgAAAAABAAAKAAAAAAEAAAQAAAAAAQAAAAAAAAABAAACAAAAAAEAAAoAAAAAAQAABAAAAAABAAAAAAAAAAEAAAIAAAAAAQAACgAAAAABAAAEAAAAAAEAAAAAAAAAAQAAAgAAAAABAAAKAAAAAAEAAAQAAAAAAQAAAAAAAAABAAACAAAAAAEAAAoAAAAAAQAABAAAAAABAAAAAAAAAAEAAAIAAAAAAQAACgAAAAABAAAEAAAAAAEAAAAAAAAAAQAAAgAAAAABAAAKAAAAAAEAAAQAAAAAAQAAAAAAAAABAAACAAAAAAEAAAoAAAAAAQAABAAAAAABAAAAAAAAAAEAAAIAAAAAAQAACgAAAAABAAAEAAAAAAEAAAAAAAAAAQAAAgAAAAABAAAKAAAAAAEAAAQAAAAAAQAAAAAAAAABAAACAAAAAAEAAAoAAAAAAQAABAAAAAABAAAAAAAAAAEAAAIAAAAAAQAACgAAAAABAAAEAAAAAAEAAAAAAAAAAQAAAgAAAAABAAAKAAAAAAEAAAQAAAAAAQAAAAAAAAABAAACAAAAAAEAAAoAAAAAAQAABAAAAAABAAAAAAAAAAEAAAIAAAAAAQAACgAAAAABAAAEAAAAAAEAAAAAAAAAAQAAAgAAAAABAAAKAAAAAAEAAAQAAAAAAQAAAAAAAAABAAACAAAAAAEAAAoAAAAAAQAABAAAAAABAAAAAAAAAAEAAAIAAAAAAQAACgAAAAABAAAEAAAAAAEAAAAAAAAAAQAAAgAAAAABAAAKAAAAAAEAAAQAAAAAAQAAAAAAAAABAAACAAAAAAEAAAoAAAAAAQAABAAAAAABAAAAAAAAAAEAAAIAAAAAAQAACAAAAAACAAACAAAAAAEAAAoAAAAAAQAABAAAAAABAAAAAAAAAAEAAAIAAAAAAQAACgAAAAABAAAEAAAAAAEAAAAAAAAAAQAAAgAAAAABAAAKAAAAAAEAAAQAAAAAAQAAAAAAAAABAAACAAAAAAEAAAoAAAAAAQAABAAAAAABAAAAAAAAAAEAAAIAAAAAAQAACgAAAAABAAAEAAAAAAEAAAAAAAAAAQAAAgAAAAABAAAKAAAAAAEAAAQAAAAAAQAAAAAAAAABAAACAAAAAAEAAAQAAAAAHHN0c2MAAAAAAAAAAQAAAAEAAAH0AAAAAQAAB+RzdHN6AAAAAAAAAAAAAAH0AAAEoQAAAMQAAAA9AAAAIQAAACMAAACUAAAAOAAAACcAAAAkAAAAhAAAADwAAAAgAAAAIAAAAHkAAAAqAAAAIQAAAB0AAAC/AAAAMgAAACIAAAAtAAAAmAAAAEkAAAAtAAAAIQAAAG8AAAAqAAAAIQAAABQAAAB4AAAAJwAAAC0AAAAYAAAAxgAAAC8AAAAgAAAAOwAAAPIAAABMAAAASQAAADMAAABdAAAAOQAAACAAAAAiAAAAVQAAACwAAAAfAAAAHwAAAJ8AAABsAAAAOQAAADgAAACEAAABKgAAAFAAAAAwAAAAQgAAAOYAAAA+AAAAOwAAAB8AAABbAAAAKQAAACEAAAAbAAAAnwAAAE8AAAA6AAAAMAAAANcAAABZAAAARwAAAFoAAAEDAAAAbAAAAEcAAABAAAAAywAAAFsAAABBAAAALwAAALAAAABIAAAANQAAACgAAABkAAAANAAAACUAAAAjAAAApAAAADQAAAA2AAAAJwAAAIgAAABOAAAALgAAAC4AAACSAAAAWAAAAD0AAAA4AAAApQAAAEYAAAA5AAAAIwAAAIcAAABUAAAAMgAAAC8AAAC8AAAAQQAAACUAAAAuAAAAgQAAADoAAAAoAAAAJgAAAHgAAAA0AAAAJAAAADMAAACWAAAAPwAAACUAAAA9AAAAtQAAAE8AAAA3AAAAOwAAAJQAAAAzAAAAKAAAADQAAACoAAAAQgAAACEAAAAwAAAAcAAAACwAAAAcAAAAMQAAANgAAABbAAAANAAAAEUAAADHAAAATgAAAC4AAAAvAAAAuAAAAGcAAAAzAAAARAAAAHAAAABAAAAALwAAADkAAACMAAAAQQAAACwAAAAzAAAAewAAADoAAAAjAAAAHgAAAKkAAABeAAAAKAAAAD0AAACQAAAAPAAAAFIAAABIAAAAMgAAACEAAACmAAAARQAAACUAAABNAAAAsAAAAGMAAAA9AAAANgAAAJYAAABJAAAAJwAAADIAAACOAAAARAAAACEAAAAtAAAAjwAAADIAAAAfAAAAJAAAAG4AAAAwAAAALwAAAC8AAACPAAAAKQAAABgAAAAfAAAAUAAAADoAAAAiAAAAHwAAAKkAAABYAAAAJgAAAEUAAACKAAAAMQAAADIAAAAaAAAAogAAAEAAAAAgAAAAHAAAAL0AAAAuAAAAIgAAACAAAACUAAAAOwAAACsAAACtAAAANAAAAEYAAAAhAAAAeQAAAEwAAAAkAAAAIgAAAI8AAAAyAAAAJgAAAB0AAAB+AAAAJwAAABsAAAAdAAAAxwAAADwAAAA9AAAALwAAAG8AAAAzAAAAIwAAAnEAAAC4AAAAPwAAADQAAAAgAAAAiwAAACkAAAAlAAAAFAAAAJgAAAAjAAAAJwAAABMAAADGAAAAUgAAAEMAAAAxAAAAugAAADsAAAC5AAAAMgAAACQAAAAeAAAAVQAAAC4AAAAdAAAAMwAAAGcAAABAAAAAIAAAACAAAADdAAAANwAAAB8AAAAxAAAAvAAAADQAAABEAAAAIgAAAIwAAAAqAAAALQAAAB4AAACDAAAAPQAAACUAAAA1AAAAswAAADwAAAA9AAAAJQAAAJ8AAAAlAAAAIQAAABUAAAB5AAAAUAAAAC8AAAAjAAAAQQAAACEAAAA0AAAAFwAAAHEAAAAmAAAAIgAAABkAAABLAAAAHQAAAMIAAAAyAAAAnQAAACoAAAAbAAAAIQAAAIcAAAA3AAAAIwAAACUAAACaAAAAPAAAADYAAAAhAAAA1gAAAEgAAAA6AAAAMgAAABsAAABAAAAAHwAAACQAAACNAAAAJgAAABQAAAAgAAAAmgAAACUAAAAUAAAAPQAAAMIAAABGAAAAMAAAADEAAACuAAAAKQAAADUAAAAaAAAAIAAAAD0AAAAfAAAAHgAAAK0AAABHAAAAMAAAACMAAACVAAAAMwAAACUAAAAeAAAAtwAAAGIAAAAsAAAALgAAAIEAAAA9AAAALwAAABsAAAAcAAAAFgAAABYAAACcAAAAJQAAAB8AAAArAAAASAAAADwAAAAiAAAAJAAAAEcAAAA2AAAAGQAAACAAAAAeAAAAGQAAACMAAAATAAAAkQAAADUAAAAgAAAAIQAAAD8AAAAwAAAAIQAAACIAAACHAAAARAAAADIAAAAeAAAAqQAAAFcAAAA/AAAASAAAANIAAAA5AAAALwAAABsAAABoAAAANgAAACQAAAAfAAAAeQAAACQAAAAgAAAAEwAAALEAAAAwAAAALAAAACcAAAC8AAAAWgAAAEEAAAAiAAAAmQAAAFUAAAAqAAAANgAAAMkAAAAkAAAAEwAAACsAAACPAAAATwAAADYAAAAyAAAArwAAAC4AAAAcAAAALAAAAL8AAAAqAAAAFQAAADwAAADMAAAAPgAAAFYAAAAcAAAA1gAAADUAAAAfAAAAKgAAAJoAAAAyAAAAGwAAAD0AAACMAAAAOAAAACgAAABCAAAAswAAAFAAAAAwAAAAMQAAAKYAAABIAAAAOQAAAIcAAABXAAAARwAAADgAAACjAAAATgAAAEAAAAAtAAAArgAAAFEAAAAiAAAAUAAAAIQAAAB9AAAALwAAAEAAAACPAAAAUAAAAEIAAAA+AAAAYQAAAFwAAABRAAAAOQAAACwAAAAUc3RjbwAAAAAAAAABAAAAMAAAAGJ1ZHRhAAAAWm1ldGEAAAAAAAAAIWhkbHIAAAAAAAAAAG1kaXJhcHBsAAAAAAAAAAAAAAAALWlsc3QAAAAlqXRvbwAAAB1kYXRhAAAAAQAAAABMYXZmNjAuMTYuMTAw\" type=\"video/mp4\">\n",
       " Your browser does not support the video tag.\n",
       " </video>"
      ],
      "text/plain": [
       "<IPython.core.display.Video object>"
      ]
     },
     "metadata": {},
     "output_type": "display_data"
    }
   ],
   "source": [
    "frames = []\n",
    "[env.reset() for _ in range(2)] # a tiny trick here :)\n",
    "observation,_ = env.reset()\n",
    "for t in range(1000):\n",
    "    image = env.render()\n",
    "    frames.append(image)\n",
    "\n",
    "    action = agent.get_action(observation)\n",
    "    next_obs, reward, done, truncated, info = env.step(action)\n",
    "    observation = next_obs\n",
    "    if done or truncated:\n",
    "        print('Stopped at timestamp',t,'due to','done' if done else 'truncated')\n",
    "        break\n",
    "\n",
    "show_video(frames)"
   ]
  },
  {
   "cell_type": "markdown",
   "metadata": {},
   "source": [
    "## 0.2 MDP Solvers"
   ]
  },
  {
   "cell_type": "markdown",
   "metadata": {},
   "source": [
    "有一种非常启发性的讨论RL问题的方法：我们从简单到难，逐渐引出RL的各种方法。现在，就让我们来这样做。"
   ]
  },
  {
   "cell_type": "markdown",
   "metadata": {},
   "source": [
    "### A Known MDP\n",
    "\n",
    "注意前面的问题中（从`gym`的演示中也可以看到），环境的transition function和reward function都是完全未知的。但考虑到我们对MDP问题还没有太多的了解，我们不妨 **放松一步，观察一下如果这些都是已知的，我们作为一个人该如何找到最好的策略呢？**\n",
    "\n",
    "这可能说起来略微抽象，但我们可以考虑如下的具体问题：在一个（比如说）$4\\times 4$的方格表里有一个特殊的格子，到达那里时游戏结束并且获得奖励，而其他地方的奖励都是0。transition也很简单：在每一个格子(state)处，可以选择向一个方向走(action)，然后就走到了下一个state。（如果在终点那么不管如何走都到达end state）。\n",
    "\n",
    "注意根据我们的假设，这个MDP是已知的，也就是我们知道那个特殊的格子在哪里。此时，如果不是agent而是人来解决这一问题，你该如何解决？很明显，你可以给出一个决定性的最优策略：假设我们在那个格子旁边的时候，我们就走过去；进一步，如果在再旁边一点的8个格子处，我们就走到前一次的4个格子……这样，递归地，如果确定了距离格子的Manhattan distance (定义为 $\\text{MHT}((x_1,y_1),(x_2,y_2))=|x_1-x_2|+|y_1-y_2|$)为$n$的所有点的策略，那么距离格子为$n+1$的所有点的策略也就确定了。因此，我们可以给出一个完整的策略。给定一个具体的 $4\\times 4$ 表格和那个特殊的格子，我们就可以给出这个最优策略。一个例子如下所示。\n",
    "\n",
    "|$\\rightarrow$ | $\\rightarrow$ | $\\downarrow$ | $\\leftarrow$|\n",
    "|--|--|--|--|\n",
    "| $\\rightarrow$| $\\to$ | $\\star$ | $\\leftarrow$ |\n",
    "|$\\rightarrow$ | $\\rightarrow$ | $\\uparrow$ | $\\leftarrow$ |\n",
    "| $\\rightarrow$| $\\uparrow$ | $\\uparrow$ | $\\leftarrow$|"
   ]
  },
  {
   "cell_type": "markdown",
   "metadata": {},
   "source": [
    "解决了这一问题，我们接下来试着把问题稍微一般化。假设transition并非像上面一样是确定的，而是随机的：比如，在一个格子处"
   ]
  },
  {
   "cell_type": "markdown",
   "metadata": {},
   "source": []
  }
 ],
 "metadata": {
  "kernelspec": {
   "display_name": "base",
   "language": "python",
   "name": "python3"
  },
  "language_info": {
   "codemirror_mode": {
    "name": "ipython",
    "version": 3
   },
   "file_extension": ".py",
   "mimetype": "text/x-python",
   "name": "python",
   "nbconvert_exporter": "python",
   "pygments_lexer": "ipython3",
   "version": "3.10.14"
  }
 },
 "nbformat": 4,
 "nbformat_minor": 2
}
