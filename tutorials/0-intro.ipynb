{
 "cells": [
  {
   "cell_type": "markdown",
   "metadata": {},
   "source": [
    "# 0 Introduction to RL"
   ]
  },
  {
   "cell_type": "markdown",
   "metadata": {},
   "source": [
    "本讲内容十分有趣，像一个“大串烧”：我们以一个完全没有学习过RL的初学者的视角来看RL问题，并尽可能自然地引入许多常见的RL算法。尽管这里并不会详细介绍细节（细节会在后面的讲内部介绍），但是会建立起对这些算法的直观理解。这些理解对之后的深入讨论是至关重要的。"
   ]
  },
  {
   "cell_type": "markdown",
   "metadata": {},
   "source": [
    "**什么是RL?**\n",
    "\n",
    "> Reinforcement learning (RL) is an **interdisciplinary area** of **machine learning** and **optimal control** concerned with how an intelligent agent **ought to take actions** in a **dynamic environment** in order to **maximize the cumulative reward**. Reinforcement learning is one of three basic machine learning paradigms, alongside supervised learning and unsupervised learning. (Wikipedia)\n",
    "\n",
    "简单来说，RL就是一个研究 **如何在和环境交互中最大化自己的利益，或者“reward”** 的学科。RL中重要的元素是**agent**和**environment**，二者形成一个闭环：\n",
    "- agent的输入是environment的反馈，输出它的应对，一般称为**action**；\n",
    "- environment接收agent的反应，并进行一个演化。演化结果给出新的 **状态(state)** 。此外，为了给予agent一个目标，环境还要给agent一个**reward**。\n",
    "\n",
    "换句话说，agent在每一个state下面给出action，而环境根据这个action就会到达一个新的state。而agent的整体目标，如上所述，是 **最大化reward的时间和**。\n",
    "\n",
    "![](./assets/0-1.png)"
   ]
  },
  {
   "cell_type": "markdown",
   "metadata": {},
   "source": [
    "## 0.1 Life is a MDP"
   ]
  },
  {
   "cell_type": "markdown",
   "metadata": {},
   "source": [
    "### MDP\n",
    "\n",
    "在介绍RL的基本概念之前，我们首先要介绍MDP的概念。MDP是**Markov Decision Process**的缩写，是强化学习的基础。"
   ]
  },
  {
   "cell_type": "markdown",
   "metadata": {},
   "source": [
    "一个MDP包括：\n",
    "- 一个状态空间(state space) $S$\n",
    "- 一个动作空间(action space) $A$\n",
    "- 一个奖励函数(reward function) $r$\n",
    "    - 具体地，对于一个state $s\\in S$和一个action $a\\in A$，这一函数给出一个实数 $r(s,a)$，代表着在state $s$下面采取action $a$获得的“奖励”。\n",
    "- 一个状态转移函数(transition function) $p$\n",
    "    - 具体地，对于一个state $s\\in S$和一个action $a\\in A$，这一函数给出一个概率分布$p(s'|s,a)$，代表着在state $s$下面采取action $a$之后，下一个state是$s'$的概率。"
   ]
  },
  {
   "cell_type": "markdown",
   "metadata": {},
   "source": [
    "\n",
    "这里的“Markov”体现在哪里呢？我们可以设想一个agent在和环境逐渐地交互：\n",
    "- agent初始时处于一个state $s_0$,这是环境给定的；\n",
    "- agent根据$s_0$采取一个action $a_0$；\n",
    "- 环境根据$s_0$和$a_0$给出一个reward $r_0$，并且给出下一个state $s_1$。此时，agent就处于state $s_1$；\n",
    "- agent再根据$s_1$采取一个action $a_1$。不断由此往复……\n",
    "\n",
    "可以看到，在这一过程中，只要第$t$轮的$s_t,a_t$给定了，环境就可以决定$s_{t+1}$，而不需要$s_0,a_0,s_1,\\cdots,s_{t-1},a_{t-1}$这些信息！这就是Markov性质的体现。"
   ]
  },
  {
   "cell_type": "markdown",
   "metadata": {},
   "source": [
    "那么，“Decision”又是指什么呢？可以看到，上面的描述只包含了环境的部分；而我们的agent的介入方式也很简单，就是对于一个state $s$，给出一个**政策** (policy)，也就是action的分布。我们可以把它记作$\\pi(a|s)$。\n",
    "\n",
    "> Q: 为什么政策只需要当前的state就可以做出决定呢？和历史一定无关吗？\n",
    ">\n",
    "> A: 这是也是因为我们Markov的假设。你说的这种情况叫做“Non-markovian agent”。虽然这更普遍，但很多经验表明，non-markovian的agent并不比我们这样的agent做的好很多。"
   ]
  },
  {
   "cell_type": "markdown",
   "metadata": {},
   "source": [
    "### POMDP\n",
    "\n",
    "POMDP是Partially Observed MDP的简称。这对应一个虽然略复杂，但更普适的问题陈述：环境并不一定向我们完全袒露心怀，而是只给我们一部分信息。这样的问题在实际中更为常见。比如说，在物理的控制问题中，我们获得一张快照时，就丧失了作为物理系统的state所必须的速度信息。"
   ]
  },
  {
   "cell_type": "markdown",
   "metadata": {},
   "source": [
    "对于POMDP，我们的policy就不能再是state的函数了。我们后面介绍POMDP的问题的时候也会提到，有两种类型的policy:\n",
    "\n",
    "- memoryless: $\\pi(a_t|o_t)$\n",
    "- history-dependent: $\\pi(a_t|o_1,o_2,\\cdots,o_t)$\n",
    "\n",
    "对于前者，我们有一个形象的图来展示：\n",
    "\n",
    "![](../lecture/notes/assets/2-1.png)"
   ]
  },
  {
   "cell_type": "markdown",
   "metadata": {},
   "source": [
    "这里的箭头代表着依赖关系，比如$o_t$依赖于且仅依赖于$s_t$。这样的问题就更加复杂了，因为observation本身不是markovian的——$o_t$不仅依赖于$o_{t-1},a_{t-1}$，而且依赖于$o_{t-2},a_{t-2},\\cdots,o_1,a_1$。\n",
    "\n",
    "在接下来的讨论中，如果不加说明，我们都考虑fully observed的MDP。"
   ]
  },
  {
   "cell_type": "markdown",
   "metadata": {},
   "source": [
    "### Experiment: MDP Simulators\n",
    "\n",
    "MDP是一个如此广泛的概念，以至于大部分生活中的问题，在合适地定义state后，都可以变成一个在MDP中最大化cumulative reward的问题。正因如此，**RL基本上就是研究求解MDP的学科**。\n",
    "\n",
    "但是，在研究RL时，如果真的要和环境进行交互，可能会有很大的代价（想一想为什么？）为此，OpenAI 的 `gym` 包创造了许多模拟环境，供人们“刷分”，也就是把RL算法投入真正应用前先看一看大体上这一方法好不好。我们接下来来看一下gym的使用。\n",
    "\n",
    "> gym就是一坨答辨。 ——某学长\n",
    "\n",
    "gym以它的不稳定和不兼容著称，而其渲染部分则是更符合这一描述。因此，在下面的代码开始前，让我们：\n",
    "- 安装[requirements.txt](./requirements.txt)内的包；\n",
    "- 运行`bash install.sh`；\n",
    "- 如果在下面的代码的运行中，你遇到和渲染相关的错误，请不要贸然相信GPT或copilot给你的命令，因为它们有可能会让你的图形界面崩溃，或者显卡驱动失效。建议在各种论坛网站上找一些解决方案。\n",
    "- 如果你奋斗了很久还是看不到图片，建议你不要再尝试了，而是把所有含有`render`相关的代码注释掉，并观察后面的输出。在之后一般情况下，我们都不会用到渲染。\n",
    "- 最后，祈祷！"
   ]
  },
  {
   "cell_type": "code",
   "execution_count": 1,
   "metadata": {},
   "outputs": [
    {
     "data": {
      "text/plain": [
       "'Good luck!'"
      ]
     },
     "execution_count": 1,
     "metadata": {},
     "output_type": "execute_result"
    }
   ],
   "source": [
    "%matplotlib inline\n",
    "\"Gym, I cry out to You; make haste to me! Give output to my code when I cry out to You. Let my library be set before You as binaries, the lifting up of my hands as drivers for graphics.\" and 'Good luck!'"
   ]
  },
  {
   "cell_type": "code",
   "execution_count": 2,
   "metadata": {},
   "outputs": [
    {
     "name": "stdout",
     "output_type": "stream",
     "text": [
      "Initial observation: [ 0.0273956  -0.00611216  0.03585979  0.0197368 ]\n",
      "Initial info: {}\n"
     ]
    },
    {
     "data": {
      "image/png": "[encoded data removed]",
      "text/plain": [
       "<Figure size 640x480 with 1 Axes>"
      ]
     },
     "metadata": {},
     "output_type": "display_data"
    }
   ],
   "source": [
    "import gymnasium as gym\n",
    "from utils import show_image\n",
    "# Create the CartPole environment with 'rgb_array' mode\n",
    "env = gym.make('CartPole-v1', render_mode='rgb_array')\n",
    "\n",
    "# Reset the environment\n",
    "state,info = env.reset(seed=42)\n",
    "print('Initial state:',state)\n",
    "print('Initial info:',info)\n",
    "\n",
    "# Render the environment and display the image\n",
    "image = env.render()\n",
    "show_image(image)"
   ]
  },
  {
   "cell_type": "markdown",
   "metadata": {},
   "source": [
    "如果你成功看到了上面的输出和图片，那么恭喜你，你看到了环境`env`在初始化时的state $s_0$。根据gym的[官方文档](https://gymnasium.farama.org/environments/classic_control/cart_pole/)，这一环境的名字叫做`CartPole`，描述的是一个匀质杆一段铰接在一个置于光滑导轨的小车上。我们看到的`Initial state`中这四个参数的含义如下：\n",
    "- Cart Position\n",
    "- Cart Velocity\n",
    "- Pole Angle\n",
    "- Pole Angular Velocity\n",
    "\n",
    "（注：`gym`包中管这个state叫做`observation`，比如`env.observation_space`实际上是state space的意思）。上面的结果是决定性的，因为我们手动设置了`seed`为42。接下来，让我们再看看action是什么："
   ]
  },
  {
   "cell_type": "code",
   "execution_count": 3,
   "metadata": {},
   "outputs": [
    {
     "data": {
      "text/plain": [
       "('action space',\n",
       " [np.int64(0),\n",
       "  np.int64(1),\n",
       "  np.int64(1),\n",
       "  np.int64(0),\n",
       "  np.int64(0),\n",
       "  np.int64(1),\n",
       "  np.int64(0),\n",
       "  np.int64(1),\n",
       "  np.int64(0),\n",
       "  np.int64(0)])"
      ]
     },
     "execution_count": 3,
     "metadata": {},
     "output_type": "execute_result"
    }
   ],
   "source": [
    "env.action_space.seed(42)\n",
    "env.observation_space.seed(42)\n",
    "'action space',[env.action_space.sample() for _ in range(10)]"
   ]
  },
  {
   "cell_type": "markdown",
   "metadata": {},
   "source": [
    "根据官方文档，0代表向左推一下车，而1代表向右推一下。那么，假设对于初始的状态，我们连续地向右推，会变成什么样？"
   ]
  },
  {
   "cell_type": "code",
   "execution_count": 4,
   "metadata": {},
   "outputs": [
    {
     "name": "stdout",
     "output_type": "stream",
     "text": [
      "time stamp 0 reward: 1.0\n",
      "time stamp 1 reward: 1.0\n",
      "time stamp 2 reward: 1.0\n",
      "time stamp 3 reward: 1.0\n",
      "time stamp 4 reward: 1.0\n",
      "time stamp 5 reward: 1.0\n",
      "time stamp 6 reward: 1.0\n",
      "time stamp 7 reward: 1.0\n",
      "time stamp 8 reward: 1.0\n",
      "time stamp 9 reward: 1.0\n",
      "Stopped at timestamp 9 due to done\n"
     ]
    },
    {
     "data": {
      "text/html": [
       "<video controls  >\n",
       " <source src=\"data:video/mp4;base64,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\" type=\"video/mp4\">\n",
       " Your browser does not support the video tag.\n",
       " </video>"
      ],
      "text/plain": [
       "<IPython.core.display.Video object>"
      ]
     },
     "metadata": {},
     "output_type": "display_data"
    }
   ],
   "source": [
    "from utils import show_video\n",
    "import numpy as np\n",
    "frames = []\n",
    "for t in range(100):\n",
    "    image = env.render()\n",
    "    frames.append(image)\n",
    "\n",
    "    action = np.int64(1) # always take the \"push right\" action.\n",
    "    next_state, reward, done, truncated, info = env.step(action) # 'step' is the function that gives the transition.\n",
    "    state = next_state\n",
    "    print('time stamp',t,'reward:',reward)\n",
    "    if done or truncated:\n",
    "        print('Stopped at timestamp',t,'due to','done' if done else 'truncated')\n",
    "        break\n",
    "\n",
    "show_video(frames)"
   ]
  },
  {
   "cell_type": "markdown",
   "metadata": {},
   "source": [
    "很直观——如果我们一直推这一个车，杆就会向左倒下。此时，因为杆和竖直方向的夹角达到了某个临界值，`env`自动判断为游戏失败而结束。这就是`done`为`True`的原因。\n",
    "\n",
    "同时，我们也可以看到`reward`的数值——对于每一个存活下来的一步，reward都是1。也就是说，我们的目的就是活得越长越好。"
   ]
  },
  {
   "cell_type": "markdown",
   "metadata": {},
   "source": [
    "最后，让我们建立一个简单的agent，对这一任务作出一个难度上的基础感受。我们的`TrivialAgent`的思路很简单——如果杆偏左并且角速度向左，那么我们就往左推车；如果杆偏右并且角速度向右，那么我们就往右推车。最后，对于其他情况，因为这取决于未知的物理参数，我们不妨随机来选取action。这十分粗暴，但不妨让我们就看看它能做得怎样。"
   ]
  },
  {
   "cell_type": "code",
   "execution_count": 5,
   "metadata": {},
   "outputs": [],
   "source": [
    "class TrivialAgent:\n",
    "\n",
    "    def __init__(self,action_space):\n",
    "        self.action_space = action_space\n",
    "    \n",
    "    def get_action(self,state):\n",
    "        _,_,theta,omg = state\n",
    "        if theta < 0 and omg < 0:\n",
    "            return 0\n",
    "        if theta > 0 and omg > 0:\n",
    "            return 1\n",
    "        return self.action_space.sample()"
   ]
  },
  {
   "cell_type": "code",
   "execution_count": 6,
   "metadata": {},
   "outputs": [
    {
     "name": "stdout",
     "output_type": "stream",
     "text": [
      "Terminate at time 499 due to truncated\n",
      "Terminate at time 499 due to truncated\n",
      "Terminate at time 347 due to done\n",
      "Terminate at time 412 due to done\n",
      "Terminate at time 395 due to done\n",
      "Terminate at time 482 due to done\n",
      "Terminate at time 499 due to truncated\n",
      "Terminate at time 249 due to done\n",
      "Terminate at time 499 due to truncated\n",
      "Terminate at time 310 due to done\n",
      "Average cumulative reward 420.1\n",
      "results: [500.0, 500.0, 348.0, 413.0, 396.0, 483.0, 500.0, 250.0, 500.0, 311.0]\n"
     ]
    }
   ],
   "source": [
    "agent = TrivialAgent(env.action_space)\n",
    "NUM_ROLLOUTS = 10\n",
    "results = []\n",
    "for rollout in range(NUM_ROLLOUTS):\n",
    "    cum_reward = 0\n",
    "    state,_ = env.reset()\n",
    "    for t in range(1000):\n",
    "        action = agent.get_action(state) # let our agent to decide what to do\n",
    "        next_state, reward, done, truncated, info = env.step(action)\n",
    "        state = next_state\n",
    "        cum_reward += reward\n",
    "        if done or truncated:\n",
    "            print('Terminate at time',t,'due to', 'done' if done else 'truncated')\n",
    "            results.append(cum_reward)\n",
    "            break\n",
    "print('Average cumulative reward',sum(results)/len(results))\n",
    "print('results:',results)"
   ]
  },
  {
   "cell_type": "markdown",
   "metadata": {},
   "source": [
    "利用`TrivialAgent`，我们解锁了一个新“技能”——`truncated`！这个情况是因为环境具有一个有限的“**horizon**”，也就是到达这个时间后就会自动结束，类似于“游戏胜利”。这样，总的cumulative reward才有上限。我们看到，就这样一个愚蠢的agent就已经可以做到84%的最优解了！因此，这一任务确实是简单的。\n",
    "\n",
    "我们还可以看到，不同组数据之间reward（即存活时间）可以相差很远——最大值是最小值的2倍！的确，你开始认识到RL了——一个接着一个的state迭代使得整个体系具有**巨大的方差**。我们后面会更加具体地讨论这一点。"
   ]
  },
  {
   "cell_type": "markdown",
   "metadata": {},
   "source": [
    "最后，让我们欣赏一下我们的第一个“agent”的舞蹈，来结束这一小节吧！"
   ]
  },
  {
   "cell_type": "code",
   "execution_count": 7,
   "metadata": {},
   "outputs": [
    {
     "name": "stdout",
     "output_type": "stream",
     "text": [
      "Stopped at timestamp 499 due to truncated\n"
     ]
    },
    {
     "ename": "KeyboardInterrupt",
     "evalue": "",
     "output_type": "error",
     "traceback": [
      "\u001b[0;31m---------------------------------------------------------------------------\u001b[0m",
      "\u001b[0;31mKeyboardInterrupt\u001b[0m                         Traceback (most recent call last)",
      "Cell \u001b[0;32mIn[7], line 15\u001b[0m\n\u001b[1;32m     12\u001b[0m         \u001b[38;5;28mprint\u001b[39m(\u001b[38;5;124m'\u001b[39m\u001b[38;5;124mStopped at timestamp\u001b[39m\u001b[38;5;124m'\u001b[39m,t,\u001b[38;5;124m'\u001b[39m\u001b[38;5;124mdue to\u001b[39m\u001b[38;5;124m'\u001b[39m,\u001b[38;5;124m'\u001b[39m\u001b[38;5;124mdone\u001b[39m\u001b[38;5;124m'\u001b[39m \u001b[38;5;28;01mif\u001b[39;00m done \u001b[38;5;28;01melse\u001b[39;00m \u001b[38;5;124m'\u001b[39m\u001b[38;5;124mtruncated\u001b[39m\u001b[38;5;124m'\u001b[39m)\n\u001b[1;32m     13\u001b[0m         \u001b[38;5;28;01mbreak\u001b[39;00m\n\u001b[0;32m---> 15\u001b[0m \u001b[43mshow_video\u001b[49m\u001b[43m(\u001b[49m\u001b[43mframes\u001b[49m\u001b[43m)\u001b[49m\n",
      "File \u001b[0;32m~/Documents/Github/RL-notes/tutorials/utils.py:24\u001b[0m, in \u001b[0;36mshow_video\u001b[0;34m(frames)\u001b[0m\n\u001b[1;32m     22\u001b[0m ani \u001b[38;5;241m=\u001b[39m animation\u001b[38;5;241m.\u001b[39mFuncAnimation(fig, update, frames\u001b[38;5;241m=\u001b[39mframes, interval\u001b[38;5;241m=\u001b[39m\u001b[38;5;241m50\u001b[39m, blit\u001b[38;5;241m=\u001b[39m\u001b[38;5;28;01mTrue\u001b[39;00m)\n\u001b[1;32m     23\u001b[0m video_path \u001b[38;5;241m=\u001b[39m \u001b[38;5;124m'\u001b[39m\u001b[38;5;124m/tmp/video.mp4\u001b[39m\u001b[38;5;124m'\u001b[39m\n\u001b[0;32m---> 24\u001b[0m \u001b[43mani\u001b[49m\u001b[38;5;241;43m.\u001b[39;49m\u001b[43msave\u001b[49m\u001b[43m(\u001b[49m\u001b[43mvideo_path\u001b[49m\u001b[43m,\u001b[49m\u001b[43m \u001b[49m\u001b[43mwriter\u001b[49m\u001b[38;5;241;43m=\u001b[39;49m\u001b[38;5;124;43m'\u001b[39;49m\u001b[38;5;124;43mffmpeg\u001b[39;49m\u001b[38;5;124;43m'\u001b[39;49m\u001b[43m)\u001b[49m\n\u001b[1;32m     25\u001b[0m plt\u001b[38;5;241m.\u001b[39mclose(fig)\n\u001b[1;32m     26\u001b[0m display(Video(video_path, embed\u001b[38;5;241m=\u001b[39m\u001b[38;5;28;01mTrue\u001b[39;00m))\n",
      "File \u001b[0;32m~/anaconda3/envs/DYY/lib/python3.10/site-packages/matplotlib/animation.py:1089\u001b[0m, in \u001b[0;36mAnimation.save\u001b[0;34m(self, filename, writer, fps, dpi, codec, bitrate, extra_args, metadata, extra_anim, savefig_kwargs, progress_callback)\u001b[0m\n\u001b[1;32m   1087\u001b[0m         progress_callback(frame_number, total_frames)\n\u001b[1;32m   1088\u001b[0m         frame_number \u001b[38;5;241m+\u001b[39m\u001b[38;5;241m=\u001b[39m \u001b[38;5;241m1\u001b[39m\n\u001b[0;32m-> 1089\u001b[0m \u001b[43mwriter\u001b[49m\u001b[38;5;241;43m.\u001b[39;49m\u001b[43mgrab_frame\u001b[49m\u001b[43m(\u001b[49m\u001b[38;5;241;43m*\u001b[39;49m\u001b[38;5;241;43m*\u001b[39;49m\u001b[43msavefig_kwargs\u001b[49m\u001b[43m)\u001b[49m\n",
      "File \u001b[0;32m~/anaconda3/envs/DYY/lib/python3.10/site-packages/matplotlib/animation.py:351\u001b[0m, in \u001b[0;36mMovieWriter.grab_frame\u001b[0;34m(self, **savefig_kwargs)\u001b[0m\n\u001b[1;32m    349\u001b[0m \u001b[38;5;28mself\u001b[39m\u001b[38;5;241m.\u001b[39mfig\u001b[38;5;241m.\u001b[39mset_size_inches(\u001b[38;5;28mself\u001b[39m\u001b[38;5;241m.\u001b[39m_w, \u001b[38;5;28mself\u001b[39m\u001b[38;5;241m.\u001b[39m_h)\n\u001b[1;32m    350\u001b[0m \u001b[38;5;66;03m# Save the figure data to the sink, using the frame format and dpi.\u001b[39;00m\n\u001b[0;32m--> 351\u001b[0m \u001b[38;5;28;43mself\u001b[39;49m\u001b[38;5;241;43m.\u001b[39;49m\u001b[43mfig\u001b[49m\u001b[38;5;241;43m.\u001b[39;49m\u001b[43msavefig\u001b[49m\u001b[43m(\u001b[49m\u001b[38;5;28;43mself\u001b[39;49m\u001b[38;5;241;43m.\u001b[39;49m\u001b[43m_proc\u001b[49m\u001b[38;5;241;43m.\u001b[39;49m\u001b[43mstdin\u001b[49m\u001b[43m,\u001b[49m\u001b[43m \u001b[49m\u001b[38;5;28;43mformat\u001b[39;49m\u001b[38;5;241;43m=\u001b[39;49m\u001b[38;5;28;43mself\u001b[39;49m\u001b[38;5;241;43m.\u001b[39;49m\u001b[43mframe_format\u001b[49m\u001b[43m,\u001b[49m\n\u001b[1;32m    352\u001b[0m \u001b[43m                 \u001b[49m\u001b[43mdpi\u001b[49m\u001b[38;5;241;43m=\u001b[39;49m\u001b[38;5;28;43mself\u001b[39;49m\u001b[38;5;241;43m.\u001b[39;49m\u001b[43mdpi\u001b[49m\u001b[43m,\u001b[49m\u001b[43m \u001b[49m\u001b[38;5;241;43m*\u001b[39;49m\u001b[38;5;241;43m*\u001b[39;49m\u001b[43msavefig_kwargs\u001b[49m\u001b[43m)\u001b[49m\n",
      "File \u001b[0;32m~/anaconda3/envs/DYY/lib/python3.10/site-packages/matplotlib/figure.py:3395\u001b[0m, in \u001b[0;36mFigure.savefig\u001b[0;34m(self, fname, transparent, **kwargs)\u001b[0m\n\u001b[1;32m   3393\u001b[0m     \u001b[38;5;28;01mfor\u001b[39;00m ax \u001b[38;5;129;01min\u001b[39;00m \u001b[38;5;28mself\u001b[39m\u001b[38;5;241m.\u001b[39maxes:\n\u001b[1;32m   3394\u001b[0m         _recursively_make_axes_transparent(stack, ax)\n\u001b[0;32m-> 3395\u001b[0m \u001b[38;5;28;43mself\u001b[39;49m\u001b[38;5;241;43m.\u001b[39;49m\u001b[43mcanvas\u001b[49m\u001b[38;5;241;43m.\u001b[39;49m\u001b[43mprint_figure\u001b[49m\u001b[43m(\u001b[49m\u001b[43mfname\u001b[49m\u001b[43m,\u001b[49m\u001b[43m \u001b[49m\u001b[38;5;241;43m*\u001b[39;49m\u001b[38;5;241;43m*\u001b[39;49m\u001b[43mkwargs\u001b[49m\u001b[43m)\u001b[49m\n",
      "File \u001b[0;32m~/anaconda3/envs/DYY/lib/python3.10/site-packages/matplotlib/backend_bases.py:2204\u001b[0m, in \u001b[0;36mFigureCanvasBase.print_figure\u001b[0;34m(self, filename, dpi, facecolor, edgecolor, orientation, format, bbox_inches, pad_inches, bbox_extra_artists, backend, **kwargs)\u001b[0m\n\u001b[1;32m   2200\u001b[0m \u001b[38;5;28;01mtry\u001b[39;00m:\n\u001b[1;32m   2201\u001b[0m     \u001b[38;5;66;03m# _get_renderer may change the figure dpi (as vector formats\u001b[39;00m\n\u001b[1;32m   2202\u001b[0m     \u001b[38;5;66;03m# force the figure dpi to 72), so we need to set it again here.\u001b[39;00m\n\u001b[1;32m   2203\u001b[0m     \u001b[38;5;28;01mwith\u001b[39;00m cbook\u001b[38;5;241m.\u001b[39m_setattr_cm(\u001b[38;5;28mself\u001b[39m\u001b[38;5;241m.\u001b[39mfigure, dpi\u001b[38;5;241m=\u001b[39mdpi):\n\u001b[0;32m-> 2204\u001b[0m         result \u001b[38;5;241m=\u001b[39m \u001b[43mprint_method\u001b[49m\u001b[43m(\u001b[49m\n\u001b[1;32m   2205\u001b[0m \u001b[43m            \u001b[49m\u001b[43mfilename\u001b[49m\u001b[43m,\u001b[49m\n\u001b[1;32m   2206\u001b[0m \u001b[43m            \u001b[49m\u001b[43mfacecolor\u001b[49m\u001b[38;5;241;43m=\u001b[39;49m\u001b[43mfacecolor\u001b[49m\u001b[43m,\u001b[49m\n\u001b[1;32m   2207\u001b[0m \u001b[43m            \u001b[49m\u001b[43medgecolor\u001b[49m\u001b[38;5;241;43m=\u001b[39;49m\u001b[43medgecolor\u001b[49m\u001b[43m,\u001b[49m\n\u001b[1;32m   2208\u001b[0m \u001b[43m            \u001b[49m\u001b[43morientation\u001b[49m\u001b[38;5;241;43m=\u001b[39;49m\u001b[43morientation\u001b[49m\u001b[43m,\u001b[49m\n\u001b[1;32m   2209\u001b[0m \u001b[43m            \u001b[49m\u001b[43mbbox_inches_restore\u001b[49m\u001b[38;5;241;43m=\u001b[39;49m\u001b[43m_bbox_inches_restore\u001b[49m\u001b[43m,\u001b[49m\n\u001b[1;32m   2210\u001b[0m \u001b[43m            \u001b[49m\u001b[38;5;241;43m*\u001b[39;49m\u001b[38;5;241;43m*\u001b[39;49m\u001b[43mkwargs\u001b[49m\u001b[43m)\u001b[49m\n\u001b[1;32m   2211\u001b[0m \u001b[38;5;28;01mfinally\u001b[39;00m:\n\u001b[1;32m   2212\u001b[0m     \u001b[38;5;28;01mif\u001b[39;00m bbox_inches \u001b[38;5;129;01mand\u001b[39;00m restore_bbox:\n",
      "File \u001b[0;32m~/anaconda3/envs/DYY/lib/python3.10/site-packages/matplotlib/backend_bases.py:2054\u001b[0m, in \u001b[0;36mFigureCanvasBase._switch_canvas_and_return_print_method.<locals>.<lambda>\u001b[0;34m(*args, **kwargs)\u001b[0m\n\u001b[1;32m   2050\u001b[0m     optional_kws \u001b[38;5;241m=\u001b[39m {  \u001b[38;5;66;03m# Passed by print_figure for other renderers.\u001b[39;00m\n\u001b[1;32m   2051\u001b[0m         \u001b[38;5;124m\"\u001b[39m\u001b[38;5;124mdpi\u001b[39m\u001b[38;5;124m\"\u001b[39m, \u001b[38;5;124m\"\u001b[39m\u001b[38;5;124mfacecolor\u001b[39m\u001b[38;5;124m\"\u001b[39m, \u001b[38;5;124m\"\u001b[39m\u001b[38;5;124medgecolor\u001b[39m\u001b[38;5;124m\"\u001b[39m, \u001b[38;5;124m\"\u001b[39m\u001b[38;5;124morientation\u001b[39m\u001b[38;5;124m\"\u001b[39m,\n\u001b[1;32m   2052\u001b[0m         \u001b[38;5;124m\"\u001b[39m\u001b[38;5;124mbbox_inches_restore\u001b[39m\u001b[38;5;124m\"\u001b[39m}\n\u001b[1;32m   2053\u001b[0m     skip \u001b[38;5;241m=\u001b[39m optional_kws \u001b[38;5;241m-\u001b[39m {\u001b[38;5;241m*\u001b[39minspect\u001b[38;5;241m.\u001b[39msignature(meth)\u001b[38;5;241m.\u001b[39mparameters}\n\u001b[0;32m-> 2054\u001b[0m     print_method \u001b[38;5;241m=\u001b[39m functools\u001b[38;5;241m.\u001b[39mwraps(meth)(\u001b[38;5;28;01mlambda\u001b[39;00m \u001b[38;5;241m*\u001b[39margs, \u001b[38;5;241m*\u001b[39m\u001b[38;5;241m*\u001b[39mkwargs: \u001b[43mmeth\u001b[49m\u001b[43m(\u001b[49m\n\u001b[1;32m   2055\u001b[0m \u001b[43m        \u001b[49m\u001b[38;5;241;43m*\u001b[39;49m\u001b[43margs\u001b[49m\u001b[43m,\u001b[49m\u001b[43m \u001b[49m\u001b[38;5;241;43m*\u001b[39;49m\u001b[38;5;241;43m*\u001b[39;49m\u001b[43m{\u001b[49m\u001b[43mk\u001b[49m\u001b[43m:\u001b[49m\u001b[43m \u001b[49m\u001b[43mv\u001b[49m\u001b[43m \u001b[49m\u001b[38;5;28;43;01mfor\u001b[39;49;00m\u001b[43m \u001b[49m\u001b[43mk\u001b[49m\u001b[43m,\u001b[49m\u001b[43m \u001b[49m\u001b[43mv\u001b[49m\u001b[43m \u001b[49m\u001b[38;5;129;43;01min\u001b[39;49;00m\u001b[43m \u001b[49m\u001b[43mkwargs\u001b[49m\u001b[38;5;241;43m.\u001b[39;49m\u001b[43mitems\u001b[49m\u001b[43m(\u001b[49m\u001b[43m)\u001b[49m\u001b[43m \u001b[49m\u001b[38;5;28;43;01mif\u001b[39;49;00m\u001b[43m \u001b[49m\u001b[43mk\u001b[49m\u001b[43m \u001b[49m\u001b[38;5;129;43;01mnot\u001b[39;49;00m\u001b[43m \u001b[49m\u001b[38;5;129;43;01min\u001b[39;49;00m\u001b[43m \u001b[49m\u001b[43mskip\u001b[49m\u001b[43m}\u001b[49m\u001b[43m)\u001b[49m)\n\u001b[1;32m   2056\u001b[0m \u001b[38;5;28;01melse\u001b[39;00m:  \u001b[38;5;66;03m# Let third-parties do as they see fit.\u001b[39;00m\n\u001b[1;32m   2057\u001b[0m     print_method \u001b[38;5;241m=\u001b[39m meth\n",
      "File \u001b[0;32m~/anaconda3/envs/DYY/lib/python3.10/site-packages/matplotlib/backends/backend_agg.py:432\u001b[0m, in \u001b[0;36mFigureCanvasAgg.print_raw\u001b[0;34m(self, filename_or_obj, metadata)\u001b[0m\n\u001b[1;32m    430\u001b[0m \u001b[38;5;28;01mif\u001b[39;00m metadata \u001b[38;5;129;01mis\u001b[39;00m \u001b[38;5;129;01mnot\u001b[39;00m \u001b[38;5;28;01mNone\u001b[39;00m:\n\u001b[1;32m    431\u001b[0m     \u001b[38;5;28;01mraise\u001b[39;00m \u001b[38;5;167;01mValueError\u001b[39;00m(\u001b[38;5;124m\"\u001b[39m\u001b[38;5;124mmetadata not supported for raw/rgba\u001b[39m\u001b[38;5;124m\"\u001b[39m)\n\u001b[0;32m--> 432\u001b[0m \u001b[43mFigureCanvasAgg\u001b[49m\u001b[38;5;241;43m.\u001b[39;49m\u001b[43mdraw\u001b[49m\u001b[43m(\u001b[49m\u001b[38;5;28;43mself\u001b[39;49m\u001b[43m)\u001b[49m\n\u001b[1;32m    433\u001b[0m renderer \u001b[38;5;241m=\u001b[39m \u001b[38;5;28mself\u001b[39m\u001b[38;5;241m.\u001b[39mget_renderer()\n\u001b[1;32m    434\u001b[0m \u001b[38;5;28;01mwith\u001b[39;00m cbook\u001b[38;5;241m.\u001b[39mopen_file_cm(filename_or_obj, \u001b[38;5;124m\"\u001b[39m\u001b[38;5;124mwb\u001b[39m\u001b[38;5;124m\"\u001b[39m) \u001b[38;5;28;01mas\u001b[39;00m fh:\n",
      "File \u001b[0;32m~/anaconda3/envs/DYY/lib/python3.10/site-packages/matplotlib/backends/backend_agg.py:387\u001b[0m, in \u001b[0;36mFigureCanvasAgg.draw\u001b[0;34m(self)\u001b[0m\n\u001b[1;32m    384\u001b[0m \u001b[38;5;66;03m# Acquire a lock on the shared font cache.\u001b[39;00m\n\u001b[1;32m    385\u001b[0m \u001b[38;5;28;01mwith\u001b[39;00m (\u001b[38;5;28mself\u001b[39m\u001b[38;5;241m.\u001b[39mtoolbar\u001b[38;5;241m.\u001b[39m_wait_cursor_for_draw_cm() \u001b[38;5;28;01mif\u001b[39;00m \u001b[38;5;28mself\u001b[39m\u001b[38;5;241m.\u001b[39mtoolbar\n\u001b[1;32m    386\u001b[0m       \u001b[38;5;28;01melse\u001b[39;00m nullcontext()):\n\u001b[0;32m--> 387\u001b[0m     \u001b[38;5;28;43mself\u001b[39;49m\u001b[38;5;241;43m.\u001b[39;49m\u001b[43mfigure\u001b[49m\u001b[38;5;241;43m.\u001b[39;49m\u001b[43mdraw\u001b[49m\u001b[43m(\u001b[49m\u001b[38;5;28;43mself\u001b[39;49m\u001b[38;5;241;43m.\u001b[39;49m\u001b[43mrenderer\u001b[49m\u001b[43m)\u001b[49m\n\u001b[1;32m    388\u001b[0m     \u001b[38;5;66;03m# A GUI class may be need to update a window using this draw, so\u001b[39;00m\n\u001b[1;32m    389\u001b[0m     \u001b[38;5;66;03m# don't forget to call the superclass.\u001b[39;00m\n\u001b[1;32m    390\u001b[0m     \u001b[38;5;28msuper\u001b[39m()\u001b[38;5;241m.\u001b[39mdraw()\n",
      "File \u001b[0;32m~/anaconda3/envs/DYY/lib/python3.10/site-packages/matplotlib/artist.py:95\u001b[0m, in \u001b[0;36m_finalize_rasterization.<locals>.draw_wrapper\u001b[0;34m(artist, renderer, *args, **kwargs)\u001b[0m\n\u001b[1;32m     93\u001b[0m \u001b[38;5;129m@wraps\u001b[39m(draw)\n\u001b[1;32m     94\u001b[0m \u001b[38;5;28;01mdef\u001b[39;00m \u001b[38;5;21mdraw_wrapper\u001b[39m(artist, renderer, \u001b[38;5;241m*\u001b[39margs, \u001b[38;5;241m*\u001b[39m\u001b[38;5;241m*\u001b[39mkwargs):\n\u001b[0;32m---> 95\u001b[0m     result \u001b[38;5;241m=\u001b[39m \u001b[43mdraw\u001b[49m\u001b[43m(\u001b[49m\u001b[43martist\u001b[49m\u001b[43m,\u001b[49m\u001b[43m \u001b[49m\u001b[43mrenderer\u001b[49m\u001b[43m,\u001b[49m\u001b[43m \u001b[49m\u001b[38;5;241;43m*\u001b[39;49m\u001b[43margs\u001b[49m\u001b[43m,\u001b[49m\u001b[43m \u001b[49m\u001b[38;5;241;43m*\u001b[39;49m\u001b[38;5;241;43m*\u001b[39;49m\u001b[43mkwargs\u001b[49m\u001b[43m)\u001b[49m\n\u001b[1;32m     96\u001b[0m     \u001b[38;5;28;01mif\u001b[39;00m renderer\u001b[38;5;241m.\u001b[39m_rasterizing:\n\u001b[1;32m     97\u001b[0m         renderer\u001b[38;5;241m.\u001b[39mstop_rasterizing()\n",
      "File \u001b[0;32m~/anaconda3/envs/DYY/lib/python3.10/site-packages/matplotlib/artist.py:72\u001b[0m, in \u001b[0;36mallow_rasterization.<locals>.draw_wrapper\u001b[0;34m(artist, renderer)\u001b[0m\n\u001b[1;32m     69\u001b[0m     \u001b[38;5;28;01mif\u001b[39;00m artist\u001b[38;5;241m.\u001b[39mget_agg_filter() \u001b[38;5;129;01mis\u001b[39;00m \u001b[38;5;129;01mnot\u001b[39;00m \u001b[38;5;28;01mNone\u001b[39;00m:\n\u001b[1;32m     70\u001b[0m         renderer\u001b[38;5;241m.\u001b[39mstart_filter()\n\u001b[0;32m---> 72\u001b[0m     \u001b[38;5;28;01mreturn\u001b[39;00m \u001b[43mdraw\u001b[49m\u001b[43m(\u001b[49m\u001b[43martist\u001b[49m\u001b[43m,\u001b[49m\u001b[43m \u001b[49m\u001b[43mrenderer\u001b[49m\u001b[43m)\u001b[49m\n\u001b[1;32m     73\u001b[0m \u001b[38;5;28;01mfinally\u001b[39;00m:\n\u001b[1;32m     74\u001b[0m     \u001b[38;5;28;01mif\u001b[39;00m artist\u001b[38;5;241m.\u001b[39mget_agg_filter() \u001b[38;5;129;01mis\u001b[39;00m \u001b[38;5;129;01mnot\u001b[39;00m \u001b[38;5;28;01mNone\u001b[39;00m:\n",
      "File \u001b[0;32m~/anaconda3/envs/DYY/lib/python3.10/site-packages/matplotlib/figure.py:3162\u001b[0m, in \u001b[0;36mFigure.draw\u001b[0;34m(self, renderer)\u001b[0m\n\u001b[1;32m   3159\u001b[0m             \u001b[38;5;66;03m# ValueError can occur when resizing a window.\u001b[39;00m\n\u001b[1;32m   3161\u001b[0m     \u001b[38;5;28mself\u001b[39m\u001b[38;5;241m.\u001b[39mpatch\u001b[38;5;241m.\u001b[39mdraw(renderer)\n\u001b[0;32m-> 3162\u001b[0m     \u001b[43mmimage\u001b[49m\u001b[38;5;241;43m.\u001b[39;49m\u001b[43m_draw_list_compositing_images\u001b[49m\u001b[43m(\u001b[49m\n\u001b[1;32m   3163\u001b[0m \u001b[43m        \u001b[49m\u001b[43mrenderer\u001b[49m\u001b[43m,\u001b[49m\u001b[43m \u001b[49m\u001b[38;5;28;43mself\u001b[39;49m\u001b[43m,\u001b[49m\u001b[43m \u001b[49m\u001b[43martists\u001b[49m\u001b[43m,\u001b[49m\u001b[43m \u001b[49m\u001b[38;5;28;43mself\u001b[39;49m\u001b[38;5;241;43m.\u001b[39;49m\u001b[43msuppressComposite\u001b[49m\u001b[43m)\u001b[49m\n\u001b[1;32m   3165\u001b[0m     renderer\u001b[38;5;241m.\u001b[39mclose_group(\u001b[38;5;124m'\u001b[39m\u001b[38;5;124mfigure\u001b[39m\u001b[38;5;124m'\u001b[39m)\n\u001b[1;32m   3166\u001b[0m \u001b[38;5;28;01mfinally\u001b[39;00m:\n",
      "File \u001b[0;32m~/anaconda3/envs/DYY/lib/python3.10/site-packages/matplotlib/image.py:132\u001b[0m, in \u001b[0;36m_draw_list_compositing_images\u001b[0;34m(renderer, parent, artists, suppress_composite)\u001b[0m\n\u001b[1;32m    130\u001b[0m \u001b[38;5;28;01mif\u001b[39;00m not_composite \u001b[38;5;129;01mor\u001b[39;00m \u001b[38;5;129;01mnot\u001b[39;00m has_images:\n\u001b[1;32m    131\u001b[0m     \u001b[38;5;28;01mfor\u001b[39;00m a \u001b[38;5;129;01min\u001b[39;00m artists:\n\u001b[0;32m--> 132\u001b[0m         \u001b[43ma\u001b[49m\u001b[38;5;241;43m.\u001b[39;49m\u001b[43mdraw\u001b[49m\u001b[43m(\u001b[49m\u001b[43mrenderer\u001b[49m\u001b[43m)\u001b[49m\n\u001b[1;32m    133\u001b[0m \u001b[38;5;28;01melse\u001b[39;00m:\n\u001b[1;32m    134\u001b[0m     \u001b[38;5;66;03m# Composite any adjacent images together\u001b[39;00m\n\u001b[1;32m    135\u001b[0m     image_group \u001b[38;5;241m=\u001b[39m []\n",
      "File \u001b[0;32m~/anaconda3/envs/DYY/lib/python3.10/site-packages/matplotlib/artist.py:72\u001b[0m, in \u001b[0;36mallow_rasterization.<locals>.draw_wrapper\u001b[0;34m(artist, renderer)\u001b[0m\n\u001b[1;32m     69\u001b[0m     \u001b[38;5;28;01mif\u001b[39;00m artist\u001b[38;5;241m.\u001b[39mget_agg_filter() \u001b[38;5;129;01mis\u001b[39;00m \u001b[38;5;129;01mnot\u001b[39;00m \u001b[38;5;28;01mNone\u001b[39;00m:\n\u001b[1;32m     70\u001b[0m         renderer\u001b[38;5;241m.\u001b[39mstart_filter()\n\u001b[0;32m---> 72\u001b[0m     \u001b[38;5;28;01mreturn\u001b[39;00m \u001b[43mdraw\u001b[49m\u001b[43m(\u001b[49m\u001b[43martist\u001b[49m\u001b[43m,\u001b[49m\u001b[43m \u001b[49m\u001b[43mrenderer\u001b[49m\u001b[43m)\u001b[49m\n\u001b[1;32m     73\u001b[0m \u001b[38;5;28;01mfinally\u001b[39;00m:\n\u001b[1;32m     74\u001b[0m     \u001b[38;5;28;01mif\u001b[39;00m artist\u001b[38;5;241m.\u001b[39mget_agg_filter() \u001b[38;5;129;01mis\u001b[39;00m \u001b[38;5;129;01mnot\u001b[39;00m \u001b[38;5;28;01mNone\u001b[39;00m:\n",
      "File \u001b[0;32m~/anaconda3/envs/DYY/lib/python3.10/site-packages/matplotlib/axes/_base.py:3137\u001b[0m, in \u001b[0;36m_AxesBase.draw\u001b[0;34m(self, renderer)\u001b[0m\n\u001b[1;32m   3134\u001b[0m \u001b[38;5;28;01mif\u001b[39;00m artists_rasterized:\n\u001b[1;32m   3135\u001b[0m     _draw_rasterized(\u001b[38;5;28mself\u001b[39m\u001b[38;5;241m.\u001b[39mfigure, artists_rasterized, renderer)\n\u001b[0;32m-> 3137\u001b[0m \u001b[43mmimage\u001b[49m\u001b[38;5;241;43m.\u001b[39;49m\u001b[43m_draw_list_compositing_images\u001b[49m\u001b[43m(\u001b[49m\n\u001b[1;32m   3138\u001b[0m \u001b[43m    \u001b[49m\u001b[43mrenderer\u001b[49m\u001b[43m,\u001b[49m\u001b[43m \u001b[49m\u001b[38;5;28;43mself\u001b[39;49m\u001b[43m,\u001b[49m\u001b[43m \u001b[49m\u001b[43martists\u001b[49m\u001b[43m,\u001b[49m\u001b[43m \u001b[49m\u001b[38;5;28;43mself\u001b[39;49m\u001b[38;5;241;43m.\u001b[39;49m\u001b[43mfigure\u001b[49m\u001b[38;5;241;43m.\u001b[39;49m\u001b[43msuppressComposite\u001b[49m\u001b[43m)\u001b[49m\n\u001b[1;32m   3140\u001b[0m renderer\u001b[38;5;241m.\u001b[39mclose_group(\u001b[38;5;124m'\u001b[39m\u001b[38;5;124maxes\u001b[39m\u001b[38;5;124m'\u001b[39m)\n\u001b[1;32m   3141\u001b[0m \u001b[38;5;28mself\u001b[39m\u001b[38;5;241m.\u001b[39mstale \u001b[38;5;241m=\u001b[39m \u001b[38;5;28;01mFalse\u001b[39;00m\n",
      "File \u001b[0;32m~/anaconda3/envs/DYY/lib/python3.10/site-packages/matplotlib/image.py:132\u001b[0m, in \u001b[0;36m_draw_list_compositing_images\u001b[0;34m(renderer, parent, artists, suppress_composite)\u001b[0m\n\u001b[1;32m    130\u001b[0m \u001b[38;5;28;01mif\u001b[39;00m not_composite \u001b[38;5;129;01mor\u001b[39;00m \u001b[38;5;129;01mnot\u001b[39;00m has_images:\n\u001b[1;32m    131\u001b[0m     \u001b[38;5;28;01mfor\u001b[39;00m a \u001b[38;5;129;01min\u001b[39;00m artists:\n\u001b[0;32m--> 132\u001b[0m         \u001b[43ma\u001b[49m\u001b[38;5;241;43m.\u001b[39;49m\u001b[43mdraw\u001b[49m\u001b[43m(\u001b[49m\u001b[43mrenderer\u001b[49m\u001b[43m)\u001b[49m\n\u001b[1;32m    133\u001b[0m \u001b[38;5;28;01melse\u001b[39;00m:\n\u001b[1;32m    134\u001b[0m     \u001b[38;5;66;03m# Composite any adjacent images together\u001b[39;00m\n\u001b[1;32m    135\u001b[0m     image_group \u001b[38;5;241m=\u001b[39m []\n",
      "File \u001b[0;32m~/anaconda3/envs/DYY/lib/python3.10/site-packages/matplotlib/artist.py:72\u001b[0m, in \u001b[0;36mallow_rasterization.<locals>.draw_wrapper\u001b[0;34m(artist, renderer)\u001b[0m\n\u001b[1;32m     69\u001b[0m     \u001b[38;5;28;01mif\u001b[39;00m artist\u001b[38;5;241m.\u001b[39mget_agg_filter() \u001b[38;5;129;01mis\u001b[39;00m \u001b[38;5;129;01mnot\u001b[39;00m \u001b[38;5;28;01mNone\u001b[39;00m:\n\u001b[1;32m     70\u001b[0m         renderer\u001b[38;5;241m.\u001b[39mstart_filter()\n\u001b[0;32m---> 72\u001b[0m     \u001b[38;5;28;01mreturn\u001b[39;00m \u001b[43mdraw\u001b[49m\u001b[43m(\u001b[49m\u001b[43martist\u001b[49m\u001b[43m,\u001b[49m\u001b[43m \u001b[49m\u001b[43mrenderer\u001b[49m\u001b[43m)\u001b[49m\n\u001b[1;32m     73\u001b[0m \u001b[38;5;28;01mfinally\u001b[39;00m:\n\u001b[1;32m     74\u001b[0m     \u001b[38;5;28;01mif\u001b[39;00m artist\u001b[38;5;241m.\u001b[39mget_agg_filter() \u001b[38;5;129;01mis\u001b[39;00m \u001b[38;5;129;01mnot\u001b[39;00m \u001b[38;5;28;01mNone\u001b[39;00m:\n",
      "File \u001b[0;32m~/anaconda3/envs/DYY/lib/python3.10/site-packages/matplotlib/image.py:653\u001b[0m, in \u001b[0;36m_ImageBase.draw\u001b[0;34m(self, renderer)\u001b[0m\n\u001b[1;32m    651\u001b[0m         renderer\u001b[38;5;241m.\u001b[39mdraw_image(gc, l, b, im, trans)\n\u001b[1;32m    652\u001b[0m \u001b[38;5;28;01melse\u001b[39;00m:\n\u001b[0;32m--> 653\u001b[0m     im, l, b, trans \u001b[38;5;241m=\u001b[39m \u001b[38;5;28;43mself\u001b[39;49m\u001b[38;5;241;43m.\u001b[39;49m\u001b[43mmake_image\u001b[49m\u001b[43m(\u001b[49m\n\u001b[1;32m    654\u001b[0m \u001b[43m        \u001b[49m\u001b[43mrenderer\u001b[49m\u001b[43m,\u001b[49m\u001b[43m \u001b[49m\u001b[43mrenderer\u001b[49m\u001b[38;5;241;43m.\u001b[39;49m\u001b[43mget_image_magnification\u001b[49m\u001b[43m(\u001b[49m\u001b[43m)\u001b[49m\u001b[43m)\u001b[49m\n\u001b[1;32m    655\u001b[0m     \u001b[38;5;28;01mif\u001b[39;00m im \u001b[38;5;129;01mis\u001b[39;00m \u001b[38;5;129;01mnot\u001b[39;00m \u001b[38;5;28;01mNone\u001b[39;00m:\n\u001b[1;32m    656\u001b[0m         renderer\u001b[38;5;241m.\u001b[39mdraw_image(gc, l, b, im)\n",
      "File \u001b[0;32m~/anaconda3/envs/DYY/lib/python3.10/site-packages/matplotlib/image.py:952\u001b[0m, in \u001b[0;36mAxesImage.make_image\u001b[0;34m(self, renderer, magnification, unsampled)\u001b[0m\n\u001b[1;32m    949\u001b[0m transformed_bbox \u001b[38;5;241m=\u001b[39m TransformedBbox(bbox, trans)\n\u001b[1;32m    950\u001b[0m clip \u001b[38;5;241m=\u001b[39m ((\u001b[38;5;28mself\u001b[39m\u001b[38;5;241m.\u001b[39mget_clip_box() \u001b[38;5;129;01mor\u001b[39;00m \u001b[38;5;28mself\u001b[39m\u001b[38;5;241m.\u001b[39maxes\u001b[38;5;241m.\u001b[39mbbox) \u001b[38;5;28;01mif\u001b[39;00m \u001b[38;5;28mself\u001b[39m\u001b[38;5;241m.\u001b[39mget_clip_on()\n\u001b[1;32m    951\u001b[0m         \u001b[38;5;28;01melse\u001b[39;00m \u001b[38;5;28mself\u001b[39m\u001b[38;5;241m.\u001b[39mfigure\u001b[38;5;241m.\u001b[39mbbox)\n\u001b[0;32m--> 952\u001b[0m \u001b[38;5;28;01mreturn\u001b[39;00m \u001b[38;5;28;43mself\u001b[39;49m\u001b[38;5;241;43m.\u001b[39;49m\u001b[43m_make_image\u001b[49m\u001b[43m(\u001b[49m\u001b[38;5;28;43mself\u001b[39;49m\u001b[38;5;241;43m.\u001b[39;49m\u001b[43m_A\u001b[49m\u001b[43m,\u001b[49m\u001b[43m \u001b[49m\u001b[43mbbox\u001b[49m\u001b[43m,\u001b[49m\u001b[43m \u001b[49m\u001b[43mtransformed_bbox\u001b[49m\u001b[43m,\u001b[49m\u001b[43m \u001b[49m\u001b[43mclip\u001b[49m\u001b[43m,\u001b[49m\n\u001b[1;32m    953\u001b[0m \u001b[43m                        \u001b[49m\u001b[43mmagnification\u001b[49m\u001b[43m,\u001b[49m\u001b[43m \u001b[49m\u001b[43munsampled\u001b[49m\u001b[38;5;241;43m=\u001b[39;49m\u001b[43munsampled\u001b[49m\u001b[43m)\u001b[49m\n",
      "File \u001b[0;32m~/anaconda3/envs/DYY/lib/python3.10/site-packages/matplotlib/image.py:567\u001b[0m, in \u001b[0;36m_ImageBase._make_image\u001b[0;34m(self, A, in_bbox, out_bbox, clip_bbox, magnification, unsampled, round_to_pixel_border)\u001b[0m\n\u001b[1;32m    564\u001b[0m     \u001b[38;5;28;01melse\u001b[39;00m:\n\u001b[1;32m    565\u001b[0m         output_alpha \u001b[38;5;241m=\u001b[39m _resample(  \u001b[38;5;66;03m# resample alpha channel\u001b[39;00m\n\u001b[1;32m    566\u001b[0m             \u001b[38;5;28mself\u001b[39m, A[\u001b[38;5;241m.\u001b[39m\u001b[38;5;241m.\u001b[39m\u001b[38;5;241m.\u001b[39m, \u001b[38;5;241m3\u001b[39m], out_shape, t, alpha\u001b[38;5;241m=\u001b[39malpha)\n\u001b[0;32m--> 567\u001b[0m     output \u001b[38;5;241m=\u001b[39m \u001b[43m_resample\u001b[49m\u001b[43m(\u001b[49m\u001b[43m  \u001b[49m\u001b[38;5;66;43;03m# resample rgb channels\u001b[39;49;00m\n\u001b[1;32m    568\u001b[0m \u001b[43m        \u001b[49m\u001b[38;5;28;43mself\u001b[39;49m\u001b[43m,\u001b[49m\u001b[43m \u001b[49m\u001b[43m_rgb_to_rgba\u001b[49m\u001b[43m(\u001b[49m\u001b[43mA\u001b[49m\u001b[43m[\u001b[49m\u001b[38;5;241;43m.\u001b[39;49m\u001b[38;5;241;43m.\u001b[39;49m\u001b[38;5;241;43m.\u001b[39;49m\u001b[43m,\u001b[49m\u001b[43m \u001b[49m\u001b[43m:\u001b[49m\u001b[38;5;241;43m3\u001b[39;49m\u001b[43m]\u001b[49m\u001b[43m)\u001b[49m\u001b[43m,\u001b[49m\u001b[43m \u001b[49m\u001b[43mout_shape\u001b[49m\u001b[43m,\u001b[49m\u001b[43m \u001b[49m\u001b[43mt\u001b[49m\u001b[43m,\u001b[49m\u001b[43m \u001b[49m\u001b[43malpha\u001b[49m\u001b[38;5;241;43m=\u001b[39;49m\u001b[43malpha\u001b[49m\u001b[43m)\u001b[49m\n\u001b[1;32m    569\u001b[0m     output[\u001b[38;5;241m.\u001b[39m\u001b[38;5;241m.\u001b[39m\u001b[38;5;241m.\u001b[39m, \u001b[38;5;241m3\u001b[39m] \u001b[38;5;241m=\u001b[39m output_alpha  \u001b[38;5;66;03m# recombine rgb and alpha\u001b[39;00m\n\u001b[1;32m    571\u001b[0m \u001b[38;5;66;03m# output is now either a 2D array of normed (int or float) data\u001b[39;00m\n\u001b[1;32m    572\u001b[0m \u001b[38;5;66;03m# or an RGBA array of re-sampled input\u001b[39;00m\n",
      "File \u001b[0;32m~/anaconda3/envs/DYY/lib/python3.10/site-packages/matplotlib/image.py:208\u001b[0m, in \u001b[0;36m_resample\u001b[0;34m(image_obj, data, out_shape, transform, resample, alpha)\u001b[0m\n\u001b[1;32m    206\u001b[0m \u001b[38;5;28;01mif\u001b[39;00m resample \u001b[38;5;129;01mis\u001b[39;00m \u001b[38;5;28;01mNone\u001b[39;00m:\n\u001b[1;32m    207\u001b[0m     resample \u001b[38;5;241m=\u001b[39m image_obj\u001b[38;5;241m.\u001b[39mget_resample()\n\u001b[0;32m--> 208\u001b[0m \u001b[43m_image\u001b[49m\u001b[38;5;241;43m.\u001b[39;49m\u001b[43mresample\u001b[49m\u001b[43m(\u001b[49m\u001b[43mdata\u001b[49m\u001b[43m,\u001b[49m\u001b[43m \u001b[49m\u001b[43mout\u001b[49m\u001b[43m,\u001b[49m\u001b[43m \u001b[49m\u001b[43mtransform\u001b[49m\u001b[43m,\u001b[49m\n\u001b[1;32m    209\u001b[0m \u001b[43m                \u001b[49m\u001b[43m_interpd_\u001b[49m\u001b[43m[\u001b[49m\u001b[43minterpolation\u001b[49m\u001b[43m]\u001b[49m\u001b[43m,\u001b[49m\n\u001b[1;32m    210\u001b[0m \u001b[43m                \u001b[49m\u001b[43mresample\u001b[49m\u001b[43m,\u001b[49m\n\u001b[1;32m    211\u001b[0m \u001b[43m                \u001b[49m\u001b[43malpha\u001b[49m\u001b[43m,\u001b[49m\n\u001b[1;32m    212\u001b[0m \u001b[43m                \u001b[49m\u001b[43mimage_obj\u001b[49m\u001b[38;5;241;43m.\u001b[39;49m\u001b[43mget_filternorm\u001b[49m\u001b[43m(\u001b[49m\u001b[43m)\u001b[49m\u001b[43m,\u001b[49m\n\u001b[1;32m    213\u001b[0m \u001b[43m                \u001b[49m\u001b[43mimage_obj\u001b[49m\u001b[38;5;241;43m.\u001b[39;49m\u001b[43mget_filterrad\u001b[49m\u001b[43m(\u001b[49m\u001b[43m)\u001b[49m\u001b[43m)\u001b[49m\n\u001b[1;32m    214\u001b[0m \u001b[38;5;28;01mreturn\u001b[39;00m out\n",
      "\u001b[0;31mKeyboardInterrupt\u001b[0m: "
     ]
    },
    {
     "data": {
      "image/png": "[encoded data removed]",
      "text/plain": [
       "<Figure size 600x400 with 1 Axes>"
      ]
     },
     "metadata": {},
     "output_type": "display_data"
    }
   ],
   "source": [
    "frames = []\n",
    "[env.reset() for _ in range(2)] # a tiny trick here :)\n",
    "observation,_ = env.reset()\n",
    "for t in range(1000):\n",
    "    image = env.render()\n",
    "    frames.append(image)\n",
    "\n",
    "    action = agent.get_action(observation)\n",
    "    next_state, reward, done, truncated, info = env.step(action)\n",
    "    observation = next_state\n",
    "    if done or truncated:\n",
    "        print('Stopped at timestamp',t,'due to','done' if done else 'truncated')\n",
    "        break\n",
    "\n",
    "show_video(frames)"
   ]
  },
  {
   "cell_type": "markdown",
   "metadata": {},
   "source": [
    "## 0.2 MDP Solvers"
   ]
  },
  {
   "cell_type": "markdown",
   "metadata": {},
   "source": [
    "理解了MDP的概念之后，我们试着解决MDP问题。乍一看我们可能完全摸不到头脑：比如CartPole环境中，我们是基于一些基础的物理知识作出的判断；但假设我们的agent没有物理知识的输入，它如何能学会在这一个MDP中拿到高分呢？一开始的四个参数就如同“盲盒”一般，agent肯定需要学习一下他们代表什么含义，以及如何演化，最后才进行我们上面所作的“策略设计”。如何让一个机器完成这一切呢？\n",
    "\n",
    "我们首先想到，一个主要的问题是环境的transition function和reward function都是完全未知的。倘若他们都是**已知的**，问题肯定会变得更简单：现在，相当于MDP作为一个透明的系统摆在我们面前，整个问题也就成为一个较为可控的问题。"
   ]
  },
  {
   "cell_type": "markdown",
   "metadata": {},
   "source": [
    "### Values\n",
    "\n",
    "这可能说起来略微抽象，但我们可以考虑如下的具体问题：在一个$4\\times 4$的方格表里有一个特殊的格子，到达那里时游戏结束并且获得奖励5，而其他地方的奖励都是-1（为了督促你尽快到达终点而非随机乱走）。transition也很简单：在每一个格子(state)处，可以选择向一个方向走(action)，然后就走到了下一个state。（如果在终点那么不管如何走都到达end state）。\n",
    "\n",
    "注意根据我们的假设，这个MDP是已知的，也就是我们知道那个特殊的格子在哪里。此时，如果不是agent而是人来解决这一问题，你该如何解决？很明显，你可以给出一个决定性的最优策略：假设我们在那个格子旁边的时候，我们就走过去；进一步，如果在再旁边一点的8个格子处，我们就走到前一次的4个格子……这样，递归地，如果确定了距离格子的Manhattan distance (定义为 $\\text{MHT}((x_1,y_1),(x_2,y_2))=|x_1-x_2|+|y_1-y_2|$)为$n$的所有点的策略，那么距离格子为$n+1$的所有点的策略也就确定了。因此，我们可以给出一个完整的策略。给定一个具体的 $4\\times 4$ 表格和那个特殊的格子，我们就可以给出这个最优策略。一个例子如下所示。\n",
    "\n",
    "|$\\rightarrow$ | $\\rightarrow$ | $\\downarrow$ | $\\leftarrow$|\n",
    "|--|--|--|--|\n",
    "| $\\rightarrow$| $\\to$ | $\\star$ | $\\leftarrow$ |\n",
    "|$\\rightarrow$ | $\\rightarrow$ | $\\uparrow$ | $\\leftarrow$ |\n",
    "| $\\rightarrow$| $\\uparrow$ | $\\uparrow$ | $\\leftarrow$|"
   ]
  },
  {
   "cell_type": "markdown",
   "metadata": {},
   "source": [
    "解决了这一问题，我们接下来试着把问题稍微一般化。假设transition并非像上面一样是确定的，而是**随机的**：在一个格子处向上走，只有70%的概率会真正走到上边——剩下的30%里，会随机走到周围剩余的格子里。注意这才是常态，因为我们在定义MDP的时候给出的就是transition probability $p(s'|s,a)$ 而非一个决定性的函数。我们接下来就来试着求解这一问题。"
   ]
  },
  {
   "cell_type": "markdown",
   "metadata": {},
   "source": [
    "#### Value Iteration\n",
    "\n",
    "那么，这样我们应该怎么办呢？容易想到，我们可以和上面完全类似地使用一种**递推关系**的方法解决这一问题。我们首先假设我们处于**最优的策略**；接下来，我们给每一个格子定义一个**价值**(value)，代表着如果我们是从这个格子出发，那么最好能达到多少分。很明显，我们有 $V(s_{\\star})=5$，其中$s_\\star$代表那个特殊的格子。而对于其他格子，我们则要试着把它的价值和周围几个格子的价值联系起来。"
   ]
  },
  {
   "cell_type": "markdown",
   "metadata": {},
   "source": [
    "||B| | |\n",
    "|--|--|--|--|\n",
    "|C| A | $\\star$ | |\n",
    "| | D| |  |\n",
    "| | | | |\n",
    "\n",
    "让我们以格子$A$为例来研究。我们虽然不知道最优策略是什么，但是我们总可以假设他的一般形式：\n",
    "\n",
    "$$\n",
    "\\pi^\\star(a|s_A)=\\begin{cases}\\rightarrow&,\\text{w.p. }p_1 \\\\\\leftarrow&,\\text{w.p. }p_2 \\\\ \\uparrow&,\\text{w.p. }p_3 \\\\ \\downarrow&,\\text{w.p. }p_4\\end{cases}\n",
    "$$\n",
    "\n",
    "其中$\\pi^\\star$的$\\star$代表这是最优策略。那么，我们就可以根据MDP和$V$的定义写出$V(A)$的表达式：\n",
    "\n",
    "$$\n",
    "\\begin{align*}\n",
    "V(s_A)&=p_1\\left[-1+(70\\%\\times V(s_{\\star})+10\\%\\times V(s_B)+10\\%\\times V(s_C)+10\\%\\times V(s_D))\\right]\\\\\n",
    "&\\quad +p_2\\left[-1+(70\\%\\times V(s_C)+10\\%\\times V(s_\\star)+10\\%\\times V(s_B)+10\\%\\times V(s_D))\\right]\\\\\n",
    "&\\quad +p_3\\left[-1+(70\\%\\times V(s_B)+10\\%\\times V(s_\\star)+10\\%\\times V(s_C)+10\\%\\times V(s_D))\\right]\\\\\n",
    "&\\quad +p_4\\left[-1+(70\\%\\times V(s_D)+10\\%\\times V(s_B)+10\\%\\times V(s_\\star)+10\\%\\times V(s_C))\\right]\n",
    "\\end{align*}\n",
    "$$\n",
    "\n",
    "但是我们又注意到$\\pi^\\star$是最优策略，因为这是我们的假设！因此，我们就可以“确定”下来$p_1,p_2,p_3,p_4$：一定是中括号里最大的那个action具有100%的概率，而其他都是0%概率。因此，我们就给出了：\n",
    "\n",
    "$$\n",
    "V(s_A)=-1+\\max\\Big\\{70\\%\\times V(s_{\\star})+10\\%\\times V(s_B)+10\\%\\times V(s_C)+10\\%\\times V(s_D),70\\%\\times V(s_C)+10\\%\\times V(s_\\star)+10\\%\\times V(s_B)+10\\%\\times V(s_D), \\\\ 70\\%\\times V(s_B)+10\\%\\times V(s_\\star)+10\\%\\times V(s_C)+10\\%\\times V(s_D), 70\\%\\times V(s_D)+10\\%\\times V(s_B)+10\\%\\times V(s_\\star)+10\\%\\times V(s_C)\\Big\\}\n",
    "$$"
   ]
  },
  {
   "cell_type": "markdown",
   "metadata": {},
   "source": [
    "类似地，对于其他的每一个格子，我们都可以列出这样的一个方程。16个方程16个未知数，理论上一定可以求解；但是一系列max的存在使得这个问题变得有些复杂。一个投机取巧的方式是说，假设我们并不是直接求解，而是通过“赋值”的方式来近似求解呢？这就是**Value Iteration**算法的基本思想——看，你已经接触到了第一个RL算法！\n",
    "\n",
    "让我们总结一下，并把上面的讨论一般化。我们给出**Value Iteration**：\n",
    "\n",
    "> **Value Iteration Algorithm**\n",
    "\n",
    "1. Init values $V(s)$ randomly for each state.\n",
    "2. Repeat until convergence:\n",
    "    - For each state $s$:\n",
    "        - Update $V(s)$ by\n",
    "        $$\n",
    "        V(s)\\leftarrow r(s,a)+\\max_{a\\in A}\\mathbb{E}_{s'\\sim p(s'|s,a)}[V(s')]\n",
    "        $$"
   ]
  },
  {
   "cell_type": "markdown",
   "metadata": {},
   "source": [
    "接下来，让我们就来把这一算法应用到上面提出的问题中吧！（为了使得代码简洁一些，我们把一些细节的内容放到了[utils_0_intro.py](./utils_0_intro.py)里面）"
   ]
  },
  {
   "cell_type": "code",
   "execution_count": 1,
   "metadata": {},
   "outputs": [
    {
     "data": {
      "text/markdown": [
       "|0.00|0.00|0.00|0.00|\n",
       "|-|-|-|-|\n",
       "|0.00|0.00|0.00|0.00|\n",
       "|0.00|0.00|0.00|0.00|\n",
       "|0.00|0.00|0.00|0.00|"
      ]
     },
     "metadata": {},
     "output_type": "display_data"
    }
   ],
   "source": [
    "from utils_0_intro import Table\n",
    "from utils import add_method_to_class\n",
    "\n",
    "@add_method_to_class(Table)\n",
    "def iteration(self:Table):\n",
    "    \"\"\"\n",
    "    Perform the Value Iteration algorithm above for one step, and update `self.V`.\n",
    "    \"\"\"\n",
    "    new_V = [[0]*self.size for _ in range(self.size)]\n",
    "    for i in range(self.size):\n",
    "        for j in range(self.size):\n",
    "            if (i,j) == self.special:\n",
    "                new_V[i][j] = 5\n",
    "                continue\n",
    "            l = []\n",
    "            for action in self.get_possible_action((i,j)):\n",
    "                weights = self.get_transition((i,j),action)\n",
    "                l.append(sum([w*self.V[x][y] for (x,y),w in weights.items()]))\n",
    "            new_V[i][j] = -1 + max(l) # The formula above\n",
    "    self.V = new_V\n",
    "\n",
    "t = Table()\n",
    "t.display()"
   ]
  },
  {
   "cell_type": "code",
   "execution_count": 2,
   "metadata": {},
   "outputs": [
    {
     "name": "stdout",
     "output_type": "stream",
     "text": [
      "Iteration 0\n"
     ]
    },
    {
     "data": {
      "text/markdown": [
       "|-1.00|-1.00|-1.00|-1.00|\n",
       "|-|-|-|-|\n",
       "|-1.00|-1.00|5.00|-1.00|\n",
       "|-1.00|-1.00|-1.00|-1.00|\n",
       "|-1.00|-1.00|-1.00|-1.00|"
      ]
     },
     "metadata": {},
     "output_type": "display_data"
    },
    {
     "name": "stdout",
     "output_type": "stream",
     "text": [
      "Iteration 5\n"
     ]
    },
    {
     "data": {
      "text/markdown": [
       "|0.02|1.07|2.95|1.66|\n",
       "|-|-|-|-|\n",
       "|0.30|2.76|5.00|2.95|\n",
       "|-0.67|0.61|2.76|1.07|\n",
       "|-2.74|-0.67|0.30|0.02|"
      ]
     },
     "metadata": {},
     "output_type": "display_data"
    },
    {
     "name": "stdout",
     "output_type": "stream",
     "text": [
      "Iteration 10\n"
     ]
    },
    {
     "data": {
      "text/markdown": [
       "|0.36|1.62|3.03|2.04|\n",
       "|-|-|-|-|\n",
       "|1.04|2.86|5.00|3.03|\n",
       "|-0.28|1.26|2.86|1.62|\n",
       "|-1.22|-0.28|1.04|0.36|"
      ]
     },
     "metadata": {},
     "output_type": "display_data"
    },
    {
     "name": "stdout",
     "output_type": "stream",
     "text": [
      "Iteration 15\n"
     ]
    },
    {
     "data": {
      "text/markdown": [
       "|0.47|1.64|3.05|2.05|\n",
       "|-|-|-|-|\n",
       "|1.08|2.90|5.00|3.05|\n",
       "|-0.10|1.29|2.90|1.64|\n",
       "|-1.13|-0.10|1.08|0.47|"
      ]
     },
     "metadata": {},
     "output_type": "display_data"
    },
    {
     "name": "stdout",
     "output_type": "stream",
     "text": [
      "Iteration 20\n"
     ]
    },
    {
     "data": {
      "text/markdown": [
       "|0.48|1.65|3.05|2.06|\n",
       "|-|-|-|-|\n",
       "|1.09|2.90|5.00|3.05|\n",
       "|-0.09|1.31|2.90|1.65|\n",
       "|-1.09|-0.09|1.09|0.48|"
      ]
     },
     "metadata": {},
     "output_type": "display_data"
    }
   ],
   "source": [
    "for time in range(21):\n",
    "    t.iteration()\n",
    "    if time % 5 == 0:\n",
    "        print('Iteration',time)\n",
    "        t.display()"
   ]
  },
  {
   "cell_type": "markdown",
   "metadata": {},
   "source": [
    "可以发现，这个算法很快就收敛了！的确——在后面的讲中，我们会论证这一算法的收敛性。但接下来，有了这些value，我们应该如何计算我们需要的最优policy呢（还记得我们一开始假设自己处于最优policy，但求解的目标实际上是找到这个policy）？这其实也很简单，因为我们已经得到了结论，我们的action一定是最大化reward $r(s,a)$ 和next value $V(s')$ 的期望值的和。\n",
    "\n",
    "这一过程也被称为**Policy Extraction**：\n",
    "\n",
    "$$\n",
    "\\pi^\\star(a|s)=\\delta\\left(a=\\arg\\max_{a\\in A}\\left(r(s,a)+\\mathbb{E}_{s'\\sim p(s'|s,a)}[V(s')]\\right)\\right)\n",
    "$$\n",
    "\n",
    "其中$\\delta$代表单点分布。\n",
    "\n",
    "让我们实现这一点："
   ]
  },
  {
   "cell_type": "code",
   "execution_count": 3,
   "metadata": {},
   "outputs": [
    {
     "data": {
      "text/markdown": [
       "|$\\rightarrow$|$\\rightarrow$|$\\downarrow$|$\\downarrow$|\n",
       "|-|-|-|-|\n",
       "|$\\rightarrow$|$\\rightarrow$|$\\star$|$\\leftarrow$|\n",
       "|$\\rightarrow$|$\\uparrow$|$\\uparrow$|$\\uparrow$|\n",
       "|$\\uparrow$|$\\uparrow$|$\\uparrow$|$\\uparrow$|"
      ]
     },
     "metadata": {},
     "output_type": "display_data"
    }
   ],
   "source": [
    "@add_method_to_class(Table)\n",
    "def extract_action(self:Table):\n",
    "    self.action = [[None]*self.size for _ in range(self.size)]\n",
    "    for i in range(self.size):\n",
    "        for j in range(self.size):\n",
    "            if (i,j) == self.special:\n",
    "                self.action[i][j] = '\\\\star'\n",
    "                continue\n",
    "            best_act = None\n",
    "            best_val = -float('inf')\n",
    "            for action in self.get_possible_action((i,j)):\n",
    "                weights = self.get_transition((i,j),action)\n",
    "                new_val = -1 + sum([w*self.V[x][y] for (x,y),w in weights.items()])\n",
    "                if new_val > best_val:\n",
    "                    best_val = new_val\n",
    "                    best_act = action\n",
    "            self.action[i][j] = self.get_display_str(best_act)\n",
    "\n",
    "t.extract_action()\n",
    "t.display(display_type='action')"
   ]
  },
  {
   "cell_type": "markdown",
   "metadata": {},
   "source": [
    "我们可以看到，这确实像是一个最优的策略。至此，我们就完成了Value Iteration方法的讨论，并第一次完整地解决了一个已知MDP下的问题！"
   ]
  },
  {
   "cell_type": "markdown",
   "metadata": {},
   "source": [
    "#### What about a larger MDP?\n",
    "\n",
    "上面的方法很直观，并且也很实用。但是，好景不长——在上面的问题里，state space的大小是16。但如果你的梦想是像Alpha Go一样处理围棋，你常见的state space可能是超过$10^{100}$以上！对于这样庞大的state space，就算在宇宙中的每一粒原子上都写下一个value，也不够储存。更为甚者，如果我们处理像之前CartPole一样的问题，我们的state是连续的，就更是无从下手了。\n",
    "\n",
    "但当我们想到这里的时候，我们一下子就发现了——我们可以使用DL中的技术，**用一个神经网络近似$V(s)$** ！这个网络输入$s$，输出对应的value。考虑到神经网络的“压缩”作用（想想ChatGPT这一模型的大小肯定比它的训练数据加起来小很多倍！），我们就可以处理大规模的MDP问题了。上面的算法中不需要修改任何地方——只需要在更新的时候把赋值换为梯度下降就可以了。（当然，如果具体实现起来可能有很多细节，比如为了避免直接训练这样`batch=1`的不稳定，我们需要采集很多数据再做一波训练，等等）"
   ]
  },
  {
   "cell_type": "markdown",
   "metadata": {},
   "source": [
    "但敏锐的你可能会发现其中的漏洞：神经网络的拟合本身会带来一个误差。此时，如果依然采用迭代的方法，我们真的还能保证收敛吗？残酷的现实是：**不**。这样的方法（也称为**fitted Value iteration**）并没有一个收敛的保证。实际上，它们不仅理论上不收敛，在实验上也展现着很大的方差。"
   ]
  },
  {
   "cell_type": "markdown",
   "metadata": {},
   "source": [
    "#### Experiment: Pixel Game\n",
    "\n",
    "我们可以再实操一个例子：“玩像素”（Pixel Game）。我们有一个$10\\times 10$的方格表，其中有22个棋子（也就是“像素”）是我们可以操控的。我们希望这些像素排成一个指定的汉字：\"**兵**\"。\n",
    "\n",
    "一开始，我们的所有棋子随机排布；而对于每一个state，我们可以采取一个action $(x,y,d)$，其中$(x,y)$代表需要移动的棋子的位置（如果没有棋子那么无效）；而$d$和之前一样是0,1,2,3中的一个，代表上下左右移动（如果无法移动那么也无效）。为了简化问题，我们认为transition是确定的，就是按照方向$d$移动$(x,y)$处的棋子后的整个像素排布。最后，reward $r(s,a)$ 取为只和$s$有关。假设$s$和最终target image的共同像素数（不计算重数）是$N$，那么\n",
    "\n",
    "$$\n",
    "r(s,a)=\\begin{cases}\\frac{N-22}{220}&,N<22\\\\100&,N=22\\end{cases}\n",
    "$$\n"
   ]
  },
  {
   "cell_type": "code",
   "execution_count": 1,
   "metadata": {},
   "outputs": [
    {
     "name": "stdout",
     "output_type": "stream",
     "text": [
      "Your device is cpu\n",
      "Target image:\n"
     ]
    },
    {
     "data": {
      "text/markdown": [
       "| | | | | | | | | | |\n",
       "|-|-|-|-|-|-|-|-|-|-|\n",
       "| | | | | |█| | | | |\n",
       "| | | | |█| | | | | |\n",
       "| | | |█| | | | | | |\n",
       "| | | |█|█|█|█|█| | |\n",
       "| | | |█| |█| | | | |\n",
       "| |█|█|█|█|█|█|█|█| |\n",
       "| | | |█| |█| | | | |\n",
       "| | |█| | | |█| | | |\n",
       "| | | | | | | | | | |"
      ]
     },
     "metadata": {},
     "output_type": "display_data"
    },
    {
     "name": "stdout",
     "output_type": "stream",
     "text": [
      "Our initial state:\n"
     ]
    },
    {
     "data": {
      "text/markdown": [
       "|█| |█| | | | | |█| |\n",
       "|-|-|-|-|-|-|-|-|-|-|\n",
       "| | | | | | | | | |█|\n",
       "| |█|█| | | | |█| | |\n",
       "| | | | | | | | | | |\n",
       "| | |█| | | | | | | |\n",
       "|█| | | |█| | | |█| |\n",
       "| | | |█|█| | |█| |█|\n",
       "| | | |█| | | | | | |\n",
       "|█| | | | | | | | |█|\n",
       "| | | | | | | | | | |"
      ]
     },
     "metadata": {},
     "output_type": "display_data"
    },
    {
     "name": "stdout",
     "output_type": "stream",
     "text": [
      "Initial reward -0.08181818181818182\n"
     ]
    }
   ],
   "source": [
    "from utils_0_intro import PixelGame\n",
    "from utils import add_method_to_class\n",
    "pgame = PixelGame()\n",
    "print('Target image:')\n",
    "pgame.display_target()\n",
    "print('Our initial state:')\n",
    "pgame.display(pgame.reset(randomly=True))\n",
    "print('Initial reward',pgame.get_reward())"
   ]
  },
  {
   "cell_type": "markdown",
   "metadata": {},
   "source": [
    "接下来，我们就来设计一个简单的网络$V(s)$。"
   ]
  },
  {
   "cell_type": "code",
   "execution_count": 2,
   "metadata": {},
   "outputs": [],
   "source": [
    "import torch\n",
    "import torch.nn as nn\n",
    "import torch.nn.functional as F\n",
    "from torch.optim import Adam\n",
    "from torch.utils.data import DataLoader,Dataset\n",
    "\n",
    "class Net(nn.Module):\n",
    "\n",
    "    def __init__(self):\n",
    "        super().__init__()\n",
    "        self.conv1 = nn.Conv2d(in_channels=1,out_channels=64,kernel_size=3)\n",
    "        self.conv2 = nn.Conv2d(in_channels=64,out_channels=16,kernel_size=3)\n",
    "        self.conv3 = nn.Conv2d(in_channels=16,out_channels=8,kernel_size=3)\n",
    "        self.mlp = nn.Linear(128,1)\n",
    "\n",
    "    def forward(self,x):\n",
    "        \"\"\"\n",
    "        compute the estimated Value given state `x`.\n",
    "        \"\"\"\n",
    "        x = nn.LeakyReLU(0.1)(self.conv1(x))\n",
    "        x = nn.LeakyReLU(0.1)(self.conv2(x))\n",
    "        x = nn.LeakyReLU(0.1)(self.conv3(x))\n",
    "        x = x.reshape(x.shape[0],-1)\n",
    "        return self.mlp(x)"
   ]
  },
  {
   "cell_type": "markdown",
   "metadata": {},
   "source": [
    "接下来，我们来准备训练数据。回顾一下我们的训练过程是\n",
    "\n",
    "$$\n",
    "V(s)\\leftarrow \\max_{a\\in A}\\left(r(s,a)+\\mathbb{E}_{s'\\sim p(s'|s,a)}[V(s')]\\right)\n",
    "$$\n",
    "\n",
    "这里唯一的变量是$s$。对于哪些$s$做这一更新呢？可以对于所有$s$，但这不现实——这一问题的state space大小是$10^{30}$左右的量级。我们为了充分利用fitted value iteration的优势，我们必须只选取相对少的一些state来训练。\n",
    "\n",
    "那如何选取这些state呢？我们发现，这些state要**具有代表性**。比如最极端地，如果没有任何一个state有着非零的reward，我们的网络就不可能学到任何东西。因此，我们决定根据他们的**分数**（也就是和目标图案重复的pixel个数）来选取数据。"
   ]
  },
  {
   "cell_type": "code",
   "execution_count": 3,
   "metadata": {},
   "outputs": [
    {
     "name": "stdout",
     "output_type": "stream",
     "text": [
      "Gathered states: 4600\n"
     ]
    }
   ],
   "source": [
    "import random\n",
    "\n",
    "@add_method_to_class(PixelGame)\n",
    "def sample_given_score(self:PixelGame,match_num,sample_num=200):\n",
    "    \"\"\"\n",
    "    Sample some states given `match_num`.\n",
    "\n",
    "    Args:\n",
    "        `match_num`: the number of states that match the target image.\n",
    "        `sample_num`: the number of states to sample.\n",
    "    \"\"\"\n",
    "    other_pixels = [(i,j) for i in range(10) for j in range(10) if (i,j) not in self.target_pixel_pos]\n",
    "    states = []\n",
    "    for _ in range(sample_num):\n",
    "        common = random.sample(self.target_pixel_pos,match_num)\n",
    "        others = random.choices(other_pixels + common,k=22-match_num) # can choose in common since it doens't count\n",
    "        states.append(common + others)\n",
    "    return states\n",
    "\n",
    "states = []\n",
    "for match_num in range(23):\n",
    "    states.extend(pgame.sample_given_score(match_num=match_num))\n",
    "print('Gathered states:',len(states))"
   ]
  },
  {
   "cell_type": "markdown",
   "metadata": {},
   "source": [
    "接下来，我们考虑训练过程。回顾一下，最外围的循环是Value iteration，就像之前那样；而和之前不同的是，我们在内部又添加了一个神经网络拟合的循环。\n",
    "\n",
    "一个必须讨论的细节是，为了发挥optimizer的优势，我们应该不是一组一组数据训练，而是把训练数据收集起来并用batch来训练。为此，我们编写一个函数`get_dataloader`。"
   ]
  },
  {
   "cell_type": "code",
   "execution_count": 4,
   "metadata": {},
   "outputs": [
    {
     "name": "stdout",
     "output_type": "stream",
     "text": [
      "Storing transitions, this may take around a minute...\n"
     ]
    },
    {
     "data": {
      "text/plain": [
       "4600"
      ]
     },
     "execution_count": 4,
     "metadata": {},
     "output_type": "execute_result"
    }
   ],
   "source": [
    "# first load the transitions once\n",
    "print('Storing transitions, this may take around a minute...')\n",
    "transition_datas = []\n",
    "for state in states:\n",
    "    actions = pgame.get_actions(state)\n",
    "    nexts = []\n",
    "    terminated = False\n",
    "    for action in actions:\n",
    "        next_state = pgame.get_transition(state,action)\n",
    "        if next_state is None:\n",
    "            terminated = True\n",
    "            break\n",
    "        nexts.append(pgame.as_tensor(next_state))\n",
    "    transition_datas.append({\n",
    "        'state':state,\n",
    "        'next_states':torch.stack(nexts,dim=0) if not terminated else None,\n",
    "        'terminated':terminated\n",
    "    })\n",
    "len(transition_datas)"
   ]
  },
  {
   "cell_type": "code",
   "execution_count": 5,
   "metadata": {},
   "outputs": [],
   "source": [
    "from utils import device\n",
    "\n",
    "@torch.no_grad()\n",
    "def get_dataloader(net:Net):\n",
    "    dataset = []\n",
    "    for it in transition_datas:\n",
    "        state = it['state']\n",
    "        target = pgame.get_reward(state)\n",
    "        term = it['terminated']\n",
    "        if not term:\n",
    "            target += net(it['next_states'].to(device)).max(dim=0)[0].cpu().item()\n",
    "        dataset.append((state,target))\n",
    "    return DataLoader(dataset=dataset,batch_size=128,shuffle=True,\n",
    "    collate_fn=lambda datas:\n",
    "        {\n",
    "            'states': torch.stack([pgame.as_tensor(data[0]) for data in datas],dim=0),\n",
    "            'targets':torch.tensor([data[1] for data in datas],dtype=torch.float).unsqueeze(-1)\n",
    "        }\n",
    "    )"
   ]
  },
  {
   "cell_type": "markdown",
   "metadata": {},
   "source": [
    "注意，这里的`terminated`变量处理了一个特殊情况：如果已经到了最终的state $s_\\star$，那么没有下一个transition，而且value的训练目标就是$r(s_\\star)=100$。\n",
    "\n",
    "最后，我们可以开始了！"
   ]
  },
  {
   "cell_type": "code",
   "execution_count": 6,
   "metadata": {},
   "outputs": [
    {
     "name": "stdout",
     "output_type": "stream",
     "text": [
      "We use this random state to monitor the value:\n"
     ]
    },
    {
     "data": {
      "text/markdown": [
       "| | | | | |█| | | | |\n",
       "|-|-|-|-|-|-|-|-|-|-|\n",
       "| |█|█| | |█| | | | |\n",
       "| | | | | | |█| | | |\n",
       "| | | |█| | | | | | |\n",
       "| | | |█|█| |█| | | |\n",
       "| | | |█| | | | | | |\n",
       "| | |█| |█| |█|█|█|█|\n",
       "| |█| | | | | |█| | |\n",
       "| |█| | | | | | | | |\n",
       "| | | | | |█|█| | | |"
      ]
     },
     "metadata": {},
     "output_type": "display_data"
    }
   ],
   "source": [
    "pick_state = states[len(states)//2] # here we select a state to monitor the convergence of value iteration.\n",
    "values_for_that_state = []\n",
    "print('We use this random state to monitor the value:')\n",
    "pgame.display(pick_state)"
   ]
  },
  {
   "cell_type": "code",
   "execution_count": 57,
   "metadata": {},
   "outputs": [
    {
     "name": "stderr",
     "output_type": "stream",
     "text": [
      "Iteration 0: loss 378.9311: 100%|██████████| 36/36 [00:01<00:00, 30.80it/s]\n"
     ]
    },
    {
     "name": "stdout",
     "output_type": "stream",
     "text": [
      "Value of the specific state 0.3292299509048462\n"
     ]
    },
    {
     "name": "stderr",
     "output_type": "stream",
     "text": [
      "Iteration 1: loss 170.7536: 100%|██████████| 36/36 [00:01<00:00, 29.52it/s]\n",
      "Iteration 2: loss 48.3388: 100%|██████████| 36/36 [00:01<00:00, 32.23it/s]\n",
      "Iteration 3: loss 16.6988: 100%|██████████| 36/36 [00:01<00:00, 30.32it/s]\n",
      "Iteration 4: loss 9.5480: 100%|██████████| 36/36 [00:01<00:00, 27.90it/s] \n",
      "Iteration 5: loss 6.9925: 100%|██████████| 36/36 [00:01<00:00, 26.57it/s] \n"
     ]
    },
    {
     "name": "stdout",
     "output_type": "stream",
     "text": [
      "Value of the specific state 22.306779861450195\n"
     ]
    },
    {
     "name": "stderr",
     "output_type": "stream",
     "text": [
      "Iteration 6: loss 8.9907: 100%|██████████| 36/36 [00:01<00:00, 25.32it/s] \n",
      "Iteration 7: loss 8.9030: 100%|██████████| 36/36 [00:01<00:00, 24.60it/s] \n",
      "Iteration 8: loss 7.2833: 100%|██████████| 36/36 [00:01<00:00, 28.58it/s] \n",
      "Iteration 9: loss 7.9333: 100%|██████████| 36/36 [00:01<00:00, 28.22it/s] \n",
      "Iteration 10: loss 11.7262: 100%|██████████| 36/36 [00:01<00:00, 28.60it/s]\n"
     ]
    },
    {
     "name": "stdout",
     "output_type": "stream",
     "text": [
      "Value of the specific state 69.13394927978516\n"
     ]
    },
    {
     "name": "stderr",
     "output_type": "stream",
     "text": [
      "Iteration 11: loss 25.0498: 100%|██████████| 36/36 [00:01<00:00, 28.04it/s]\n",
      "Iteration 12: loss 33.6014: 100%|██████████| 36/36 [00:01<00:00, 27.83it/s]\n",
      "Iteration 13: loss 61.3941: 100%|██████████| 36/36 [00:01<00:00, 27.82it/s]\n",
      "Iteration 14: loss 60.5420: 100%|██████████| 36/36 [00:01<00:00, 28.16it/s]\n",
      "Iteration 15: loss 83.2631: 100%|██████████| 36/36 [00:01<00:00, 26.81it/s] \n"
     ]
    },
    {
     "name": "stdout",
     "output_type": "stream",
     "text": [
      "Value of the specific state 118.82010650634766\n"
     ]
    },
    {
     "name": "stderr",
     "output_type": "stream",
     "text": [
      "Iteration 16: loss 140.7156: 100%|██████████| 36/36 [00:01<00:00, 26.34it/s]\n",
      "Iteration 17: loss 344.9636: 100%|██████████| 36/36 [00:01<00:00, 29.03it/s]\n",
      "Iteration 18: loss 643.1255: 100%|██████████| 36/36 [00:01<00:00, 29.19it/s]\n",
      "Iteration 19: loss 532.6680: 100%|██████████| 36/36 [00:01<00:00, 25.71it/s]\n",
      "Iteration 20: loss 917.9474: 100%|██████████| 36/36 [00:01<00:00, 28.52it/s] \n"
     ]
    },
    {
     "name": "stdout",
     "output_type": "stream",
     "text": [
      "Value of the specific state 208.20388793945312\n"
     ]
    },
    {
     "name": "stderr",
     "output_type": "stream",
     "text": [
      "Iteration 21: loss 910.9753: 100%|██████████| 36/36 [00:01<00:00, 26.99it/s] \n",
      "Iteration 22: loss 1384.3209: 100%|██████████| 36/36 [00:01<00:00, 28.42it/s]\n",
      "Iteration 23: loss 2010.1080: 100%|██████████| 36/36 [00:01<00:00, 27.19it/s]\n",
      "Iteration 24: loss 2916.3315: 100%|██████████| 36/36 [00:01<00:00, 26.68it/s]\n"
     ]
    }
   ],
   "source": [
    "from tqdm import tqdm\n",
    "net = Net().to(device)\n",
    "opt = Adam(net.parameters(),lr=5e-3)\n",
    "values_for_that_state = []\n",
    "for iteration in range(25):\n",
    "    losses = []\n",
    "    dataloader = get_dataloader(net)\n",
    "    with tqdm(dataloader) as bar:\n",
    "        for it in bar:\n",
    "            val = net(it['states'].to(device)) # [batch,1]\n",
    "            loss = F.mse_loss(val,it['targets'])\n",
    "            opt.zero_grad()\n",
    "            loss.backward()\n",
    "            opt.step()\n",
    "            losses.append(loss.detach().cpu().item())\n",
    "            bar.set_description(f'Iteration {iteration}: loss {sum(losses)/len(losses):.4f}')\n",
    "    with torch.no_grad():\n",
    "        value = net(pgame.as_tensor(pick_state).unsqueeze(0).to(device)).cpu().item()\n",
    "    if iteration % 5 == 0:\n",
    "        print('Value of the specific state',value)\n",
    "    values_for_that_state.append(value)"
   ]
  },
  {
   "cell_type": "markdown",
   "metadata": {},
   "source": [
    "我们还可以观察一下整个过程中value整体上是如何变化的："
   ]
  },
  {
   "cell_type": "code",
   "execution_count": 58,
   "metadata": {},
   "outputs": [
    {
     "data": {
      "image/png": "[encoded data removed]",
      "text/plain": [
       "<Figure size 640x480 with 1 Axes>"
      ]
     },
     "metadata": {},
     "output_type": "display_data"
    }
   ],
   "source": [
    "import matplotlib.pyplot as plt\n",
    "plt.plot([x[0] for x in enumerate(values_for_that_state)],values_for_that_state)\n",
    "plt.title('Value for a given state')\n",
    "plt.show()"
   ]
  },
  {
   "cell_type": "markdown",
   "metadata": {},
   "source": [
    "可以发现，value虽然开始有所涨落，但之后上升的很快。我们再来看看给出的策略如何？"
   ]
  },
  {
   "cell_type": "code",
   "execution_count": 7,
   "metadata": {},
   "outputs": [],
   "source": [
    "def demonstrate_policy(net):\n",
    "    state = pgame.reset(randomly=True)\n",
    "    cum_r = 0\n",
    "    succeed = False\n",
    "    print('Initial state:')\n",
    "    pgame.display()\n",
    "    print('Initial common pixels',pgame.get_common_pixels(state))\n",
    "    for time in range(200):\n",
    "        actions = pgame.get_actions(state)\n",
    "        best_act = None\n",
    "        best_val = float('-inf')\n",
    "        for action in actions:\n",
    "            next_state = pgame.get_transition(state,action)\n",
    "            with torch.no_grad():\n",
    "                value = net(pgame.as_tensor(next_state).unsqueeze(0).to(device)).cpu().item()\n",
    "            if value > best_val:\n",
    "                best_val = value\n",
    "                best_act = action\n",
    "        cum_r += pgame.get_reward(state)\n",
    "        state = pgame.get_transition(state,best_act)\n",
    "        if state is None:\n",
    "            succeed = True\n",
    "            break\n",
    "        pgame.set_state(state)\n",
    "        if time % 20 == 1:\n",
    "            print('t =',time)\n",
    "            pgame.display()\n",
    "    print('Cumulative reward',f'{cum_r:.2f}')\n",
    "    print('Succeeded?',succeed)\n",
    "    print('Final common pixels:',100 if succeed else pgame.get_common_pixels(state))\n",
    "    return state"
   ]
  },
  {
   "cell_type": "code",
   "execution_count": 60,
   "metadata": {},
   "outputs": [
    {
     "name": "stdout",
     "output_type": "stream",
     "text": [
      "Initial state:\n"
     ]
    },
    {
     "data": {
      "text/markdown": [
       "| |█| |█| | |█| | |█|\n",
       "|-|-|-|-|-|-|-|-|-|-|\n",
       "| | |█| | | |█|█| | |\n",
       "| |█| | | | | | | | |\n",
       "| |█| | | | | | | | |\n",
       "| | | | |█| |█|█| | |\n",
       "| | | | | | | | | | |\n",
       "| | | |█| | | | | | |\n",
       "|█| | | | | | | | | |\n",
       "|█| | | | | |█|█| |█|\n",
       "| | | | | | | | | | |"
      ]
     },
     "metadata": {},
     "output_type": "display_data"
    },
    {
     "name": "stdout",
     "output_type": "stream",
     "text": [
      "Initial common pixels 5\n",
      "t = 1\n"
     ]
    },
    {
     "data": {
      "text/markdown": [
       "| |█| |█| | |█| | |█|\n",
       "|-|-|-|-|-|-|-|-|-|-|\n",
       "| | |█| | | |█|█| | |\n",
       "| | | | | | | | | | |\n",
       "| |█| | | | | | | | |\n",
       "| | | | |█| |█| | | |\n",
       "| | | | | | | | | | |\n",
       "| | | |█| | | | | | |\n",
       "|█| | | | | | | | | |\n",
       "|█| | | | | |█|█| |█|\n",
       "| | | | | | | | | | |"
      ]
     },
     "metadata": {},
     "output_type": "display_data"
    },
    {
     "name": "stdout",
     "output_type": "stream",
     "text": [
      "t = 21\n"
     ]
    },
    {
     "data": {
      "text/markdown": [
       "| | |█| | | | | | | |\n",
       "|-|-|-|-|-|-|-|-|-|-|\n",
       "| | | |█| | |█| | | |\n",
       "| | | | | | | | | | |\n",
       "| |█| | | | | | | | |\n",
       "| | | | | |█| | | | |\n",
       "| | | | | | | | | | |\n",
       "| | | |█| | | | | | |\n",
       "|█| | | | | | | | | |\n",
       "| | | | | | | |█| | |\n",
       "| | | | | | | | | | |"
      ]
     },
     "metadata": {},
     "output_type": "display_data"
    },
    {
     "name": "stdout",
     "output_type": "stream",
     "text": [
      "t = 41\n"
     ]
    },
    {
     "data": {
      "text/markdown": [
       "| | |█| | | | | | | |\n",
       "|-|-|-|-|-|-|-|-|-|-|\n",
       "| | | |█| | |█| | | |\n",
       "| | | | | | | | | | |\n",
       "| |█| | | | | | | | |\n",
       "| | | | | |█| | | | |\n",
       "| | | | | | | | | | |\n",
       "| | | |█| | | | | | |\n",
       "|█| | | | | | | | | |\n",
       "| | | | | | | |█| | |\n",
       "| | | | | | | | | | |"
      ]
     },
     "metadata": {},
     "output_type": "display_data"
    },
    {
     "name": "stdout",
     "output_type": "stream",
     "text": [
      "t = 61\n"
     ]
    },
    {
     "data": {
      "text/markdown": [
       "| | |█| | | | | | | |\n",
       "|-|-|-|-|-|-|-|-|-|-|\n",
       "| | | |█| | |█| | | |\n",
       "| | | | | | | | | | |\n",
       "| |█| | | | | | | | |\n",
       "| | | | | |█| | | | |\n",
       "| | | | | | | | | | |\n",
       "| | | |█| | | | | | |\n",
       "|█| | | | | | | | | |\n",
       "| | | | | | | |█| | |\n",
       "| | | | | | | | | | |"
      ]
     },
     "metadata": {},
     "output_type": "display_data"
    },
    {
     "name": "stdout",
     "output_type": "stream",
     "text": [
      "t = 81\n"
     ]
    },
    {
     "data": {
      "text/markdown": [
       "| | |█| | | | | | | |\n",
       "|-|-|-|-|-|-|-|-|-|-|\n",
       "| | | |█| | |█| | | |\n",
       "| | | | | | | | | | |\n",
       "| |█| | | | | | | | |\n",
       "| | | | | |█| | | | |\n",
       "| | | | | | | | | | |\n",
       "| | | |█| | | | | | |\n",
       "|█| | | | | | | | | |\n",
       "| | | | | | | |█| | |\n",
       "| | | | | | | | | | |"
      ]
     },
     "metadata": {},
     "output_type": "display_data"
    },
    {
     "name": "stdout",
     "output_type": "stream",
     "text": [
      "t = 101\n"
     ]
    },
    {
     "data": {
      "text/markdown": [
       "| | |█| | | | | | | |\n",
       "|-|-|-|-|-|-|-|-|-|-|\n",
       "| | | |█| | |█| | | |\n",
       "| | | | | | | | | | |\n",
       "| |█| | | | | | | | |\n",
       "| | | | | |█| | | | |\n",
       "| | | | | | | | | | |\n",
       "| | | |█| | | | | | |\n",
       "|█| | | | | | | | | |\n",
       "| | | | | | | |█| | |\n",
       "| | | | | | | | | | |"
      ]
     },
     "metadata": {},
     "output_type": "display_data"
    },
    {
     "name": "stdout",
     "output_type": "stream",
     "text": [
      "t = 121\n"
     ]
    },
    {
     "data": {
      "text/markdown": [
       "| | |█| | | | | | | |\n",
       "|-|-|-|-|-|-|-|-|-|-|\n",
       "| | | |█| | |█| | | |\n",
       "| | | | | | | | | | |\n",
       "| |█| | | | | | | | |\n",
       "| | | | | |█| | | | |\n",
       "| | | | | | | | | | |\n",
       "| | | |█| | | | | | |\n",
       "|█| | | | | | | | | |\n",
       "| | | | | | | |█| | |\n",
       "| | | | | | | | | | |"
      ]
     },
     "metadata": {},
     "output_type": "display_data"
    },
    {
     "name": "stdout",
     "output_type": "stream",
     "text": [
      "t = 141\n"
     ]
    },
    {
     "data": {
      "text/markdown": [
       "| | |█| | | | | | | |\n",
       "|-|-|-|-|-|-|-|-|-|-|\n",
       "| | | |█| | |█| | | |\n",
       "| | | | | | | | | | |\n",
       "| |█| | | | | | | | |\n",
       "| | | | | |█| | | | |\n",
       "| | | | | | | | | | |\n",
       "| | | |█| | | | | | |\n",
       "|█| | | | | | | | | |\n",
       "| | | | | | | |█| | |\n",
       "| | | | | | | | | | |"
      ]
     },
     "metadata": {},
     "output_type": "display_data"
    },
    {
     "name": "stdout",
     "output_type": "stream",
     "text": [
      "t = 161\n"
     ]
    },
    {
     "data": {
      "text/markdown": [
       "| | |█| | | | | | | |\n",
       "|-|-|-|-|-|-|-|-|-|-|\n",
       "| | | |█| | |█| | | |\n",
       "| | | | | | | | | | |\n",
       "| |█| | | | | | | | |\n",
       "| | | | | |█| | | | |\n",
       "| | | | | | | | | | |\n",
       "| | | |█| | | | | | |\n",
       "|█| | | | | | | | | |\n",
       "| | | | | | | |█| | |\n",
       "| | | | | | | | | | |"
      ]
     },
     "metadata": {},
     "output_type": "display_data"
    },
    {
     "name": "stdout",
     "output_type": "stream",
     "text": [
      "t = 181\n"
     ]
    },
    {
     "data": {
      "text/markdown": [
       "| | |█| | | | | | | |\n",
       "|-|-|-|-|-|-|-|-|-|-|\n",
       "| | | |█| | |█| | | |\n",
       "| | | | | | | | | | |\n",
       "| |█| | | | | | | | |\n",
       "| | | | | |█| | | | |\n",
       "| | | | | | | | | | |\n",
       "| | | |█| | | | | | |\n",
       "|█| | | | | | | | | |\n",
       "| | | | | | | |█| | |\n",
       "| | | | | | | | | | |"
      ]
     },
     "metadata": {},
     "output_type": "display_data"
    },
    {
     "name": "stdout",
     "output_type": "stream",
     "text": [
      "Cumulative reward -18.08\n",
      "Succeeded? False\n",
      "Final common pixels: 2\n"
     ]
    }
   ],
   "source": [
    "demonstrate_policy(net)"
   ]
  },
  {
   "cell_type": "markdown",
   "metadata": {},
   "source": [
    "我们发现我们的网络竟然什么都没有学到——最后的common pixel个数竟然少于一开始的！这显然说明了网络的价值评估出现了错误。再一回味，也又发现了问题：无论如何，value都不应该到达100以上，因为最终的state才有reward 100，而其他的state reward都为负数。一定是有地方出了问题！\n",
    "\n",
    "哈哈，的确——提出理论只需要凭感觉就可以了，但做实验的人需要想的就多了。我们只能观察：可以发现，**随着value的大幅度上升，loss也增加了**，如何解释这件事呢？"
   ]
  },
  {
   "cell_type": "markdown",
   "metadata": {},
   "source": [
    "其实，道理很简单——为什么在一个iteration内部我们的loss不能降到0？我们的神经网络表达能力肯定还是够的，真正的问题在于**数据太差**。为什么数据差？原因也很简单，因为value iteration的中间结果可能有一定波动，这些波动在不同的state上体现不一样，而value又间接地被当成训练数据，这就好比是训练数据上下了毒一般。更糟糕的是，这样训练出来的糟糕模型又被当成下一次训练的目标，这样loss就会爆炸一般大幅上升。\n",
    "\n",
    "一个很好的比喻是说，上面的方法宛如**shooting a moving target**。我们的DL模型之所以强大，是因为他们狠狠地在固定的靶子上训练并达到极高的水准；而现在把他们应用到这里可能令他们有些水土不服。为何不让靶子**停下来**，或者**慢下来**呢？这就是**target network**的基本思想。"
   ]
  },
  {
   "cell_type": "markdown",
   "metadata": {},
   "source": [
    "#### Target Network"
   ]
  },
  {
   "cell_type": "markdown",
   "metadata": {},
   "source": [
    "首先，我们引入一个**target network** $V_{\\theta_0}$，而把原来的网络叫做$V_\\theta$。其次，我们的更新方式就变成了\n",
    "\n",
    "$$\n",
    "\\theta \\leftarrow \\theta + \\eta \\nabla_{\\theta}\\left[V_\\theta(s)-\\left(\\max_{a\\in A}\\left(r(s,a)+\\mathbb{E}_{s'\\sim p(s'|s,a)}[V_{\\theta_0}(s')]\\right)\\right)\\right]^2\n",
    "$$\n",
    "\n",
    "顾名思义——target network就用于target的计算。回顾之前的方法，相当于target network被取为前一个Iteration更新后的$V$，瞬息万变；而现在，我们希望target network的更新慢一些。\n",
    "\n",
    "第一个方法就是，我们**隔一段时间猛地更新一下**：\n",
    "\n",
    "```python\n",
    "if iteration % PERIOD == 0:\n",
    "    target_net.load_state_dict(net.state_dict())\n",
    "```\n",
    "\n",
    "而第二个方法更加文明：我们每一次使用running average更新。也就是说：\n",
    "\n",
    "$$\n",
    "\\theta_0 \\leftarrow (1-\\alpha)\\theta_0 + \\alpha \\theta\n",
    "$$\n",
    "\n",
    "这稍微更难实现一些，但更稳定（可以想象），因此我们采用这第二种方法。"
   ]
  },
  {
   "cell_type": "code",
   "execution_count": 8,
   "metadata": {},
   "outputs": [
    {
     "name": "stderr",
     "output_type": "stream",
     "text": [
      "  0%|          | 0/36 [00:00<?, ?it/s]/home/zhh/anaconda3/envs/DYY/lib/python3.10/site-packages/torch/autograd/graph.py:768: UserWarning: CUDA initialization: CUDA unknown error - this may be due to an incorrectly set up environment, e.g. changing env variable CUDA_VISIBLE_DEVICES after program start. Setting the available devices to be zero. (Triggered internally at ../c10/cuda/CUDAFunctions.cpp:108.)\n",
      "  return Variable._execution_engine.run_backward(  # Calls into the C++ engine to run the backward pass\n",
      "Iteration 0: loss 380.1263: 100%|██████████| 36/36 [00:02<00:00, 13.60it/s]\n"
     ]
    },
    {
     "name": "stdout",
     "output_type": "stream",
     "text": [
      "Value of the specific state -1.7006075382232666\n"
     ]
    },
    {
     "name": "stderr",
     "output_type": "stream",
     "text": [
      "Iteration 1: loss 286.6912: 100%|██████████| 36/36 [00:01<00:00, 30.62it/s]\n",
      "Iteration 2: loss 231.8857: 100%|██████████| 36/36 [00:01<00:00, 29.00it/s]\n",
      "Iteration 3: loss 145.4007: 100%|██████████| 36/36 [00:01<00:00, 27.87it/s]\n",
      "Iteration 4: loss 138.0900: 100%|██████████| 36/36 [00:01<00:00, 28.76it/s]\n",
      "Iteration 5: loss 86.3560: 100%|██████████| 36/36 [00:01<00:00, 27.91it/s]\n"
     ]
    },
    {
     "name": "stdout",
     "output_type": "stream",
     "text": [
      "Value of the specific state 0.17137743532657623\n"
     ]
    },
    {
     "name": "stderr",
     "output_type": "stream",
     "text": [
      "Iteration 6: loss 74.8810: 100%|██████████| 36/36 [00:01<00:00, 29.18it/s]\n",
      "Iteration 7: loss 43.3864: 100%|██████████| 36/36 [00:01<00:00, 26.18it/s]\n",
      "Iteration 8: loss 31.3327: 100%|██████████| 36/36 [00:01<00:00, 28.45it/s]\n",
      "Iteration 9: loss 26.0478: 100%|██████████| 36/36 [00:01<00:00, 30.19it/s]\n",
      "Iteration 10: loss 19.5462: 100%|██████████| 36/36 [00:01<00:00, 22.96it/s]\n"
     ]
    },
    {
     "name": "stdout",
     "output_type": "stream",
     "text": [
      "Value of the specific state 0.6864661574363708\n"
     ]
    },
    {
     "name": "stderr",
     "output_type": "stream",
     "text": [
      "Iteration 11: loss 15.9316: 100%|██████████| 36/36 [00:01<00:00, 25.77it/s]\n",
      "Iteration 12: loss 14.2429: 100%|██████████| 36/36 [00:01<00:00, 29.68it/s]\n",
      "Iteration 13: loss 12.2972: 100%|██████████| 36/36 [00:01<00:00, 28.10it/s]\n",
      "Iteration 14: loss 11.3102: 100%|██████████| 36/36 [00:01<00:00, 28.93it/s]\n",
      "Iteration 15: loss 10.9364: 100%|██████████| 36/36 [00:01<00:00, 28.46it/s]\n"
     ]
    },
    {
     "name": "stdout",
     "output_type": "stream",
     "text": [
      "Value of the specific state 0.815923810005188\n"
     ]
    },
    {
     "name": "stderr",
     "output_type": "stream",
     "text": [
      "Iteration 16: loss 10.2865: 100%|██████████| 36/36 [00:01<00:00, 30.06it/s]\n",
      "Iteration 17: loss 9.6947: 100%|██████████| 36/36 [00:01<00:00, 27.52it/s]\n",
      "Iteration 18: loss 12.5096: 100%|██████████| 36/36 [00:01<00:00, 27.61it/s]\n",
      "Iteration 19: loss 8.8762: 100%|██████████| 36/36 [00:01<00:00, 28.78it/s]\n",
      "Iteration 20: loss 8.5178: 100%|██████████| 36/36 [00:01<00:00, 27.76it/s]\n"
     ]
    },
    {
     "name": "stdout",
     "output_type": "stream",
     "text": [
      "Value of the specific state 1.3873649835586548\n"
     ]
    },
    {
     "name": "stderr",
     "output_type": "stream",
     "text": [
      "Iteration 21: loss 8.2454: 100%|██████████| 36/36 [00:01<00:00, 24.31it/s]\n",
      "Iteration 22: loss 9.1589: 100%|██████████| 36/36 [00:01<00:00, 27.99it/s] \n",
      "Iteration 23: loss 10.1366: 100%|██████████| 36/36 [00:01<00:00, 24.61it/s]\n",
      "Iteration 24: loss 7.6865: 100%|██████████| 36/36 [00:01<00:00, 25.79it/s]\n",
      "Iteration 25: loss 7.2592: 100%|██████████| 36/36 [00:01<00:00, 24.90it/s]\n"
     ]
    },
    {
     "name": "stdout",
     "output_type": "stream",
     "text": [
      "Value of the specific state 1.7577736377716064\n"
     ]
    },
    {
     "name": "stderr",
     "output_type": "stream",
     "text": [
      "Iteration 26: loss 6.1591: 100%|██████████| 36/36 [00:01<00:00, 22.87it/s]\n",
      "Iteration 27: loss 5.6755: 100%|██████████| 36/36 [00:01<00:00, 27.71it/s]\n",
      "Iteration 28: loss 5.6489: 100%|██████████| 36/36 [00:01<00:00, 28.96it/s]\n",
      "Iteration 29: loss 5.9079: 100%|██████████| 36/36 [00:01<00:00, 25.45it/s]\n",
      "Iteration 30: loss 5.1560: 100%|██████████| 36/36 [00:01<00:00, 26.31it/s]\n"
     ]
    },
    {
     "name": "stdout",
     "output_type": "stream",
     "text": [
      "Value of the specific state 2.6860718727111816\n"
     ]
    },
    {
     "name": "stderr",
     "output_type": "stream",
     "text": [
      "Iteration 31: loss 4.7254: 100%|██████████| 36/36 [00:01<00:00, 26.42it/s]\n",
      "Iteration 32: loss 4.7112: 100%|██████████| 36/36 [00:01<00:00, 28.04it/s]\n",
      "Iteration 33: loss 4.3643: 100%|██████████| 36/36 [00:01<00:00, 27.11it/s]\n",
      "Iteration 34: loss 3.8525: 100%|██████████| 36/36 [00:01<00:00, 26.07it/s]\n",
      "Iteration 35: loss 4.4488: 100%|██████████| 36/36 [00:01<00:00, 28.06it/s]\n"
     ]
    },
    {
     "name": "stdout",
     "output_type": "stream",
     "text": [
      "Value of the specific state 3.428640842437744\n"
     ]
    },
    {
     "name": "stderr",
     "output_type": "stream",
     "text": [
      "Iteration 36: loss 3.2464: 100%|██████████| 36/36 [00:01<00:00, 25.51it/s]\n",
      "Iteration 37: loss 4.0186: 100%|██████████| 36/36 [00:01<00:00, 29.25it/s]\n",
      "Iteration 38: loss 2.9010: 100%|██████████| 36/36 [00:01<00:00, 27.62it/s]\n",
      "Iteration 39: loss 2.6364: 100%|██████████| 36/36 [00:01<00:00, 26.15it/s]\n",
      "Iteration 40: loss 2.7099: 100%|██████████| 36/36 [00:01<00:00, 25.74it/s]\n"
     ]
    },
    {
     "name": "stdout",
     "output_type": "stream",
     "text": [
      "Value of the specific state 4.623112201690674\n"
     ]
    },
    {
     "name": "stderr",
     "output_type": "stream",
     "text": [
      "Iteration 41: loss 3.7212: 100%|██████████| 36/36 [00:01<00:00, 23.86it/s]\n",
      "Iteration 42: loss 3.8031: 100%|██████████| 36/36 [00:01<00:00, 24.75it/s]\n",
      "Iteration 43: loss 2.7938: 100%|██████████| 36/36 [00:01<00:00, 22.55it/s]\n",
      "Iteration 44: loss 3.6801: 100%|██████████| 36/36 [00:01<00:00, 25.91it/s]\n",
      "Iteration 45: loss 3.5135: 100%|██████████| 36/36 [00:01<00:00, 27.05it/s]\n"
     ]
    },
    {
     "name": "stdout",
     "output_type": "stream",
     "text": [
      "Value of the specific state 5.84722900390625\n"
     ]
    },
    {
     "name": "stderr",
     "output_type": "stream",
     "text": [
      "Iteration 46: loss 3.2741: 100%|██████████| 36/36 [00:01<00:00, 27.91it/s]\n",
      "Iteration 47: loss 2.2997: 100%|██████████| 36/36 [00:01<00:00, 24.99it/s]\n",
      "Iteration 48: loss 2.5101: 100%|██████████| 36/36 [00:01<00:00, 28.46it/s]\n",
      "Iteration 49: loss 2.2010: 100%|██████████| 36/36 [00:01<00:00, 24.71it/s]\n"
     ]
    }
   ],
   "source": [
    "from tqdm import tqdm\n",
    "net = Net().to(device)\n",
    "target_net = Net().to(device).requires_grad_(False)\n",
    "target_net.load_state_dict(net.state_dict())\n",
    "opt = Adam(net.parameters(),lr=5e-3)\n",
    "values_for_that_state = []\n",
    "ALPHA = 0.2\n",
    "def update_target():\n",
    "    for theta_0,theta in zip(target_net.parameters(),net.parameters()):\n",
    "        theta_0.copy_((1-ALPHA) * theta_0 + ALPHA * theta)\n",
    "\n",
    "def continue_train_one(iteration):\n",
    "    losses = []\n",
    "    dataloader = get_dataloader(target_net)\n",
    "    with tqdm(dataloader) as bar:\n",
    "        for it in bar:\n",
    "            val = net(it['states'].to(device)) # [batch,1]\n",
    "            loss = F.mse_loss(val,it['targets'])\n",
    "            opt.zero_grad()\n",
    "            loss.backward()\n",
    "            opt.step()\n",
    "            losses.append(loss.detach().cpu().item())\n",
    "            bar.set_description(f'Iteration {iteration}: loss {sum(losses)/len(losses):.4f}')\n",
    "    update_target()\n",
    "    with torch.no_grad():\n",
    "        value = net(pgame.as_tensor(pick_state).unsqueeze(0).to(device)).cpu().item()\n",
    "    if iteration % 5 == 0:\n",
    "        print('Value of the specific state',value)\n",
    "    values_for_that_state.append(value)\n",
    "\n",
    "for iteration in range(50):\n",
    "    continue_train_one(iteration)"
   ]
  },
  {
   "cell_type": "code",
   "execution_count": 11,
   "metadata": {},
   "outputs": [
    {
     "data": {
      "image/png": "[encoded data removed]",
      "text/plain": [
       "<Figure size 640x480 with 1 Axes>"
      ]
     },
     "metadata": {},
     "output_type": "display_data"
    }
   ],
   "source": [
    "plt.plot([x[0] for x in enumerate(values_for_that_state)],values_for_that_state)\n",
    "plt.title('Value for a given state')\n",
    "plt.show()"
   ]
  },
  {
   "cell_type": "markdown",
   "metadata": {},
   "source": [
    "看起来不错！之前loss随着value增大的逐渐上升现象消失了。让我们继续吧！\n",
    "\n",
    "当然，看到value一直在上升，我们也要大概心里有个概念：value的理论值大概是多少？上限肯定是100；而下限可以简单地估算：$100-0.1\\times (20\\times 22)=56$，其中$20\\times 22$是最大可能的操作步数。因此，最终的value应该在二者之间才合理。"
   ]
  },
  {
   "cell_type": "code",
   "execution_count": 12,
   "metadata": {},
   "outputs": [
    {
     "name": "stderr",
     "output_type": "stream",
     "text": [
      "Iteration 50: loss 3.6074: 100%|██████████| 36/36 [00:01<00:00, 33.18it/s]\n"
     ]
    },
    {
     "name": "stdout",
     "output_type": "stream",
     "text": [
      "Value of the specific state 7.542821884155273\n"
     ]
    },
    {
     "name": "stderr",
     "output_type": "stream",
     "text": [
      "Iteration 51: loss 4.9976: 100%|██████████| 36/36 [00:01<00:00, 27.24it/s]\n",
      "Iteration 52: loss 3.1923: 100%|██████████| 36/36 [00:01<00:00, 29.82it/s]\n",
      "Iteration 53: loss 2.9819: 100%|██████████| 36/36 [00:01<00:00, 28.40it/s]\n",
      "Iteration 54: loss 2.8536: 100%|██████████| 36/36 [00:01<00:00, 30.05it/s]\n",
      "Iteration 55: loss 3.4566: 100%|██████████| 36/36 [00:01<00:00, 28.92it/s]\n"
     ]
    },
    {
     "name": "stdout",
     "output_type": "stream",
     "text": [
      "Value of the specific state 10.080211639404297\n"
     ]
    },
    {
     "name": "stderr",
     "output_type": "stream",
     "text": [
      "Iteration 56: loss 3.1856: 100%|██████████| 36/36 [00:01<00:00, 29.90it/s]\n",
      "Iteration 57: loss 3.4566: 100%|██████████| 36/36 [00:01<00:00, 29.20it/s]\n",
      "Iteration 58: loss 2.8012: 100%|██████████| 36/36 [00:01<00:00, 24.70it/s]\n",
      "Iteration 59: loss 3.1339: 100%|██████████| 36/36 [00:01<00:00, 25.45it/s]\n",
      "Iteration 60: loss 4.8317: 100%|██████████| 36/36 [00:01<00:00, 26.15it/s]\n"
     ]
    },
    {
     "name": "stdout",
     "output_type": "stream",
     "text": [
      "Value of the specific state 14.747027397155762\n"
     ]
    },
    {
     "name": "stderr",
     "output_type": "stream",
     "text": [
      "Iteration 61: loss 3.6975: 100%|██████████| 36/36 [00:01<00:00, 27.33it/s]\n",
      "Iteration 62: loss 3.8921: 100%|██████████| 36/36 [00:01<00:00, 26.90it/s]\n",
      "Iteration 63: loss 4.7970: 100%|██████████| 36/36 [00:01<00:00, 27.10it/s]\n",
      "Iteration 64: loss 5.5465: 100%|██████████| 36/36 [00:01<00:00, 25.14it/s]\n",
      "Iteration 65: loss 6.7890: 100%|██████████| 36/36 [00:01<00:00, 27.52it/s]\n"
     ]
    },
    {
     "name": "stdout",
     "output_type": "stream",
     "text": [
      "Value of the specific state 18.557485580444336\n"
     ]
    },
    {
     "name": "stderr",
     "output_type": "stream",
     "text": [
      "Iteration 66: loss 5.8203: 100%|██████████| 36/36 [00:01<00:00, 27.66it/s]\n",
      "Iteration 67: loss 7.4562: 100%|██████████| 36/36 [00:01<00:00, 27.78it/s]\n",
      "Iteration 68: loss 7.1440: 100%|██████████| 36/36 [00:01<00:00, 26.02it/s]\n",
      "Iteration 69: loss 6.3553: 100%|██████████| 36/36 [00:01<00:00, 26.69it/s]\n",
      "Iteration 70: loss 6.9507: 100%|██████████| 36/36 [00:01<00:00, 23.81it/s]\n"
     ]
    },
    {
     "name": "stdout",
     "output_type": "stream",
     "text": [
      "Value of the specific state 24.748151779174805\n"
     ]
    },
    {
     "name": "stderr",
     "output_type": "stream",
     "text": [
      "Iteration 71: loss 6.7741: 100%|██████████| 36/36 [00:01<00:00, 26.10it/s]\n",
      "Iteration 72: loss 6.3916: 100%|██████████| 36/36 [00:01<00:00, 25.65it/s]\n",
      "Iteration 73: loss 8.7974: 100%|██████████| 36/36 [00:01<00:00, 26.24it/s]\n",
      "Iteration 74: loss 7.0303: 100%|██████████| 36/36 [00:01<00:00, 27.77it/s]\n",
      "Iteration 75: loss 10.7839: 100%|██████████| 36/36 [00:01<00:00, 27.41it/s]\n"
     ]
    },
    {
     "name": "stdout",
     "output_type": "stream",
     "text": [
      "Value of the specific state 33.13731384277344\n"
     ]
    },
    {
     "name": "stderr",
     "output_type": "stream",
     "text": [
      "Iteration 76: loss 12.9645: 100%|██████████| 36/36 [00:01<00:00, 24.88it/s]\n",
      "Iteration 77: loss 18.0066: 100%|██████████| 36/36 [00:01<00:00, 26.69it/s]\n",
      "Iteration 78: loss 9.4740: 100%|██████████| 36/36 [00:01<00:00, 27.63it/s] \n",
      "Iteration 79: loss 15.8039: 100%|██████████| 36/36 [00:01<00:00, 27.32it/s]\n",
      "Iteration 80: loss 13.6706: 100%|██████████| 36/36 [00:01<00:00, 25.63it/s]\n"
     ]
    },
    {
     "name": "stdout",
     "output_type": "stream",
     "text": [
      "Value of the specific state 45.65507125854492\n"
     ]
    },
    {
     "name": "stderr",
     "output_type": "stream",
     "text": [
      "Iteration 81: loss 31.2237: 100%|██████████| 36/36 [00:01<00:00, 26.16it/s]\n",
      "Iteration 82: loss 12.6750: 100%|██████████| 36/36 [00:01<00:00, 28.66it/s]\n",
      "Iteration 83: loss 13.3711: 100%|██████████| 36/36 [00:01<00:00, 27.13it/s]\n",
      "Iteration 84: loss 12.3195: 100%|██████████| 36/36 [00:01<00:00, 26.46it/s]\n",
      "Iteration 85: loss 14.7042: 100%|██████████| 36/36 [00:01<00:00, 26.50it/s]\n"
     ]
    },
    {
     "name": "stdout",
     "output_type": "stream",
     "text": [
      "Value of the specific state 53.035179138183594\n"
     ]
    },
    {
     "name": "stderr",
     "output_type": "stream",
     "text": [
      "Iteration 86: loss 18.1406: 100%|██████████| 36/36 [00:01<00:00, 23.50it/s]\n",
      "Iteration 87: loss 13.5039: 100%|██████████| 36/36 [00:01<00:00, 23.65it/s]\n",
      "Iteration 88: loss 30.8387: 100%|██████████| 36/36 [00:01<00:00, 27.60it/s]\n",
      "Iteration 89: loss 16.8508: 100%|██████████| 36/36 [00:01<00:00, 24.55it/s]\n",
      "Iteration 90: loss 19.6893: 100%|██████████| 36/36 [00:01<00:00, 26.06it/s]\n"
     ]
    },
    {
     "name": "stdout",
     "output_type": "stream",
     "text": [
      "Value of the specific state 60.28752136230469\n"
     ]
    },
    {
     "name": "stderr",
     "output_type": "stream",
     "text": [
      "Iteration 91: loss 28.1568: 100%|██████████| 36/36 [00:01<00:00, 27.49it/s]\n",
      "Iteration 92: loss 21.6423: 100%|██████████| 36/36 [00:01<00:00, 27.58it/s]\n",
      "Iteration 93: loss 26.5686: 100%|██████████| 36/36 [00:01<00:00, 25.60it/s]\n",
      "Iteration 94: loss 26.4804: 100%|██████████| 36/36 [00:01<00:00, 25.38it/s]\n",
      "Iteration 95: loss 29.9398: 100%|██████████| 36/36 [00:01<00:00, 25.15it/s]\n"
     ]
    },
    {
     "name": "stdout",
     "output_type": "stream",
     "text": [
      "Value of the specific state 70.80062103271484\n"
     ]
    },
    {
     "name": "stderr",
     "output_type": "stream",
     "text": [
      "Iteration 96: loss 35.4577: 100%|██████████| 36/36 [00:01<00:00, 25.19it/s]\n",
      "Iteration 97: loss 42.0739: 100%|██████████| 36/36 [00:01<00:00, 26.43it/s]\n",
      "Iteration 98: loss 71.4439: 100%|██████████| 36/36 [00:01<00:00, 26.47it/s]\n",
      "Iteration 99: loss 46.8109: 100%|██████████| 36/36 [00:01<00:00, 26.68it/s]\n"
     ]
    }
   ],
   "source": [
    "for iteration in range(50,100):\n",
    "    continue_train_one(iteration)"
   ]
  },
  {
   "cell_type": "code",
   "execution_count": 15,
   "metadata": {},
   "outputs": [
    {
     "data": {
      "image/png": "[encoded data removed]",
      "text/plain": [
       "<Figure size 640x480 with 1 Axes>"
      ]
     },
     "metadata": {},
     "output_type": "display_data"
    }
   ],
   "source": [
    "plt.plot([x[0] for x in enumerate(values_for_that_state)],values_for_that_state)\n",
    "plt.title('Value for a given state')\n",
    "plt.show()"
   ]
  },
  {
   "cell_type": "markdown",
   "metadata": {},
   "source": [
    "糟了——就在最后几个iteration里，value又和loss一起起飞了。我们没有从根本上解决这个问题，但不妨先看看效果如何："
   ]
  },
  {
   "cell_type": "code",
   "execution_count": 13,
   "metadata": {},
   "outputs": [
    {
     "name": "stdout",
     "output_type": "stream",
     "text": [
      "Initial state:\n"
     ]
    },
    {
     "data": {
      "text/markdown": [
       "|█| | | | | | |█| | |\n",
       "|-|-|-|-|-|-|-|-|-|-|\n",
       "| |█| |█| | |█| | | |\n",
       "| |█|█| |█| | |█| | |\n",
       "| | |█| | | |█| | |█|\n",
       "| | | | | | | | | |█|\n",
       "| | | | | | | | | | |\n",
       "| | | | | |█|█| | | |\n",
       "| |█| | | | |█| | | |\n",
       "| | | | | | | | | | |\n",
       "| | | | |█|█| | | | |"
      ]
     },
     "metadata": {},
     "output_type": "display_data"
    },
    {
     "name": "stdout",
     "output_type": "stream",
     "text": [
      "Initial common pixels 3\n",
      "t = 1\n"
     ]
    },
    {
     "data": {
      "text/markdown": [
       "|█| | | | | | |█| | |\n",
       "|-|-|-|-|-|-|-|-|-|-|\n",
       "| |█| |█| | | | | | |\n",
       "| |█|█| |█| |█|█| | |\n",
       "| | |█| | | |█| | |█|\n",
       "| | | | | | | | | |█|\n",
       "| | | | | | | | | | |\n",
       "| | | | | |█|█| | | |\n",
       "| |█| | | | | | | | |\n",
       "| | | | | | | | | | |\n",
       "| | | | |█|█| | | | |"
      ]
     },
     "metadata": {},
     "output_type": "display_data"
    },
    {
     "name": "stdout",
     "output_type": "stream",
     "text": [
      "t = 21\n"
     ]
    },
    {
     "data": {
      "text/markdown": [
       "|█| | | | | | |█| | |\n",
       "|-|-|-|-|-|-|-|-|-|-|\n",
       "| |█| | | | | | | | |\n",
       "| |█| | |█| | |█| | |\n",
       "| | | |█| | |█| | |█|\n",
       "| | | |█|█| | | | |█|\n",
       "| | | | | | | | | | |\n",
       "| | |█| |█|█|█| | | |\n",
       "| | | |█| | | | | | |\n",
       "| | | | | | | | | | |\n",
       "| | | | |█| | | | | |"
      ]
     },
     "metadata": {},
     "output_type": "display_data"
    },
    {
     "name": "stdout",
     "output_type": "stream",
     "text": [
      "t = 41\n"
     ]
    },
    {
     "data": {
      "text/markdown": [
       "|█| | | | | | |█| | |\n",
       "|-|-|-|-|-|-|-|-|-|-|\n",
       "| |█| | | | | | | | |\n",
       "| |█| | |█| | | | | |\n",
       "| | | |█| |█|█| | | |\n",
       "| | | |█|█|█|█| | |█|\n",
       "| | | |█| |█| | | |█|\n",
       "| | | |█|█|█|█| | | |\n",
       "| | | |█| |█| | | | |\n",
       "| | | | | | | | | | |\n",
       "| | | | | | | | | | |"
      ]
     },
     "metadata": {},
     "output_type": "display_data"
    },
    {
     "name": "stdout",
     "output_type": "stream",
     "text": [
      "t = 61\n"
     ]
    },
    {
     "data": {
      "text/markdown": [
       "| |█| | | | | |█| | |\n",
       "|-|-|-|-|-|-|-|-|-|-|\n",
       "| | | | | | | | | | |\n",
       "| | | | |█| | | | | |\n",
       "| | | |█| |█|█| | | |\n",
       "| | | |█|█|█|█|█| | |\n",
       "| | | |█| |█| | | | |\n",
       "| | | |█|█|█|█|█| | |\n",
       "| | | |█| |█| | | | |\n",
       "| | | | | | | | | | |\n",
       "| | | | | | | | | | |"
      ]
     },
     "metadata": {},
     "output_type": "display_data"
    },
    {
     "name": "stdout",
     "output_type": "stream",
     "text": [
      "t = 81\n"
     ]
    },
    {
     "data": {
      "text/markdown": [
       "| |█| | | | | |█| | |\n",
       "|-|-|-|-|-|-|-|-|-|-|\n",
       "| | | | | | | | | | |\n",
       "| | | | |█| | | | | |\n",
       "| | | |█| |█|█| | | |\n",
       "| | | |█|█|█|█|█| | |\n",
       "| | | |█| |█| | | | |\n",
       "| | | |█|█|█|█|█| | |\n",
       "| | | |█| |█| | | | |\n",
       "| | | | | | | | | | |\n",
       "| | | | | | | | | | |"
      ]
     },
     "metadata": {},
     "output_type": "display_data"
    },
    {
     "name": "stdout",
     "output_type": "stream",
     "text": [
      "t = 101\n"
     ]
    },
    {
     "data": {
      "text/markdown": [
       "| |█| | | | | |█| | |\n",
       "|-|-|-|-|-|-|-|-|-|-|\n",
       "| | | | | | | | | | |\n",
       "| | | | |█| | | | | |\n",
       "| | | |█| |█|█| | | |\n",
       "| | | |█|█|█|█|█| | |\n",
       "| | | |█| |█| | | | |\n",
       "| | | |█|█|█|█|█| | |\n",
       "| | | |█| |█| | | | |\n",
       "| | | | | | | | | | |\n",
       "| | | | | | | | | | |"
      ]
     },
     "metadata": {},
     "output_type": "display_data"
    },
    {
     "name": "stdout",
     "output_type": "stream",
     "text": [
      "t = 121\n"
     ]
    },
    {
     "data": {
      "text/markdown": [
       "| |█| | | | | |█| | |\n",
       "|-|-|-|-|-|-|-|-|-|-|\n",
       "| | | | | | | | | | |\n",
       "| | | | |█| | | | | |\n",
       "| | | |█| |█|█| | | |\n",
       "| | | |█|█|█|█|█| | |\n",
       "| | | |█| |█| | | | |\n",
       "| | | |█|█|█|█|█| | |\n",
       "| | | |█| |█| | | | |\n",
       "| | | | | | | | | | |\n",
       "| | | | | | | | | | |"
      ]
     },
     "metadata": {},
     "output_type": "display_data"
    },
    {
     "name": "stdout",
     "output_type": "stream",
     "text": [
      "t = 141\n"
     ]
    },
    {
     "data": {
      "text/markdown": [
       "| |█| | | | | |█| | |\n",
       "|-|-|-|-|-|-|-|-|-|-|\n",
       "| | | | | | | | | | |\n",
       "| | | | |█| | | | | |\n",
       "| | | |█| |█|█| | | |\n",
       "| | | |█|█|█|█|█| | |\n",
       "| | | |█| |█| | | | |\n",
       "| | | |█|█|█|█|█| | |\n",
       "| | | |█| |█| | | | |\n",
       "| | | | | | | | | | |\n",
       "| | | | | | | | | | |"
      ]
     },
     "metadata": {},
     "output_type": "display_data"
    },
    {
     "name": "stdout",
     "output_type": "stream",
     "text": [
      "t = 161\n"
     ]
    },
    {
     "data": {
      "text/markdown": [
       "| |█| | | | | |█| | |\n",
       "|-|-|-|-|-|-|-|-|-|-|\n",
       "| | | | | | | | | | |\n",
       "| | | | |█| | | | | |\n",
       "| | | |█| |█|█| | | |\n",
       "| | | |█|█|█|█|█| | |\n",
       "| | | |█| |█| | | | |\n",
       "| | | |█|█|█|█|█| | |\n",
       "| | | |█| |█| | | | |\n",
       "| | | | | | | | | | |\n",
       "| | | | | | | | | | |"
      ]
     },
     "metadata": {},
     "output_type": "display_data"
    },
    {
     "name": "stdout",
     "output_type": "stream",
     "text": [
      "t = 181\n"
     ]
    },
    {
     "data": {
      "text/markdown": [
       "| |█| | | | | |█| | |\n",
       "|-|-|-|-|-|-|-|-|-|-|\n",
       "| | | | | | | | | | |\n",
       "| | | | |█| | | | | |\n",
       "| | | |█| |█|█| | | |\n",
       "| | | |█|█|█|█|█| | |\n",
       "| | | |█| |█| | | | |\n",
       "| | | |█|█|█|█|█| | |\n",
       "| | | |█| |█| | | | |\n",
       "| | | | | | | | | | |\n",
       "| | | | | | | | | | |"
      ]
     },
     "metadata": {},
     "output_type": "display_data"
    },
    {
     "name": "stdout",
     "output_type": "stream",
     "text": [
      "Cumulative reward -7.17\n",
      "Succeeded? False\n",
      "Final common pixels: 16\n"
     ]
    }
   ],
   "source": [
    "last_state = demonstrate_policy(net)"
   ]
  },
  {
   "cell_type": "markdown",
   "metadata": {},
   "source": [
    "模型的确取得了很大的进步，但还没有排“兵”布阵的能力。但接下来，我们该何去何从呢？\n",
    "\n",
    "我们可以先以上面的最后一张图片为例子，看看为什么这个过程进行不下去了？"
   ]
  },
  {
   "cell_type": "code",
   "execution_count": 14,
   "metadata": {},
   "outputs": [
    {
     "name": "stdout",
     "output_type": "stream",
     "text": [
      "[((0, 1, 1), 236.60252380371094), ((0, 7, 1), 236.60252380371094), ((0, 1, 3), 236.34033203125), ((0, 1, 2), 235.5745391845703), ((0, 1, 0), 235.56044006347656)]\n"
     ]
    }
   ],
   "source": [
    "actions = pgame.get_actions(last_state)\n",
    "lst = []\n",
    "for a in actions:\n",
    "    lst.append((a,net(pgame.as_tensor(pgame.get_transition(last_state,a)).unsqueeze(0).to(device)).item()))\n",
    "print(sorted(lst,reverse=True,key=lambda x: x[1])[:5])"
   ]
  },
  {
   "cell_type": "markdown",
   "metadata": {},
   "source": [
    "我们发现，排名前几名的action，其对应的value都很接近！在这样的情况下，模型自身近似造成的误差就已经远大于不同action之间的“区分度”，而在这里模型恰好选择了一个不做任何操作的action，这样他就被“卡住”了。\n",
    "\n",
    "同时，我们看到Value的数值又是超过了100！的确，神经网络的本质让这没有任何办法——神经网络的输出是十分“凹凸不平”的，就算整体上Value小于100,也肯定有一些奇怪的地方Value非常巨大。在这些地方Value网络的准确度更是完全没法保证。"
   ]
  },
  {
   "cell_type": "markdown",
   "metadata": {},
   "source": [
    "为了解决这一问题，我们其实可以从根本上反思Value Iteration这一方法：还记得之前我们如何引入Value这一概念的吗？当时我们假设自己处于最优策略，并据此给出每一个点处的“价值”，满足一个递推关系。然后，我们设法求解这个递推关系得到一个Value的近似值。最后，我们再做policy extraction。在这一过程中，Value毕竟只是一个媒介。我们自然地想到：我们是否可以**不经过Value这一层，直接优化policy**呢？\n",
    "\n",
    "从直觉上，这样非常好——因为policy直接就是我们想要的东西，就没有必要比较不同的Value，神经网络的拟合误差也就不会被放大。这就是Policy-based method的本质性优点，下面我们就来探讨它们。"
   ]
  },
  {
   "cell_type": "markdown",
   "metadata": {},
   "source": [
    "### Policy-based Methods\n",
    "\n",
    "如何直接优化policy呢？我们从定义出发：\n",
    "\n",
    "$$\n",
    "J(s)=\\mathbb{E}_{a\\sim \\pi(a|s)}\\left[r(s,a)+\\mathbb{E}_{s'\\sim p(s'|s,a)}\\left[\\mathbb{E}_{a'\\sim \\pi(a'|s')}[r(s',a')+\\cdots]\\right]\\right]\n",
    "$$\n",
    "\n",
    "为了记号方便，我们记$\\tau$为**轨迹**(trajectory)，也就是$s,a,s',a',\\cdots$不断下去。我们可以用$\\tau$的概率分布代替：\n",
    "\n",
    "$$\n",
    "p(\\tau|s)=\\pi(a|s)p(s'|s,a)\\pi(a'|s')\\cdots\n",
    "$$\n",
    "\n",
    "$$\n",
    "J(s)=\\mathbb{E}_{\\tau\\sim p(\\tau|s)}\\left[\\sum_{t=0}^{T}r(s_t,a_t)\\right]\n",
    "$$\n",
    "\n",
    "其中，记号$s_0,a_0,s_1,a_1,\\cdots$定义为和$s,a,s',a',\\cdots$一一对应（也就是$s_0:=s,a_0:=a$，依次类推）。$T$是horizon，也就是在这么多步后立刻结束；这个变量通常在实验中设置，以避免运行周期过长或者总reward发散。这样，这个MDP问题就变成了**找到一个函数$\\pi(a|s)$，使得目标函数$J$最大化**。（$J$可以理解为$J(s)$对$s$的平均）这样一个函数优化问题。"
   ]
  },
  {
   "cell_type": "markdown",
   "metadata": {},
   "source": [
    "#### Policy Gradients\n",
    "\n",
    "诚然，可以把$\\pi$像之前一开始尝试Value Iteration的时候那样写为表格(tabular)形式；但我们还是更希望讨论一般的情况，这时我们应该使用神经网络来表达$\\pi$：$\\pi_\\theta$。一个想法是，我们能否 **直接对 $J$ 求$\\theta$的梯度**？假设$\\pi$由参数$\\theta$决定，那么：\n",
    "\n",
    "$$\n",
    "\\nabla_\\theta J(\\theta)=\\nabla_\\theta \\sum_{\\tau}p(\\tau)\\left(\\sum_{t=0}^{T}r(s_t,a_t)\\right)\n",
    "$$\n",
    "\n",
    "很明显，只有$p(\\tau|s)$里面含有对$\\theta$的梯度。因为对乘积求导数，所以自然采用对数求导：\n",
    "\n",
    "$$\n",
    "\\begin{align*}\n",
    "\\nabla_\\theta J(\\theta)&=\\sum_{\\tau}p(\\tau)\\left(\\sum_{t=0}^T \\nabla_\\theta\\log \\pi_\\theta(a_t|s_t)\\right)\\left(\\sum_{t=0}^{T}r(s_t,a_t)\\right)\\\\\n",
    "&=\\mathbb{E}_{\\tau\\sim p(\\tau)}\\left[\\left(\\sum_{t=0}^T \\nabla_\\theta\\log \\pi_\\theta(a_t|s_t)\\right)\\left(\\sum_{t=0}^{T}r(s_t,a_t)\\right)\\right]\n",
    "\\end{align*}\n",
    "$$\n",
    "\n",
    "注意到最后又写成了期待值的形式——这意味着可以使用采样的方法估计。为何一定要采样？因为如果严格计算，那么计算量随着时间指数级别地增长，完全无法控制。"
   ]
  },
  {
   "cell_type": "markdown",
   "metadata": {},
   "source": [
    "这就是著名的**Policy Gradients**方法。你可能会惊叹：这一表达式竟然如此简单，我们只需要采样并梯度下降就可以完成MDP问题的求解了！的确如此，但在实现的地方需要小心：这里的采样$p(\\tau)$也和policy $\\pi$有关。因此，每做一次gradient step，就要重新做一次采样。这样，我们就给出了算法：\n",
    "\n",
    "> (Vanilla) **Policy Gradient Algorithm**\n",
    ">\n",
    "> 不断重复：\n",
    "> 1. 采集若干trajectory $\\tau\\sim p(\\tau)$\n",
    "> 2. 计算梯度并作gradient step。\n",
    "\n",
    "我们很容易就可以实现这一方法。就让我们在Pixel Game上一雪前耻吧！"
   ]
  },
  {
   "cell_type": "code",
   "execution_count": 8,
   "metadata": {},
   "outputs": [],
   "source": [
    "from utils import device\n",
    "import torch\n",
    "import torch.nn as nn\n",
    "import torch.nn.functional as F\n",
    "from torch.utils.data import DataLoader\n",
    "from tqdm import tqdm\n",
    "from utils_0_intro import PixelGame\n",
    "pgame = PixelGame()"
   ]
  },
  {
   "cell_type": "markdown",
   "metadata": {},
   "source": [
    "当然，还有一些必须注意的细节。首先是为了利用optimizer，我们不应该直接计算梯度，而是搞一个**fake loss**来backward，这个loss就可以选取为\n",
    "\n",
    "$$\n",
    "J_{\\text{fake}}=\\mathbb{E}_{\\tau\\sim p(\\tau)}\\left[\\left(\\sum_{t=0}^T\\log \\pi_\\theta(a_t|s_t)\\right)\\left(\\sum_{t=0}^{T}r(s_t,a_t)\\right)\\right]\n",
    "$$\n",
    "\n",
    "此外，为了计算方便，我们让模型输出对400个完整action的logit，最后再通过`action_mask`选取出有意义的action。"
   ]
  },
  {
   "cell_type": "code",
   "execution_count": 9,
   "metadata": {},
   "outputs": [],
   "source": [
    "class PolicyGrad(nn.Module):\n",
    "\n",
    "    def __init__(self):\n",
    "        super().__init__()\n",
    "        self.conv1 = nn.Conv2d(in_channels=1,out_channels=64,kernel_size=3,padding=1)\n",
    "        self.conv2 = nn.Conv2d(in_channels=64,out_channels=8,kernel_size=3,padding=1)\n",
    "        self.rev1 = nn.ConvTranspose2d(in_channels=8,out_channels=64,kernel_size=3,padding=1)\n",
    "        self.rev2 = nn.ConvTranspose2d(in_channels=64,out_channels=32,kernel_size=3,padding=1)\n",
    "        self.mlp = nn.Conv2d(in_channels=32,out_channels=4,kernel_size=1)\n",
    "\n",
    "    def forward(self,x):\n",
    "        f1 = F.relu(self.conv1(x))\n",
    "        f2 = F.relu(self.conv2(f1))\n",
    "        rev1 = F.relu(self.rev1(f2)) + f1\n",
    "        rev2 = F.relu(self.rev2(rev1)) + x\n",
    "        return self.mlp(rev2).reshape(x.shape[0],-1) # logits\n",
    "    \n",
    "    def get_action(self,x,action_mask):\n",
    "        logits = self(x)\n",
    "        return torch.distributions.Categorical(logits=logits + action_mask).sample()\n",
    "    \n",
    "    def get_prob(self,x,a,action_mask):\n",
    "        # notice that both a and x is batched, and a has shape [batch]\n",
    "        logits = self(x)\n",
    "        probs = torch.softmax(logits + action_mask,dim=-1)\n",
    "        return probs[torch.arange(a.shape[0]),a]"
   ]
  },
  {
   "cell_type": "code",
   "execution_count": 10,
   "metadata": {},
   "outputs": [],
   "source": [
    "def act2ind(a):\n",
    "    x,y,d = a\n",
    "    return 4*(10*x+y)+d\n",
    "\n",
    "def ind2act(ind):\n",
    "    d = ind % 4; rem = ind // 4\n",
    "    return rem//10, rem%10, d\n",
    "\n",
    "def build_action_mask(actions):\n",
    "    msk = torch.empty(400)\n",
    "    msk.fill_(-1e6)\n",
    "    msk[[act2ind(a) for a in actions]] = 0\n",
    "    return msk.to(device)\n",
    "\n",
    "def collect_rollout(agent:PolicyGrad,horizon=50):\n",
    "    state = pgame.reset(randomly=True)\n",
    "    states = [];actions = [];rewards = [];truncates = [];action_masks = []\n",
    "    for t in range(horizon):\n",
    "        tensor_state = pgame.as_tensor(state)\n",
    "        possible_actions = pgame.get_actions(state)\n",
    "        action_mask = build_action_mask(possible_actions)\n",
    "        action = agent.get_action(tensor_state.to(device),action_mask=action_mask)\n",
    "\n",
    "        states.append(tensor_state)\n",
    "        action_masks.append(action_mask)\n",
    "        actions.append(action)\n",
    "        rewards.append(pgame.get_reward(state))\n",
    "        truncates.append(False)\n",
    "\n",
    "        state = pgame.get_transition(state,ind2act(action.cpu().item()))\n",
    "        if state is None: # win before horizon\n",
    "            need_add = horizon - len(states)\n",
    "            states += [torch.zeros_like(states[0])] * need_add\n",
    "            actions += [0] * need_add\n",
    "            rewards += [0] * need_add\n",
    "            truncates += [True] * need_add\n",
    "            action_masks += [torch.zeros_like(action_masks[0])] * need_add\n",
    "    return states,actions,rewards,truncates,action_masks\n",
    "\n",
    "def get_dataloader(agent:PolicyGrad,num_rollouts=1000):\n",
    "    def collate(datas):\n",
    "        out_states = [];out_acts = [];out_rews = [];out_truncated = [];out_action_masks = []\n",
    "        for data in datas:\n",
    "            states,actions,rewards,truncated,action_masks = data\n",
    "            out_states.append(torch.stack(states)) # item: [T,1,10,10]\n",
    "            out_acts.append(torch.stack(actions).int()) # item: [T,1]\n",
    "            out_rews.append(sum(rewards)) # item: float\n",
    "            out_truncated.append(torch.tensor(truncated,dtype=torch.float)) # item: [T]\n",
    "            out_action_masks.append(torch.stack(action_masks)) # item: [T, 400]\n",
    "        return {\n",
    "            'states': torch.stack(out_states), # [batch,T,1,10,10]\n",
    "            'actions':torch.stack(out_acts), # [batch,T,1]\n",
    "            'rewards':torch.tensor(out_rews), # [batch]\n",
    "            'truncated':torch.stack(out_truncated), # [batch,T]\n",
    "            'actmask': torch.stack(out_action_masks) # [batch,T,400]\n",
    "        }\n",
    "    dataset = []\n",
    "    with tqdm(range(num_rollouts),desc='Sampling Trajectories') as bar:\n",
    "        for _ in bar:\n",
    "            dataset.append(collect_rollout(agent))\n",
    "    return DataLoader(dataset=dataset,batch_size=32,collate_fn=collate)"
   ]
  },
  {
   "cell_type": "code",
   "execution_count": 24,
   "metadata": {},
   "outputs": [],
   "source": [
    "c = collect_rollout(agent,horizon=5)"
   ]
  },
  {
   "cell_type": "code",
   "execution_count": 25,
   "metadata": {},
   "outputs": [],
   "source": [
    "states,actions,rewards,truncates,action_masks = c"
   ]
  },
  {
   "cell_type": "code",
   "execution_count": 28,
   "metadata": {},
   "outputs": [
    {
     "data": {
      "text/plain": [
       "[-0.07727272727272727,\n",
       " -0.07272727272727272,\n",
       " -0.07727272727272727,\n",
       " -0.07727272727272727,\n",
       " -0.07727272727272727]"
      ]
     },
     "execution_count": 28,
     "metadata": {},
     "output_type": "execute_result"
    }
   ],
   "source": [
    "rewards"
   ]
  },
  {
   "cell_type": "markdown",
   "metadata": {},
   "source": [
    "开始训练！注意，没有GPU的话sample trajectory可能会很慢。"
   ]
  },
  {
   "cell_type": "code",
   "execution_count": 11,
   "metadata": {},
   "outputs": [],
   "source": [
    "import matplotlib.pyplot as plt"
   ]
  },
  {
   "cell_type": "code",
   "execution_count": 12,
   "metadata": {},
   "outputs": [
    {
     "name": "stderr",
     "output_type": "stream",
     "text": [
      "Sampling Trajectories: 100%|██████████| 1000/1000 [00:56<00:00, 17.68it/s]\n",
      "Iteration 0: loss nan, avg cum-reward: -4.0523: 100%|██████████| 32/32 [00:07<00:00,  4.51it/s]       \n"
     ]
    },
    {
     "data": {
      "image/png": "[encoded data removed]",
      "text/plain": [
       "<Figure size 640x480 with 1 Axes>"
      ]
     },
     "metadata": {},
     "output_type": "display_data"
    },
    {
     "name": "stderr",
     "output_type": "stream",
     "text": [
      "Sampling Trajectories:   0%|          | 0/1000 [00:00<?, ?it/s]\n"
     ]
    },
    {
     "ename": "ValueError",
     "evalue": "Expected parameter logits (Tensor of shape (1, 400)) of distribution Categorical(logits: torch.Size([1, 400])) to satisfy the constraint IndependentConstraint(Real(), 1), but found invalid values:\ntensor([[nan, nan, nan, nan, nan, nan, nan, nan, nan, nan, nan, nan, nan, nan, nan, nan, nan, nan, nan, nan, nan, nan, nan, nan,\n         nan, nan, nan, nan, nan, nan, nan, nan, nan, nan, nan, nan, nan, nan, nan, nan, nan, nan, nan, nan, nan, nan, nan, nan,\n         nan, nan, nan, nan, nan, nan, nan, nan, nan, nan, nan, nan, nan, nan, nan, nan, nan, nan, nan, nan, nan, nan, nan, nan,\n         nan, nan, nan, nan, nan, nan, nan, nan, nan, nan, nan, nan, nan, nan, nan, nan, nan, nan, nan, nan, nan, nan, nan, nan,\n         nan, nan, nan, nan, nan, nan, nan, nan, nan, nan, nan, nan, nan, nan, nan, nan, nan, nan, nan, nan, nan, nan, nan, nan,\n         nan, nan, nan, nan, nan, nan, nan, nan, nan, nan, nan, nan, nan, nan, nan, nan, nan, nan, nan, nan, nan, nan, nan, nan,\n         nan, nan, nan, nan, nan, nan, nan, nan, nan, nan, nan, nan, nan, nan, nan, nan, nan, nan, nan, nan, nan, nan, nan, nan,\n         nan, nan, nan, nan, nan, nan, nan, nan, nan, nan, nan, nan, nan, nan, nan, nan, nan, nan, nan, nan, nan, nan, nan, nan,\n         nan, nan, nan, nan, nan, nan, nan, nan, nan, nan, nan, nan, nan, nan, nan, nan, nan, nan, nan, nan, nan, nan, nan, nan,\n         nan, nan, nan, nan, nan, nan, nan, nan, nan, nan, nan, nan, nan, nan, nan, nan, nan, nan, nan, nan, nan, nan, nan, nan,\n         nan, nan, nan, nan, nan, nan, nan, nan, nan, nan, nan, nan, nan, nan, nan, nan, nan, nan, nan, nan, nan, nan, nan, nan,\n         nan, nan, nan, nan, nan, nan, nan, nan, nan, nan, nan, nan, nan, nan, nan, nan, nan, nan, nan, nan, nan, nan, nan, nan,\n         nan, nan, nan, nan, nan, nan, nan, nan, nan, nan, nan, nan, nan, nan, nan, nan, nan, nan, nan, nan, nan, nan, nan, nan,\n         nan, nan, nan, nan, nan, nan, nan, nan, nan, nan, nan, nan, nan, nan, nan, nan, nan, nan, nan, nan, nan, nan, nan, nan,\n         nan, nan, nan, nan, nan, nan, nan, nan, nan, nan, nan, nan, nan, nan, nan, nan, nan, nan, nan, nan, nan, nan, nan, nan,\n         nan, nan, nan, nan, nan, nan, nan, nan, nan, nan, nan, nan, nan, nan, nan, nan, nan, nan, nan, nan, nan, nan, nan, nan,\n         nan, nan, nan, nan, nan, nan, nan, nan, nan, nan, nan, nan, nan, nan, nan, nan]],\n       grad_fn=<SubBackward0>)",
     "output_type": "error",
     "traceback": [
      "\u001b[0;31m---------------------------------------------------------------------------\u001b[0m",
      "\u001b[0;31mValueError\u001b[0m                                Traceback (most recent call last)",
      "Cell \u001b[0;32mIn[12], line 4\u001b[0m\n\u001b[1;32m      2\u001b[0m optimizer \u001b[38;5;241m=\u001b[39m torch\u001b[38;5;241m.\u001b[39moptim\u001b[38;5;241m.\u001b[39mAdam(agent\u001b[38;5;241m.\u001b[39mparameters(),lr\u001b[38;5;241m=\u001b[39m\u001b[38;5;241m1e-3\u001b[39m)\n\u001b[1;32m      3\u001b[0m \u001b[38;5;28;01mfor\u001b[39;00m iteration \u001b[38;5;129;01min\u001b[39;00m \u001b[38;5;28mrange\u001b[39m(\u001b[38;5;241m20\u001b[39m):\n\u001b[0;32m----> 4\u001b[0m     dataloader \u001b[38;5;241m=\u001b[39m \u001b[43mget_dataloader\u001b[49m\u001b[43m(\u001b[49m\u001b[43magent\u001b[49m\u001b[43m)\u001b[49m\n\u001b[1;32m      5\u001b[0m     \u001b[38;5;28;01mwith\u001b[39;00m tqdm(dataloader) \u001b[38;5;28;01mas\u001b[39;00m bar:\n\u001b[1;32m      6\u001b[0m         losses \u001b[38;5;241m=\u001b[39m []\n",
      "Cell \u001b[0;32mIn[10], line 60\u001b[0m, in \u001b[0;36mget_dataloader\u001b[0;34m(agent, num_rollouts)\u001b[0m\n\u001b[1;32m     58\u001b[0m \u001b[38;5;28;01mwith\u001b[39;00m tqdm(\u001b[38;5;28mrange\u001b[39m(num_rollouts),desc\u001b[38;5;241m=\u001b[39m\u001b[38;5;124m'\u001b[39m\u001b[38;5;124mSampling Trajectories\u001b[39m\u001b[38;5;124m'\u001b[39m) \u001b[38;5;28;01mas\u001b[39;00m bar:\n\u001b[1;32m     59\u001b[0m     \u001b[38;5;28;01mfor\u001b[39;00m _ \u001b[38;5;129;01min\u001b[39;00m bar:\n\u001b[0;32m---> 60\u001b[0m         dataset\u001b[38;5;241m.\u001b[39mappend(\u001b[43mcollect_rollout\u001b[49m\u001b[43m(\u001b[49m\u001b[43magent\u001b[49m\u001b[43m)\u001b[49m)\n\u001b[1;32m     61\u001b[0m \u001b[38;5;28;01mreturn\u001b[39;00m DataLoader(dataset\u001b[38;5;241m=\u001b[39mdataset,batch_size\u001b[38;5;241m=\u001b[39m\u001b[38;5;241m32\u001b[39m,collate_fn\u001b[38;5;241m=\u001b[39mcollate)\n",
      "Cell \u001b[0;32mIn[10], line 22\u001b[0m, in \u001b[0;36mcollect_rollout\u001b[0;34m(agent, horizon)\u001b[0m\n\u001b[1;32m     20\u001b[0m possible_actions \u001b[38;5;241m=\u001b[39m pgame\u001b[38;5;241m.\u001b[39mget_actions(state)\n\u001b[1;32m     21\u001b[0m action_mask \u001b[38;5;241m=\u001b[39m build_action_mask(possible_actions)\n\u001b[0;32m---> 22\u001b[0m action \u001b[38;5;241m=\u001b[39m \u001b[43magent\u001b[49m\u001b[38;5;241;43m.\u001b[39;49m\u001b[43mget_action\u001b[49m\u001b[43m(\u001b[49m\u001b[43mtensor_state\u001b[49m\u001b[38;5;241;43m.\u001b[39;49m\u001b[43mto\u001b[49m\u001b[43m(\u001b[49m\u001b[43mdevice\u001b[49m\u001b[43m)\u001b[49m\u001b[43m,\u001b[49m\u001b[43maction_mask\u001b[49m\u001b[38;5;241;43m=\u001b[39;49m\u001b[43maction_mask\u001b[49m\u001b[43m)\u001b[49m\n\u001b[1;32m     24\u001b[0m states\u001b[38;5;241m.\u001b[39mappend(tensor_state)\n\u001b[1;32m     25\u001b[0m action_masks\u001b[38;5;241m.\u001b[39mappend(action_mask)\n",
      "Cell \u001b[0;32mIn[9], line 20\u001b[0m, in \u001b[0;36mPolicyGrad.get_action\u001b[0;34m(self, x, action_mask)\u001b[0m\n\u001b[1;32m     18\u001b[0m \u001b[38;5;28;01mdef\u001b[39;00m \u001b[38;5;21mget_action\u001b[39m(\u001b[38;5;28mself\u001b[39m,x,action_mask):\n\u001b[1;32m     19\u001b[0m     logits \u001b[38;5;241m=\u001b[39m \u001b[38;5;28mself\u001b[39m(x)\n\u001b[0;32m---> 20\u001b[0m     \u001b[38;5;28;01mreturn\u001b[39;00m \u001b[43mtorch\u001b[49m\u001b[38;5;241;43m.\u001b[39;49m\u001b[43mdistributions\u001b[49m\u001b[38;5;241;43m.\u001b[39;49m\u001b[43mCategorical\u001b[49m\u001b[43m(\u001b[49m\u001b[43mlogits\u001b[49m\u001b[38;5;241;43m=\u001b[39;49m\u001b[43mlogits\u001b[49m\u001b[43m \u001b[49m\u001b[38;5;241;43m+\u001b[39;49m\u001b[43m \u001b[49m\u001b[43maction_mask\u001b[49m\u001b[43m)\u001b[49m\u001b[38;5;241m.\u001b[39msample()\n",
      "File \u001b[0;32m~/anaconda3/envs/DYY/lib/python3.10/site-packages/torch/distributions/categorical.py:71\u001b[0m, in \u001b[0;36mCategorical.__init__\u001b[0;34m(self, probs, logits, validate_args)\u001b[0m\n\u001b[1;32m     67\u001b[0m \u001b[38;5;28mself\u001b[39m\u001b[38;5;241m.\u001b[39m_num_events \u001b[38;5;241m=\u001b[39m \u001b[38;5;28mself\u001b[39m\u001b[38;5;241m.\u001b[39m_param\u001b[38;5;241m.\u001b[39msize()[\u001b[38;5;241m-\u001b[39m\u001b[38;5;241m1\u001b[39m]\n\u001b[1;32m     68\u001b[0m batch_shape \u001b[38;5;241m=\u001b[39m (\n\u001b[1;32m     69\u001b[0m     \u001b[38;5;28mself\u001b[39m\u001b[38;5;241m.\u001b[39m_param\u001b[38;5;241m.\u001b[39msize()[:\u001b[38;5;241m-\u001b[39m\u001b[38;5;241m1\u001b[39m] \u001b[38;5;28;01mif\u001b[39;00m \u001b[38;5;28mself\u001b[39m\u001b[38;5;241m.\u001b[39m_param\u001b[38;5;241m.\u001b[39mndimension() \u001b[38;5;241m>\u001b[39m \u001b[38;5;241m1\u001b[39m \u001b[38;5;28;01melse\u001b[39;00m torch\u001b[38;5;241m.\u001b[39mSize()\n\u001b[1;32m     70\u001b[0m )\n\u001b[0;32m---> 71\u001b[0m \u001b[38;5;28;43msuper\u001b[39;49m\u001b[43m(\u001b[49m\u001b[43m)\u001b[49m\u001b[38;5;241;43m.\u001b[39;49m\u001b[38;5;21;43m__init__\u001b[39;49m\u001b[43m(\u001b[49m\u001b[43mbatch_shape\u001b[49m\u001b[43m,\u001b[49m\u001b[43m \u001b[49m\u001b[43mvalidate_args\u001b[49m\u001b[38;5;241;43m=\u001b[39;49m\u001b[43mvalidate_args\u001b[49m\u001b[43m)\u001b[49m\n",
      "File \u001b[0;32m~/anaconda3/envs/DYY/lib/python3.10/site-packages/torch/distributions/distribution.py:70\u001b[0m, in \u001b[0;36mDistribution.__init__\u001b[0;34m(self, batch_shape, event_shape, validate_args)\u001b[0m\n\u001b[1;32m     68\u001b[0m         valid \u001b[38;5;241m=\u001b[39m constraint\u001b[38;5;241m.\u001b[39mcheck(value)\n\u001b[1;32m     69\u001b[0m         \u001b[38;5;28;01mif\u001b[39;00m \u001b[38;5;129;01mnot\u001b[39;00m valid\u001b[38;5;241m.\u001b[39mall():\n\u001b[0;32m---> 70\u001b[0m             \u001b[38;5;28;01mraise\u001b[39;00m \u001b[38;5;167;01mValueError\u001b[39;00m(\n\u001b[1;32m     71\u001b[0m                 \u001b[38;5;124mf\u001b[39m\u001b[38;5;124m\"\u001b[39m\u001b[38;5;124mExpected parameter \u001b[39m\u001b[38;5;132;01m{\u001b[39;00mparam\u001b[38;5;132;01m}\u001b[39;00m\u001b[38;5;124m \u001b[39m\u001b[38;5;124m\"\u001b[39m\n\u001b[1;32m     72\u001b[0m                 \u001b[38;5;124mf\u001b[39m\u001b[38;5;124m\"\u001b[39m\u001b[38;5;124m(\u001b[39m\u001b[38;5;132;01m{\u001b[39;00m\u001b[38;5;28mtype\u001b[39m(value)\u001b[38;5;241m.\u001b[39m\u001b[38;5;18m__name__\u001b[39m\u001b[38;5;132;01m}\u001b[39;00m\u001b[38;5;124m of shape \u001b[39m\u001b[38;5;132;01m{\u001b[39;00m\u001b[38;5;28mtuple\u001b[39m(value\u001b[38;5;241m.\u001b[39mshape)\u001b[38;5;132;01m}\u001b[39;00m\u001b[38;5;124m) \u001b[39m\u001b[38;5;124m\"\u001b[39m\n\u001b[1;32m     73\u001b[0m                 \u001b[38;5;124mf\u001b[39m\u001b[38;5;124m\"\u001b[39m\u001b[38;5;124mof distribution \u001b[39m\u001b[38;5;132;01m{\u001b[39;00m\u001b[38;5;28mrepr\u001b[39m(\u001b[38;5;28mself\u001b[39m)\u001b[38;5;132;01m}\u001b[39;00m\u001b[38;5;124m \u001b[39m\u001b[38;5;124m\"\u001b[39m\n\u001b[1;32m     74\u001b[0m                 \u001b[38;5;124mf\u001b[39m\u001b[38;5;124m\"\u001b[39m\u001b[38;5;124mto satisfy the constraint \u001b[39m\u001b[38;5;132;01m{\u001b[39;00m\u001b[38;5;28mrepr\u001b[39m(constraint)\u001b[38;5;132;01m}\u001b[39;00m\u001b[38;5;124m, \u001b[39m\u001b[38;5;124m\"\u001b[39m\n\u001b[1;32m     75\u001b[0m                 \u001b[38;5;124mf\u001b[39m\u001b[38;5;124m\"\u001b[39m\u001b[38;5;124mbut found invalid values:\u001b[39m\u001b[38;5;130;01m\\n\u001b[39;00m\u001b[38;5;132;01m{\u001b[39;00mvalue\u001b[38;5;132;01m}\u001b[39;00m\u001b[38;5;124m\"\u001b[39m\n\u001b[1;32m     76\u001b[0m             )\n\u001b[1;32m     77\u001b[0m \u001b[38;5;28msuper\u001b[39m()\u001b[38;5;241m.\u001b[39m\u001b[38;5;21m__init__\u001b[39m()\n",
      "\u001b[0;31mValueError\u001b[0m: Expected parameter logits (Tensor of shape (1, 400)) of distribution Categorical(logits: torch.Size([1, 400])) to satisfy the constraint IndependentConstraint(Real(), 1), but found invalid values:\ntensor([[nan, nan, nan, nan, nan, nan, nan, nan, nan, nan, nan, nan, nan, nan, nan, nan, nan, nan, nan, nan, nan, nan, nan, nan,\n         nan, nan, nan, nan, nan, nan, nan, nan, nan, nan, nan, nan, nan, nan, nan, nan, nan, nan, nan, nan, nan, nan, nan, nan,\n         nan, nan, nan, nan, nan, nan, nan, nan, nan, nan, nan, nan, nan, nan, nan, nan, nan, nan, nan, nan, nan, nan, nan, nan,\n         nan, nan, nan, nan, nan, nan, nan, nan, nan, nan, nan, nan, nan, nan, nan, nan, nan, nan, nan, nan, nan, nan, nan, nan,\n         nan, nan, nan, nan, nan, nan, nan, nan, nan, nan, nan, nan, nan, nan, nan, nan, nan, nan, nan, nan, nan, nan, nan, nan,\n         nan, nan, nan, nan, nan, nan, nan, nan, nan, nan, nan, nan, nan, nan, nan, nan, nan, nan, nan, nan, nan, nan, nan, nan,\n         nan, nan, nan, nan, nan, nan, nan, nan, nan, nan, nan, nan, nan, nan, nan, nan, nan, nan, nan, nan, nan, nan, nan, nan,\n         nan, nan, nan, nan, nan, nan, nan, nan, nan, nan, nan, nan, nan, nan, nan, nan, nan, nan, nan, nan, nan, nan, nan, nan,\n         nan, nan, nan, nan, nan, nan, nan, nan, nan, nan, nan, nan, nan, nan, nan, nan, nan, nan, nan, nan, nan, nan, nan, nan,\n         nan, nan, nan, nan, nan, nan, nan, nan, nan, nan, nan, nan, nan, nan, nan, nan, nan, nan, nan, nan, nan, nan, nan, nan,\n         nan, nan, nan, nan, nan, nan, nan, nan, nan, nan, nan, nan, nan, nan, nan, nan, nan, nan, nan, nan, nan, nan, nan, nan,\n         nan, nan, nan, nan, nan, nan, nan, nan, nan, nan, nan, nan, nan, nan, nan, nan, nan, nan, nan, nan, nan, nan, nan, nan,\n         nan, nan, nan, nan, nan, nan, nan, nan, nan, nan, nan, nan, nan, nan, nan, nan, nan, nan, nan, nan, nan, nan, nan, nan,\n         nan, nan, nan, nan, nan, nan, nan, nan, nan, nan, nan, nan, nan, nan, nan, nan, nan, nan, nan, nan, nan, nan, nan, nan,\n         nan, nan, nan, nan, nan, nan, nan, nan, nan, nan, nan, nan, nan, nan, nan, nan, nan, nan, nan, nan, nan, nan, nan, nan,\n         nan, nan, nan, nan, nan, nan, nan, nan, nan, nan, nan, nan, nan, nan, nan, nan, nan, nan, nan, nan, nan, nan, nan, nan,\n         nan, nan, nan, nan, nan, nan, nan, nan, nan, nan, nan, nan, nan, nan, nan, nan]],\n       grad_fn=<SubBackward0>)"
     ]
    }
   ],
   "source": [
    "agent = PolicyGrad().to(device)\n",
    "optimizer = torch.optim.Adam(agent.parameters(),lr=1e-3)\n",
    "for iteration in range(20):\n",
    "    dataloader = get_dataloader(agent)\n",
    "    with tqdm(dataloader) as bar:\n",
    "        losses = []\n",
    "        tot_cum_reward = 0\n",
    "        tot_cnt = 0\n",
    "        for item in bar:\n",
    "            states = item['states'].to(device);actions = item['actions'].to(device);rewards = item['rewards'].to(device);truncated = item['truncated'].to(device);act_masks = item['actmask'].to(device)\n",
    "            tot_cnt += rewards.shape[0]\n",
    "            tot_cum_reward += rewards.sum(dim=0)\n",
    "            probs = agent.get_prob(states.reshape(-1,1,10,10) , actions.reshape(-1),action_mask=act_masks.reshape(-1,400)).reshape(states.shape[0],-1) # [batch,T]\n",
    "            j = (probs.log() * (1-truncated)).sum(dim=-1) * (rewards)\n",
    "            optimizer.zero_grad()\n",
    "            loss = -j.mean(dim=0)\n",
    "            loss.backward()\n",
    "            optimizer.step()\n",
    "            losses.append(loss.detach().cpu().item())\n",
    "            bar.set_description(f'Iteration {iteration}: loss {sum(losses)/len(losses):.4f}, avg cum-reward: {tot_cum_reward/tot_cnt:.4f}')\n",
    "        plt.plot(list(range(len(losses))),losses)\n",
    "        plt.show()"
   ]
  },
  {
   "cell_type": "markdown",
   "metadata": {},
   "source": [
    "完了！怎么出现了nan？别急，如果你观察到了绘制出来的曲线，那么你会发现它并非一个健康的MLE曲线，因为他画的是loss，却是上凸的。仔细一想，就发现问题了：我们采集到的所有数据的reward都是负数，这样就导致我们的$\\nabla_\\theta J$实际上是最小化一个log likelihood，这可以到达无限小！\n",
    "\n",
    "你可能会奇怪，但是理论上policy gradient方法是正确的啊？的确，原来并非纯粹地最小化log likelihood，因为也有地方reward为正。只不过在实践中，我们的随机policy很难采样到最后那个100的reward，即使采样到了也不会被重视。这样，就出现了上面训练崩溃的问题。"
   ]
  },
  {
   "cell_type": "markdown",
   "metadata": {},
   "source": [
    "#### Reward Normalizing\n",
    "\n",
    "如何解决这一困境呢？也好办：我们在训练前，先**把reward进行一个normalize**。也就是把一个Batch里面的cumulative reward变成均值0,方差1。为什么可以这样做？首先，我们可以注意到\n",
    "\n",
    "$$\n",
    "\\mathbb{E}_{\\tau\\sim p(\\tau)}\\left[\\left(\\sum_{t=0}^T \\nabla_\\theta\\log \\pi_\\theta(a_t|s_t)\\right)\\cdot b\\right] = \\sum_{\\tau}p(\\tau)\\nabla_\\theta \\log p(\\tau)=0\n",
    "$$\n",
    "\n",
    "因此，我们可以在$\\sum_{t=0}^T r(s_t,a_t)$上减去任意一个bias $b$；而再除以方差$\\sigma$只不过是调整一下learning rate。因此，这一操作完全可行。\n",
    "\n",
    "让我们来试一试："
   ]
  },
  {
   "cell_type": "code",
   "execution_count": 31,
   "metadata": {},
   "outputs": [
    {
     "name": "stderr",
     "output_type": "stream",
     "text": [
      "Sampling Trajectories: 100%|██████████| 1000/1000 [00:44<00:00, 22.44it/s]\n",
      "Iteration 0: loss 1.3000, avg cum-reward: -4.0574: 100%|██████████| 32/32 [00:06<00:00,  4.67it/s]\n"
     ]
    },
    {
     "data": {
      "image/png": "[encoded data removed]",
      "text/plain": [
       "<Figure size 640x480 with 1 Axes>"
      ]
     },
     "metadata": {},
     "output_type": "display_data"
    },
    {
     "name": "stderr",
     "output_type": "stream",
     "text": [
      "Sampling Trajectories: 100%|██████████| 1000/1000 [00:52<00:00, 18.99it/s]\n",
      "Iteration 1: loss 1.6304, avg cum-reward: -4.0399: 100%|██████████| 32/32 [00:07<00:00,  4.54it/s]\n"
     ]
    },
    {
     "data": {
      "image/png": "[encoded data removed]",
      "text/plain": [
       "<Figure size 640x480 with 1 Axes>"
      ]
     },
     "metadata": {},
     "output_type": "display_data"
    },
    {
     "name": "stderr",
     "output_type": "stream",
     "text": [
      "Sampling Trajectories: 100%|██████████| 1000/1000 [00:52<00:00, 19.13it/s]\n",
      "Iteration 2: loss 1.7789, avg cum-reward: -4.0309: 100%|██████████| 32/32 [00:06<00:00,  4.62it/s]\n"
     ]
    },
    {
     "data": {
      "image/png": "[encoded data removed]",
      "text/plain": [
       "<Figure size 640x480 with 1 Axes>"
      ]
     },
     "metadata": {},
     "output_type": "display_data"
    },
    {
     "name": "stderr",
     "output_type": "stream",
     "text": [
      "Sampling Trajectories: 100%|██████████| 1000/1000 [01:20<00:00, 12.45it/s]\n",
      "Iteration 3: loss 3.4793, avg cum-reward: -3.9929: 100%|██████████| 32/32 [00:07<00:00,  4.07it/s]\n"
     ]
    },
    {
     "data": {
      "image/png": "[encoded data removed]",
      "text/plain": [
       "<Figure size 640x480 with 1 Axes>"
      ]
     },
     "metadata": {},
     "output_type": "display_data"
    },
    {
     "name": "stderr",
     "output_type": "stream",
     "text": [
      "Sampling Trajectories: 100%|██████████| 1000/1000 [00:54<00:00, 18.25it/s]\n",
      "Iteration 4: loss -6.7131, avg cum-reward: -4.0405: 100%|██████████| 32/32 [00:07<00:00,  4.46it/s]\n"
     ]
    },
    {
     "data": {
      "image/png": "[encoded data removed]",
      "text/plain": [
       "<Figure size 640x480 with 1 Axes>"
      ]
     },
     "metadata": {},
     "output_type": "display_data"
    }
   ],
   "source": [
    "agent = PolicyGrad().to(device)\n",
    "optimizer = torch.optim.Adam(agent.parameters(),lr=1e-3)\n",
    "for iteration in range(5):\n",
    "    dataloader = get_dataloader(agent)\n",
    "    with tqdm(dataloader) as bar:\n",
    "        losses = []\n",
    "        cum_rewards = []\n",
    "        for item in bar:\n",
    "            states = item['states'].to(device);actions = item['actions'].to(device);rewards = item['rewards'].to(device);truncated = item['truncated'].to(device);act_masks = item['actmask'].to(device)\n",
    "            cum_rewards.append(rewards.mean(dim=0))\n",
    "            probs = agent.get_prob(states.reshape(-1,1,10,10) , actions.reshape(-1),action_mask=act_masks.reshape(-1,400)).reshape(states.shape[0],-1) # [batch,T]\n",
    "            rewards_normalized = (rewards - rewards.mean(dim=0))/(rewards.std(dim=0) + 1e-5)\n",
    "            j = (probs.log() * (1-truncated)).sum(dim=-1) * (rewards_normalized)\n",
    "            optimizer.zero_grad()\n",
    "            loss = -j.mean(dim=0)\n",
    "            loss.backward()\n",
    "            optimizer.step()\n",
    "            losses.append(loss.detach().cpu().item())\n",
    "            bar.set_description(f'Iteration {iteration}: loss {sum(losses)/len(losses):.4f}, avg cum-reward: {sum(cum_rewards)/len(cum_rewards):.4f}')\n",
    "        plt.plot(list(range(len(losses))),losses)\n",
    "        plt.show()"
   ]
  },
  {
   "cell_type": "markdown",
   "metadata": {},
   "source": [
    "因为不同的batch的归一化$\\sigma$不同，这里画的图像其实意义不大，主要是表明不再发散了。不过有些令人沮丧——虽然不再发散了，但似乎policy采样出来的cumulative reward一直不怎么变化。而且再根据horizon为50来估算一下：平均下来每次reward为-0.8，基本就代表只有3-4个pixel重合，差不多就是random move的水准。\n",
    "\n",
    "我们再来看一下policy的具体表现："
   ]
  },
  {
   "cell_type": "code",
   "execution_count": 32,
   "metadata": {},
   "outputs": [],
   "source": [
    "def demonstrate_policy(agent:PolicyGrad):\n",
    "    state = pgame.reset(randomly=True)\n",
    "    cum_r = 0\n",
    "    succeed = False\n",
    "    print('Initial state:')\n",
    "    pgame.display()\n",
    "    print('Initial common pixels',pgame.get_common_pixels(state))\n",
    "    for time in range(200):\n",
    "        possible_actions = pgame.get_actions(state)\n",
    "        action = agent.get_action(pgame.as_tensor(state).to(device),action_mask=build_action_mask(possible_actions)).cpu().item()\n",
    "        reward = pgame.get_reward(state)\n",
    "        cum_r += reward\n",
    "        state = pgame.get_transition(state,ind2act(action))\n",
    "        if state is None:\n",
    "            succeed = True\n",
    "            break\n",
    "        pgame.set_state(state)\n",
    "        if time % 20 == 0:\n",
    "            print('t =',time)\n",
    "            pgame.display()\n",
    "    print('Cumulative reward',f'{cum_r:.2f}')\n",
    "    print('Succeeded?',succeed)\n",
    "    print('Final common pixels:',100 if succeed else pgame.get_common_pixels(state))\n",
    "    return state"
   ]
  },
  {
   "cell_type": "code",
   "execution_count": 33,
   "metadata": {},
   "outputs": [
    {
     "name": "stdout",
     "output_type": "stream",
     "text": [
      "Initial state:\n"
     ]
    },
    {
     "data": {
      "text/markdown": [
       "| | | | | | | | |█|█|\n",
       "|-|-|-|-|-|-|-|-|-|-|\n",
       "| | | | | |█|█| | |█|\n",
       "| | | | |█| | | |█| |\n",
       "|█| | | | | | |█| | |\n",
       "| | | | | | | | | | |\n",
       "| | | | | | | |█| | |\n",
       "| | | | | | |█| |█| |\n",
       "| |█| | | | |█| |█| |\n",
       "| | | | |█| | | | | |\n",
       "| | | |█| | |█| | |█|"
      ]
     },
     "metadata": {},
     "output_type": "display_data"
    },
    {
     "name": "stdout",
     "output_type": "stream",
     "text": [
      "Initial common pixels 4\n",
      "t = 0\n"
     ]
    },
    {
     "data": {
      "text/markdown": [
       "| | | | | | | | |█|█|\n",
       "|-|-|-|-|-|-|-|-|-|-|\n",
       "| | | | | |█|█| | |█|\n",
       "| | | | |█| | | |█| |\n",
       "|█| | | | | | |█| | |\n",
       "| | | | | | | | | | |\n",
       "| | | | | | | |█| | |\n",
       "| | | | | | |█| |█| |\n",
       "| |█| | | | |█| | | |\n",
       "| | | | |█| | | | | |\n",
       "| | | |█| | |█| | |█|"
      ]
     },
     "metadata": {},
     "output_type": "display_data"
    },
    {
     "name": "stdout",
     "output_type": "stream",
     "text": [
      "t = 20\n"
     ]
    },
    {
     "data": {
      "text/markdown": [
       "| | | | | | | | |█|█|\n",
       "|-|-|-|-|-|-|-|-|-|-|\n",
       "| | | | | |█|█| | |█|\n",
       "| | | | |█| | | |█| |\n",
       "|█| | | | | | |█| | |\n",
       "| | | | | | | | | | |\n",
       "| | | | | | | |█| | |\n",
       "| | | | | | |█| |█| |\n",
       "| |█| | | | |█| | | |\n",
       "| | | | |█| | | | | |\n",
       "| | | | |█| |█| | |█|"
      ]
     },
     "metadata": {},
     "output_type": "display_data"
    },
    {
     "name": "stdout",
     "output_type": "stream",
     "text": [
      "t = 40\n"
     ]
    },
    {
     "data": {
      "text/markdown": [
       "| | | | | | | | |█|█|\n",
       "|-|-|-|-|-|-|-|-|-|-|\n",
       "| | | | | |█|█| | |█|\n",
       "| | | | |█| | | |█| |\n",
       "|█| | | | | | |█| | |\n",
       "| | | | | | | | | | |\n",
       "| | | | | | | |█| | |\n",
       "| | | | | | |█| |█| |\n",
       "| |█| | | | |█| | | |\n",
       "| | | | |█| | | | | |\n",
       "| | | | |█| |█| | |█|"
      ]
     },
     "metadata": {},
     "output_type": "display_data"
    },
    {
     "name": "stdout",
     "output_type": "stream",
     "text": [
      "t = 60\n"
     ]
    },
    {
     "data": {
      "text/markdown": [
       "| | | | | | | | |█|█|\n",
       "|-|-|-|-|-|-|-|-|-|-|\n",
       "| | | | | |█|█| | |█|\n",
       "| | | | |█| | | |█| |\n",
       "|█| | | | | | |█| | |\n",
       "| | | | | | | | | | |\n",
       "| | | | | | | |█| | |\n",
       "| | | | | | |█| |█| |\n",
       "| |█| | | | |█| | | |\n",
       "| | | | |█| | | | | |\n",
       "| | | | |█| |█| | |█|"
      ]
     },
     "metadata": {},
     "output_type": "display_data"
    },
    {
     "name": "stdout",
     "output_type": "stream",
     "text": [
      "t = 80\n"
     ]
    },
    {
     "data": {
      "text/markdown": [
       "| | | | | | | | |█|█|\n",
       "|-|-|-|-|-|-|-|-|-|-|\n",
       "| | | | | |█|█| | |█|\n",
       "| | | | |█| | | |█| |\n",
       "|█| | | | | | |█| | |\n",
       "| | | | | | | | | | |\n",
       "| | | | | | | |█| | |\n",
       "| | | | | | |█| |█| |\n",
       "| |█| | | | |█| | | |\n",
       "| | | | |█| | | | | |\n",
       "| | | | |█| |█| | |█|"
      ]
     },
     "metadata": {},
     "output_type": "display_data"
    },
    {
     "name": "stdout",
     "output_type": "stream",
     "text": [
      "t = 100\n"
     ]
    },
    {
     "data": {
      "text/markdown": [
       "| | | | | | | | |█|█|\n",
       "|-|-|-|-|-|-|-|-|-|-|\n",
       "| | | | | |█|█| | |█|\n",
       "| | | | |█| | | |█| |\n",
       "|█| | | | | | |█| | |\n",
       "| | | | | | | | | | |\n",
       "| | | | | | | |█| | |\n",
       "| | | | | | |█| |█| |\n",
       "| |█| | | | |█| | | |\n",
       "| | | | |█| | | | | |\n",
       "| | | | |█| |█| | |█|"
      ]
     },
     "metadata": {},
     "output_type": "display_data"
    },
    {
     "name": "stdout",
     "output_type": "stream",
     "text": [
      "t = 120\n"
     ]
    },
    {
     "data": {
      "text/markdown": [
       "| | | | | | | | |█|█|\n",
       "|-|-|-|-|-|-|-|-|-|-|\n",
       "| | | | | |█|█| | |█|\n",
       "| | | | |█| | | |█| |\n",
       "|█| | | | | | |█| | |\n",
       "| | | | | | | | | | |\n",
       "| | | | | | | |█| | |\n",
       "| | | | | | |█| |█| |\n",
       "| |█| | | | |█| | | |\n",
       "| | | | |█| | | | | |\n",
       "| | | | |█| |█| | |█|"
      ]
     },
     "metadata": {},
     "output_type": "display_data"
    },
    {
     "name": "stdout",
     "output_type": "stream",
     "text": [
      "t = 140\n"
     ]
    },
    {
     "data": {
      "text/markdown": [
       "| | | | | | | | |█|█|\n",
       "|-|-|-|-|-|-|-|-|-|-|\n",
       "| | | | | |█|█| | |█|\n",
       "| | | | |█| | | |█| |\n",
       "|█| | | | | | |█| | |\n",
       "| | | | | | | | | | |\n",
       "| | | | | | | |█| | |\n",
       "| | | | | | |█| |█| |\n",
       "| |█| | | | |█| | | |\n",
       "| | | | |█| | | | | |\n",
       "| | | | |█| |█| | |█|"
      ]
     },
     "metadata": {},
     "output_type": "display_data"
    },
    {
     "name": "stdout",
     "output_type": "stream",
     "text": [
      "t = 160\n"
     ]
    },
    {
     "data": {
      "text/markdown": [
       "| | | | | | | | |█|█|\n",
       "|-|-|-|-|-|-|-|-|-|-|\n",
       "| | | | | |█|█| | |█|\n",
       "| | | | |█| | | |█| |\n",
       "|█| | | | | | |█| | |\n",
       "| | | | | | | | | | |\n",
       "| | | | | | | |█| | |\n",
       "| | | | | | |█| |█| |\n",
       "| |█| | | | |█| | | |\n",
       "| | | | |█| | | | | |\n",
       "| | | | |█| |█| | |█|"
      ]
     },
     "metadata": {},
     "output_type": "display_data"
    },
    {
     "name": "stdout",
     "output_type": "stream",
     "text": [
      "t = 180\n"
     ]
    },
    {
     "data": {
      "text/markdown": [
       "| | | | | | | | |█|█|\n",
       "|-|-|-|-|-|-|-|-|-|-|\n",
       "| | | | | |█|█| | |█|\n",
       "| | | | |█| | | |█| |\n",
       "|█| | | | | | |█| | |\n",
       "| | | | | | | | | | |\n",
       "| | | | | | | |█| | |\n",
       "| | | | | | |█| |█| |\n",
       "| |█| | | | |█| | | |\n",
       "| | | | |█| | | | | |\n",
       "| | | | |█| |█| | |█|"
      ]
     },
     "metadata": {},
     "output_type": "display_data"
    },
    {
     "name": "stdout",
     "output_type": "stream",
     "text": [
      "Cumulative reward -16.36\n",
      "Succeeded? False\n",
      "Final common pixels: 4\n"
     ]
    },
    {
     "data": {
      "text/plain": [
       "[(9, 9),\n",
       " (5, 7),\n",
       " (2, 4),\n",
       " (3, 7),\n",
       " (1, 6),\n",
       " (7, 1),\n",
       " (2, 4),\n",
       " (7, 6),\n",
       " (3, 7),\n",
       " (6, 6),\n",
       " (0, 9),\n",
       " (1, 5),\n",
       " (1, 9),\n",
       " (2, 8),\n",
       " (6, 8),\n",
       " (8, 4),\n",
       " (2, 4),\n",
       " (0, 8),\n",
       " (3, 0),\n",
       " (6, 8),\n",
       " (9, 4),\n",
       " (9, 6)]"
      ]
     },
     "execution_count": 33,
     "metadata": {},
     "output_type": "execute_result"
    }
   ],
   "source": [
    "demonstrate_policy(agent)"
   ]
  },
  {
   "cell_type": "markdown",
   "metadata": {},
   "source": [
    "果然——我们的agent完全失败了。你应该感受到了：policy gradient虽然是理论上十分简单直接的方法，但是实际操作下来很难成功。但别灰心——我们后面几讲会立刻介绍一些技巧，并最终解决这一问题！\n",
    "\n",
    "同时，我们也发现上面的训练过程异常地慢。根本原因实际上很简单——每一个iteration的训练都需要重新采集1000条轨迹来训练。这也是policy gradient的一大特点：极其消耗和环境交互的样本，并且无法（或者很难）重复利用。也正是这一特点决定着policy gradient的应用场合大多数停留在MDP模拟器内，而很难应用到生活中的MDP问题中。"
   ]
  },
  {
   "cell_type": "markdown",
   "metadata": {},
   "source": [
    "## 0.3 RL = Solve MDP while learning it!\n",
    "\n",
    "在0.2这一节中，我们介绍了解决已知reward function和dynamics（即transition function）的MDP的一些求解方法。同时我们意识到，即使对于已知的MDP，但凡state space稍微大一些，求解也绝非易事。\n",
    "\n",
    "但事实上，真正的问题更为困难——他们的MDP都是未知的。也就是因此RL才有实际意义——让一个开始什么都不知道的机器人进入一个MDP，然后从中（不管通过什么手段）获得一个最终很好的policy，这听起来就像是人或者高级动物才特有的行为。换句话说就是，RL就是**一边学习MDP，一边解它**。\n",
    "\n",
    "接下来，就让我们讨论几个真正的RL算法了。"
   ]
  },
  {
   "cell_type": "markdown",
   "metadata": {},
   "source": [
    "### A Model is All You Need?\n",
    "\n",
    "一个最直观的想法就是，我们只要建立起来一个环境的模拟器，不就完了吗？我们构造一个**model**（一般称为dynamic model），训练它拟合$p(s'|s,a)$和$r(s,a)$。这样，整体就变成已知的了，然后我们就可以用我们前面任何的MDP solver来解决这一已知MDP的问题。\n",
    "\n",
    "这一想法说起来很容易，因此就可以实践一下：我们拿CartPole开刀。"
   ]
  },
  {
   "cell_type": "markdown",
   "metadata": {},
   "source": [
    "首先，为了重整士气，论证一下刚才表现不佳的policy gradient方法并非一无是处，我们来把它直接应用到CartPole上面，看看它如何吊打我们之前的`TrivialAgent`。这样之后我们用自己的模拟器模拟之后就有的可以比较。"
   ]
  },
  {
   "cell_type": "code",
   "execution_count": 39,
   "metadata": {},
   "outputs": [
    {
     "name": "stdout",
     "output_type": "stream",
     "text": [
      "Initial state: [ 0.0273956  -0.00611216  0.03585979  0.0197368 ]\n",
      "Initial info: {}\n"
     ]
    }
   ],
   "source": [
    "import gymnasium as gym\n",
    "from utils import show_image\n",
    "# Create the CartPole environment with 'rgb_array' mode\n",
    "env = gym.make('CartPole-v1', render_mode='rgb_array')\n",
    "\n",
    "# Reset the environment\n",
    "state,info = env.reset(seed=42)\n",
    "print('Initial state:',state)\n",
    "print('Initial info:',info)"
   ]
  },
  {
   "cell_type": "code",
   "execution_count": 41,
   "metadata": {},
   "outputs": [],
   "source": [
    "from utils import device\n",
    "import torch\n",
    "import torch.nn as nn\n",
    "import torch.nn.functional as F\n",
    "from torch.utils.data import DataLoader\n",
    "from tqdm import tqdm"
   ]
  },
  {
   "cell_type": "code",
   "execution_count": 45,
   "metadata": {},
   "outputs": [],
   "source": [
    "class PolicyGrad(nn.Module):\n",
    "\n",
    "    def __init__(self):\n",
    "        super().__init__()\n",
    "        self.mlp = nn.Sequential(\n",
    "            nn.Linear(4,64),\n",
    "            nn.ReLU(),\n",
    "            nn.Linear(64,1)\n",
    "        )\n",
    "\n",
    "    def forward(self,s):\n",
    "        return torch.distributions.Bernoulli(logits=self.mlp(s))\n",
    "    \n",
    "    def get_action(self,s):\n",
    "        return self(s).sample()\n",
    "    \n",
    "    def log_prob(self,s,a):\n",
    "        # s: [batch,4]; a: [batch]\n",
    "        return self(s).log_prob(a) # should be: [batch]"
   ]
  },
  {
   "cell_type": "code",
   "execution_count": 46,
   "metadata": {},
   "outputs": [],
   "source": [
    "@torch.no_grad()\n",
    "def collect_rollout(agent:PolicyGrad,horizon=1000):\n",
    "    state = env.reset()\n",
    "    states = []\n",
    "    actions = []\n",
    "    rewards = []\n",
    "    terminates = []\n",
    "    for t in horizon:\n",
    "        action = agent.get_action(torch.tensor(state).to(device)).cpu().item()\n",
    "        states.append(state)\n",
    "        actions.append(action)\n",
    "        state,reward,terminated,truncated,_ = env.step(action)\n",
    "        rewards.append(reward)\n",
    "        if truncated or terminated:\n",
    "            state = env.reset()\n",
    "            terminates.append(True)\n",
    "        else:\n",
    "            terminates.append(False)\n",
    "    return states,actions,rewards,terminates\n",
    "\n",
    "def get_dataloader(agent:PolicyGrad,rollout_num=200):\n",
    "    def collate(datas):\n",
    "        out_states = [];out_actions=[]; out_rewards= []; out_terminates = []\n",
    "        for data in datas:\n",
    "            states,actions,rewards,terminates = data\n",
    "            out_states.append(torch.tensor(states).to(device)) # item: [T,4]\n",
    "            out_actions.append(torch.tensor(actions).to(device)) # item: [T]\n",
    "            out_rewards.append(torch.tensor(rewards).to(device)) # item: [T]\n",
    "            out_terminates.append(torch.tensor(terminates,dtype=torch.float).to(device)) # item: [T]\n",
    "        return {\n",
    "            'states': torch.stack(out_states), # [batch,T,4]\n",
    "            'actions':torch.stack(out_actions), # [batch,T]\n",
    "            'rewards': torch.stack(out_rewards), # [batch,T]\n",
    "            'terminates': torch.stack(out_terminates) # [batch,T]\n",
    "        }\n",
    "    dataset = []\n",
    "    with tqdm(range(rollout_num),desc='Collecting Transitions') as bar:\n",
    "        for _ in bar:\n",
    "            dataset.append(collect_rollout(agent))\n",
    "    return DataLoader(dataset=dataset,batch_size=32,collate_fn=collate)"
   ]
  },
  {
   "cell_type": "code",
   "execution_count": 47,
   "metadata": {},
   "outputs": [
    {
     "name": "stderr",
     "output_type": "stream",
     "text": [
      "Collecting Transitions:   0%|          | 0/200 [00:00<?, ?it/s]\n"
     ]
    },
    {
     "ename": "TypeError",
     "evalue": "'int' object is not iterable",
     "output_type": "error",
     "traceback": [
      "\u001b[0;31m---------------------------------------------------------------------------\u001b[0m",
      "\u001b[0;31mTypeError\u001b[0m                                 Traceback (most recent call last)",
      "Cell \u001b[0;32mIn[47], line 2\u001b[0m\n\u001b[1;32m      1\u001b[0m \u001b[38;5;28;01mfor\u001b[39;00m iteration \u001b[38;5;129;01min\u001b[39;00m \u001b[38;5;28mrange\u001b[39m(\u001b[38;5;241m20\u001b[39m):\n\u001b[0;32m----> 2\u001b[0m     \u001b[38;5;28;01mwith\u001b[39;00m tqdm(\u001b[43mget_dataloader\u001b[49m\u001b[43m(\u001b[49m\u001b[43magent\u001b[49m\u001b[43m)\u001b[49m) \u001b[38;5;28;01mas\u001b[39;00m bar:\n\u001b[1;32m      3\u001b[0m         \u001b[38;5;28;01mfor\u001b[39;00m item \u001b[38;5;129;01min\u001b[39;00m bar:\n\u001b[1;32m      4\u001b[0m             states \u001b[38;5;241m=\u001b[39m item[\u001b[38;5;124m'\u001b[39m\u001b[38;5;124mstates\u001b[39m\u001b[38;5;124m'\u001b[39m]; actions \u001b[38;5;241m=\u001b[39m item[\u001b[38;5;124m'\u001b[39m\u001b[38;5;124mactions\u001b[39m\u001b[38;5;124m'\u001b[39m]; rewards \u001b[38;5;241m=\u001b[39m item[\u001b[38;5;124m'\u001b[39m\u001b[38;5;124mrewards\u001b[39m\u001b[38;5;124m'\u001b[39m]; terminates \u001b[38;5;241m=\u001b[39m item[\u001b[38;5;124m'\u001b[39m\u001b[38;5;124mterminates\u001b[39m\u001b[38;5;124m'\u001b[39m]\n",
      "Cell \u001b[0;32mIn[46], line 39\u001b[0m, in \u001b[0;36mget_dataloader\u001b[0;34m(agent, rollout_num)\u001b[0m\n\u001b[1;32m     37\u001b[0m \u001b[38;5;28;01mwith\u001b[39;00m tqdm(\u001b[38;5;28mrange\u001b[39m(rollout_num),desc\u001b[38;5;241m=\u001b[39m\u001b[38;5;124m'\u001b[39m\u001b[38;5;124mCollecting Transitions\u001b[39m\u001b[38;5;124m'\u001b[39m) \u001b[38;5;28;01mas\u001b[39;00m bar:\n\u001b[1;32m     38\u001b[0m     \u001b[38;5;28;01mfor\u001b[39;00m _ \u001b[38;5;129;01min\u001b[39;00m bar:\n\u001b[0;32m---> 39\u001b[0m         dataset\u001b[38;5;241m.\u001b[39mappend(\u001b[43mcollect_rollout\u001b[49m\u001b[43m(\u001b[49m\u001b[43magent\u001b[49m\u001b[43m)\u001b[49m)\n\u001b[1;32m     40\u001b[0m \u001b[38;5;28;01mreturn\u001b[39;00m DataLoader(dataset\u001b[38;5;241m=\u001b[39mdataset,batch_size\u001b[38;5;241m=\u001b[39m\u001b[38;5;241m32\u001b[39m,collate_fn\u001b[38;5;241m=\u001b[39mcollate)\n",
      "File \u001b[0;32m~/anaconda3/envs/DYY/lib/python3.10/site-packages/torch/utils/_contextlib.py:116\u001b[0m, in \u001b[0;36mcontext_decorator.<locals>.decorate_context\u001b[0;34m(*args, **kwargs)\u001b[0m\n\u001b[1;32m    113\u001b[0m \u001b[38;5;129m@functools\u001b[39m\u001b[38;5;241m.\u001b[39mwraps(func)\n\u001b[1;32m    114\u001b[0m \u001b[38;5;28;01mdef\u001b[39;00m \u001b[38;5;21mdecorate_context\u001b[39m(\u001b[38;5;241m*\u001b[39margs, \u001b[38;5;241m*\u001b[39m\u001b[38;5;241m*\u001b[39mkwargs):\n\u001b[1;32m    115\u001b[0m     \u001b[38;5;28;01mwith\u001b[39;00m ctx_factory():\n\u001b[0;32m--> 116\u001b[0m         \u001b[38;5;28;01mreturn\u001b[39;00m \u001b[43mfunc\u001b[49m\u001b[43m(\u001b[49m\u001b[38;5;241;43m*\u001b[39;49m\u001b[43margs\u001b[49m\u001b[43m,\u001b[49m\u001b[43m \u001b[49m\u001b[38;5;241;43m*\u001b[39;49m\u001b[38;5;241;43m*\u001b[39;49m\u001b[43mkwargs\u001b[49m\u001b[43m)\u001b[49m\n",
      "Cell \u001b[0;32mIn[46], line 8\u001b[0m, in \u001b[0;36mcollect_rollout\u001b[0;34m(agent, horizon)\u001b[0m\n\u001b[1;32m      6\u001b[0m rewards \u001b[38;5;241m=\u001b[39m []\n\u001b[1;32m      7\u001b[0m terminates \u001b[38;5;241m=\u001b[39m []\n\u001b[0;32m----> 8\u001b[0m \u001b[38;5;28;01mfor\u001b[39;00m t \u001b[38;5;129;01min\u001b[39;00m horizon:\n\u001b[1;32m      9\u001b[0m     action \u001b[38;5;241m=\u001b[39m agent\u001b[38;5;241m.\u001b[39mget_action(torch\u001b[38;5;241m.\u001b[39mtensor(state)\u001b[38;5;241m.\u001b[39mto(device))\u001b[38;5;241m.\u001b[39mcpu()\u001b[38;5;241m.\u001b[39mitem()\n\u001b[1;32m     10\u001b[0m     states\u001b[38;5;241m.\u001b[39mappend(state)\n",
      "\u001b[0;31mTypeError\u001b[0m: 'int' object is not iterable"
     ]
    }
   ],
   "source": [
    "agent = PolicyGrad()\n",
    "opt = torch.optim.Adam(agent.parameters(),lr=1e-3)\n",
    "for iteration in range(20):\n",
    "    with tqdm(get_dataloader(agent)) as bar:\n",
    "        losses = []\n",
    "        for item in bar:\n",
    "            states = item['states']; actions = item['actions']; rewards = item['rewards']; terminates = item['terminates']\n",
    "            j = (agent.log_prob(states.reshape(-1,4),actions.reshape(-1)).reshape(states.shape[0],-1) * (1-terminates)).sum(dim=-1) * rewards.sum(dim=-1)\n",
    "            loss = (-j.mean(dim=0))\n",
    "            opt.zero_grad()\n",
    "            loss.backward()\n",
    "            opt.step()\n",
    "            losses.append(loss.detach().cpu().item())\n",
    "            bar.set_description(f'Loss {len(losses)/sum(losses):.4f}')\n"
   ]
  },
  {
   "cell_type": "markdown",
   "metadata": {},
   "source": []
  }
 ],
 "metadata": {
  "kernelspec": {
   "display_name": "base",
   "language": "python",
   "name": "python3"
  },
  "language_info": {
   "codemirror_mode": {
    "name": "ipython",
    "version": 3
   },
   "file_extension": ".py",
   "mimetype": "text/x-python",
   "name": "python",
   "nbconvert_exporter": "python",
   "pygments_lexer": "ipython3",
   "version": "3.10.14"
  }
 },
 "nbformat": 4,
 "nbformat_minor": 2
}
